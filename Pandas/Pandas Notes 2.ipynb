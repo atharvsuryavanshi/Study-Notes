{
 "cells": [
  {
   "cell_type": "markdown",
   "id": "f79c5542-9905-4669-8afe-498a1bbe97e1",
   "metadata": {},
   "source": [
    "# **Pandas**"
   ]
  },
  {
   "cell_type": "markdown",
   "id": "f0dfdb52-94c5-4eeb-9996-6b63a2b62df0",
   "metadata": {},
   "source": [
    "---"
   ]
  },
  {
   "cell_type": "markdown",
   "id": "98bfcef2-68bb-41b5-a819-a78b3376f2f3",
   "metadata": {},
   "source": [
    "## Introduction"
   ]
  },
  {
   "cell_type": "markdown",
   "id": "671f4d7c-8fb9-4eb6-a6a0-be3e4b79e0f1",
   "metadata": {},
   "source": [
    "### Basics"
   ]
  },
  {
   "cell_type": "markdown",
   "id": "d81f78a6-e399-4277-85b1-989a18ca250f",
   "metadata": {},
   "source": [
    "#### What is Pandas?\n",
    "Pandas is a Python library used for data manipulation and analysis. Pandas provides a convenient way to analyze and clean data.\n",
    "The Pandas library introduces two new data structures to Python - Series and DataFrame, both of which are built on top of NumPy."
   ]
  },
  {
   "cell_type": "markdown",
   "id": "1cda0190-3635-41d4-84ee-25edfc48dd6e",
   "metadata": {},
   "source": [
    "#### What is Pandas Used for?\n",
    "Pandas is a powerful library generally used for:\n",
    "- Data Cleaning\n",
    "- Data Transformation\n",
    "- Data Analysis\n",
    "- Machine Learning\n",
    "- Data Visualization"
   ]
  },
  {
   "cell_type": "markdown",
   "id": "97ef71a3-7238-4d54-8e6d-8a5e1d11dd58",
   "metadata": {},
   "source": [
    "#### Why Use Pandas?\n",
    "- Handle Large Data Efficiently\n",
    "- Tabular Data Representation\n",
    "- Data Cleaning and Preprocessing\n",
    "- Time Series Functionality\n",
    "- Free and Open-Source"
   ]
  },
  {
   "cell_type": "markdown",
   "id": "f4ab9405-d674-4221-bf71-5a9817ee0a68",
   "metadata": {},
   "source": [
    "#### How to install and import Pandas?"
   ]
  },
  {
   "cell_type": "markdown",
   "id": "b88874dc-6c84-4f86-81c9-ad8964a07aca",
   "metadata": {},
   "source": [
    "To install Pandas, run: `pip install pandas` if not altready installed.  \n",
    "To import Pandas (and NumPy just in case):"
   ]
  },
  {
   "cell_type": "code",
   "execution_count": 1,
   "id": "4d65fd02-e34e-4b57-b847-39a24307e010",
   "metadata": {},
   "outputs": [],
   "source": [
    "import numpy as np\n",
    "import pandas as pd"
   ]
  },
  {
   "cell_type": "markdown",
   "id": "89944072-b334-4bb7-9d10-59796373a25b",
   "metadata": {},
   "source": [
    "### Series"
   ]
  },
  {
   "cell_type": "markdown",
   "id": "da93ee5a-b16c-41fc-a69d-362376cf53b4",
   "metadata": {},
   "source": [
    "**Series:** It is a one-dimensional labeled array-like object that can hold data of any type.\n",
    "1. It can be thought of as a column in a spreadsheet or a single column of a DataFrame.  \n",
    "2. It consists of two main components: the labels and the data:\n",
    "   - The labels are the index values assigned to each data point, while\n",
    "   - The data represents the actual values stored in the Series."
   ]
  },
  {
   "cell_type": "code",
   "execution_count": 2,
   "id": "b7546c9e-a9eb-4299-97e4-eddcbc4d8f8a",
   "metadata": {},
   "outputs": [
    {
     "data": {
      "text/plain": [
       "0    1\n",
       "1    2\n",
       "2    3\n",
       "3    4\n",
       "4    5\n",
       "dtype: int64"
      ]
     },
     "execution_count": 2,
     "metadata": {},
     "output_type": "execute_result"
    }
   ],
   "source": [
    "s = pd.Series([1, 2, 3, 4, 5])\n",
    "s"
   ]
  },
  {
   "cell_type": "markdown",
   "id": "79a639db-f090-46ca-9ecc-d310a37cdf1e",
   "metadata": {},
   "source": [
    "Here, the dtype is int64 because all the elements of the series are of int64 type.  \n",
    "The labels in the Pandas Series are index numbers by default. We can use these labels to access a specified value:"
   ]
  },
  {
   "cell_type": "code",
   "execution_count": 3,
   "id": "b94aab35-4870-4ac7-a248-ad241a48c8c5",
   "metadata": {},
   "outputs": [
    {
     "data": {
      "text/plain": [
       "3"
      ]
     },
     "execution_count": 3,
     "metadata": {},
     "output_type": "execute_result"
    }
   ],
   "source": [
    "s[2]"
   ]
  },
  {
   "cell_type": "markdown",
   "id": "2a1fd9fb-59a3-46b0-aee6-2833922ada40",
   "metadata": {},
   "source": [
    "So, here we got the element 3 which has index 2. We can specify custom indices while creating a series:"
   ]
  },
  {
   "cell_type": "code",
   "execution_count": 4,
   "id": "85ec2128-e2d0-48dd-b7c8-75d71d027298",
   "metadata": {},
   "outputs": [
    {
     "data": {
      "text/plain": [
       "one      10\n",
       "two      20\n",
       "three    30\n",
       "four     40\n",
       "five     50\n",
       "dtype: int64"
      ]
     },
     "execution_count": 4,
     "metadata": {},
     "output_type": "execute_result"
    }
   ],
   "source": [
    "s_one = pd.Series([10, 20, 30, 40, 50], index=['one', 'two', 'three', 'four', 'five'])\n",
    "s_one"
   ]
  },
  {
   "cell_type": "markdown",
   "id": "e5bfddf8-9ab7-43b7-b8e8-a4a1f9e759bf",
   "metadata": {},
   "source": [
    "We can also use these indices to access the elements:"
   ]
  },
  {
   "cell_type": "code",
   "execution_count": 5,
   "id": "dedcd260-8449-46f4-889a-a0e4c8767432",
   "metadata": {},
   "outputs": [
    {
     "data": {
      "text/plain": [
       "40"
      ]
     },
     "execution_count": 5,
     "metadata": {},
     "output_type": "execute_result"
    }
   ],
   "source": [
    "s_one['four']"
   ]
  },
  {
   "cell_type": "markdown",
   "id": "b6e30a9f-2c9b-4cd0-aea1-e58ad889d804",
   "metadata": {},
   "source": [
    "So, here we got the element 40 which has index 'four'. We can also create a series from a Python dictionary:"
   ]
  },
  {
   "cell_type": "code",
   "execution_count": 6,
   "id": "017da453-1e80-425d-96ac-87b9ba336523",
   "metadata": {},
   "outputs": [
    {
     "data": {
      "text/plain": [
       "Alice       85.5\n",
       "Bob         78.2\n",
       "Charlie     92.8\n",
       "David       65.7\n",
       "Eve        100.0\n",
       "dtype: float64"
      ]
     },
     "execution_count": 6,
     "metadata": {},
     "output_type": "execute_result"
    }
   ],
   "source": [
    "pd.Series({\"Alice\": 85.5, \"Bob\": 78.2, \"Charlie\": 92.8, \"David\": 65.7, \"Eve\": 100})"
   ]
  },
  {
   "cell_type": "markdown",
   "id": "2391bf0f-b6da-487e-9b64-e2b06c6de99f",
   "metadata": {},
   "source": [
    "Here, we created a series of names as indices and floating-point marks as data.  \n",
    "We can also create a series using specific keys from a Python dictionary:"
   ]
  },
  {
   "cell_type": "code",
   "execution_count": 7,
   "id": "2a2177e2-9071-4ab6-8ed8-611e7c5cae3e",
   "metadata": {},
   "outputs": [
    {
     "data": {
      "text/plain": [
       "sem 1    98.00\n",
       "sem 2    76.78\n",
       "sem 5    67.41\n",
       "dtype: object"
      ]
     },
     "execution_count": 7,
     "metadata": {},
     "output_type": "execute_result"
    }
   ],
   "source": [
    "data_one = {'sem 1': '98.00', 'sem 2': '76.78', 'sem 3': '89.44', 'sem 4': '45.57', 'sem 5': '67.41'}\n",
    "pd.Series(data_one, index=['sem 1', 'sem 2', 'sem 5'])"
   ]
  },
  {
   "cell_type": "markdown",
   "id": "85e9e1b4-9721-4448-b2f8-d8b356a2d5fc",
   "metadata": {},
   "source": [
    "### DataFrame"
   ]
  },
  {
   "cell_type": "markdown",
   "id": "09f48cee-43d5-4210-b32d-018fe9685343",
   "metadata": {},
   "source": [
    "**DataFrame:** A DataFrame is like a table where the data is organized in rows and columns.\n",
    "1. It is a two-dimensional data structure like a two-dimensional array.\n",
    "2. Each row represents a record, with the index value on the left.\n",
    "3. The index values are auto-assigned starting from 0.\n",
    "4. The DataFrame is similar to a table in a SQL database, or a spreadsheet in Excel.\n",
    "5. It is designed to manage ordered and unordered datasets in Python.\n",
    "\n",
    "We can create a Pandas DataFrame in the following ways:\n",
    "- Using Python Dictionary\n",
    "- Using Python List\n",
    "- From a File\n",
    "- Creating an Empty DataFrame"
   ]
  },
  {
   "cell_type": "markdown",
   "id": "5d952b02-de4a-41a5-b37d-6fb9965ecd4a",
   "metadata": {},
   "source": [
    "##### Create a DataFrame using Python Dictionary"
   ]
  },
  {
   "cell_type": "code",
   "execution_count": 8,
   "id": "0080f53e-5c28-4694-b4bf-94527e2571f9",
   "metadata": {},
   "outputs": [
    {
     "data": {
      "text/html": [
       "<div>\n",
       "<style scoped>\n",
       "    .dataframe tbody tr th:only-of-type {\n",
       "        vertical-align: middle;\n",
       "    }\n",
       "\n",
       "    .dataframe tbody tr th {\n",
       "        vertical-align: top;\n",
       "    }\n",
       "\n",
       "    .dataframe thead th {\n",
       "        text-align: right;\n",
       "    }\n",
       "</style>\n",
       "<table border=\"1\" class=\"dataframe\">\n",
       "  <thead>\n",
       "    <tr style=\"text-align: right;\">\n",
       "      <th></th>\n",
       "      <th>name</th>\n",
       "      <th>marks</th>\n",
       "    </tr>\n",
       "  </thead>\n",
       "  <tbody>\n",
       "    <tr>\n",
       "      <th>0</th>\n",
       "      <td>Alice</td>\n",
       "      <td>85.5</td>\n",
       "    </tr>\n",
       "    <tr>\n",
       "      <th>1</th>\n",
       "      <td>Bob</td>\n",
       "      <td>78.2</td>\n",
       "    </tr>\n",
       "    <tr>\n",
       "      <th>2</th>\n",
       "      <td>Charlie</td>\n",
       "      <td>92.8</td>\n",
       "    </tr>\n",
       "    <tr>\n",
       "      <th>3</th>\n",
       "      <td>David</td>\n",
       "      <td>65.7</td>\n",
       "    </tr>\n",
       "    <tr>\n",
       "      <th>4</th>\n",
       "      <td>Eve</td>\n",
       "      <td>100.0</td>\n",
       "    </tr>\n",
       "  </tbody>\n",
       "</table>\n",
       "</div>"
      ],
      "text/plain": [
       "      name  marks\n",
       "0    Alice   85.5\n",
       "1      Bob   78.2\n",
       "2  Charlie   92.8\n",
       "3    David   65.7\n",
       "4      Eve  100.0"
      ]
     },
     "execution_count": 8,
     "metadata": {},
     "output_type": "execute_result"
    }
   ],
   "source": [
    "pd.DataFrame({'name': [\"Alice\", \"Bob\", \"Charlie\", \"David\", \"Eve\"], 'marks': [85.5, 78.2, 92.8, 65.7, 100]})"
   ]
  },
  {
   "cell_type": "markdown",
   "id": "29cc4c5c-cf55-4eaf-affa-de5ae52c395e",
   "metadata": {},
   "source": [
    "Here we got a DataFrame of 2 columns and 5 rows."
   ]
  },
  {
   "cell_type": "markdown",
   "id": "905a1f4f-299d-4994-a71a-3a0b2cc2c96d",
   "metadata": {},
   "source": [
    "##### Create a DataFrame using Python List"
   ]
  },
  {
   "cell_type": "code",
   "execution_count": 9,
   "id": "35ff5e09-bfd4-4a08-8dbf-03c969bc959d",
   "metadata": {},
   "outputs": [
    {
     "data": {
      "text/html": [
       "<div>\n",
       "<style scoped>\n",
       "    .dataframe tbody tr th:only-of-type {\n",
       "        vertical-align: middle;\n",
       "    }\n",
       "\n",
       "    .dataframe tbody tr th {\n",
       "        vertical-align: top;\n",
       "    }\n",
       "\n",
       "    .dataframe thead th {\n",
       "        text-align: right;\n",
       "    }\n",
       "</style>\n",
       "<table border=\"1\" class=\"dataframe\">\n",
       "  <thead>\n",
       "    <tr style=\"text-align: right;\">\n",
       "      <th></th>\n",
       "      <th>0</th>\n",
       "      <th>1</th>\n",
       "      <th>2</th>\n",
       "      <th>3</th>\n",
       "      <th>4</th>\n",
       "    </tr>\n",
       "  </thead>\n",
       "  <tbody>\n",
       "    <tr>\n",
       "      <th>name</th>\n",
       "      <td>Alice</td>\n",
       "      <td>Bob</td>\n",
       "      <td>Charlie</td>\n",
       "      <td>David</td>\n",
       "      <td>Eve</td>\n",
       "    </tr>\n",
       "    <tr>\n",
       "      <th>marks</th>\n",
       "      <td>85.5</td>\n",
       "      <td>78.2</td>\n",
       "      <td>92.8</td>\n",
       "      <td>65.7</td>\n",
       "      <td>100</td>\n",
       "    </tr>\n",
       "  </tbody>\n",
       "</table>\n",
       "</div>"
      ],
      "text/plain": [
       "           0     1        2      3    4\n",
       "name   Alice   Bob  Charlie  David  Eve\n",
       "marks   85.5  78.2     92.8   65.7  100"
      ]
     },
     "execution_count": 9,
     "metadata": {},
     "output_type": "execute_result"
    }
   ],
   "source": [
    "pd.DataFrame([[\"Alice\", \"Bob\", \"Charlie\", \"David\", \"Eve\"], [85.5, 78.2, 92.8, 65.7, 100]], ['name', 'marks'])"
   ]
  },
  {
   "cell_type": "markdown",
   "id": "2f810f17-cfa1-427d-b457-1495d3ad9714",
   "metadata": {},
   "source": [
    "Here we got a DataFrame of 5 columns and 2 rows."
   ]
  },
  {
   "cell_type": "code",
   "execution_count": 10,
   "id": "00f4485c-d619-4bfb-966b-920b15660eda",
   "metadata": {},
   "outputs": [
    {
     "data": {
      "text/html": [
       "<div>\n",
       "<style scoped>\n",
       "    .dataframe tbody tr th:only-of-type {\n",
       "        vertical-align: middle;\n",
       "    }\n",
       "\n",
       "    .dataframe tbody tr th {\n",
       "        vertical-align: top;\n",
       "    }\n",
       "\n",
       "    .dataframe thead th {\n",
       "        text-align: right;\n",
       "    }\n",
       "</style>\n",
       "<table border=\"1\" class=\"dataframe\">\n",
       "  <thead>\n",
       "    <tr style=\"text-align: right;\">\n",
       "      <th></th>\n",
       "      <th>name</th>\n",
       "      <th>marks</th>\n",
       "    </tr>\n",
       "  </thead>\n",
       "  <tbody>\n",
       "    <tr>\n",
       "      <th>0</th>\n",
       "      <td>Alice</td>\n",
       "      <td>85.5</td>\n",
       "    </tr>\n",
       "    <tr>\n",
       "      <th>1</th>\n",
       "      <td>Bob</td>\n",
       "      <td>78.2</td>\n",
       "    </tr>\n",
       "    <tr>\n",
       "      <th>2</th>\n",
       "      <td>Charlie</td>\n",
       "      <td>92.8</td>\n",
       "    </tr>\n",
       "    <tr>\n",
       "      <th>3</th>\n",
       "      <td>David</td>\n",
       "      <td>65.7</td>\n",
       "    </tr>\n",
       "    <tr>\n",
       "      <th>4</th>\n",
       "      <td>Eve</td>\n",
       "      <td>100.0</td>\n",
       "    </tr>\n",
       "  </tbody>\n",
       "</table>\n",
       "</div>"
      ],
      "text/plain": [
       "      name  marks\n",
       "0    Alice   85.5\n",
       "1      Bob   78.2\n",
       "2  Charlie   92.8\n",
       "3    David   65.7\n",
       "4      Eve  100.0"
      ]
     },
     "execution_count": 10,
     "metadata": {},
     "output_type": "execute_result"
    }
   ],
   "source": [
    "pd.DataFrame([[\"Alice\", 85.5], [\"Bob\", 78.2], [\"Charlie\", 92.8], [\"David\", 65.7], [\"Eve\", 100]], columns=['name', 'marks'])"
   ]
  },
  {
   "cell_type": "markdown",
   "id": "a0ce05c7-99c0-456d-8bb8-c5e4d032839c",
   "metadata": {},
   "source": [
    "Here we got a DataFrame of 2 columns and 5 rows."
   ]
  },
  {
   "cell_type": "markdown",
   "id": "5b5b6e61-1447-49e4-90aa-6e518b8e0390",
   "metadata": {},
   "source": [
    "##### Create a DataFrame using NumPy Array"
   ]
  },
  {
   "cell_type": "code",
   "execution_count": 11,
   "id": "9bacaa61-1829-4486-84ae-b0a10e64afa5",
   "metadata": {},
   "outputs": [
    {
     "data": {
      "text/html": [
       "<div>\n",
       "<style scoped>\n",
       "    .dataframe tbody tr th:only-of-type {\n",
       "        vertical-align: middle;\n",
       "    }\n",
       "\n",
       "    .dataframe tbody tr th {\n",
       "        vertical-align: top;\n",
       "    }\n",
       "\n",
       "    .dataframe thead th {\n",
       "        text-align: right;\n",
       "    }\n",
       "</style>\n",
       "<table border=\"1\" class=\"dataframe\">\n",
       "  <thead>\n",
       "    <tr style=\"text-align: right;\">\n",
       "      <th></th>\n",
       "      <th>name</th>\n",
       "      <th>marks</th>\n",
       "    </tr>\n",
       "  </thead>\n",
       "  <tbody>\n",
       "    <tr>\n",
       "      <th>0</th>\n",
       "      <td>Alice</td>\n",
       "      <td>85.5</td>\n",
       "    </tr>\n",
       "    <tr>\n",
       "      <th>1</th>\n",
       "      <td>Bob</td>\n",
       "      <td>78.2</td>\n",
       "    </tr>\n",
       "    <tr>\n",
       "      <th>2</th>\n",
       "      <td>Charlie</td>\n",
       "      <td>92.8</td>\n",
       "    </tr>\n",
       "    <tr>\n",
       "      <th>3</th>\n",
       "      <td>David</td>\n",
       "      <td>65.7</td>\n",
       "    </tr>\n",
       "    <tr>\n",
       "      <th>4</th>\n",
       "      <td>Eve</td>\n",
       "      <td>100</td>\n",
       "    </tr>\n",
       "  </tbody>\n",
       "</table>\n",
       "</div>"
      ],
      "text/plain": [
       "      name marks\n",
       "0    Alice  85.5\n",
       "1      Bob  78.2\n",
       "2  Charlie  92.8\n",
       "3    David  65.7\n",
       "4      Eve   100"
      ]
     },
     "execution_count": 11,
     "metadata": {},
     "output_type": "execute_result"
    }
   ],
   "source": [
    "pd.DataFrame(np.array([\n",
    "    [\"Alice\", 85.5], \n",
    "    [\"Bob\", 78.2], \n",
    "    [\"Charlie\", 92.8], \n",
    "    [\"David\", 65.7], \n",
    "    [\"Eve\", 100]\n",
    "]), columns=np.array(['name', 'marks']))"
   ]
  },
  {
   "cell_type": "markdown",
   "id": "fffc56c2-a6c1-4076-a4bb-291b70d90d4f",
   "metadata": {},
   "source": [
    "##### Create an Empty DataFrame"
   ]
  },
  {
   "cell_type": "code",
   "execution_count": 12,
   "id": "3756d637-36e0-41fb-a57e-f6851aac5674",
   "metadata": {},
   "outputs": [
    {
     "data": {
      "text/html": [
       "<div>\n",
       "<style scoped>\n",
       "    .dataframe tbody tr th:only-of-type {\n",
       "        vertical-align: middle;\n",
       "    }\n",
       "\n",
       "    .dataframe tbody tr th {\n",
       "        vertical-align: top;\n",
       "    }\n",
       "\n",
       "    .dataframe thead th {\n",
       "        text-align: right;\n",
       "    }\n",
       "</style>\n",
       "<table border=\"1\" class=\"dataframe\">\n",
       "  <thead>\n",
       "    <tr style=\"text-align: right;\">\n",
       "      <th></th>\n",
       "    </tr>\n",
       "  </thead>\n",
       "  <tbody>\n",
       "  </tbody>\n",
       "</table>\n",
       "</div>"
      ],
      "text/plain": [
       "Empty DataFrame\n",
       "Columns: []\n",
       "Index: []"
      ]
     },
     "execution_count": 12,
     "metadata": {},
     "output_type": "execute_result"
    }
   ],
   "source": [
    "pd.DataFrame()"
   ]
  },
  {
   "cell_type": "markdown",
   "id": "907f5a37-122d-437a-bef5-215998b8eeb3",
   "metadata": {},
   "source": [
    "Here, both the columns and indices are empty in the DataFrame. The DataFrame has no data, but it can be used as a container to store and manipulate data later."
   ]
  },
  {
   "cell_type": "markdown",
   "id": "90ddf348-77d1-40cc-92d9-e77d529f7664",
   "metadata": {},
   "source": [
    "### Index"
   ]
  },
  {
   "cell_type": "markdown",
   "id": "f1e928b9-34ef-4a13-bc19-c5ec66a6ae8a",
   "metadata": {},
   "source": [
    "Let's talk more about the indices.  \n",
    "**Index:** In Pandas, an index refers to the labeled array that identifies rows or columns in a DataFrame or a Series."
   ]
  },
  {
   "cell_type": "markdown",
   "id": "af38d163-5c29-4557-9c8d-5ded6baeda3f",
   "metadata": {},
   "source": [
    "#### Creating Indices"
   ]
  },
  {
   "cell_type": "markdown",
   "id": "b9a6dcf6-5838-4bb8-b287-779b0ec5a4a2",
   "metadata": {},
   "source": [
    "When we create a DataFrame or Series without specifying an index explicitly, Pandas assigns a default integer index starting from 0."
   ]
  },
  {
   "cell_type": "code",
   "execution_count": 13,
   "id": "54042a3e-e637-4e80-99ff-07618b750a76",
   "metadata": {},
   "outputs": [
    {
     "data": {
      "text/html": [
       "<div>\n",
       "<style scoped>\n",
       "    .dataframe tbody tr th:only-of-type {\n",
       "        vertical-align: middle;\n",
       "    }\n",
       "\n",
       "    .dataframe tbody tr th {\n",
       "        vertical-align: top;\n",
       "    }\n",
       "\n",
       "    .dataframe thead th {\n",
       "        text-align: right;\n",
       "    }\n",
       "</style>\n",
       "<table border=\"1\" class=\"dataframe\">\n",
       "  <thead>\n",
       "    <tr style=\"text-align: right;\">\n",
       "      <th></th>\n",
       "      <th>city</th>\n",
       "      <th>temperature</th>\n",
       "    </tr>\n",
       "  </thead>\n",
       "  <tbody>\n",
       "    <tr>\n",
       "      <th>0</th>\n",
       "      <td>Satara</td>\n",
       "      <td>25</td>\n",
       "    </tr>\n",
       "    <tr>\n",
       "      <th>1</th>\n",
       "      <td>Pune</td>\n",
       "      <td>34</td>\n",
       "    </tr>\n",
       "    <tr>\n",
       "      <th>2</th>\n",
       "      <td>Mumbai</td>\n",
       "      <td>34</td>\n",
       "    </tr>\n",
       "    <tr>\n",
       "      <th>3</th>\n",
       "      <td>Nagpur</td>\n",
       "      <td>38</td>\n",
       "    </tr>\n",
       "  </tbody>\n",
       "</table>\n",
       "</div>"
      ],
      "text/plain": [
       "     city  temperature\n",
       "0  Satara           25\n",
       "1    Pune           34\n",
       "2  Mumbai           34\n",
       "3  Nagpur           38"
      ]
     },
     "execution_count": 13,
     "metadata": {},
     "output_type": "execute_result"
    }
   ],
   "source": [
    "pd.DataFrame({'city': ['Satara', 'Pune', 'Mumbai', 'Nagpur'], 'temperature': [25, 34, 34, 38]})"
   ]
  },
  {
   "cell_type": "markdown",
   "id": "7d6bfef5-b367-4e47-b34d-d91b73d441e8",
   "metadata": {},
   "source": [
    "As we can see, the default indices are assinged for each row in the DataFrame.  \n",
    "Or, we can set a column as index:"
   ]
  },
  {
   "cell_type": "code",
   "execution_count": 14,
   "id": "236ba85e-1bc8-42a9-b705-d5856c7d5a9d",
   "metadata": {},
   "outputs": [
    {
     "data": {
      "text/html": [
       "<div>\n",
       "<style scoped>\n",
       "    .dataframe tbody tr th:only-of-type {\n",
       "        vertical-align: middle;\n",
       "    }\n",
       "\n",
       "    .dataframe tbody tr th {\n",
       "        vertical-align: top;\n",
       "    }\n",
       "\n",
       "    .dataframe thead th {\n",
       "        text-align: right;\n",
       "    }\n",
       "</style>\n",
       "<table border=\"1\" class=\"dataframe\">\n",
       "  <thead>\n",
       "    <tr style=\"text-align: right;\">\n",
       "      <th></th>\n",
       "      <th>temperature</th>\n",
       "    </tr>\n",
       "    <tr>\n",
       "      <th>city</th>\n",
       "      <th></th>\n",
       "    </tr>\n",
       "  </thead>\n",
       "  <tbody>\n",
       "    <tr>\n",
       "      <th>Satara</th>\n",
       "      <td>25</td>\n",
       "    </tr>\n",
       "    <tr>\n",
       "      <th>Pune</th>\n",
       "      <td>34</td>\n",
       "    </tr>\n",
       "    <tr>\n",
       "      <th>Mumbai</th>\n",
       "      <td>34</td>\n",
       "    </tr>\n",
       "    <tr>\n",
       "      <th>Nagpur</th>\n",
       "      <td>38</td>\n",
       "    </tr>\n",
       "  </tbody>\n",
       "</table>\n",
       "</div>"
      ],
      "text/plain": [
       "        temperature\n",
       "city               \n",
       "Satara           25\n",
       "Pune             34\n",
       "Mumbai           34\n",
       "Nagpur           38"
      ]
     },
     "execution_count": 14,
     "metadata": {},
     "output_type": "execute_result"
    }
   ],
   "source": [
    "pd.DataFrame({'city': ['Satara', 'Pune', 'Mumbai', 'Nagpur'], 'temperature': [25, 34, 34, 38]}).set_index('city')"
   ]
  },
  {
   "cell_type": "markdown",
   "id": "fc69dba7-c5c8-4090-9272-018f609e254e",
   "metadata": {},
   "source": [
    "Here, the city column became the index. We can also create a range index:"
   ]
  },
  {
   "cell_type": "code",
   "execution_count": 15,
   "id": "92e995cd-ebc0-49b0-918d-4f6b9bb5b5e9",
   "metadata": {},
   "outputs": [
    {
     "data": {
      "text/html": [
       "<div>\n",
       "<style scoped>\n",
       "    .dataframe tbody tr th:only-of-type {\n",
       "        vertical-align: middle;\n",
       "    }\n",
       "\n",
       "    .dataframe tbody tr th {\n",
       "        vertical-align: top;\n",
       "    }\n",
       "\n",
       "    .dataframe thead th {\n",
       "        text-align: right;\n",
       "    }\n",
       "</style>\n",
       "<table border=\"1\" class=\"dataframe\">\n",
       "  <thead>\n",
       "    <tr style=\"text-align: right;\">\n",
       "      <th></th>\n",
       "      <th>city</th>\n",
       "      <th>temperature</th>\n",
       "    </tr>\n",
       "    <tr>\n",
       "      <th>index</th>\n",
       "      <th></th>\n",
       "      <th></th>\n",
       "    </tr>\n",
       "  </thead>\n",
       "  <tbody>\n",
       "    <tr>\n",
       "      <th>12</th>\n",
       "      <td>Satara</td>\n",
       "      <td>25</td>\n",
       "    </tr>\n",
       "    <tr>\n",
       "      <th>13</th>\n",
       "      <td>Pune</td>\n",
       "      <td>34</td>\n",
       "    </tr>\n",
       "    <tr>\n",
       "      <th>14</th>\n",
       "      <td>Mumbai</td>\n",
       "      <td>34</td>\n",
       "    </tr>\n",
       "    <tr>\n",
       "      <th>15</th>\n",
       "      <td>Nagpur</td>\n",
       "      <td>38</td>\n",
       "    </tr>\n",
       "  </tbody>\n",
       "</table>\n",
       "</div>"
      ],
      "text/plain": [
       "         city  temperature\n",
       "index                     \n",
       "12     Satara           25\n",
       "13       Pune           34\n",
       "14     Mumbai           34\n",
       "15     Nagpur           38"
      ]
     },
     "execution_count": 15,
     "metadata": {},
     "output_type": "execute_result"
    }
   ],
   "source": [
    "pd.DataFrame({'city': ['Satara', 'Pune', 'Mumbai', 'Nagpur'], 'temperature': [25, 34, 34, 38]}, index=pd.RangeIndex(12, 16, name='index'))"
   ]
  },
  {
   "cell_type": "markdown",
   "id": "5068921c-6061-45f1-a896-ac5db5b0d637",
   "metadata": {},
   "source": [
    "We put index range from 12 to 16 because the last number is not included in the range. Here we got the column named index with indices 12, 13, 14 and 15."
   ]
  },
  {
   "cell_type": "markdown",
   "id": "b3b8d4cb-c2e4-45ec-82f2-a8bce402e421",
   "metadata": {},
   "source": [
    "#### Modifying Indices"
   ]
  },
  {
   "cell_type": "code",
   "execution_count": 16,
   "id": "c8264021-4f1b-4e3f-b7e8-8a85e7a4beae",
   "metadata": {},
   "outputs": [
    {
     "data": {
      "text/html": [
       "<div>\n",
       "<style scoped>\n",
       "    .dataframe tbody tr th:only-of-type {\n",
       "        vertical-align: middle;\n",
       "    }\n",
       "\n",
       "    .dataframe tbody tr th {\n",
       "        vertical-align: top;\n",
       "    }\n",
       "\n",
       "    .dataframe thead th {\n",
       "        text-align: right;\n",
       "    }\n",
       "</style>\n",
       "<table border=\"1\" class=\"dataframe\">\n",
       "  <thead>\n",
       "    <tr style=\"text-align: right;\">\n",
       "      <th></th>\n",
       "      <th>city</th>\n",
       "      <th>temperature</th>\n",
       "    </tr>\n",
       "  </thead>\n",
       "  <tbody>\n",
       "    <tr>\n",
       "      <th>0</th>\n",
       "      <td>Satara</td>\n",
       "      <td>25</td>\n",
       "    </tr>\n",
       "    <tr>\n",
       "      <th>1</th>\n",
       "      <td>Pune</td>\n",
       "      <td>34</td>\n",
       "    </tr>\n",
       "    <tr>\n",
       "      <th>2</th>\n",
       "      <td>Mumbai</td>\n",
       "      <td>34</td>\n",
       "    </tr>\n",
       "    <tr>\n",
       "      <th>3</th>\n",
       "      <td>Nagpur</td>\n",
       "      <td>38</td>\n",
       "    </tr>\n",
       "  </tbody>\n",
       "</table>\n",
       "</div>"
      ],
      "text/plain": [
       "     city  temperature\n",
       "0  Satara           25\n",
       "1    Pune           34\n",
       "2  Mumbai           34\n",
       "3  Nagpur           38"
      ]
     },
     "execution_count": 16,
     "metadata": {},
     "output_type": "execute_result"
    }
   ],
   "source": [
    "s_two = pd.DataFrame({'city': ['Satara', 'Pune', 'Mumbai', 'Nagpur'], 'temperature': [25, 34, 34, 38]})\n",
    "s_two"
   ]
  },
  {
   "cell_type": "markdown",
   "id": "8c97e6d3-e594-4563-9cca-2ff4fd78bcd5",
   "metadata": {},
   "source": [
    "We can rename an index like this:"
   ]
  },
  {
   "cell_type": "code",
   "execution_count": 17,
   "id": "fb317edf-3bb1-4c5e-9efd-34c0188d2d5e",
   "metadata": {},
   "outputs": [
    {
     "data": {
      "text/html": [
       "<div>\n",
       "<style scoped>\n",
       "    .dataframe tbody tr th:only-of-type {\n",
       "        vertical-align: middle;\n",
       "    }\n",
       "\n",
       "    .dataframe tbody tr th {\n",
       "        vertical-align: top;\n",
       "    }\n",
       "\n",
       "    .dataframe thead th {\n",
       "        text-align: right;\n",
       "    }\n",
       "</style>\n",
       "<table border=\"1\" class=\"dataframe\">\n",
       "  <thead>\n",
       "    <tr style=\"text-align: right;\">\n",
       "      <th></th>\n",
       "      <th>city</th>\n",
       "      <th>temperature</th>\n",
       "    </tr>\n",
       "  </thead>\n",
       "  <tbody>\n",
       "    <tr>\n",
       "      <th>A</th>\n",
       "      <td>Satara</td>\n",
       "      <td>25</td>\n",
       "    </tr>\n",
       "    <tr>\n",
       "      <th>B</th>\n",
       "      <td>Pune</td>\n",
       "      <td>34</td>\n",
       "    </tr>\n",
       "    <tr>\n",
       "      <th>C</th>\n",
       "      <td>Mumbai</td>\n",
       "      <td>34</td>\n",
       "    </tr>\n",
       "    <tr>\n",
       "      <th>D</th>\n",
       "      <td>Nagpur</td>\n",
       "      <td>38</td>\n",
       "    </tr>\n",
       "  </tbody>\n",
       "</table>\n",
       "</div>"
      ],
      "text/plain": [
       "     city  temperature\n",
       "A  Satara           25\n",
       "B    Pune           34\n",
       "C  Mumbai           34\n",
       "D  Nagpur           38"
      ]
     },
     "execution_count": 17,
     "metadata": {},
     "output_type": "execute_result"
    }
   ],
   "source": [
    "s_two.rename(index={0: 'A', 1: 'B', 2: 'C', 3: 'D'})"
   ]
  },
  {
   "cell_type": "markdown",
   "id": "d0afb6b6-6fca-4c0d-a7db-b3284dc89838",
   "metadata": {},
   "source": [
    "Here, the capital alphabets replaced the default indices.  \n",
    "We can reset the index to the default integer index too, like this:"
   ]
  },
  {
   "cell_type": "code",
   "execution_count": 18,
   "id": "2b183495-86a6-4637-a42b-360ab0782cb6",
   "metadata": {},
   "outputs": [
    {
     "data": {
      "text/html": [
       "<div>\n",
       "<style scoped>\n",
       "    .dataframe tbody tr th:only-of-type {\n",
       "        vertical-align: middle;\n",
       "    }\n",
       "\n",
       "    .dataframe tbody tr th {\n",
       "        vertical-align: top;\n",
       "    }\n",
       "\n",
       "    .dataframe thead th {\n",
       "        text-align: right;\n",
       "    }\n",
       "</style>\n",
       "<table border=\"1\" class=\"dataframe\">\n",
       "  <thead>\n",
       "    <tr style=\"text-align: right;\">\n",
       "      <th></th>\n",
       "      <th>city</th>\n",
       "      <th>temperature</th>\n",
       "    </tr>\n",
       "  </thead>\n",
       "  <tbody>\n",
       "    <tr>\n",
       "      <th>A</th>\n",
       "      <td>Satara</td>\n",
       "      <td>25</td>\n",
       "    </tr>\n",
       "    <tr>\n",
       "      <th>B</th>\n",
       "      <td>Pune</td>\n",
       "      <td>34</td>\n",
       "    </tr>\n",
       "    <tr>\n",
       "      <th>C</th>\n",
       "      <td>Mumbai</td>\n",
       "      <td>34</td>\n",
       "    </tr>\n",
       "    <tr>\n",
       "      <th>D</th>\n",
       "      <td>Nagpur</td>\n",
       "      <td>38</td>\n",
       "    </tr>\n",
       "  </tbody>\n",
       "</table>\n",
       "</div>"
      ],
      "text/plain": [
       "     city  temperature\n",
       "A  Satara           25\n",
       "B    Pune           34\n",
       "C  Mumbai           34\n",
       "D  Nagpur           38"
      ]
     },
     "execution_count": 18,
     "metadata": {},
     "output_type": "execute_result"
    }
   ],
   "source": [
    "s_three = s_two.rename(index={0: 'A', 1: 'B', 2: 'C', 3: 'D'})\n",
    "s_three"
   ]
  },
  {
   "cell_type": "code",
   "execution_count": 19,
   "id": "4ed0d6f7-af15-44b4-a32d-b1329cd5c0ab",
   "metadata": {},
   "outputs": [
    {
     "data": {
      "text/html": [
       "<div>\n",
       "<style scoped>\n",
       "    .dataframe tbody tr th:only-of-type {\n",
       "        vertical-align: middle;\n",
       "    }\n",
       "\n",
       "    .dataframe tbody tr th {\n",
       "        vertical-align: top;\n",
       "    }\n",
       "\n",
       "    .dataframe thead th {\n",
       "        text-align: right;\n",
       "    }\n",
       "</style>\n",
       "<table border=\"1\" class=\"dataframe\">\n",
       "  <thead>\n",
       "    <tr style=\"text-align: right;\">\n",
       "      <th></th>\n",
       "      <th>index</th>\n",
       "      <th>city</th>\n",
       "      <th>temperature</th>\n",
       "    </tr>\n",
       "  </thead>\n",
       "  <tbody>\n",
       "    <tr>\n",
       "      <th>0</th>\n",
       "      <td>A</td>\n",
       "      <td>Satara</td>\n",
       "      <td>25</td>\n",
       "    </tr>\n",
       "    <tr>\n",
       "      <th>1</th>\n",
       "      <td>B</td>\n",
       "      <td>Pune</td>\n",
       "      <td>34</td>\n",
       "    </tr>\n",
       "    <tr>\n",
       "      <th>2</th>\n",
       "      <td>C</td>\n",
       "      <td>Mumbai</td>\n",
       "      <td>34</td>\n",
       "    </tr>\n",
       "    <tr>\n",
       "      <th>3</th>\n",
       "      <td>D</td>\n",
       "      <td>Nagpur</td>\n",
       "      <td>38</td>\n",
       "    </tr>\n",
       "  </tbody>\n",
       "</table>\n",
       "</div>"
      ],
      "text/plain": [
       "  index    city  temperature\n",
       "0     A  Satara           25\n",
       "1     B    Pune           34\n",
       "2     C  Mumbai           34\n",
       "3     D  Nagpur           38"
      ]
     },
     "execution_count": 19,
     "metadata": {},
     "output_type": "execute_result"
    }
   ],
   "source": [
    "s_three.reset_index()"
   ]
  },
  {
   "cell_type": "markdown",
   "id": "f48ab4ce-7b73-4ef9-9833-3eb25b49af8c",
   "metadata": {},
   "source": [
    "Here, the indices have been reset to the default values, although there is a new column with name index which has our previous indices."
   ]
  },
  {
   "cell_type": "markdown",
   "id": "ef10464c-6eab-44a1-8c82-40fb68cd6c27",
   "metadata": {},
   "source": [
    "#### Access Rows by Index"
   ]
  },
  {
   "cell_type": "markdown",
   "id": "961b2dd8-90ce-475a-89d9-0691a555513c",
   "metadata": {},
   "source": [
    "##### Using iloc Property"
   ]
  },
  {
   "cell_type": "markdown",
   "id": "6081f090-5479-492c-875d-7335b0bdd8cd",
   "metadata": {},
   "source": [
    "iloc is used to access elements on the basis of default index:"
   ]
  },
  {
   "cell_type": "code",
   "execution_count": 20,
   "id": "b9e5dd39-d6d5-4b3e-a88a-eb2d75466206",
   "metadata": {},
   "outputs": [
    {
     "data": {
      "text/plain": [
       "city           Mumbai\n",
       "temperature        34\n",
       "Name: 2, dtype: object"
      ]
     },
     "execution_count": 20,
     "metadata": {},
     "output_type": "execute_result"
    }
   ],
   "source": [
    "s_two.iloc[2]"
   ]
  },
  {
   "cell_type": "markdown",
   "id": "307ae8cb-b68c-48c5-8730-bf9b0b7df878",
   "metadata": {},
   "source": [
    "Here we got the data from default index 2."
   ]
  },
  {
   "cell_type": "markdown",
   "id": "2be731e8-08b7-4dad-8961-c472972ec727",
   "metadata": {},
   "source": [
    "##### Using loc Property"
   ]
  },
  {
   "cell_type": "markdown",
   "id": "5fd8ef58-7ca8-42c2-b8b7-dd7372763fa9",
   "metadata": {},
   "source": [
    "To access elements based on the custom indexing, we can use loc property:"
   ]
  },
  {
   "cell_type": "code",
   "execution_count": 21,
   "id": "2b09d6c0-2d55-4969-a3d3-641c6955cad2",
   "metadata": {},
   "outputs": [
    {
     "data": {
      "text/plain": [
       "city           Satara\n",
       "temperature        25\n",
       "Name: A, dtype: object"
      ]
     },
     "execution_count": 21,
     "metadata": {},
     "output_type": "execute_result"
    }
   ],
   "source": [
    "s_three.loc['A']"
   ]
  },
  {
   "cell_type": "markdown",
   "id": "629631f5-5790-49ab-be5d-968425d1e5ca",
   "metadata": {},
   "source": [
    "We can also use loc for default indexing:"
   ]
  },
  {
   "cell_type": "code",
   "execution_count": 22,
   "id": "3b5e2477-6bd8-4f28-8523-89577f1957e9",
   "metadata": {},
   "outputs": [
    {
     "data": {
      "text/plain": [
       "city           Mumbai\n",
       "temperature        34\n",
       "Name: 2, dtype: object"
      ]
     },
     "execution_count": 22,
     "metadata": {},
     "output_type": "execute_result"
    }
   ],
   "source": [
    "s_two.loc[2]"
   ]
  },
  {
   "cell_type": "markdown",
   "id": "adcf941d-1090-46f6-a1ed-fb93f325b5bc",
   "metadata": {},
   "source": [
    "**Note:** As we used custom indexing on s_three and then again reset it to the default index, we can only use iloc for default indices and loc for custom indices there."
   ]
  },
  {
   "cell_type": "markdown",
   "id": "95b49101-7da2-4e8a-ae66-aa3c0e59a273",
   "metadata": {},
   "source": [
    "#### Modifying element values"
   ]
  },
  {
   "cell_type": "markdown",
   "id": "fa6651fb-4456-4ada-a41f-97858572fa8b",
   "metadata": {},
   "source": [
    "We can also use loc and iloc to change the elements:"
   ]
  },
  {
   "cell_type": "code",
   "execution_count": 23,
   "id": "2b8b074c-f0eb-4d83-b90e-8578b8852699",
   "metadata": {},
   "outputs": [
    {
     "data": {
      "text/html": [
       "<div>\n",
       "<style scoped>\n",
       "    .dataframe tbody tr th:only-of-type {\n",
       "        vertical-align: middle;\n",
       "    }\n",
       "\n",
       "    .dataframe tbody tr th {\n",
       "        vertical-align: top;\n",
       "    }\n",
       "\n",
       "    .dataframe thead th {\n",
       "        text-align: right;\n",
       "    }\n",
       "</style>\n",
       "<table border=\"1\" class=\"dataframe\">\n",
       "  <thead>\n",
       "    <tr style=\"text-align: right;\">\n",
       "      <th></th>\n",
       "      <th>city</th>\n",
       "      <th>temperature</th>\n",
       "    </tr>\n",
       "  </thead>\n",
       "  <tbody>\n",
       "    <tr>\n",
       "      <th>A</th>\n",
       "      <td>Satara</td>\n",
       "      <td>25</td>\n",
       "    </tr>\n",
       "    <tr>\n",
       "      <th>B</th>\n",
       "      <td>Pune</td>\n",
       "      <td>34</td>\n",
       "    </tr>\n",
       "    <tr>\n",
       "      <th>C</th>\n",
       "      <td>Mumbai</td>\n",
       "      <td>40</td>\n",
       "    </tr>\n",
       "    <tr>\n",
       "      <th>D</th>\n",
       "      <td>Nagpur</td>\n",
       "      <td>38</td>\n",
       "    </tr>\n",
       "  </tbody>\n",
       "</table>\n",
       "</div>"
      ],
      "text/plain": [
       "     city  temperature\n",
       "A  Satara           25\n",
       "B    Pune           34\n",
       "C  Mumbai           40\n",
       "D  Nagpur           38"
      ]
     },
     "execution_count": 23,
     "metadata": {},
     "output_type": "execute_result"
    }
   ],
   "source": [
    "s_three.loc['C', 'temperature'] = 40\n",
    "s_three"
   ]
  },
  {
   "cell_type": "code",
   "execution_count": 24,
   "id": "91cf9646-69c8-412b-963b-3edc3a81a6bb",
   "metadata": {},
   "outputs": [
    {
     "data": {
      "text/html": [
       "<div>\n",
       "<style scoped>\n",
       "    .dataframe tbody tr th:only-of-type {\n",
       "        vertical-align: middle;\n",
       "    }\n",
       "\n",
       "    .dataframe tbody tr th {\n",
       "        vertical-align: top;\n",
       "    }\n",
       "\n",
       "    .dataframe thead th {\n",
       "        text-align: right;\n",
       "    }\n",
       "</style>\n",
       "<table border=\"1\" class=\"dataframe\">\n",
       "  <thead>\n",
       "    <tr style=\"text-align: right;\">\n",
       "      <th></th>\n",
       "      <th>city</th>\n",
       "      <th>temperature</th>\n",
       "    </tr>\n",
       "  </thead>\n",
       "  <tbody>\n",
       "    <tr>\n",
       "      <th>0</th>\n",
       "      <td>Satara</td>\n",
       "      <td>20</td>\n",
       "    </tr>\n",
       "    <tr>\n",
       "      <th>1</th>\n",
       "      <td>Pune</td>\n",
       "      <td>34</td>\n",
       "    </tr>\n",
       "    <tr>\n",
       "      <th>2</th>\n",
       "      <td>Mumbai</td>\n",
       "      <td>34</td>\n",
       "    </tr>\n",
       "    <tr>\n",
       "      <th>3</th>\n",
       "      <td>Nagpur</td>\n",
       "      <td>38</td>\n",
       "    </tr>\n",
       "  </tbody>\n",
       "</table>\n",
       "</div>"
      ],
      "text/plain": [
       "     city  temperature\n",
       "0  Satara           20\n",
       "1    Pune           34\n",
       "2  Mumbai           34\n",
       "3  Nagpur           38"
      ]
     },
     "execution_count": 24,
     "metadata": {},
     "output_type": "execute_result"
    }
   ],
   "source": [
    "s_two.iloc[0, s_two.columns.get_loc('temperature')] = 20\n",
    "s_two"
   ]
  },
  {
   "cell_type": "markdown",
   "id": "5845259c-6460-4059-a3f3-08f32da8e2b3",
   "metadata": {},
   "source": [
    "Here, columns.get_loc() method returned the location of temperature column. We did this because iloc indices need all the values as integers."
   ]
  },
  {
   "cell_type": "markdown",
   "id": "ccec512a-619d-47ed-aea2-c95f093afb4c",
   "metadata": {},
   "source": [
    "#### Types of Indices"
   ]
  },
  {
   "cell_type": "markdown",
   "id": "f43ad9aa-62fb-4f94-a667-4ce6eeaa7fce",
   "metadata": {},
   "source": [
    "| Type                                | Description                                                                                                     |\n",
    "|-------------------------------------|-----------------------------------------------------------------------------------------------------------------|\n",
    "| Range Index (RangeIndex)            | It represents a sequence of integers within a specified range. <br> It is of type int64. The range index [0, 1, 2, ...] is often used as the default index when creating DataFrame. |\n",
    "| Categorical Index (CategoricalIndex)| It is used when dealing with categorical data. It stores a fixed set of unique categorical values.              |\n",
    "| Datetime Index (DatetimeIndex)      | It is used when working with time series data. It is of type datetime64.                                       |\n",
    "| Range Index (RangeIndex)            | It represents a sequence of integers within a specified range. It is of type int64. The range index [0, 1, 2, ...] is often used as the default index when creating DataFrame | [0, 1, 2, 3, 4, 5, 6], [100, 101, 102, 103, 104]                                                 |\n",
    "| Categorical Index (CategoricalIndex)| It is used when dealing with categorical data. It stores a fixed set of unique categorical values.              | ['Red', 'Green', 'Blue', 'Red', 'Blue'], ['Category A', 'Category B', 'Category C', 'Category A', 'Category B'] |\n",
    "| Datetime Index (DatetimeIndex)      | It is used when working with time series data. It is of type datetime64                                          |                                                                                                |\n",
    "| Multi Index (MultiIndex)            | It allows us to have multiple levels of indexing on one or more axes of a DataFrame or a Series object.          |                                                                                                |\n",
    "| Interval Index (IntervalIndex)      | It is used to represent intervals or ranges of values in pandas.                                                 |                                                                                                |\n",
    "| Timedelta Index (TimedeltaIndex)    | It represents a sequence of time durations. Each element in the index represents a specific duration of time, such as hours, minutes, seconds, or a combination of these. |                                                                                                |\n",
    "| Period Index (PeriodIndex)          | It represents a sequence of time periods. Each element in the index represents a specific time period, such as a day, month, quarter, or year. |                                                                                                |\n"
   ]
  },
  {
   "cell_type": "markdown",
   "id": "3c266d07-5754-4ad0-9c80-025456eab513",
   "metadata": {},
   "source": [
    "### Array"
   ]
  },
  {
   "cell_type": "markdown",
   "id": "6f3805f8-bd9f-4d50-96b2-613833b9bb5e",
   "metadata": {},
   "source": [
    "Pandas array is designed to provide a more memory-efficient and performance-enhanced alternative to Python's built-in lists, NumPy arrays, and other data structures for handling the same type of data.  \n",
    "We can create an array like this:"
   ]
  },
  {
   "cell_type": "code",
   "execution_count": 25,
   "id": "306d7228-5266-4560-84e4-a3bfd7837e0d",
   "metadata": {},
   "outputs": [
    {
     "data": {
      "text/plain": [
       "<IntegerArray>\n",
       "[1, 2, 3, 4, 5]\n",
       "Length: 5, dtype: Int64"
      ]
     },
     "execution_count": 25,
     "metadata": {},
     "output_type": "execute_result"
    }
   ],
   "source": [
    "pd.array([1, 2, 3, 4, 5])"
   ]
  },
  {
   "cell_type": "markdown",
   "id": "d96d97fb-cc3e-41b9-81da-a82115a4a0ac",
   "metadata": {},
   "source": [
    "We can also specify the dtype of the array:"
   ]
  },
  {
   "cell_type": "code",
   "execution_count": 26,
   "id": "c0ccb0d1-ffa4-42db-92f4-e595920a1dc4",
   "metadata": {},
   "outputs": [
    {
     "data": {
      "text/plain": [
       "<NumpyExtensionArray>\n",
       "[1.0, 2.0, 3.0, 4.0, 5.0]\n",
       "Length: 5, dtype: float64"
      ]
     },
     "execution_count": 26,
     "metadata": {},
     "output_type": "execute_result"
    }
   ],
   "source": [
    "pd.array([1, 2, 3, 4, 5], dtype='float')"
   ]
  },
  {
   "cell_type": "markdown",
   "id": "5c2725dd-f639-435c-8d80-51f98f7b9219",
   "metadata": {},
   "source": [
    "Here, as we set the dtype as 'float', we got a float64 array.  \n",
    "We can also create a series using an array:"
   ]
  },
  {
   "cell_type": "code",
   "execution_count": 27,
   "id": "9047e7a5-7601-4ae6-8dbf-e1c2538f4e04",
   "metadata": {},
   "outputs": [
    {
     "data": {
      "text/plain": [
       "0    1\n",
       "1    2\n",
       "2    3\n",
       "3    4\n",
       "4    5\n",
       "dtype: Int64"
      ]
     },
     "execution_count": 27,
     "metadata": {},
     "output_type": "execute_result"
    }
   ],
   "source": [
    "pd.Series(pd.array([1, 2, 3, 4, 5]))"
   ]
  },
  {
   "cell_type": "markdown",
   "id": "c32312d0-18b2-435a-8991-379fe181b2f6",
   "metadata": {},
   "source": [
    "## Dataframe Operations and Manipulations"
   ]
  },
  {
   "cell_type": "markdown",
   "id": "06298b25-5cd1-433e-a993-cc1af38a47e8",
   "metadata": {},
   "source": [
    "### DataFrame Analysis"
   ]
  },
  {
   "cell_type": "markdown",
   "id": "034befec-41ad-435d-94a1-b874839e9330",
   "metadata": {},
   "source": [
    "#### View Data"
   ]
  },
  {
   "cell_type": "markdown",
   "id": "73a5a74f-2d83-47e3-99e2-165d1282d0e7",
   "metadata": {},
   "source": [
    "In the case of large DataFrames, we can use head(), tail(), info() and description() methods to get the overview of the DataFrame.\n",
    "- **head():** It returns the column headers and a specified number of rows from the beginning.\n",
    "- **tail():** It returns the column headers and a specified number of rows from the end.\n",
    "- **info():** It gives the overall information about the DataFrame such as its class, data type, size etc.\n",
    "- **describe():** It gives the overall statistical information about the DataFrame such as count, min, max etc."
   ]
  },
  {
   "cell_type": "markdown",
   "id": "0ff59528-a0ff-4b7c-ab5d-58a05a65a2c8",
   "metadata": {},
   "source": [
    "Let's first extend our city-temperature DataFrame:"
   ]
  },
  {
   "cell_type": "code",
   "execution_count": 28,
   "id": "bf8df6ee-1b0d-41f8-88e5-fd529d3c29e4",
   "metadata": {},
   "outputs": [
    {
     "data": {
      "text/html": [
       "<div>\n",
       "<style scoped>\n",
       "    .dataframe tbody tr th:only-of-type {\n",
       "        vertical-align: middle;\n",
       "    }\n",
       "\n",
       "    .dataframe tbody tr th {\n",
       "        vertical-align: top;\n",
       "    }\n",
       "\n",
       "    .dataframe thead th {\n",
       "        text-align: right;\n",
       "    }\n",
       "</style>\n",
       "<table border=\"1\" class=\"dataframe\">\n",
       "  <thead>\n",
       "    <tr style=\"text-align: right;\">\n",
       "      <th></th>\n",
       "      <th>city</th>\n",
       "      <th>temperature</th>\n",
       "    </tr>\n",
       "  </thead>\n",
       "  <tbody>\n",
       "    <tr>\n",
       "      <th>0</th>\n",
       "      <td>Satara</td>\n",
       "      <td>25</td>\n",
       "    </tr>\n",
       "    <tr>\n",
       "      <th>1</th>\n",
       "      <td>Pune</td>\n",
       "      <td>34</td>\n",
       "    </tr>\n",
       "    <tr>\n",
       "      <th>2</th>\n",
       "      <td>Mumbai</td>\n",
       "      <td>34</td>\n",
       "    </tr>\n",
       "    <tr>\n",
       "      <th>3</th>\n",
       "      <td>Nagpur</td>\n",
       "      <td>38</td>\n",
       "    </tr>\n",
       "    <tr>\n",
       "      <th>4</th>\n",
       "      <td>Nashik</td>\n",
       "      <td>28</td>\n",
       "    </tr>\n",
       "    <tr>\n",
       "      <th>5</th>\n",
       "      <td>Chh. Sambhajinagar</td>\n",
       "      <td>36</td>\n",
       "    </tr>\n",
       "    <tr>\n",
       "      <th>6</th>\n",
       "      <td>Kolhapur</td>\n",
       "      <td>27</td>\n",
       "    </tr>\n",
       "    <tr>\n",
       "      <th>7</th>\n",
       "      <td>Solapur</td>\n",
       "      <td>35</td>\n",
       "    </tr>\n",
       "    <tr>\n",
       "      <th>8</th>\n",
       "      <td>Amravati</td>\n",
       "      <td>37</td>\n",
       "    </tr>\n",
       "    <tr>\n",
       "      <th>9</th>\n",
       "      <td>Thane</td>\n",
       "      <td>32</td>\n",
       "    </tr>\n",
       "  </tbody>\n",
       "</table>\n",
       "</div>"
      ],
      "text/plain": [
       "                 city  temperature\n",
       "0              Satara           25\n",
       "1                Pune           34\n",
       "2              Mumbai           34\n",
       "3              Nagpur           38\n",
       "4              Nashik           28\n",
       "5  Chh. Sambhajinagar           36\n",
       "6            Kolhapur           27\n",
       "7             Solapur           35\n",
       "8            Amravati           37\n",
       "9               Thane           32"
      ]
     },
     "execution_count": 28,
     "metadata": {},
     "output_type": "execute_result"
    }
   ],
   "source": [
    "cities_temps = pd.DataFrame({\n",
    "    'city': ['Satara', 'Pune', 'Mumbai', 'Nagpur', 'Nashik', 'Chh. Sambhajinagar', 'Kolhapur', 'Solapur', 'Amravati', 'Thane'], \n",
    "    'temperature': [25, 34, 34, 38, 28, 36, 27, 35, 37, 32]\n",
    "})\n",
    "cities_temps"
   ]
  },
  {
   "cell_type": "markdown",
   "id": "d647e85d-1ff8-4415-a302-54a82c82147f",
   "metadata": {},
   "source": [
    "##### head() method"
   ]
  },
  {
   "cell_type": "code",
   "execution_count": 29,
   "id": "fee3695e-b11e-435f-8a0b-1dee676a722d",
   "metadata": {},
   "outputs": [
    {
     "data": {
      "text/html": [
       "<div>\n",
       "<style scoped>\n",
       "    .dataframe tbody tr th:only-of-type {\n",
       "        vertical-align: middle;\n",
       "    }\n",
       "\n",
       "    .dataframe tbody tr th {\n",
       "        vertical-align: top;\n",
       "    }\n",
       "\n",
       "    .dataframe thead th {\n",
       "        text-align: right;\n",
       "    }\n",
       "</style>\n",
       "<table border=\"1\" class=\"dataframe\">\n",
       "  <thead>\n",
       "    <tr style=\"text-align: right;\">\n",
       "      <th></th>\n",
       "      <th>city</th>\n",
       "      <th>temperature</th>\n",
       "    </tr>\n",
       "  </thead>\n",
       "  <tbody>\n",
       "    <tr>\n",
       "      <th>0</th>\n",
       "      <td>Satara</td>\n",
       "      <td>25</td>\n",
       "    </tr>\n",
       "    <tr>\n",
       "      <th>1</th>\n",
       "      <td>Pune</td>\n",
       "      <td>34</td>\n",
       "    </tr>\n",
       "    <tr>\n",
       "      <th>2</th>\n",
       "      <td>Mumbai</td>\n",
       "      <td>34</td>\n",
       "    </tr>\n",
       "    <tr>\n",
       "      <th>3</th>\n",
       "      <td>Nagpur</td>\n",
       "      <td>38</td>\n",
       "    </tr>\n",
       "    <tr>\n",
       "      <th>4</th>\n",
       "      <td>Nashik</td>\n",
       "      <td>28</td>\n",
       "    </tr>\n",
       "  </tbody>\n",
       "</table>\n",
       "</div>"
      ],
      "text/plain": [
       "     city  temperature\n",
       "0  Satara           25\n",
       "1    Pune           34\n",
       "2  Mumbai           34\n",
       "3  Nagpur           38\n",
       "4  Nashik           28"
      ]
     },
     "execution_count": 29,
     "metadata": {},
     "output_type": "execute_result"
    }
   ],
   "source": [
    "cities_temps.head()"
   ]
  },
  {
   "cell_type": "markdown",
   "id": "c59498e7-5523-4a07-8740-e7472fcbd4a9",
   "metadata": {},
   "source": [
    "head() method selected the first 5 rows by default. If we want a custom number of rows from the top:"
   ]
  },
  {
   "cell_type": "code",
   "execution_count": 30,
   "id": "69c50606-dd0c-4f20-bfca-68dec238323e",
   "metadata": {},
   "outputs": [
    {
     "data": {
      "text/html": [
       "<div>\n",
       "<style scoped>\n",
       "    .dataframe tbody tr th:only-of-type {\n",
       "        vertical-align: middle;\n",
       "    }\n",
       "\n",
       "    .dataframe tbody tr th {\n",
       "        vertical-align: top;\n",
       "    }\n",
       "\n",
       "    .dataframe thead th {\n",
       "        text-align: right;\n",
       "    }\n",
       "</style>\n",
       "<table border=\"1\" class=\"dataframe\">\n",
       "  <thead>\n",
       "    <tr style=\"text-align: right;\">\n",
       "      <th></th>\n",
       "      <th>city</th>\n",
       "      <th>temperature</th>\n",
       "    </tr>\n",
       "  </thead>\n",
       "  <tbody>\n",
       "    <tr>\n",
       "      <th>0</th>\n",
       "      <td>Satara</td>\n",
       "      <td>25</td>\n",
       "    </tr>\n",
       "    <tr>\n",
       "      <th>1</th>\n",
       "      <td>Pune</td>\n",
       "      <td>34</td>\n",
       "    </tr>\n",
       "    <tr>\n",
       "      <th>2</th>\n",
       "      <td>Mumbai</td>\n",
       "      <td>34</td>\n",
       "    </tr>\n",
       "  </tbody>\n",
       "</table>\n",
       "</div>"
      ],
      "text/plain": [
       "     city  temperature\n",
       "0  Satara           25\n",
       "1    Pune           34\n",
       "2  Mumbai           34"
      ]
     },
     "execution_count": 30,
     "metadata": {},
     "output_type": "execute_result"
    }
   ],
   "source": [
    "cities_temps.head(3)"
   ]
  },
  {
   "cell_type": "markdown",
   "id": "367c7a48-6f8e-4976-9f2f-d29c2a15ff2e",
   "metadata": {},
   "source": [
    "Here, we selected the first 3 rows."
   ]
  },
  {
   "cell_type": "markdown",
   "id": "dcd8b005-3d8f-46e5-8c14-cc834eca34d8",
   "metadata": {},
   "source": [
    "##### tail() method"
   ]
  },
  {
   "cell_type": "code",
   "execution_count": 31,
   "id": "7c48bcf9-994f-473a-83b7-237d18bc2d21",
   "metadata": {},
   "outputs": [
    {
     "data": {
      "text/html": [
       "<div>\n",
       "<style scoped>\n",
       "    .dataframe tbody tr th:only-of-type {\n",
       "        vertical-align: middle;\n",
       "    }\n",
       "\n",
       "    .dataframe tbody tr th {\n",
       "        vertical-align: top;\n",
       "    }\n",
       "\n",
       "    .dataframe thead th {\n",
       "        text-align: right;\n",
       "    }\n",
       "</style>\n",
       "<table border=\"1\" class=\"dataframe\">\n",
       "  <thead>\n",
       "    <tr style=\"text-align: right;\">\n",
       "      <th></th>\n",
       "      <th>city</th>\n",
       "      <th>temperature</th>\n",
       "    </tr>\n",
       "  </thead>\n",
       "  <tbody>\n",
       "    <tr>\n",
       "      <th>5</th>\n",
       "      <td>Chh. Sambhajinagar</td>\n",
       "      <td>36</td>\n",
       "    </tr>\n",
       "    <tr>\n",
       "      <th>6</th>\n",
       "      <td>Kolhapur</td>\n",
       "      <td>27</td>\n",
       "    </tr>\n",
       "    <tr>\n",
       "      <th>7</th>\n",
       "      <td>Solapur</td>\n",
       "      <td>35</td>\n",
       "    </tr>\n",
       "    <tr>\n",
       "      <th>8</th>\n",
       "      <td>Amravati</td>\n",
       "      <td>37</td>\n",
       "    </tr>\n",
       "    <tr>\n",
       "      <th>9</th>\n",
       "      <td>Thane</td>\n",
       "      <td>32</td>\n",
       "    </tr>\n",
       "  </tbody>\n",
       "</table>\n",
       "</div>"
      ],
      "text/plain": [
       "                 city  temperature\n",
       "5  Chh. Sambhajinagar           36\n",
       "6            Kolhapur           27\n",
       "7             Solapur           35\n",
       "8            Amravati           37\n",
       "9               Thane           32"
      ]
     },
     "execution_count": 31,
     "metadata": {},
     "output_type": "execute_result"
    }
   ],
   "source": [
    "cities_temps.tail()"
   ]
  },
  {
   "cell_type": "markdown",
   "id": "fe02a77b-1934-4ca1-8468-8fb06a6aaa65",
   "metadata": {},
   "source": [
    "tail() method selected the last 5 rows by default. If we want a custom number of rows from the bottom:"
   ]
  },
  {
   "cell_type": "code",
   "execution_count": 32,
   "id": "188fc834-2d1b-414d-a55c-d987c84a56ee",
   "metadata": {},
   "outputs": [
    {
     "data": {
      "text/html": [
       "<div>\n",
       "<style scoped>\n",
       "    .dataframe tbody tr th:only-of-type {\n",
       "        vertical-align: middle;\n",
       "    }\n",
       "\n",
       "    .dataframe tbody tr th {\n",
       "        vertical-align: top;\n",
       "    }\n",
       "\n",
       "    .dataframe thead th {\n",
       "        text-align: right;\n",
       "    }\n",
       "</style>\n",
       "<table border=\"1\" class=\"dataframe\">\n",
       "  <thead>\n",
       "    <tr style=\"text-align: right;\">\n",
       "      <th></th>\n",
       "      <th>city</th>\n",
       "      <th>temperature</th>\n",
       "    </tr>\n",
       "  </thead>\n",
       "  <tbody>\n",
       "    <tr>\n",
       "      <th>6</th>\n",
       "      <td>Kolhapur</td>\n",
       "      <td>27</td>\n",
       "    </tr>\n",
       "    <tr>\n",
       "      <th>7</th>\n",
       "      <td>Solapur</td>\n",
       "      <td>35</td>\n",
       "    </tr>\n",
       "    <tr>\n",
       "      <th>8</th>\n",
       "      <td>Amravati</td>\n",
       "      <td>37</td>\n",
       "    </tr>\n",
       "    <tr>\n",
       "      <th>9</th>\n",
       "      <td>Thane</td>\n",
       "      <td>32</td>\n",
       "    </tr>\n",
       "  </tbody>\n",
       "</table>\n",
       "</div>"
      ],
      "text/plain": [
       "       city  temperature\n",
       "6  Kolhapur           27\n",
       "7   Solapur           35\n",
       "8  Amravati           37\n",
       "9     Thane           32"
      ]
     },
     "execution_count": 32,
     "metadata": {},
     "output_type": "execute_result"
    }
   ],
   "source": [
    "cities_temps.tail(4)"
   ]
  },
  {
   "cell_type": "markdown",
   "id": "568a4f9a-0c42-4ebc-a360-cbe0f60184fb",
   "metadata": {},
   "source": [
    "Here, we selected the last 4 rows."
   ]
  },
  {
   "cell_type": "markdown",
   "id": "0bbb5879-6050-4968-b1d4-d3d96c12264b",
   "metadata": {},
   "source": [
    "##### info() method"
   ]
  },
  {
   "cell_type": "markdown",
   "id": "e40d9c8b-c779-4cd9-b654-8c522fc08ab2",
   "metadata": {},
   "source": [
    "It returns:\n",
    "- The class of the object, which indicates that it is a pandas DataFrame.\n",
    "- The index range of the DataFrame, showing the starting and ending index values.\n",
    "- The total number of columns in the DataFrame.\n",
    "- The names of the columns in the DataFrame.\n",
    "- The count of non-null values for each column.\n",
    "- The data types of the columns.\n",
    "- The memory usage of the DataFrame in bytes."
   ]
  },
  {
   "cell_type": "code",
   "execution_count": 33,
   "id": "4a3ccf8c-c5ab-4a0d-96da-4575f09e56ad",
   "metadata": {},
   "outputs": [
    {
     "name": "stdout",
     "output_type": "stream",
     "text": [
      "<class 'pandas.core.frame.DataFrame'>\n",
      "RangeIndex: 10 entries, 0 to 9\n",
      "Data columns (total 2 columns):\n",
      " #   Column       Non-Null Count  Dtype \n",
      "---  ------       --------------  ----- \n",
      " 0   city         10 non-null     object\n",
      " 1   temperature  10 non-null     int64 \n",
      "dtypes: int64(1), object(1)\n",
      "memory usage: 288.0+ bytes\n"
     ]
    }
   ],
   "source": [
    "cities_temps.info()"
   ]
  },
  {
   "cell_type": "markdown",
   "id": "5191cc35-84c4-4b7c-bc25-d323d887f651",
   "metadata": {},
   "source": [
    "##### describe() method"
   ]
  },
  {
   "cell_type": "code",
   "execution_count": 34,
   "id": "10d49168-b478-4d75-b4e2-d0da1d1c723b",
   "metadata": {},
   "outputs": [
    {
     "data": {
      "text/html": [
       "<div>\n",
       "<style scoped>\n",
       "    .dataframe tbody tr th:only-of-type {\n",
       "        vertical-align: middle;\n",
       "    }\n",
       "\n",
       "    .dataframe tbody tr th {\n",
       "        vertical-align: top;\n",
       "    }\n",
       "\n",
       "    .dataframe thead th {\n",
       "        text-align: right;\n",
       "    }\n",
       "</style>\n",
       "<table border=\"1\" class=\"dataframe\">\n",
       "  <thead>\n",
       "    <tr style=\"text-align: right;\">\n",
       "      <th></th>\n",
       "      <th>temperature</th>\n",
       "    </tr>\n",
       "  </thead>\n",
       "  <tbody>\n",
       "    <tr>\n",
       "      <th>count</th>\n",
       "      <td>10.000000</td>\n",
       "    </tr>\n",
       "    <tr>\n",
       "      <th>mean</th>\n",
       "      <td>32.600000</td>\n",
       "    </tr>\n",
       "    <tr>\n",
       "      <th>std</th>\n",
       "      <td>4.477102</td>\n",
       "    </tr>\n",
       "    <tr>\n",
       "      <th>min</th>\n",
       "      <td>25.000000</td>\n",
       "    </tr>\n",
       "    <tr>\n",
       "      <th>25%</th>\n",
       "      <td>29.000000</td>\n",
       "    </tr>\n",
       "    <tr>\n",
       "      <th>50%</th>\n",
       "      <td>34.000000</td>\n",
       "    </tr>\n",
       "    <tr>\n",
       "      <th>75%</th>\n",
       "      <td>35.750000</td>\n",
       "    </tr>\n",
       "    <tr>\n",
       "      <th>max</th>\n",
       "      <td>38.000000</td>\n",
       "    </tr>\n",
       "  </tbody>\n",
       "</table>\n",
       "</div>"
      ],
      "text/plain": [
       "       temperature\n",
       "count    10.000000\n",
       "mean     32.600000\n",
       "std       4.477102\n",
       "min      25.000000\n",
       "25%      29.000000\n",
       "50%      34.000000\n",
       "75%      35.750000\n",
       "max      38.000000"
      ]
     },
     "execution_count": 34,
     "metadata": {},
     "output_type": "execute_result"
    }
   ],
   "source": [
    "cities_temps.describe()"
   ]
  },
  {
   "cell_type": "markdown",
   "id": "0abc5100-7a0b-4d8f-a939-f427bb7d2c18",
   "metadata": {},
   "source": [
    "### DataFrame Manipulation"
   ]
  },
  {
   "cell_type": "code",
   "execution_count": 35,
   "id": "5601232e-2662-465b-b34a-27820c33d8a2",
   "metadata": {},
   "outputs": [
    {
     "data": {
      "text/html": [
       "<div>\n",
       "<style scoped>\n",
       "    .dataframe tbody tr th:only-of-type {\n",
       "        vertical-align: middle;\n",
       "    }\n",
       "\n",
       "    .dataframe tbody tr th {\n",
       "        vertical-align: top;\n",
       "    }\n",
       "\n",
       "    .dataframe thead th {\n",
       "        text-align: right;\n",
       "    }\n",
       "</style>\n",
       "<table border=\"1\" class=\"dataframe\">\n",
       "  <thead>\n",
       "    <tr style=\"text-align: right;\">\n",
       "      <th></th>\n",
       "      <th>name</th>\n",
       "      <th>age</th>\n",
       "      <th>height</th>\n",
       "      <th>qualification</th>\n",
       "    </tr>\n",
       "  </thead>\n",
       "  <tbody>\n",
       "    <tr>\n",
       "      <th>0</th>\n",
       "      <td>John</td>\n",
       "      <td>25</td>\n",
       "      <td>175</td>\n",
       "      <td>Bachelor's</td>\n",
       "    </tr>\n",
       "    <tr>\n",
       "      <th>1</th>\n",
       "      <td>Mike</td>\n",
       "      <td>30</td>\n",
       "      <td>180</td>\n",
       "      <td>Master's</td>\n",
       "    </tr>\n",
       "    <tr>\n",
       "      <th>2</th>\n",
       "      <td>Chris</td>\n",
       "      <td>22</td>\n",
       "      <td>170</td>\n",
       "      <td>Bachelor's</td>\n",
       "    </tr>\n",
       "    <tr>\n",
       "      <th>3</th>\n",
       "      <td>David</td>\n",
       "      <td>27</td>\n",
       "      <td>178</td>\n",
       "      <td>PhD</td>\n",
       "    </tr>\n",
       "    <tr>\n",
       "      <th>4</th>\n",
       "      <td>James</td>\n",
       "      <td>35</td>\n",
       "      <td>185</td>\n",
       "      <td>Master's</td>\n",
       "    </tr>\n",
       "    <tr>\n",
       "      <th>5</th>\n",
       "      <td>Robert</td>\n",
       "      <td>28</td>\n",
       "      <td>177</td>\n",
       "      <td>Bachelor's</td>\n",
       "    </tr>\n",
       "    <tr>\n",
       "      <th>6</th>\n",
       "      <td>Daniel</td>\n",
       "      <td>24</td>\n",
       "      <td>182</td>\n",
       "      <td>Master's</td>\n",
       "    </tr>\n",
       "    <tr>\n",
       "      <th>7</th>\n",
       "      <td>Matthew</td>\n",
       "      <td>33</td>\n",
       "      <td>174</td>\n",
       "      <td>PhD</td>\n",
       "    </tr>\n",
       "    <tr>\n",
       "      <th>8</th>\n",
       "      <td>Andrew</td>\n",
       "      <td>26</td>\n",
       "      <td>180</td>\n",
       "      <td>Bachelor's</td>\n",
       "    </tr>\n",
       "    <tr>\n",
       "      <th>9</th>\n",
       "      <td>Joshua</td>\n",
       "      <td>29</td>\n",
       "      <td>176</td>\n",
       "      <td>Master's</td>\n",
       "    </tr>\n",
       "  </tbody>\n",
       "</table>\n",
       "</div>"
      ],
      "text/plain": [
       "      name  age  height qualification\n",
       "0     John   25     175    Bachelor's\n",
       "1     Mike   30     180      Master's\n",
       "2    Chris   22     170    Bachelor's\n",
       "3    David   27     178           PhD\n",
       "4    James   35     185      Master's\n",
       "5   Robert   28     177    Bachelor's\n",
       "6   Daniel   24     182      Master's\n",
       "7  Matthew   33     174           PhD\n",
       "8   Andrew   26     180    Bachelor's\n",
       "9   Joshua   29     176      Master's"
      ]
     },
     "execution_count": 35,
     "metadata": {},
     "output_type": "execute_result"
    }
   ],
   "source": [
    "guys = pd.DataFrame({\n",
    "    \"name\": [\"John\", \"Mike\", \"Chris\", \"David\", \"James\", \"Robert\", \"Daniel\", \"Matthew\", \"Andrew\", \"Joshua\"],\n",
    "    \"age\": [25, 30, 22, 27, 35, 28, 24, 33, 26, 29],\n",
    "    \"height\": [175, 180, 170, 178, 185, 177, 182, 174, 180, 176],\n",
    "    \"qualification\": [\"Bachelor's\", \"Master's\", \"Bachelor's\", \"PhD\", \"Master's\", \"Bachelor's\", \"Master's\", \"PhD\", \"Bachelor's\", \"Master's\"]\n",
    "})\n",
    "guys"
   ]
  },
  {
   "cell_type": "markdown",
   "id": "8609d8c0-0cbe-4926-ad41-30293837f81a",
   "metadata": {},
   "source": [
    "#### Add a New Column to a DataFrame"
   ]
  },
  {
   "cell_type": "markdown",
   "id": "b96b06ca-dfca-49db-825f-df01e0b5c432",
   "metadata": {},
   "source": [
    "We can add a new column to an existing DataFrame by simply declaring a new list as a column:"
   ]
  },
  {
   "cell_type": "code",
   "execution_count": 36,
   "id": "04de03f3-ebb2-416e-a0ea-9870374d52fa",
   "metadata": {},
   "outputs": [
    {
     "data": {
      "text/html": [
       "<div>\n",
       "<style scoped>\n",
       "    .dataframe tbody tr th:only-of-type {\n",
       "        vertical-align: middle;\n",
       "    }\n",
       "\n",
       "    .dataframe tbody tr th {\n",
       "        vertical-align: top;\n",
       "    }\n",
       "\n",
       "    .dataframe thead th {\n",
       "        text-align: right;\n",
       "    }\n",
       "</style>\n",
       "<table border=\"1\" class=\"dataframe\">\n",
       "  <thead>\n",
       "    <tr style=\"text-align: right;\">\n",
       "      <th></th>\n",
       "      <th>name</th>\n",
       "      <th>age</th>\n",
       "      <th>height</th>\n",
       "      <th>qualification</th>\n",
       "      <th>city</th>\n",
       "    </tr>\n",
       "  </thead>\n",
       "  <tbody>\n",
       "    <tr>\n",
       "      <th>0</th>\n",
       "      <td>John</td>\n",
       "      <td>25</td>\n",
       "      <td>175</td>\n",
       "      <td>Bachelor's</td>\n",
       "      <td>New York</td>\n",
       "    </tr>\n",
       "    <tr>\n",
       "      <th>1</th>\n",
       "      <td>Mike</td>\n",
       "      <td>30</td>\n",
       "      <td>180</td>\n",
       "      <td>Master's</td>\n",
       "      <td>Los Angeles</td>\n",
       "    </tr>\n",
       "    <tr>\n",
       "      <th>2</th>\n",
       "      <td>Chris</td>\n",
       "      <td>22</td>\n",
       "      <td>170</td>\n",
       "      <td>Bachelor's</td>\n",
       "      <td>Chicago</td>\n",
       "    </tr>\n",
       "    <tr>\n",
       "      <th>3</th>\n",
       "      <td>David</td>\n",
       "      <td>27</td>\n",
       "      <td>178</td>\n",
       "      <td>PhD</td>\n",
       "      <td>Houston</td>\n",
       "    </tr>\n",
       "    <tr>\n",
       "      <th>4</th>\n",
       "      <td>James</td>\n",
       "      <td>35</td>\n",
       "      <td>185</td>\n",
       "      <td>Master's</td>\n",
       "      <td>Phoenix</td>\n",
       "    </tr>\n",
       "    <tr>\n",
       "      <th>5</th>\n",
       "      <td>Robert</td>\n",
       "      <td>28</td>\n",
       "      <td>177</td>\n",
       "      <td>Bachelor's</td>\n",
       "      <td>Philadelphia</td>\n",
       "    </tr>\n",
       "    <tr>\n",
       "      <th>6</th>\n",
       "      <td>Daniel</td>\n",
       "      <td>24</td>\n",
       "      <td>182</td>\n",
       "      <td>Master's</td>\n",
       "      <td>San Antonio</td>\n",
       "    </tr>\n",
       "    <tr>\n",
       "      <th>7</th>\n",
       "      <td>Matthew</td>\n",
       "      <td>33</td>\n",
       "      <td>174</td>\n",
       "      <td>PhD</td>\n",
       "      <td>San Diego</td>\n",
       "    </tr>\n",
       "    <tr>\n",
       "      <th>8</th>\n",
       "      <td>Andrew</td>\n",
       "      <td>26</td>\n",
       "      <td>180</td>\n",
       "      <td>Bachelor's</td>\n",
       "      <td>Dallas</td>\n",
       "    </tr>\n",
       "    <tr>\n",
       "      <th>9</th>\n",
       "      <td>Joshua</td>\n",
       "      <td>29</td>\n",
       "      <td>176</td>\n",
       "      <td>Master's</td>\n",
       "      <td>San Jose</td>\n",
       "    </tr>\n",
       "  </tbody>\n",
       "</table>\n",
       "</div>"
      ],
      "text/plain": [
       "      name  age  height qualification          city\n",
       "0     John   25     175    Bachelor's      New York\n",
       "1     Mike   30     180      Master's   Los Angeles\n",
       "2    Chris   22     170    Bachelor's       Chicago\n",
       "3    David   27     178           PhD       Houston\n",
       "4    James   35     185      Master's       Phoenix\n",
       "5   Robert   28     177    Bachelor's  Philadelphia\n",
       "6   Daniel   24     182      Master's   San Antonio\n",
       "7  Matthew   33     174           PhD     San Diego\n",
       "8   Andrew   26     180    Bachelor's        Dallas\n",
       "9   Joshua   29     176      Master's      San Jose"
      ]
     },
     "execution_count": 36,
     "metadata": {},
     "output_type": "execute_result"
    }
   ],
   "source": [
    "guys['city'] = [\"New York\", \"Los Angeles\", \"Chicago\", \"Houston\", \"Phoenix\", \"Philadelphia\", \"San Antonio\", \"San Diego\", \"Dallas\", \"San Jose\"]\n",
    "guys"
   ]
  },
  {
   "cell_type": "markdown",
   "id": "640026c8-ebb6-4e09-a6ec-34f5f81d75ae",
   "metadata": {},
   "source": [
    "Here, we added the city column in the DataFrame."
   ]
  },
  {
   "cell_type": "markdown",
   "id": "d8a71d12-971b-4db5-be96-5501171ee5ba",
   "metadata": {},
   "source": [
    "#### Add a New Row to a DataFrame"
   ]
  },
  {
   "cell_type": "markdown",
   "id": "375026a9-97af-4cda-b6df-3a4d83996a97",
   "metadata": {},
   "source": [
    "Adding rows to a DataFrame is not quite as straightforward as adding columns. We use the .loc property to add a new row to a DataFrame:"
   ]
  },
  {
   "cell_type": "code",
   "execution_count": 37,
   "id": "3758924e-ea85-4d85-a9f4-37a8e0cb158b",
   "metadata": {},
   "outputs": [
    {
     "data": {
      "text/html": [
       "<div>\n",
       "<style scoped>\n",
       "    .dataframe tbody tr th:only-of-type {\n",
       "        vertical-align: middle;\n",
       "    }\n",
       "\n",
       "    .dataframe tbody tr th {\n",
       "        vertical-align: top;\n",
       "    }\n",
       "\n",
       "    .dataframe thead th {\n",
       "        text-align: right;\n",
       "    }\n",
       "</style>\n",
       "<table border=\"1\" class=\"dataframe\">\n",
       "  <thead>\n",
       "    <tr style=\"text-align: right;\">\n",
       "      <th></th>\n",
       "      <th>name</th>\n",
       "      <th>age</th>\n",
       "      <th>height</th>\n",
       "      <th>qualification</th>\n",
       "      <th>city</th>\n",
       "    </tr>\n",
       "  </thead>\n",
       "  <tbody>\n",
       "    <tr>\n",
       "      <th>0</th>\n",
       "      <td>John</td>\n",
       "      <td>25</td>\n",
       "      <td>175</td>\n",
       "      <td>Bachelor's</td>\n",
       "      <td>New York</td>\n",
       "    </tr>\n",
       "    <tr>\n",
       "      <th>1</th>\n",
       "      <td>Mike</td>\n",
       "      <td>30</td>\n",
       "      <td>180</td>\n",
       "      <td>Master's</td>\n",
       "      <td>Los Angeles</td>\n",
       "    </tr>\n",
       "    <tr>\n",
       "      <th>2</th>\n",
       "      <td>Chris</td>\n",
       "      <td>22</td>\n",
       "      <td>170</td>\n",
       "      <td>Bachelor's</td>\n",
       "      <td>Chicago</td>\n",
       "    </tr>\n",
       "    <tr>\n",
       "      <th>3</th>\n",
       "      <td>David</td>\n",
       "      <td>27</td>\n",
       "      <td>178</td>\n",
       "      <td>PhD</td>\n",
       "      <td>Houston</td>\n",
       "    </tr>\n",
       "    <tr>\n",
       "      <th>4</th>\n",
       "      <td>James</td>\n",
       "      <td>35</td>\n",
       "      <td>185</td>\n",
       "      <td>Master's</td>\n",
       "      <td>Phoenix</td>\n",
       "    </tr>\n",
       "    <tr>\n",
       "      <th>5</th>\n",
       "      <td>Robert</td>\n",
       "      <td>28</td>\n",
       "      <td>177</td>\n",
       "      <td>Bachelor's</td>\n",
       "      <td>Philadelphia</td>\n",
       "    </tr>\n",
       "    <tr>\n",
       "      <th>6</th>\n",
       "      <td>Daniel</td>\n",
       "      <td>24</td>\n",
       "      <td>182</td>\n",
       "      <td>Master's</td>\n",
       "      <td>San Antonio</td>\n",
       "    </tr>\n",
       "    <tr>\n",
       "      <th>7</th>\n",
       "      <td>Matthew</td>\n",
       "      <td>33</td>\n",
       "      <td>174</td>\n",
       "      <td>PhD</td>\n",
       "      <td>San Diego</td>\n",
       "    </tr>\n",
       "    <tr>\n",
       "      <th>8</th>\n",
       "      <td>Andrew</td>\n",
       "      <td>26</td>\n",
       "      <td>180</td>\n",
       "      <td>Bachelor's</td>\n",
       "      <td>Dallas</td>\n",
       "    </tr>\n",
       "    <tr>\n",
       "      <th>9</th>\n",
       "      <td>Joshua</td>\n",
       "      <td>29</td>\n",
       "      <td>176</td>\n",
       "      <td>Master's</td>\n",
       "      <td>San Jose</td>\n",
       "    </tr>\n",
       "    <tr>\n",
       "      <th>10</th>\n",
       "      <td>Alex</td>\n",
       "      <td>23</td>\n",
       "      <td>179</td>\n",
       "      <td>Bachelor's</td>\n",
       "      <td>Austin</td>\n",
       "    </tr>\n",
       "  </tbody>\n",
       "</table>\n",
       "</div>"
      ],
      "text/plain": [
       "       name  age  height qualification          city\n",
       "0      John   25     175    Bachelor's      New York\n",
       "1      Mike   30     180      Master's   Los Angeles\n",
       "2     Chris   22     170    Bachelor's       Chicago\n",
       "3     David   27     178           PhD       Houston\n",
       "4     James   35     185      Master's       Phoenix\n",
       "5    Robert   28     177    Bachelor's  Philadelphia\n",
       "6    Daniel   24     182      Master's   San Antonio\n",
       "7   Matthew   33     174           PhD     San Diego\n",
       "8    Andrew   26     180    Bachelor's        Dallas\n",
       "9    Joshua   29     176      Master's      San Jose\n",
       "10     Alex   23     179    Bachelor's        Austin"
      ]
     },
     "execution_count": 37,
     "metadata": {},
     "output_type": "execute_result"
    }
   ],
   "source": [
    "guys.loc[len(guys.index)] = [\"Alex\", 23, 179, \"Bachelor's\", \"Austin\"]\n",
    "guys"
   ]
  },
  {
   "cell_type": "markdown",
   "id": "c9925275-9d23-4486-a807-69e8152c4456",
   "metadata": {},
   "source": [
    "#### Delete a Column from a DataFrame"
   ]
  },
  {
   "cell_type": "code",
   "execution_count": 38,
   "id": "9749e7b6-41cd-4908-a572-11881724e8a6",
   "metadata": {},
   "outputs": [
    {
     "data": {
      "text/html": [
       "<div>\n",
       "<style scoped>\n",
       "    .dataframe tbody tr th:only-of-type {\n",
       "        vertical-align: middle;\n",
       "    }\n",
       "\n",
       "    .dataframe tbody tr th {\n",
       "        vertical-align: top;\n",
       "    }\n",
       "\n",
       "    .dataframe thead th {\n",
       "        text-align: right;\n",
       "    }\n",
       "</style>\n",
       "<table border=\"1\" class=\"dataframe\">\n",
       "  <thead>\n",
       "    <tr style=\"text-align: right;\">\n",
       "      <th></th>\n",
       "      <th>name</th>\n",
       "      <th>age</th>\n",
       "      <th>height</th>\n",
       "      <th>city</th>\n",
       "    </tr>\n",
       "  </thead>\n",
       "  <tbody>\n",
       "    <tr>\n",
       "      <th>0</th>\n",
       "      <td>John</td>\n",
       "      <td>25</td>\n",
       "      <td>175</td>\n",
       "      <td>New York</td>\n",
       "    </tr>\n",
       "    <tr>\n",
       "      <th>1</th>\n",
       "      <td>Mike</td>\n",
       "      <td>30</td>\n",
       "      <td>180</td>\n",
       "      <td>Los Angeles</td>\n",
       "    </tr>\n",
       "    <tr>\n",
       "      <th>2</th>\n",
       "      <td>Chris</td>\n",
       "      <td>22</td>\n",
       "      <td>170</td>\n",
       "      <td>Chicago</td>\n",
       "    </tr>\n",
       "    <tr>\n",
       "      <th>3</th>\n",
       "      <td>David</td>\n",
       "      <td>27</td>\n",
       "      <td>178</td>\n",
       "      <td>Houston</td>\n",
       "    </tr>\n",
       "    <tr>\n",
       "      <th>4</th>\n",
       "      <td>James</td>\n",
       "      <td>35</td>\n",
       "      <td>185</td>\n",
       "      <td>Phoenix</td>\n",
       "    </tr>\n",
       "    <tr>\n",
       "      <th>5</th>\n",
       "      <td>Robert</td>\n",
       "      <td>28</td>\n",
       "      <td>177</td>\n",
       "      <td>Philadelphia</td>\n",
       "    </tr>\n",
       "    <tr>\n",
       "      <th>6</th>\n",
       "      <td>Daniel</td>\n",
       "      <td>24</td>\n",
       "      <td>182</td>\n",
       "      <td>San Antonio</td>\n",
       "    </tr>\n",
       "    <tr>\n",
       "      <th>7</th>\n",
       "      <td>Matthew</td>\n",
       "      <td>33</td>\n",
       "      <td>174</td>\n",
       "      <td>San Diego</td>\n",
       "    </tr>\n",
       "    <tr>\n",
       "      <th>8</th>\n",
       "      <td>Andrew</td>\n",
       "      <td>26</td>\n",
       "      <td>180</td>\n",
       "      <td>Dallas</td>\n",
       "    </tr>\n",
       "    <tr>\n",
       "      <th>9</th>\n",
       "      <td>Joshua</td>\n",
       "      <td>29</td>\n",
       "      <td>176</td>\n",
       "      <td>San Jose</td>\n",
       "    </tr>\n",
       "    <tr>\n",
       "      <th>10</th>\n",
       "      <td>Alex</td>\n",
       "      <td>23</td>\n",
       "      <td>179</td>\n",
       "      <td>Austin</td>\n",
       "    </tr>\n",
       "  </tbody>\n",
       "</table>\n",
       "</div>"
      ],
      "text/plain": [
       "       name  age  height          city\n",
       "0      John   25     175      New York\n",
       "1      Mike   30     180   Los Angeles\n",
       "2     Chris   22     170       Chicago\n",
       "3     David   27     178       Houston\n",
       "4     James   35     185       Phoenix\n",
       "5    Robert   28     177  Philadelphia\n",
       "6    Daniel   24     182   San Antonio\n",
       "7   Matthew   33     174     San Diego\n",
       "8    Andrew   26     180        Dallas\n",
       "9    Joshua   29     176      San Jose\n",
       "10     Alex   23     179        Austin"
      ]
     },
     "execution_count": 38,
     "metadata": {},
     "output_type": "execute_result"
    }
   ],
   "source": [
    "guys.drop('qualification', axis=1)"
   ]
  },
  {
   "cell_type": "markdown",
   "id": "d622a9c7-5d69-4b9f-89b0-842cad403023",
   "metadata": {},
   "source": [
    "Although because we didn't set the inline parameter as True, we have assign it to a variable because it didn't change the actual DataFrame:"
   ]
  },
  {
   "cell_type": "code",
   "execution_count": 39,
   "id": "3162d086-38be-4372-96bb-beff690aa78b",
   "metadata": {},
   "outputs": [
    {
     "data": {
      "text/html": [
       "<div>\n",
       "<style scoped>\n",
       "    .dataframe tbody tr th:only-of-type {\n",
       "        vertical-align: middle;\n",
       "    }\n",
       "\n",
       "    .dataframe tbody tr th {\n",
       "        vertical-align: top;\n",
       "    }\n",
       "\n",
       "    .dataframe thead th {\n",
       "        text-align: right;\n",
       "    }\n",
       "</style>\n",
       "<table border=\"1\" class=\"dataframe\">\n",
       "  <thead>\n",
       "    <tr style=\"text-align: right;\">\n",
       "      <th></th>\n",
       "      <th>name</th>\n",
       "      <th>age</th>\n",
       "      <th>height</th>\n",
       "      <th>qualification</th>\n",
       "      <th>city</th>\n",
       "    </tr>\n",
       "  </thead>\n",
       "  <tbody>\n",
       "    <tr>\n",
       "      <th>0</th>\n",
       "      <td>John</td>\n",
       "      <td>25</td>\n",
       "      <td>175</td>\n",
       "      <td>Bachelor's</td>\n",
       "      <td>New York</td>\n",
       "    </tr>\n",
       "    <tr>\n",
       "      <th>1</th>\n",
       "      <td>Mike</td>\n",
       "      <td>30</td>\n",
       "      <td>180</td>\n",
       "      <td>Master's</td>\n",
       "      <td>Los Angeles</td>\n",
       "    </tr>\n",
       "    <tr>\n",
       "      <th>2</th>\n",
       "      <td>Chris</td>\n",
       "      <td>22</td>\n",
       "      <td>170</td>\n",
       "      <td>Bachelor's</td>\n",
       "      <td>Chicago</td>\n",
       "    </tr>\n",
       "    <tr>\n",
       "      <th>3</th>\n",
       "      <td>David</td>\n",
       "      <td>27</td>\n",
       "      <td>178</td>\n",
       "      <td>PhD</td>\n",
       "      <td>Houston</td>\n",
       "    </tr>\n",
       "    <tr>\n",
       "      <th>4</th>\n",
       "      <td>James</td>\n",
       "      <td>35</td>\n",
       "      <td>185</td>\n",
       "      <td>Master's</td>\n",
       "      <td>Phoenix</td>\n",
       "    </tr>\n",
       "  </tbody>\n",
       "</table>\n",
       "</div>"
      ],
      "text/plain": [
       "    name  age  height qualification         city\n",
       "0   John   25     175    Bachelor's     New York\n",
       "1   Mike   30     180      Master's  Los Angeles\n",
       "2  Chris   22     170    Bachelor's      Chicago\n",
       "3  David   27     178           PhD      Houston\n",
       "4  James   35     185      Master's      Phoenix"
      ]
     },
     "execution_count": 39,
     "metadata": {},
     "output_type": "execute_result"
    }
   ],
   "source": [
    "guys.head()"
   ]
  },
  {
   "cell_type": "markdown",
   "id": "15e680b1-1442-48e1-ae22-49915ee94d7c",
   "metadata": {},
   "source": [
    "#### Delete a Row from a DataFrame"
   ]
  },
  {
   "cell_type": "code",
   "execution_count": 40,
   "id": "0247171f-eaea-405c-99e3-c01ffcea94df",
   "metadata": {},
   "outputs": [
    {
     "data": {
      "text/html": [
       "<div>\n",
       "<style scoped>\n",
       "    .dataframe tbody tr th:only-of-type {\n",
       "        vertical-align: middle;\n",
       "    }\n",
       "\n",
       "    .dataframe tbody tr th {\n",
       "        vertical-align: top;\n",
       "    }\n",
       "\n",
       "    .dataframe thead th {\n",
       "        text-align: right;\n",
       "    }\n",
       "</style>\n",
       "<table border=\"1\" class=\"dataframe\">\n",
       "  <thead>\n",
       "    <tr style=\"text-align: right;\">\n",
       "      <th></th>\n",
       "      <th>name</th>\n",
       "      <th>age</th>\n",
       "      <th>height</th>\n",
       "      <th>qualification</th>\n",
       "      <th>city</th>\n",
       "    </tr>\n",
       "  </thead>\n",
       "  <tbody>\n",
       "    <tr>\n",
       "      <th>0</th>\n",
       "      <td>John</td>\n",
       "      <td>25</td>\n",
       "      <td>175</td>\n",
       "      <td>Bachelor's</td>\n",
       "      <td>New York</td>\n",
       "    </tr>\n",
       "    <tr>\n",
       "      <th>2</th>\n",
       "      <td>Chris</td>\n",
       "      <td>22</td>\n",
       "      <td>170</td>\n",
       "      <td>Bachelor's</td>\n",
       "      <td>Chicago</td>\n",
       "    </tr>\n",
       "    <tr>\n",
       "      <th>3</th>\n",
       "      <td>David</td>\n",
       "      <td>27</td>\n",
       "      <td>178</td>\n",
       "      <td>PhD</td>\n",
       "      <td>Houston</td>\n",
       "    </tr>\n",
       "    <tr>\n",
       "      <th>4</th>\n",
       "      <td>James</td>\n",
       "      <td>35</td>\n",
       "      <td>185</td>\n",
       "      <td>Master's</td>\n",
       "      <td>Phoenix</td>\n",
       "    </tr>\n",
       "    <tr>\n",
       "      <th>5</th>\n",
       "      <td>Robert</td>\n",
       "      <td>28</td>\n",
       "      <td>177</td>\n",
       "      <td>Bachelor's</td>\n",
       "      <td>Philadelphia</td>\n",
       "    </tr>\n",
       "    <tr>\n",
       "      <th>6</th>\n",
       "      <td>Daniel</td>\n",
       "      <td>24</td>\n",
       "      <td>182</td>\n",
       "      <td>Master's</td>\n",
       "      <td>San Antonio</td>\n",
       "    </tr>\n",
       "    <tr>\n",
       "      <th>7</th>\n",
       "      <td>Matthew</td>\n",
       "      <td>33</td>\n",
       "      <td>174</td>\n",
       "      <td>PhD</td>\n",
       "      <td>San Diego</td>\n",
       "    </tr>\n",
       "    <tr>\n",
       "      <th>8</th>\n",
       "      <td>Andrew</td>\n",
       "      <td>26</td>\n",
       "      <td>180</td>\n",
       "      <td>Bachelor's</td>\n",
       "      <td>Dallas</td>\n",
       "    </tr>\n",
       "    <tr>\n",
       "      <th>9</th>\n",
       "      <td>Joshua</td>\n",
       "      <td>29</td>\n",
       "      <td>176</td>\n",
       "      <td>Master's</td>\n",
       "      <td>San Jose</td>\n",
       "    </tr>\n",
       "    <tr>\n",
       "      <th>10</th>\n",
       "      <td>Alex</td>\n",
       "      <td>23</td>\n",
       "      <td>179</td>\n",
       "      <td>Bachelor's</td>\n",
       "      <td>Austin</td>\n",
       "    </tr>\n",
       "  </tbody>\n",
       "</table>\n",
       "</div>"
      ],
      "text/plain": [
       "       name  age  height qualification          city\n",
       "0      John   25     175    Bachelor's      New York\n",
       "2     Chris   22     170    Bachelor's       Chicago\n",
       "3     David   27     178           PhD       Houston\n",
       "4     James   35     185      Master's       Phoenix\n",
       "5    Robert   28     177    Bachelor's  Philadelphia\n",
       "6    Daniel   24     182      Master's   San Antonio\n",
       "7   Matthew   33     174           PhD     San Diego\n",
       "8    Andrew   26     180    Bachelor's        Dallas\n",
       "9    Joshua   29     176      Master's      San Jose\n",
       "10     Alex   23     179    Bachelor's        Austin"
      ]
     },
     "execution_count": 40,
     "metadata": {},
     "output_type": "execute_result"
    }
   ],
   "source": [
    "guys.drop(index=1, axis=0)"
   ]
  },
  {
   "cell_type": "markdown",
   "id": "2a1aaf16-bd2c-4f6c-bd2a-ecb5da3098ef",
   "metadata": {},
   "source": [
    "It deleted Mike's data. We can also delete multiple rows at once:"
   ]
  },
  {
   "cell_type": "code",
   "execution_count": 41,
   "id": "daf83ea2-5eab-4be2-879b-bb8a74cddb32",
   "metadata": {},
   "outputs": [
    {
     "data": {
      "text/html": [
       "<div>\n",
       "<style scoped>\n",
       "    .dataframe tbody tr th:only-of-type {\n",
       "        vertical-align: middle;\n",
       "    }\n",
       "\n",
       "    .dataframe tbody tr th {\n",
       "        vertical-align: top;\n",
       "    }\n",
       "\n",
       "    .dataframe thead th {\n",
       "        text-align: right;\n",
       "    }\n",
       "</style>\n",
       "<table border=\"1\" class=\"dataframe\">\n",
       "  <thead>\n",
       "    <tr style=\"text-align: right;\">\n",
       "      <th></th>\n",
       "      <th>name</th>\n",
       "      <th>age</th>\n",
       "      <th>height</th>\n",
       "      <th>qualification</th>\n",
       "      <th>city</th>\n",
       "    </tr>\n",
       "  </thead>\n",
       "  <tbody>\n",
       "    <tr>\n",
       "      <th>0</th>\n",
       "      <td>John</td>\n",
       "      <td>25</td>\n",
       "      <td>175</td>\n",
       "      <td>Bachelor's</td>\n",
       "      <td>New York</td>\n",
       "    </tr>\n",
       "    <tr>\n",
       "      <th>1</th>\n",
       "      <td>Mike</td>\n",
       "      <td>30</td>\n",
       "      <td>180</td>\n",
       "      <td>Master's</td>\n",
       "      <td>Los Angeles</td>\n",
       "    </tr>\n",
       "    <tr>\n",
       "      <th>2</th>\n",
       "      <td>Chris</td>\n",
       "      <td>22</td>\n",
       "      <td>170</td>\n",
       "      <td>Bachelor's</td>\n",
       "      <td>Chicago</td>\n",
       "    </tr>\n",
       "    <tr>\n",
       "      <th>4</th>\n",
       "      <td>James</td>\n",
       "      <td>35</td>\n",
       "      <td>185</td>\n",
       "      <td>Master's</td>\n",
       "      <td>Phoenix</td>\n",
       "    </tr>\n",
       "    <tr>\n",
       "      <th>5</th>\n",
       "      <td>Robert</td>\n",
       "      <td>28</td>\n",
       "      <td>177</td>\n",
       "      <td>Bachelor's</td>\n",
       "      <td>Philadelphia</td>\n",
       "    </tr>\n",
       "    <tr>\n",
       "      <th>7</th>\n",
       "      <td>Matthew</td>\n",
       "      <td>33</td>\n",
       "      <td>174</td>\n",
       "      <td>PhD</td>\n",
       "      <td>San Diego</td>\n",
       "    </tr>\n",
       "    <tr>\n",
       "      <th>8</th>\n",
       "      <td>Andrew</td>\n",
       "      <td>26</td>\n",
       "      <td>180</td>\n",
       "      <td>Bachelor's</td>\n",
       "      <td>Dallas</td>\n",
       "    </tr>\n",
       "    <tr>\n",
       "      <th>9</th>\n",
       "      <td>Joshua</td>\n",
       "      <td>29</td>\n",
       "      <td>176</td>\n",
       "      <td>Master's</td>\n",
       "      <td>San Jose</td>\n",
       "    </tr>\n",
       "    <tr>\n",
       "      <th>10</th>\n",
       "      <td>Alex</td>\n",
       "      <td>23</td>\n",
       "      <td>179</td>\n",
       "      <td>Bachelor's</td>\n",
       "      <td>Austin</td>\n",
       "    </tr>\n",
       "  </tbody>\n",
       "</table>\n",
       "</div>"
      ],
      "text/plain": [
       "       name  age  height qualification          city\n",
       "0      John   25     175    Bachelor's      New York\n",
       "1      Mike   30     180      Master's   Los Angeles\n",
       "2     Chris   22     170    Bachelor's       Chicago\n",
       "4     James   35     185      Master's       Phoenix\n",
       "5    Robert   28     177    Bachelor's  Philadelphia\n",
       "7   Matthew   33     174           PhD     San Diego\n",
       "8    Andrew   26     180    Bachelor's        Dallas\n",
       "9    Joshua   29     176      Master's      San Jose\n",
       "10     Alex   23     179    Bachelor's        Austin"
      ]
     },
     "execution_count": 41,
     "metadata": {},
     "output_type": "execute_result"
    }
   ],
   "source": [
    "guys.drop([3, 6])"
   ]
  },
  {
   "cell_type": "markdown",
   "id": "00e0e041-ff95-44ce-887c-a0eaa86a2447",
   "metadata": {},
   "source": [
    "Here, it deleted David's and Daniel's data. As axis is always 0 by default, we didn't actually have to mension it while deleting rows. Also, we didn't have to use the property name index id we are passing the indices as the first argument.  \n",
    "Remember that drop doesn't change the actual DataFrame unless the inplace property is True."
   ]
  },
  {
   "cell_type": "markdown",
   "id": "a963bc6e-a643-472f-8727-220bda374606",
   "metadata": {},
   "source": [
    "#### Rename a Column of a DataFrame"
   ]
  },
  {
   "cell_type": "code",
   "execution_count": 42,
   "id": "909348da-5ab4-4abb-b656-9ef414fce408",
   "metadata": {},
   "outputs": [
    {
     "data": {
      "text/html": [
       "<div>\n",
       "<style scoped>\n",
       "    .dataframe tbody tr th:only-of-type {\n",
       "        vertical-align: middle;\n",
       "    }\n",
       "\n",
       "    .dataframe tbody tr th {\n",
       "        vertical-align: top;\n",
       "    }\n",
       "\n",
       "    .dataframe thead th {\n",
       "        text-align: right;\n",
       "    }\n",
       "</style>\n",
       "<table border=\"1\" class=\"dataframe\">\n",
       "  <thead>\n",
       "    <tr style=\"text-align: right;\">\n",
       "      <th></th>\n",
       "      <th>first name</th>\n",
       "      <th>age</th>\n",
       "      <th>height</th>\n",
       "      <th>education</th>\n",
       "      <th>city</th>\n",
       "    </tr>\n",
       "  </thead>\n",
       "  <tbody>\n",
       "    <tr>\n",
       "      <th>0</th>\n",
       "      <td>John</td>\n",
       "      <td>25</td>\n",
       "      <td>175</td>\n",
       "      <td>Bachelor's</td>\n",
       "      <td>New York</td>\n",
       "    </tr>\n",
       "    <tr>\n",
       "      <th>1</th>\n",
       "      <td>Mike</td>\n",
       "      <td>30</td>\n",
       "      <td>180</td>\n",
       "      <td>Master's</td>\n",
       "      <td>Los Angeles</td>\n",
       "    </tr>\n",
       "    <tr>\n",
       "      <th>2</th>\n",
       "      <td>Chris</td>\n",
       "      <td>22</td>\n",
       "      <td>170</td>\n",
       "      <td>Bachelor's</td>\n",
       "      <td>Chicago</td>\n",
       "    </tr>\n",
       "    <tr>\n",
       "      <th>3</th>\n",
       "      <td>David</td>\n",
       "      <td>27</td>\n",
       "      <td>178</td>\n",
       "      <td>PhD</td>\n",
       "      <td>Houston</td>\n",
       "    </tr>\n",
       "    <tr>\n",
       "      <th>4</th>\n",
       "      <td>James</td>\n",
       "      <td>35</td>\n",
       "      <td>185</td>\n",
       "      <td>Master's</td>\n",
       "      <td>Phoenix</td>\n",
       "    </tr>\n",
       "    <tr>\n",
       "      <th>5</th>\n",
       "      <td>Robert</td>\n",
       "      <td>28</td>\n",
       "      <td>177</td>\n",
       "      <td>Bachelor's</td>\n",
       "      <td>Philadelphia</td>\n",
       "    </tr>\n",
       "    <tr>\n",
       "      <th>6</th>\n",
       "      <td>Daniel</td>\n",
       "      <td>24</td>\n",
       "      <td>182</td>\n",
       "      <td>Master's</td>\n",
       "      <td>San Antonio</td>\n",
       "    </tr>\n",
       "    <tr>\n",
       "      <th>7</th>\n",
       "      <td>Matthew</td>\n",
       "      <td>33</td>\n",
       "      <td>174</td>\n",
       "      <td>PhD</td>\n",
       "      <td>San Diego</td>\n",
       "    </tr>\n",
       "    <tr>\n",
       "      <th>8</th>\n",
       "      <td>Andrew</td>\n",
       "      <td>26</td>\n",
       "      <td>180</td>\n",
       "      <td>Bachelor's</td>\n",
       "      <td>Dallas</td>\n",
       "    </tr>\n",
       "    <tr>\n",
       "      <th>9</th>\n",
       "      <td>Joshua</td>\n",
       "      <td>29</td>\n",
       "      <td>176</td>\n",
       "      <td>Master's</td>\n",
       "      <td>San Jose</td>\n",
       "    </tr>\n",
       "    <tr>\n",
       "      <th>10</th>\n",
       "      <td>Alex</td>\n",
       "      <td>23</td>\n",
       "      <td>179</td>\n",
       "      <td>Bachelor's</td>\n",
       "      <td>Austin</td>\n",
       "    </tr>\n",
       "  </tbody>\n",
       "</table>\n",
       "</div>"
      ],
      "text/plain": [
       "   first name  age  height   education          city\n",
       "0        John   25     175  Bachelor's      New York\n",
       "1        Mike   30     180    Master's   Los Angeles\n",
       "2       Chris   22     170  Bachelor's       Chicago\n",
       "3       David   27     178         PhD       Houston\n",
       "4       James   35     185    Master's       Phoenix\n",
       "5      Robert   28     177  Bachelor's  Philadelphia\n",
       "6      Daniel   24     182    Master's   San Antonio\n",
       "7     Matthew   33     174         PhD     San Diego\n",
       "8      Andrew   26     180  Bachelor's        Dallas\n",
       "9      Joshua   29     176    Master's      San Jose\n",
       "10       Alex   23     179  Bachelor's        Austin"
      ]
     },
     "execution_count": 42,
     "metadata": {},
     "output_type": "execute_result"
    }
   ],
   "source": [
    "guys.rename(mapper={'name': 'first name', 'qualification': 'education'}, axis=1)"
   ]
  },
  {
   "cell_type": "markdown",
   "id": "d7ac2460-e8fe-47b8-84a0-0f21fada2ee4",
   "metadata": {},
   "source": [
    "Here, we also have to set the inplace property as True if we want to change the original DataFrame."
   ]
  },
  {
   "cell_type": "markdown",
   "id": "ebc17fb3-fd28-442b-ba24-2afcfc0379e7",
   "metadata": {},
   "source": [
    "#### Rename a Row of a DataFrame"
   ]
  },
  {
   "cell_type": "code",
   "execution_count": 43,
   "id": "d807257d-ef50-45d0-b5f0-1e18e3a50909",
   "metadata": {},
   "outputs": [
    {
     "data": {
      "text/html": [
       "<div>\n",
       "<style scoped>\n",
       "    .dataframe tbody tr th:only-of-type {\n",
       "        vertical-align: middle;\n",
       "    }\n",
       "\n",
       "    .dataframe tbody tr th {\n",
       "        vertical-align: top;\n",
       "    }\n",
       "\n",
       "    .dataframe thead th {\n",
       "        text-align: right;\n",
       "    }\n",
       "</style>\n",
       "<table border=\"1\" class=\"dataframe\">\n",
       "  <thead>\n",
       "    <tr style=\"text-align: right;\">\n",
       "      <th></th>\n",
       "      <th>name</th>\n",
       "      <th>age</th>\n",
       "      <th>height</th>\n",
       "      <th>qualification</th>\n",
       "      <th>city</th>\n",
       "    </tr>\n",
       "  </thead>\n",
       "  <tbody>\n",
       "    <tr>\n",
       "      <th>zero</th>\n",
       "      <td>John</td>\n",
       "      <td>25</td>\n",
       "      <td>175</td>\n",
       "      <td>Bachelor's</td>\n",
       "      <td>New York</td>\n",
       "    </tr>\n",
       "    <tr>\n",
       "      <th>1</th>\n",
       "      <td>Mike</td>\n",
       "      <td>30</td>\n",
       "      <td>180</td>\n",
       "      <td>Master's</td>\n",
       "      <td>Los Angeles</td>\n",
       "    </tr>\n",
       "    <tr>\n",
       "      <th>2</th>\n",
       "      <td>Chris</td>\n",
       "      <td>22</td>\n",
       "      <td>170</td>\n",
       "      <td>Bachelor's</td>\n",
       "      <td>Chicago</td>\n",
       "    </tr>\n",
       "    <tr>\n",
       "      <th>3</th>\n",
       "      <td>David</td>\n",
       "      <td>27</td>\n",
       "      <td>178</td>\n",
       "      <td>PhD</td>\n",
       "      <td>Houston</td>\n",
       "    </tr>\n",
       "    <tr>\n",
       "      <th>4</th>\n",
       "      <td>James</td>\n",
       "      <td>35</td>\n",
       "      <td>185</td>\n",
       "      <td>Master's</td>\n",
       "      <td>Phoenix</td>\n",
       "    </tr>\n",
       "    <tr>\n",
       "      <th>5</th>\n",
       "      <td>Robert</td>\n",
       "      <td>28</td>\n",
       "      <td>177</td>\n",
       "      <td>Bachelor's</td>\n",
       "      <td>Philadelphia</td>\n",
       "    </tr>\n",
       "    <tr>\n",
       "      <th>6</th>\n",
       "      <td>Daniel</td>\n",
       "      <td>24</td>\n",
       "      <td>182</td>\n",
       "      <td>Master's</td>\n",
       "      <td>San Antonio</td>\n",
       "    </tr>\n",
       "    <tr>\n",
       "      <th>7</th>\n",
       "      <td>Matthew</td>\n",
       "      <td>33</td>\n",
       "      <td>174</td>\n",
       "      <td>PhD</td>\n",
       "      <td>San Diego</td>\n",
       "    </tr>\n",
       "    <tr>\n",
       "      <th>8</th>\n",
       "      <td>Andrew</td>\n",
       "      <td>26</td>\n",
       "      <td>180</td>\n",
       "      <td>Bachelor's</td>\n",
       "      <td>Dallas</td>\n",
       "    </tr>\n",
       "    <tr>\n",
       "      <th>9</th>\n",
       "      <td>Joshua</td>\n",
       "      <td>29</td>\n",
       "      <td>176</td>\n",
       "      <td>Master's</td>\n",
       "      <td>San Jose</td>\n",
       "    </tr>\n",
       "    <tr>\n",
       "      <th>100</th>\n",
       "      <td>Alex</td>\n",
       "      <td>23</td>\n",
       "      <td>179</td>\n",
       "      <td>Bachelor's</td>\n",
       "      <td>Austin</td>\n",
       "    </tr>\n",
       "  </tbody>\n",
       "</table>\n",
       "</div>"
      ],
      "text/plain": [
       "         name  age  height qualification          city\n",
       "zero     John   25     175    Bachelor's      New York\n",
       "1        Mike   30     180      Master's   Los Angeles\n",
       "2       Chris   22     170    Bachelor's       Chicago\n",
       "3       David   27     178           PhD       Houston\n",
       "4       James   35     185      Master's       Phoenix\n",
       "5      Robert   28     177    Bachelor's  Philadelphia\n",
       "6      Daniel   24     182      Master's   San Antonio\n",
       "7     Matthew   33     174           PhD     San Diego\n",
       "8      Andrew   26     180    Bachelor's        Dallas\n",
       "9      Joshua   29     176      Master's      San Jose\n",
       "100      Alex   23     179    Bachelor's        Austin"
      ]
     },
     "execution_count": 43,
     "metadata": {},
     "output_type": "execute_result"
    }
   ],
   "source": [
    "guys.rename({0: 'zero', 10: 100})"
   ]
  },
  {
   "cell_type": "markdown",
   "id": "970acff1-3d9c-4180-9175-c677437a15c4",
   "metadata": {},
   "source": [
    "Here, we got the modified indices. mapper property name is not necessary if the dict is the first argument to be passed.  \n",
    "To learn more about the inplace property, go to ..."
   ]
  },
  {
   "cell_type": "markdown",
   "id": "b563af22-c432-4c08-91ea-62b2e8958b6f",
   "metadata": {},
   "source": [
    "### Indexing and Slicing"
   ]
  },
  {
   "cell_type": "code",
   "execution_count": 44,
   "id": "8023c64a-9e40-4ff4-b755-41c52492f693",
   "metadata": {},
   "outputs": [
    {
     "data": {
      "text/html": [
       "<div>\n",
       "<style scoped>\n",
       "    .dataframe tbody tr th:only-of-type {\n",
       "        vertical-align: middle;\n",
       "    }\n",
       "\n",
       "    .dataframe tbody tr th {\n",
       "        vertical-align: top;\n",
       "    }\n",
       "\n",
       "    .dataframe thead th {\n",
       "        text-align: right;\n",
       "    }\n",
       "</style>\n",
       "<table border=\"1\" class=\"dataframe\">\n",
       "  <thead>\n",
       "    <tr style=\"text-align: right;\">\n",
       "      <th></th>\n",
       "      <th>name</th>\n",
       "      <th>age</th>\n",
       "      <th>height</th>\n",
       "      <th>qualification</th>\n",
       "      <th>city</th>\n",
       "    </tr>\n",
       "  </thead>\n",
       "  <tbody>\n",
       "    <tr>\n",
       "      <th>0</th>\n",
       "      <td>John</td>\n",
       "      <td>25</td>\n",
       "      <td>175</td>\n",
       "      <td>Bachelor's</td>\n",
       "      <td>New York</td>\n",
       "    </tr>\n",
       "    <tr>\n",
       "      <th>1</th>\n",
       "      <td>Mike</td>\n",
       "      <td>30</td>\n",
       "      <td>180</td>\n",
       "      <td>Master's</td>\n",
       "      <td>Los Angeles</td>\n",
       "    </tr>\n",
       "    <tr>\n",
       "      <th>2</th>\n",
       "      <td>Chris</td>\n",
       "      <td>22</td>\n",
       "      <td>170</td>\n",
       "      <td>Bachelor's</td>\n",
       "      <td>Chicago</td>\n",
       "    </tr>\n",
       "    <tr>\n",
       "      <th>3</th>\n",
       "      <td>David</td>\n",
       "      <td>27</td>\n",
       "      <td>178</td>\n",
       "      <td>PhD</td>\n",
       "      <td>Houston</td>\n",
       "    </tr>\n",
       "    <tr>\n",
       "      <th>4</th>\n",
       "      <td>James</td>\n",
       "      <td>35</td>\n",
       "      <td>185</td>\n",
       "      <td>Master's</td>\n",
       "      <td>Phoenix</td>\n",
       "    </tr>\n",
       "    <tr>\n",
       "      <th>5</th>\n",
       "      <td>Robert</td>\n",
       "      <td>28</td>\n",
       "      <td>177</td>\n",
       "      <td>Bachelor's</td>\n",
       "      <td>Philadelphia</td>\n",
       "    </tr>\n",
       "    <tr>\n",
       "      <th>6</th>\n",
       "      <td>Daniel</td>\n",
       "      <td>24</td>\n",
       "      <td>182</td>\n",
       "      <td>Master's</td>\n",
       "      <td>San Antonio</td>\n",
       "    </tr>\n",
       "    <tr>\n",
       "      <th>7</th>\n",
       "      <td>Matthew</td>\n",
       "      <td>33</td>\n",
       "      <td>174</td>\n",
       "      <td>PhD</td>\n",
       "      <td>San Diego</td>\n",
       "    </tr>\n",
       "    <tr>\n",
       "      <th>8</th>\n",
       "      <td>Andrew</td>\n",
       "      <td>26</td>\n",
       "      <td>180</td>\n",
       "      <td>Bachelor's</td>\n",
       "      <td>Dallas</td>\n",
       "    </tr>\n",
       "    <tr>\n",
       "      <th>9</th>\n",
       "      <td>Joshua</td>\n",
       "      <td>29</td>\n",
       "      <td>176</td>\n",
       "      <td>Master's</td>\n",
       "      <td>San Jose</td>\n",
       "    </tr>\n",
       "    <tr>\n",
       "      <th>10</th>\n",
       "      <td>Alex</td>\n",
       "      <td>23</td>\n",
       "      <td>179</td>\n",
       "      <td>Bachelor's</td>\n",
       "      <td>Austin</td>\n",
       "    </tr>\n",
       "  </tbody>\n",
       "</table>\n",
       "</div>"
      ],
      "text/plain": [
       "       name  age  height qualification          city\n",
       "0      John   25     175    Bachelor's      New York\n",
       "1      Mike   30     180      Master's   Los Angeles\n",
       "2     Chris   22     170    Bachelor's       Chicago\n",
       "3     David   27     178           PhD       Houston\n",
       "4     James   35     185      Master's       Phoenix\n",
       "5    Robert   28     177    Bachelor's  Philadelphia\n",
       "6    Daniel   24     182      Master's   San Antonio\n",
       "7   Matthew   33     174           PhD     San Diego\n",
       "8    Andrew   26     180    Bachelor's        Dallas\n",
       "9    Joshua   29     176      Master's      San Jose\n",
       "10     Alex   23     179    Bachelor's        Austin"
      ]
     },
     "execution_count": 44,
     "metadata": {},
     "output_type": "execute_result"
    }
   ],
   "source": [
    "guys"
   ]
  },
  {
   "cell_type": "markdown",
   "id": "a2ab760e-a416-4155-9de7-e94ce48c9f3f",
   "metadata": {},
   "source": [
    "#### Access Columns of a DataFrame"
   ]
  },
  {
   "cell_type": "code",
   "execution_count": 45,
   "id": "34f30c44-1bd0-4c11-a0cc-6c6c6352042d",
   "metadata": {},
   "outputs": [
    {
     "data": {
      "text/plain": [
       "0        John\n",
       "1        Mike\n",
       "2       Chris\n",
       "3       David\n",
       "4       James\n",
       "5      Robert\n",
       "6      Daniel\n",
       "7     Matthew\n",
       "8      Andrew\n",
       "9      Joshua\n",
       "10       Alex\n",
       "Name: name, dtype: object"
      ]
     },
     "execution_count": 45,
     "metadata": {},
     "output_type": "execute_result"
    }
   ],
   "source": [
    "guys['name']"
   ]
  },
  {
   "cell_type": "markdown",
   "id": "c068efa8-11c4-45a2-ad0b-8acbec5ada3c",
   "metadata": {},
   "source": [
    "Here we got the indices and the elements the name column. We can also access multiple columns:"
   ]
  },
  {
   "cell_type": "code",
   "execution_count": 46,
   "id": "4b725409-4b48-49e8-a107-266bd1974e58",
   "metadata": {},
   "outputs": [
    {
     "data": {
      "text/html": [
       "<div>\n",
       "<style scoped>\n",
       "    .dataframe tbody tr th:only-of-type {\n",
       "        vertical-align: middle;\n",
       "    }\n",
       "\n",
       "    .dataframe tbody tr th {\n",
       "        vertical-align: top;\n",
       "    }\n",
       "\n",
       "    .dataframe thead th {\n",
       "        text-align: right;\n",
       "    }\n",
       "</style>\n",
       "<table border=\"1\" class=\"dataframe\">\n",
       "  <thead>\n",
       "    <tr style=\"text-align: right;\">\n",
       "      <th></th>\n",
       "      <th>name</th>\n",
       "      <th>age</th>\n",
       "    </tr>\n",
       "  </thead>\n",
       "  <tbody>\n",
       "    <tr>\n",
       "      <th>0</th>\n",
       "      <td>John</td>\n",
       "      <td>25</td>\n",
       "    </tr>\n",
       "    <tr>\n",
       "      <th>1</th>\n",
       "      <td>Mike</td>\n",
       "      <td>30</td>\n",
       "    </tr>\n",
       "    <tr>\n",
       "      <th>2</th>\n",
       "      <td>Chris</td>\n",
       "      <td>22</td>\n",
       "    </tr>\n",
       "    <tr>\n",
       "      <th>3</th>\n",
       "      <td>David</td>\n",
       "      <td>27</td>\n",
       "    </tr>\n",
       "    <tr>\n",
       "      <th>4</th>\n",
       "      <td>James</td>\n",
       "      <td>35</td>\n",
       "    </tr>\n",
       "    <tr>\n",
       "      <th>5</th>\n",
       "      <td>Robert</td>\n",
       "      <td>28</td>\n",
       "    </tr>\n",
       "    <tr>\n",
       "      <th>6</th>\n",
       "      <td>Daniel</td>\n",
       "      <td>24</td>\n",
       "    </tr>\n",
       "    <tr>\n",
       "      <th>7</th>\n",
       "      <td>Matthew</td>\n",
       "      <td>33</td>\n",
       "    </tr>\n",
       "    <tr>\n",
       "      <th>8</th>\n",
       "      <td>Andrew</td>\n",
       "      <td>26</td>\n",
       "    </tr>\n",
       "    <tr>\n",
       "      <th>9</th>\n",
       "      <td>Joshua</td>\n",
       "      <td>29</td>\n",
       "    </tr>\n",
       "    <tr>\n",
       "      <th>10</th>\n",
       "      <td>Alex</td>\n",
       "      <td>23</td>\n",
       "    </tr>\n",
       "  </tbody>\n",
       "</table>\n",
       "</div>"
      ],
      "text/plain": [
       "       name  age\n",
       "0      John   25\n",
       "1      Mike   30\n",
       "2     Chris   22\n",
       "3     David   27\n",
       "4     James   35\n",
       "5    Robert   28\n",
       "6    Daniel   24\n",
       "7   Matthew   33\n",
       "8    Andrew   26\n",
       "9    Joshua   29\n",
       "10     Alex   23"
      ]
     },
     "execution_count": 46,
     "metadata": {},
     "output_type": "execute_result"
    }
   ],
   "source": [
    "guys[['name', 'age']]"
   ]
  },
  {
   "cell_type": "markdown",
   "id": "e0ab8045-fb34-467b-9897-82aaa758b814",
   "metadata": {},
   "source": [
    "Here we got the names and the ages of the guys with their indices.  \n",
    "The [] operator, however, provides limited functionality. Even basic operations like selecting rows, slicing DataFrames and selecting individual elements are quite tricky using the [] operator only.  \n",
    "So we use the .loc and .iloc properties for indexing and slicing DataFrames. They provide much more flexibility compared to the [] operator."
   ]
  },
  {
   "cell_type": "markdown",
   "id": "044507e3-dd73-4482-9735-f43b4d9a59e6",
   "metadata": {},
   "source": [
    "#### Indexing Using the loc Property"
   ]
  },
  {
   "cell_type": "markdown",
   "id": "89a958c2-3bca-4ac3-a724-c633fcb333c6",
   "metadata": {},
   "source": [
    "##### Access a row"
   ]
  },
  {
   "cell_type": "code",
   "execution_count": 47,
   "id": "8e7d8dd9-18d7-4b5a-a389-0d29b5619df6",
   "metadata": {},
   "outputs": [
    {
     "data": {
      "text/plain": [
       "name                  Chris\n",
       "age                      22\n",
       "height                  170\n",
       "qualification    Bachelor's\n",
       "city                Chicago\n",
       "Name: 2, dtype: object"
      ]
     },
     "execution_count": 47,
     "metadata": {},
     "output_type": "execute_result"
    }
   ],
   "source": [
    "guys.loc[2]"
   ]
  },
  {
   "cell_type": "markdown",
   "id": "5429681b-567a-4ce2-9a7b-f4758a1d507a",
   "metadata": {},
   "source": [
    "##### Access multiple rows"
   ]
  },
  {
   "cell_type": "code",
   "execution_count": 48,
   "id": "21c609e2-0861-42fe-94c4-6fe4fe3d9a3d",
   "metadata": {},
   "outputs": [
    {
     "data": {
      "text/html": [
       "<div>\n",
       "<style scoped>\n",
       "    .dataframe tbody tr th:only-of-type {\n",
       "        vertical-align: middle;\n",
       "    }\n",
       "\n",
       "    .dataframe tbody tr th {\n",
       "        vertical-align: top;\n",
       "    }\n",
       "\n",
       "    .dataframe thead th {\n",
       "        text-align: right;\n",
       "    }\n",
       "</style>\n",
       "<table border=\"1\" class=\"dataframe\">\n",
       "  <thead>\n",
       "    <tr style=\"text-align: right;\">\n",
       "      <th></th>\n",
       "      <th>name</th>\n",
       "      <th>age</th>\n",
       "      <th>height</th>\n",
       "      <th>qualification</th>\n",
       "      <th>city</th>\n",
       "    </tr>\n",
       "  </thead>\n",
       "  <tbody>\n",
       "    <tr>\n",
       "      <th>2</th>\n",
       "      <td>Chris</td>\n",
       "      <td>22</td>\n",
       "      <td>170</td>\n",
       "      <td>Bachelor's</td>\n",
       "      <td>Chicago</td>\n",
       "    </tr>\n",
       "    <tr>\n",
       "      <th>4</th>\n",
       "      <td>James</td>\n",
       "      <td>35</td>\n",
       "      <td>185</td>\n",
       "      <td>Master's</td>\n",
       "      <td>Phoenix</td>\n",
       "    </tr>\n",
       "    <tr>\n",
       "      <th>5</th>\n",
       "      <td>Robert</td>\n",
       "      <td>28</td>\n",
       "      <td>177</td>\n",
       "      <td>Bachelor's</td>\n",
       "      <td>Philadelphia</td>\n",
       "    </tr>\n",
       "  </tbody>\n",
       "</table>\n",
       "</div>"
      ],
      "text/plain": [
       "     name  age  height qualification          city\n",
       "2   Chris   22     170    Bachelor's       Chicago\n",
       "4   James   35     185      Master's       Phoenix\n",
       "5  Robert   28     177    Bachelor's  Philadelphia"
      ]
     },
     "execution_count": 48,
     "metadata": {},
     "output_type": "execute_result"
    }
   ],
   "source": [
    "guys.loc[[2, 4, 5]]"
   ]
  },
  {
   "cell_type": "markdown",
   "id": "3f08e4c1-3c38-49e6-9713-aa2e09332f4f",
   "metadata": {},
   "source": [
    "##### Access a column"
   ]
  },
  {
   "cell_type": "code",
   "execution_count": 49,
   "id": "bb54637e-37b3-4892-82a5-d71c83dad6e3",
   "metadata": {},
   "outputs": [
    {
     "data": {
      "text/plain": [
       "0        John\n",
       "1        Mike\n",
       "2       Chris\n",
       "3       David\n",
       "4       James\n",
       "5      Robert\n",
       "6      Daniel\n",
       "7     Matthew\n",
       "8      Andrew\n",
       "9      Joshua\n",
       "10       Alex\n",
       "Name: name, dtype: object"
      ]
     },
     "execution_count": 49,
     "metadata": {},
     "output_type": "execute_result"
    }
   ],
   "source": [
    "guys.loc[:, 'name']"
   ]
  },
  {
   "cell_type": "markdown",
   "id": "b7c337b7-86e9-4c57-a67c-dc3480dc2dfe",
   "metadata": {},
   "source": [
    "##### Access multiple columns"
   ]
  },
  {
   "cell_type": "code",
   "execution_count": 50,
   "id": "4a8ef763-fd49-4b58-a346-3865d807fc7e",
   "metadata": {},
   "outputs": [
    {
     "data": {
      "text/html": [
       "<div>\n",
       "<style scoped>\n",
       "    .dataframe tbody tr th:only-of-type {\n",
       "        vertical-align: middle;\n",
       "    }\n",
       "\n",
       "    .dataframe tbody tr th {\n",
       "        vertical-align: top;\n",
       "    }\n",
       "\n",
       "    .dataframe thead th {\n",
       "        text-align: right;\n",
       "    }\n",
       "</style>\n",
       "<table border=\"1\" class=\"dataframe\">\n",
       "  <thead>\n",
       "    <tr style=\"text-align: right;\">\n",
       "      <th></th>\n",
       "      <th>name</th>\n",
       "      <th>city</th>\n",
       "    </tr>\n",
       "  </thead>\n",
       "  <tbody>\n",
       "    <tr>\n",
       "      <th>0</th>\n",
       "      <td>John</td>\n",
       "      <td>New York</td>\n",
       "    </tr>\n",
       "    <tr>\n",
       "      <th>1</th>\n",
       "      <td>Mike</td>\n",
       "      <td>Los Angeles</td>\n",
       "    </tr>\n",
       "    <tr>\n",
       "      <th>2</th>\n",
       "      <td>Chris</td>\n",
       "      <td>Chicago</td>\n",
       "    </tr>\n",
       "    <tr>\n",
       "      <th>3</th>\n",
       "      <td>David</td>\n",
       "      <td>Houston</td>\n",
       "    </tr>\n",
       "    <tr>\n",
       "      <th>4</th>\n",
       "      <td>James</td>\n",
       "      <td>Phoenix</td>\n",
       "    </tr>\n",
       "    <tr>\n",
       "      <th>5</th>\n",
       "      <td>Robert</td>\n",
       "      <td>Philadelphia</td>\n",
       "    </tr>\n",
       "    <tr>\n",
       "      <th>6</th>\n",
       "      <td>Daniel</td>\n",
       "      <td>San Antonio</td>\n",
       "    </tr>\n",
       "    <tr>\n",
       "      <th>7</th>\n",
       "      <td>Matthew</td>\n",
       "      <td>San Diego</td>\n",
       "    </tr>\n",
       "    <tr>\n",
       "      <th>8</th>\n",
       "      <td>Andrew</td>\n",
       "      <td>Dallas</td>\n",
       "    </tr>\n",
       "    <tr>\n",
       "      <th>9</th>\n",
       "      <td>Joshua</td>\n",
       "      <td>San Jose</td>\n",
       "    </tr>\n",
       "    <tr>\n",
       "      <th>10</th>\n",
       "      <td>Alex</td>\n",
       "      <td>Austin</td>\n",
       "    </tr>\n",
       "  </tbody>\n",
       "</table>\n",
       "</div>"
      ],
      "text/plain": [
       "       name          city\n",
       "0      John      New York\n",
       "1      Mike   Los Angeles\n",
       "2     Chris       Chicago\n",
       "3     David       Houston\n",
       "4     James       Phoenix\n",
       "5    Robert  Philadelphia\n",
       "6    Daniel   San Antonio\n",
       "7   Matthew     San Diego\n",
       "8    Andrew        Dallas\n",
       "9    Joshua      San Jose\n",
       "10     Alex        Austin"
      ]
     },
     "execution_count": 50,
     "metadata": {},
     "output_type": "execute_result"
    }
   ],
   "source": [
    "guys.loc[:, ['name', 'city']]"
   ]
  },
  {
   "cell_type": "markdown",
   "id": "1a59e274-17ac-4eae-900a-d473ef58918c",
   "metadata": {},
   "source": [
    "##### Access a specific cell (row and column location)"
   ]
  },
  {
   "cell_type": "code",
   "execution_count": 51,
   "id": "892ac0fd-8263-4580-9be0-a8cf00395ef2",
   "metadata": {},
   "outputs": [
    {
     "data": {
      "text/plain": [
       "'Chris'"
      ]
     },
     "execution_count": 51,
     "metadata": {},
     "output_type": "execute_result"
    }
   ],
   "source": [
    "guys.loc[2, 'name']"
   ]
  },
  {
   "cell_type": "markdown",
   "id": "ef32f2ca-79a8-48d4-ae76-ae8fda0163c9",
   "metadata": {},
   "source": [
    "##### Access specific cells"
   ]
  },
  {
   "cell_type": "code",
   "execution_count": 52,
   "id": "3c1ebe4f-d5b4-4ea0-a56d-69f48ffb02ea",
   "metadata": {},
   "outputs": [
    {
     "data": {
      "text/plain": [
       "2     Chris\n",
       "4     James\n",
       "5    Robert\n",
       "Name: name, dtype: object"
      ]
     },
     "execution_count": 52,
     "metadata": {},
     "output_type": "execute_result"
    }
   ],
   "source": [
    "guys.loc[[2, 4, 5], 'name']"
   ]
  },
  {
   "cell_type": "code",
   "execution_count": 53,
   "id": "9621773d-4e07-4b89-bc3e-d0cecb4530e9",
   "metadata": {},
   "outputs": [
    {
     "data": {
      "text/plain": [
       "name      Chris\n",
       "city    Chicago\n",
       "Name: 2, dtype: object"
      ]
     },
     "execution_count": 53,
     "metadata": {},
     "output_type": "execute_result"
    }
   ],
   "source": [
    "guys.loc[2, ['name', 'city']]"
   ]
  },
  {
   "cell_type": "code",
   "execution_count": 54,
   "id": "2d4c6269-4e74-4ed5-a4eb-ac8e0bb0c23c",
   "metadata": {},
   "outputs": [
    {
     "data": {
      "text/html": [
       "<div>\n",
       "<style scoped>\n",
       "    .dataframe tbody tr th:only-of-type {\n",
       "        vertical-align: middle;\n",
       "    }\n",
       "\n",
       "    .dataframe tbody tr th {\n",
       "        vertical-align: top;\n",
       "    }\n",
       "\n",
       "    .dataframe thead th {\n",
       "        text-align: right;\n",
       "    }\n",
       "</style>\n",
       "<table border=\"1\" class=\"dataframe\">\n",
       "  <thead>\n",
       "    <tr style=\"text-align: right;\">\n",
       "      <th></th>\n",
       "      <th>name</th>\n",
       "      <th>city</th>\n",
       "    </tr>\n",
       "  </thead>\n",
       "  <tbody>\n",
       "    <tr>\n",
       "      <th>2</th>\n",
       "      <td>Chris</td>\n",
       "      <td>Chicago</td>\n",
       "    </tr>\n",
       "    <tr>\n",
       "      <th>4</th>\n",
       "      <td>James</td>\n",
       "      <td>Phoenix</td>\n",
       "    </tr>\n",
       "    <tr>\n",
       "      <th>5</th>\n",
       "      <td>Robert</td>\n",
       "      <td>Philadelphia</td>\n",
       "    </tr>\n",
       "  </tbody>\n",
       "</table>\n",
       "</div>"
      ],
      "text/plain": [
       "     name          city\n",
       "2   Chris       Chicago\n",
       "4   James       Phoenix\n",
       "5  Robert  Philadelphia"
      ]
     },
     "execution_count": 54,
     "metadata": {},
     "output_type": "execute_result"
    }
   ],
   "source": [
    "guys.loc[[2, 4, 5], ['name', 'city']]"
   ]
  },
  {
   "cell_type": "markdown",
   "id": "eb7375e5-1ac6-4c88-bf97-e54c098a1302",
   "metadata": {},
   "source": [
    "#### Slicing Using the loc Property"
   ]
  },
  {
   "cell_type": "markdown",
   "id": "5358fc86-eb82-46c4-b7c9-15f786520db3",
   "metadata": {},
   "source": [
    "##### Row Slicing"
   ]
  },
  {
   "cell_type": "code",
   "execution_count": 55,
   "id": "d60d4bac-5a62-4b71-8642-185d87022d63",
   "metadata": {},
   "outputs": [
    {
     "data": {
      "text/html": [
       "<div>\n",
       "<style scoped>\n",
       "    .dataframe tbody tr th:only-of-type {\n",
       "        vertical-align: middle;\n",
       "    }\n",
       "\n",
       "    .dataframe tbody tr th {\n",
       "        vertical-align: top;\n",
       "    }\n",
       "\n",
       "    .dataframe thead th {\n",
       "        text-align: right;\n",
       "    }\n",
       "</style>\n",
       "<table border=\"1\" class=\"dataframe\">\n",
       "  <thead>\n",
       "    <tr style=\"text-align: right;\">\n",
       "      <th></th>\n",
       "      <th>name</th>\n",
       "      <th>age</th>\n",
       "      <th>height</th>\n",
       "      <th>qualification</th>\n",
       "      <th>city</th>\n",
       "    </tr>\n",
       "  </thead>\n",
       "  <tbody>\n",
       "    <tr>\n",
       "      <th>2</th>\n",
       "      <td>Chris</td>\n",
       "      <td>22</td>\n",
       "      <td>170</td>\n",
       "      <td>Bachelor's</td>\n",
       "      <td>Chicago</td>\n",
       "    </tr>\n",
       "    <tr>\n",
       "      <th>3</th>\n",
       "      <td>David</td>\n",
       "      <td>27</td>\n",
       "      <td>178</td>\n",
       "      <td>PhD</td>\n",
       "      <td>Houston</td>\n",
       "    </tr>\n",
       "    <tr>\n",
       "      <th>4</th>\n",
       "      <td>James</td>\n",
       "      <td>35</td>\n",
       "      <td>185</td>\n",
       "      <td>Master's</td>\n",
       "      <td>Phoenix</td>\n",
       "    </tr>\n",
       "    <tr>\n",
       "      <th>5</th>\n",
       "      <td>Robert</td>\n",
       "      <td>28</td>\n",
       "      <td>177</td>\n",
       "      <td>Bachelor's</td>\n",
       "      <td>Philadelphia</td>\n",
       "    </tr>\n",
       "  </tbody>\n",
       "</table>\n",
       "</div>"
      ],
      "text/plain": [
       "     name  age  height qualification          city\n",
       "2   Chris   22     170    Bachelor's       Chicago\n",
       "3   David   27     178           PhD       Houston\n",
       "4   James   35     185      Master's       Phoenix\n",
       "5  Robert   28     177    Bachelor's  Philadelphia"
      ]
     },
     "execution_count": 55,
     "metadata": {},
     "output_type": "execute_result"
    }
   ],
   "source": [
    "guys.loc[2:5]"
   ]
  },
  {
   "cell_type": "markdown",
   "id": "d9654de4-9ce7-4770-9198-0d2dd84105bc",
   "metadata": {},
   "source": [
    "Here we got rows from index 2 to index 5."
   ]
  },
  {
   "cell_type": "markdown",
   "id": "c3a33179-d7c1-4f21-9877-68c4a1b881f9",
   "metadata": {},
   "source": [
    "##### Column Slicing"
   ]
  },
  {
   "cell_type": "code",
   "execution_count": 56,
   "id": "679bf79b-2e0c-4b9d-9455-959aca55edb5",
   "metadata": {},
   "outputs": [
    {
     "data": {
      "text/html": [
       "<div>\n",
       "<style scoped>\n",
       "    .dataframe tbody tr th:only-of-type {\n",
       "        vertical-align: middle;\n",
       "    }\n",
       "\n",
       "    .dataframe tbody tr th {\n",
       "        vertical-align: top;\n",
       "    }\n",
       "\n",
       "    .dataframe thead th {\n",
       "        text-align: right;\n",
       "    }\n",
       "</style>\n",
       "<table border=\"1\" class=\"dataframe\">\n",
       "  <thead>\n",
       "    <tr style=\"text-align: right;\">\n",
       "      <th></th>\n",
       "      <th>name</th>\n",
       "      <th>age</th>\n",
       "      <th>height</th>\n",
       "    </tr>\n",
       "  </thead>\n",
       "  <tbody>\n",
       "    <tr>\n",
       "      <th>0</th>\n",
       "      <td>John</td>\n",
       "      <td>25</td>\n",
       "      <td>175</td>\n",
       "    </tr>\n",
       "    <tr>\n",
       "      <th>1</th>\n",
       "      <td>Mike</td>\n",
       "      <td>30</td>\n",
       "      <td>180</td>\n",
       "    </tr>\n",
       "    <tr>\n",
       "      <th>2</th>\n",
       "      <td>Chris</td>\n",
       "      <td>22</td>\n",
       "      <td>170</td>\n",
       "    </tr>\n",
       "    <tr>\n",
       "      <th>3</th>\n",
       "      <td>David</td>\n",
       "      <td>27</td>\n",
       "      <td>178</td>\n",
       "    </tr>\n",
       "    <tr>\n",
       "      <th>4</th>\n",
       "      <td>James</td>\n",
       "      <td>35</td>\n",
       "      <td>185</td>\n",
       "    </tr>\n",
       "    <tr>\n",
       "      <th>5</th>\n",
       "      <td>Robert</td>\n",
       "      <td>28</td>\n",
       "      <td>177</td>\n",
       "    </tr>\n",
       "    <tr>\n",
       "      <th>6</th>\n",
       "      <td>Daniel</td>\n",
       "      <td>24</td>\n",
       "      <td>182</td>\n",
       "    </tr>\n",
       "    <tr>\n",
       "      <th>7</th>\n",
       "      <td>Matthew</td>\n",
       "      <td>33</td>\n",
       "      <td>174</td>\n",
       "    </tr>\n",
       "    <tr>\n",
       "      <th>8</th>\n",
       "      <td>Andrew</td>\n",
       "      <td>26</td>\n",
       "      <td>180</td>\n",
       "    </tr>\n",
       "    <tr>\n",
       "      <th>9</th>\n",
       "      <td>Joshua</td>\n",
       "      <td>29</td>\n",
       "      <td>176</td>\n",
       "    </tr>\n",
       "    <tr>\n",
       "      <th>10</th>\n",
       "      <td>Alex</td>\n",
       "      <td>23</td>\n",
       "      <td>179</td>\n",
       "    </tr>\n",
       "  </tbody>\n",
       "</table>\n",
       "</div>"
      ],
      "text/plain": [
       "       name  age  height\n",
       "0      John   25     175\n",
       "1      Mike   30     180\n",
       "2     Chris   22     170\n",
       "3     David   27     178\n",
       "4     James   35     185\n",
       "5    Robert   28     177\n",
       "6    Daniel   24     182\n",
       "7   Matthew   33     174\n",
       "8    Andrew   26     180\n",
       "9    Joshua   29     176\n",
       "10     Alex   23     179"
      ]
     },
     "execution_count": 56,
     "metadata": {},
     "output_type": "execute_result"
    }
   ],
   "source": [
    "guys.loc[:, 'name':'height']"
   ]
  },
  {
   "cell_type": "markdown",
   "id": "8e10029f-abde-473c-b18d-7b79d51c166e",
   "metadata": {},
   "source": [
    "Here we got columns from name to height."
   ]
  },
  {
   "cell_type": "markdown",
   "id": "cd28ca38-f784-41b0-a795-b1730ba46e83",
   "metadata": {},
   "source": [
    "##### Row and Column Slicing (Together)"
   ]
  },
  {
   "cell_type": "code",
   "execution_count": 57,
   "id": "d6cdc1d4-8ffb-4eec-a657-7b9041a73442",
   "metadata": {},
   "outputs": [
    {
     "data": {
      "text/html": [
       "<div>\n",
       "<style scoped>\n",
       "    .dataframe tbody tr th:only-of-type {\n",
       "        vertical-align: middle;\n",
       "    }\n",
       "\n",
       "    .dataframe tbody tr th {\n",
       "        vertical-align: top;\n",
       "    }\n",
       "\n",
       "    .dataframe thead th {\n",
       "        text-align: right;\n",
       "    }\n",
       "</style>\n",
       "<table border=\"1\" class=\"dataframe\">\n",
       "  <thead>\n",
       "    <tr style=\"text-align: right;\">\n",
       "      <th></th>\n",
       "      <th>name</th>\n",
       "      <th>age</th>\n",
       "      <th>height</th>\n",
       "    </tr>\n",
       "  </thead>\n",
       "  <tbody>\n",
       "    <tr>\n",
       "      <th>2</th>\n",
       "      <td>Chris</td>\n",
       "      <td>22</td>\n",
       "      <td>170</td>\n",
       "    </tr>\n",
       "    <tr>\n",
       "      <th>3</th>\n",
       "      <td>David</td>\n",
       "      <td>27</td>\n",
       "      <td>178</td>\n",
       "    </tr>\n",
       "    <tr>\n",
       "      <th>4</th>\n",
       "      <td>James</td>\n",
       "      <td>35</td>\n",
       "      <td>185</td>\n",
       "    </tr>\n",
       "    <tr>\n",
       "      <th>5</th>\n",
       "      <td>Robert</td>\n",
       "      <td>28</td>\n",
       "      <td>177</td>\n",
       "    </tr>\n",
       "  </tbody>\n",
       "</table>\n",
       "</div>"
      ],
      "text/plain": [
       "     name  age  height\n",
       "2   Chris   22     170\n",
       "3   David   27     178\n",
       "4   James   35     185\n",
       "5  Robert   28     177"
      ]
     },
     "execution_count": 57,
     "metadata": {},
     "output_type": "execute_result"
    }
   ],
   "source": [
    "guys.loc[2:5, 'name':'height']"
   ]
  },
  {
   "cell_type": "markdown",
   "id": "50c8a76e-32ad-40ea-ae33-ec4343ce1eea",
   "metadata": {},
   "source": [
    "Here we got rows from index 2 to 5 and columns from name to height."
   ]
  },
  {
   "cell_type": "markdown",
   "id": "385207d4-52c9-4067-962f-d0ea0f16343f",
   "metadata": {},
   "source": [
    "#### Boolean Indexing"
   ]
  },
  {
   "cell_type": "markdown",
   "id": "f3f41b71-2b94-4e43-aeff-86b97812dca7",
   "metadata": {},
   "source": [
    "We can use the boolean indexing to set conditions and filter the data:"
   ]
  },
  {
   "cell_type": "code",
   "execution_count": 58,
   "id": "828c5e3c-e37c-4315-9e6c-c0c569335540",
   "metadata": {},
   "outputs": [
    {
     "data": {
      "text/html": [
       "<div>\n",
       "<style scoped>\n",
       "    .dataframe tbody tr th:only-of-type {\n",
       "        vertical-align: middle;\n",
       "    }\n",
       "\n",
       "    .dataframe tbody tr th {\n",
       "        vertical-align: top;\n",
       "    }\n",
       "\n",
       "    .dataframe thead th {\n",
       "        text-align: right;\n",
       "    }\n",
       "</style>\n",
       "<table border=\"1\" class=\"dataframe\">\n",
       "  <thead>\n",
       "    <tr style=\"text-align: right;\">\n",
       "      <th></th>\n",
       "      <th>name</th>\n",
       "      <th>age</th>\n",
       "      <th>height</th>\n",
       "      <th>qualification</th>\n",
       "      <th>city</th>\n",
       "    </tr>\n",
       "  </thead>\n",
       "  <tbody>\n",
       "    <tr>\n",
       "      <th>1</th>\n",
       "      <td>Mike</td>\n",
       "      <td>30</td>\n",
       "      <td>180</td>\n",
       "      <td>Master's</td>\n",
       "      <td>Los Angeles</td>\n",
       "    </tr>\n",
       "    <tr>\n",
       "      <th>4</th>\n",
       "      <td>James</td>\n",
       "      <td>35</td>\n",
       "      <td>185</td>\n",
       "      <td>Master's</td>\n",
       "      <td>Phoenix</td>\n",
       "    </tr>\n",
       "    <tr>\n",
       "      <th>5</th>\n",
       "      <td>Robert</td>\n",
       "      <td>28</td>\n",
       "      <td>177</td>\n",
       "      <td>Bachelor's</td>\n",
       "      <td>Philadelphia</td>\n",
       "    </tr>\n",
       "    <tr>\n",
       "      <th>7</th>\n",
       "      <td>Matthew</td>\n",
       "      <td>33</td>\n",
       "      <td>174</td>\n",
       "      <td>PhD</td>\n",
       "      <td>San Diego</td>\n",
       "    </tr>\n",
       "    <tr>\n",
       "      <th>9</th>\n",
       "      <td>Joshua</td>\n",
       "      <td>29</td>\n",
       "      <td>176</td>\n",
       "      <td>Master's</td>\n",
       "      <td>San Jose</td>\n",
       "    </tr>\n",
       "  </tbody>\n",
       "</table>\n",
       "</div>"
      ],
      "text/plain": [
       "      name  age  height qualification          city\n",
       "1     Mike   30     180      Master's   Los Angeles\n",
       "4    James   35     185      Master's       Phoenix\n",
       "5   Robert   28     177    Bachelor's  Philadelphia\n",
       "7  Matthew   33     174           PhD     San Diego\n",
       "9   Joshua   29     176      Master's      San Jose"
      ]
     },
     "execution_count": 58,
     "metadata": {},
     "output_type": "execute_result"
    }
   ],
   "source": [
    "guys.loc[guys['age'] > 27]"
   ]
  },
  {
   "cell_type": "markdown",
   "id": "d0294e07-7e50-4082-b33a-4c8d76241a1b",
   "metadata": {},
   "source": [
    "#### loc vs iloc"
   ]
  },
  {
   "cell_type": "markdown",
   "id": "e22dc36b-b3d6-4019-8f59-91515a1c99fc",
   "metadata": {},
   "source": [
    "The main differences between .loc and .iloc are as follows:"
   ]
  },
  {
   "cell_type": "markdown",
   "id": "3d43e10f-c162-4184-a060-2ada7c756260",
   "metadata": {},
   "source": [
    "| Basis                | loc                                   | iloc                                  |\n",
    "|----------------------|---------------------------------------|---------------------------------------|\n",
    "| Indexing             | Label-based indexing                  | Integer-based indexing                |\n",
    "| Endpoint             | Included                              | Not included                          |\n",
    "| Boolean Indexing     | Supported                             | Not supported                         |\n",
    "    "
   ]
  },
  {
   "cell_type": "markdown",
   "id": "1c0dc2a0-53d8-407e-b612-cc2bacf29a9f",
   "metadata": {},
   "source": [
    "#### to_string() Function"
   ]
  },
  {
   "cell_type": "markdown",
   "id": "8bc9f14f-d29c-4e8e-b687-b42dabb24f56",
   "metadata": {},
   "source": [
    "When we want to extract data from a DataFrame as a string, we can use this function:"
   ]
  },
  {
   "cell_type": "code",
   "execution_count": 59,
   "id": "8b93cf7d-1ad1-4675-a3ea-db44e4852c89",
   "metadata": {},
   "outputs": [
    {
     "data": {
      "text/plain": [
       "\"       name  age  height qualification          city\\n0      John   25     175    Bachelor's      New York\\n1      Mike   30     180      Master's   Los Angeles\\n2     Chris   22     170    Bachelor's       Chicago\\n3     David   27     178           PhD       Houston\\n4     James   35     185      Master's       Phoenix\\n5    Robert   28     177    Bachelor's  Philadelphia\\n6    Daniel   24     182      Master's   San Antonio\\n7   Matthew   33     174           PhD     San Diego\\n8    Andrew   26     180    Bachelor's        Dallas\\n9    Joshua   29     176      Master's      San Jose\\n10     Alex   23     179    Bachelor's        Austin\""
      ]
     },
     "execution_count": 59,
     "metadata": {},
     "output_type": "execute_result"
    }
   ],
   "source": [
    "guys.to_string()"
   ]
  },
  {
   "cell_type": "markdown",
   "id": "0659ef52-5708-4e79-8f36-89fc8c9c40b1",
   "metadata": {},
   "source": [
    "We can also drop the index numbers like this:"
   ]
  },
  {
   "cell_type": "code",
   "execution_count": 60,
   "id": "c4b2092e-d983-4531-852c-0199ddb5fb0f",
   "metadata": {},
   "outputs": [
    {
     "data": {
      "text/plain": [
       "\"   name  age  height qualification         city\\n   John   25     175    Bachelor's     New York\\n   Mike   30     180      Master's  Los Angeles\\n  Chris   22     170    Bachelor's      Chicago\\n  David   27     178           PhD      Houston\\n  James   35     185      Master's      Phoenix\\n Robert   28     177    Bachelor's Philadelphia\\n Daniel   24     182      Master's  San Antonio\\nMatthew   33     174           PhD    San Diego\\n Andrew   26     180    Bachelor's       Dallas\\n Joshua   29     176      Master's     San Jose\\n   Alex   23     179    Bachelor's       Austin\""
      ]
     },
     "execution_count": 60,
     "metadata": {},
     "output_type": "execute_result"
    }
   ],
   "source": [
    "guys.to_string(index=False)"
   ]
  },
  {
   "cell_type": "markdown",
   "id": "b038b78c-ce47-44ee-9b76-fc9630ab98d9",
   "metadata": {},
   "source": [
    "We can also use loc and iloc with it, for example:"
   ]
  },
  {
   "cell_type": "code",
   "execution_count": 61,
   "id": "ea11ec61-ad09-435b-8ac4-ebc734b4e012",
   "metadata": {},
   "outputs": [
    {
     "data": {
      "text/plain": [
       "'  name  age  height\\n Chris   22     170\\n David   27     178\\n James   35     185\\nRobert   28     177'"
      ]
     },
     "execution_count": 61,
     "metadata": {},
     "output_type": "execute_result"
    }
   ],
   "source": [
    "guys.loc[2:5, 'name':'height'].to_string(index=False)"
   ]
  },
  {
   "cell_type": "markdown",
   "id": "dd939316-03a7-4ba3-8c94-da91839f17d3",
   "metadata": {},
   "source": [
    "#### query() Function"
   ]
  },
  {
   "cell_type": "markdown",
   "id": "43860926-57b0-433b-b871-c449a474351f",
   "metadata": {},
   "source": [
    "This method allows you to select data using a more SQL-like syntax:"
   ]
  },
  {
   "cell_type": "code",
   "execution_count": 62,
   "id": "b830c960-e94b-48f3-aa98-b3e603f184b0",
   "metadata": {},
   "outputs": [
    {
     "data": {
      "text/html": [
       "<div>\n",
       "<style scoped>\n",
       "    .dataframe tbody tr th:only-of-type {\n",
       "        vertical-align: middle;\n",
       "    }\n",
       "\n",
       "    .dataframe tbody tr th {\n",
       "        vertical-align: top;\n",
       "    }\n",
       "\n",
       "    .dataframe thead th {\n",
       "        text-align: right;\n",
       "    }\n",
       "</style>\n",
       "<table border=\"1\" class=\"dataframe\">\n",
       "  <thead>\n",
       "    <tr style=\"text-align: right;\">\n",
       "      <th></th>\n",
       "      <th>name</th>\n",
       "      <th>age</th>\n",
       "      <th>height</th>\n",
       "      <th>qualification</th>\n",
       "      <th>city</th>\n",
       "    </tr>\n",
       "  </thead>\n",
       "  <tbody>\n",
       "    <tr>\n",
       "      <th>1</th>\n",
       "      <td>Mike</td>\n",
       "      <td>30</td>\n",
       "      <td>180</td>\n",
       "      <td>Master's</td>\n",
       "      <td>Los Angeles</td>\n",
       "    </tr>\n",
       "    <tr>\n",
       "      <th>4</th>\n",
       "      <td>James</td>\n",
       "      <td>35</td>\n",
       "      <td>185</td>\n",
       "      <td>Master's</td>\n",
       "      <td>Phoenix</td>\n",
       "    </tr>\n",
       "    <tr>\n",
       "      <th>5</th>\n",
       "      <td>Robert</td>\n",
       "      <td>28</td>\n",
       "      <td>177</td>\n",
       "      <td>Bachelor's</td>\n",
       "      <td>Philadelphia</td>\n",
       "    </tr>\n",
       "    <tr>\n",
       "      <th>7</th>\n",
       "      <td>Matthew</td>\n",
       "      <td>33</td>\n",
       "      <td>174</td>\n",
       "      <td>PhD</td>\n",
       "      <td>San Diego</td>\n",
       "    </tr>\n",
       "    <tr>\n",
       "      <th>9</th>\n",
       "      <td>Joshua</td>\n",
       "      <td>29</td>\n",
       "      <td>176</td>\n",
       "      <td>Master's</td>\n",
       "      <td>San Jose</td>\n",
       "    </tr>\n",
       "  </tbody>\n",
       "</table>\n",
       "</div>"
      ],
      "text/plain": [
       "      name  age  height qualification          city\n",
       "1     Mike   30     180      Master's   Los Angeles\n",
       "4    James   35     185      Master's       Phoenix\n",
       "5   Robert   28     177    Bachelor's  Philadelphia\n",
       "7  Matthew   33     174           PhD     San Diego\n",
       "9   Joshua   29     176      Master's      San Jose"
      ]
     },
     "execution_count": 62,
     "metadata": {},
     "output_type": "execute_result"
    }
   ],
   "source": [
    "guys.query('age > 27')"
   ]
  },
  {
   "cell_type": "markdown",
   "id": "cc504d93-4105-4539-94cc-2fd9fb81bf32",
   "metadata": {},
   "source": [
    "#### isin() Function"
   ]
  },
  {
   "cell_type": "markdown",
   "id": "b2099002-b53a-4f61-9698-12aada2a195e",
   "metadata": {},
   "source": [
    "It is used to filter rows based on a list of values. For example:"
   ]
  },
  {
   "cell_type": "code",
   "execution_count": 63,
   "id": "9f593f62-aac3-407c-b939-4ee33dcfb211",
   "metadata": {},
   "outputs": [
    {
     "data": {
      "text/html": [
       "<div>\n",
       "<style scoped>\n",
       "    .dataframe tbody tr th:only-of-type {\n",
       "        vertical-align: middle;\n",
       "    }\n",
       "\n",
       "    .dataframe tbody tr th {\n",
       "        vertical-align: top;\n",
       "    }\n",
       "\n",
       "    .dataframe thead th {\n",
       "        text-align: right;\n",
       "    }\n",
       "</style>\n",
       "<table border=\"1\" class=\"dataframe\">\n",
       "  <thead>\n",
       "    <tr style=\"text-align: right;\">\n",
       "      <th></th>\n",
       "      <th>name</th>\n",
       "      <th>age</th>\n",
       "      <th>height</th>\n",
       "      <th>qualification</th>\n",
       "      <th>city</th>\n",
       "    </tr>\n",
       "  </thead>\n",
       "  <tbody>\n",
       "    <tr>\n",
       "      <th>1</th>\n",
       "      <td>Mike</td>\n",
       "      <td>30</td>\n",
       "      <td>180</td>\n",
       "      <td>Master's</td>\n",
       "      <td>Los Angeles</td>\n",
       "    </tr>\n",
       "    <tr>\n",
       "      <th>4</th>\n",
       "      <td>James</td>\n",
       "      <td>35</td>\n",
       "      <td>185</td>\n",
       "      <td>Master's</td>\n",
       "      <td>Phoenix</td>\n",
       "    </tr>\n",
       "  </tbody>\n",
       "</table>\n",
       "</div>"
      ],
      "text/plain": [
       "    name  age  height qualification         city\n",
       "1   Mike   30     180      Master's  Los Angeles\n",
       "4  James   35     185      Master's      Phoenix"
      ]
     },
     "execution_count": 63,
     "metadata": {},
     "output_type": "execute_result"
    }
   ],
   "source": [
    "guys.loc[guys['name'].isin(['Mike', 'James'])]"
   ]
  },
  {
   "cell_type": "markdown",
   "id": "ebbf8008-674f-4c5b-94d9-863414af2628",
   "metadata": {},
   "source": [
    "#### Multi-Index"
   ]
  },
  {
   "cell_type": "markdown",
   "id": "2f2703b2-75d8-4da4-aace-ff325aa2667e",
   "metadata": {},
   "source": [
    "**Multi-Index:** It is a hierarchical indexing structure that allows to represent and work with higher-dimensional data efficiently.  \n",
    "While a typical index refers to a single column, a MultiIndex contains multiple levels of indices."
   ]
  },
  {
   "cell_type": "markdown",
   "id": "e3a01208-5998-4bf5-9598-6b06edb1a1bb",
   "metadata": {},
   "source": [
    "let's create another DataFrame for this:"
   ]
  },
  {
   "cell_type": "code",
   "execution_count": 64,
   "id": "c5bfbc48-edbf-489d-a2a3-d6d067bf8545",
   "metadata": {},
   "outputs": [
    {
     "data": {
      "text/html": [
       "<div>\n",
       "<style scoped>\n",
       "    .dataframe tbody tr th:only-of-type {\n",
       "        vertical-align: middle;\n",
       "    }\n",
       "\n",
       "    .dataframe tbody tr th {\n",
       "        vertical-align: top;\n",
       "    }\n",
       "\n",
       "    .dataframe thead th {\n",
       "        text-align: right;\n",
       "    }\n",
       "</style>\n",
       "<table border=\"1\" class=\"dataframe\">\n",
       "  <thead>\n",
       "    <tr style=\"text-align: right;\">\n",
       "      <th></th>\n",
       "      <th>city</th>\n",
       "      <th>state</th>\n",
       "      <th>establishment year</th>\n",
       "    </tr>\n",
       "  </thead>\n",
       "  <tbody>\n",
       "    <tr>\n",
       "      <th>0</th>\n",
       "      <td>New York</td>\n",
       "      <td>New York</td>\n",
       "      <td>1624</td>\n",
       "    </tr>\n",
       "    <tr>\n",
       "      <th>1</th>\n",
       "      <td>Los Angeles</td>\n",
       "      <td>California</td>\n",
       "      <td>1781</td>\n",
       "    </tr>\n",
       "    <tr>\n",
       "      <th>2</th>\n",
       "      <td>Chicago</td>\n",
       "      <td>Illinois</td>\n",
       "      <td>1837</td>\n",
       "    </tr>\n",
       "    <tr>\n",
       "      <th>3</th>\n",
       "      <td>Houston</td>\n",
       "      <td>Texas</td>\n",
       "      <td>1837</td>\n",
       "    </tr>\n",
       "    <tr>\n",
       "      <th>4</th>\n",
       "      <td>Phoenix</td>\n",
       "      <td>Arizona</td>\n",
       "      <td>1868</td>\n",
       "    </tr>\n",
       "    <tr>\n",
       "      <th>5</th>\n",
       "      <td>Philadelphia</td>\n",
       "      <td>Pennsylvania</td>\n",
       "      <td>1682</td>\n",
       "    </tr>\n",
       "    <tr>\n",
       "      <th>6</th>\n",
       "      <td>San Antonio</td>\n",
       "      <td>Texas</td>\n",
       "      <td>1718</td>\n",
       "    </tr>\n",
       "    <tr>\n",
       "      <th>7</th>\n",
       "      <td>San Diego</td>\n",
       "      <td>California</td>\n",
       "      <td>1769</td>\n",
       "    </tr>\n",
       "    <tr>\n",
       "      <th>8</th>\n",
       "      <td>Dallas</td>\n",
       "      <td>Texas</td>\n",
       "      <td>1841</td>\n",
       "    </tr>\n",
       "    <tr>\n",
       "      <th>9</th>\n",
       "      <td>San Jose</td>\n",
       "      <td>California</td>\n",
       "      <td>1777</td>\n",
       "    </tr>\n",
       "  </tbody>\n",
       "</table>\n",
       "</div>"
      ],
      "text/plain": [
       "           city         state  establishment year\n",
       "0      New York      New York                1624\n",
       "1   Los Angeles    California                1781\n",
       "2       Chicago      Illinois                1837\n",
       "3       Houston         Texas                1837\n",
       "4       Phoenix       Arizona                1868\n",
       "5  Philadelphia  Pennsylvania                1682\n",
       "6   San Antonio         Texas                1718\n",
       "7     San Diego    California                1769\n",
       "8        Dallas         Texas                1841\n",
       "9      San Jose    California                1777"
      ]
     },
     "execution_count": 64,
     "metadata": {},
     "output_type": "execute_result"
    }
   ],
   "source": [
    "cities = pd.DataFrame({\n",
    "    \"city\": [\"New York\", \"Los Angeles\", \"Chicago\", \"Houston\", \"Phoenix\", \"Philadelphia\", \"San Antonio\", \"San Diego\", \"Dallas\", \"San Jose\"],\n",
    "    \"state\": [\"New York\", \"California\", \"Illinois\", \"Texas\", \"Arizona\", \"Pennsylvania\", \"Texas\", \"California\", \"Texas\", \"California\"],\n",
    "    \"establishment year\": [1624, 1781, 1837, 1837, 1868, 1682, 1718, 1769, 1841, 1777]\n",
    "})\n",
    "cities"
   ]
  },
  {
   "cell_type": "markdown",
   "id": "6ed51fd4-e62b-4721-b2de-33075bf80906",
   "metadata": {},
   "source": [
    "Here, we can see that the state data is repeated for some cities. To avoid this data redundancy, we can use multiindex. But first, we should sort this DataFrame data based on the state column:"
   ]
  },
  {
   "cell_type": "code",
   "execution_count": 65,
   "id": "eb7226b3-68a8-4f01-8b3a-89e8c90ffc3f",
   "metadata": {},
   "outputs": [
    {
     "data": {
      "text/html": [
       "<div>\n",
       "<style scoped>\n",
       "    .dataframe tbody tr th:only-of-type {\n",
       "        vertical-align: middle;\n",
       "    }\n",
       "\n",
       "    .dataframe tbody tr th {\n",
       "        vertical-align: top;\n",
       "    }\n",
       "\n",
       "    .dataframe thead th {\n",
       "        text-align: right;\n",
       "    }\n",
       "</style>\n",
       "<table border=\"1\" class=\"dataframe\">\n",
       "  <thead>\n",
       "    <tr style=\"text-align: right;\">\n",
       "      <th></th>\n",
       "      <th>city</th>\n",
       "      <th>state</th>\n",
       "      <th>establishment year</th>\n",
       "    </tr>\n",
       "  </thead>\n",
       "  <tbody>\n",
       "    <tr>\n",
       "      <th>4</th>\n",
       "      <td>Phoenix</td>\n",
       "      <td>Arizona</td>\n",
       "      <td>1868</td>\n",
       "    </tr>\n",
       "    <tr>\n",
       "      <th>1</th>\n",
       "      <td>Los Angeles</td>\n",
       "      <td>California</td>\n",
       "      <td>1781</td>\n",
       "    </tr>\n",
       "    <tr>\n",
       "      <th>7</th>\n",
       "      <td>San Diego</td>\n",
       "      <td>California</td>\n",
       "      <td>1769</td>\n",
       "    </tr>\n",
       "    <tr>\n",
       "      <th>9</th>\n",
       "      <td>San Jose</td>\n",
       "      <td>California</td>\n",
       "      <td>1777</td>\n",
       "    </tr>\n",
       "    <tr>\n",
       "      <th>2</th>\n",
       "      <td>Chicago</td>\n",
       "      <td>Illinois</td>\n",
       "      <td>1837</td>\n",
       "    </tr>\n",
       "    <tr>\n",
       "      <th>0</th>\n",
       "      <td>New York</td>\n",
       "      <td>New York</td>\n",
       "      <td>1624</td>\n",
       "    </tr>\n",
       "    <tr>\n",
       "      <th>5</th>\n",
       "      <td>Philadelphia</td>\n",
       "      <td>Pennsylvania</td>\n",
       "      <td>1682</td>\n",
       "    </tr>\n",
       "    <tr>\n",
       "      <th>3</th>\n",
       "      <td>Houston</td>\n",
       "      <td>Texas</td>\n",
       "      <td>1837</td>\n",
       "    </tr>\n",
       "    <tr>\n",
       "      <th>6</th>\n",
       "      <td>San Antonio</td>\n",
       "      <td>Texas</td>\n",
       "      <td>1718</td>\n",
       "    </tr>\n",
       "    <tr>\n",
       "      <th>8</th>\n",
       "      <td>Dallas</td>\n",
       "      <td>Texas</td>\n",
       "      <td>1841</td>\n",
       "    </tr>\n",
       "  </tbody>\n",
       "</table>\n",
       "</div>"
      ],
      "text/plain": [
       "           city         state  establishment year\n",
       "4       Phoenix       Arizona                1868\n",
       "1   Los Angeles    California                1781\n",
       "7     San Diego    California                1769\n",
       "9      San Jose    California                1777\n",
       "2       Chicago      Illinois                1837\n",
       "0      New York      New York                1624\n",
       "5  Philadelphia  Pennsylvania                1682\n",
       "3       Houston         Texas                1837\n",
       "6   San Antonio         Texas                1718\n",
       "8        Dallas         Texas                1841"
      ]
     },
     "execution_count": 65,
     "metadata": {},
     "output_type": "execute_result"
    }
   ],
   "source": [
    "cities.sort_values('state', inplace=True)\n",
    "cities"
   ]
  },
  {
   "cell_type": "markdown",
   "id": "15df392e-d7a1-41a0-beef-4e42d199bf65",
   "metadata": {},
   "source": [
    "As we can see, it sorted out the data based on the state column. Now we can set a multi-index:"
   ]
  },
  {
   "cell_type": "code",
   "execution_count": 66,
   "id": "b8ed178c-9d99-42bd-ab4d-7c11bf2407f5",
   "metadata": {},
   "outputs": [
    {
     "data": {
      "text/html": [
       "<div>\n",
       "<style scoped>\n",
       "    .dataframe tbody tr th:only-of-type {\n",
       "        vertical-align: middle;\n",
       "    }\n",
       "\n",
       "    .dataframe tbody tr th {\n",
       "        vertical-align: top;\n",
       "    }\n",
       "\n",
       "    .dataframe thead th {\n",
       "        text-align: right;\n",
       "    }\n",
       "</style>\n",
       "<table border=\"1\" class=\"dataframe\">\n",
       "  <thead>\n",
       "    <tr style=\"text-align: right;\">\n",
       "      <th></th>\n",
       "      <th></th>\n",
       "      <th>establishment year</th>\n",
       "    </tr>\n",
       "    <tr>\n",
       "      <th>state</th>\n",
       "      <th>city</th>\n",
       "      <th></th>\n",
       "    </tr>\n",
       "  </thead>\n",
       "  <tbody>\n",
       "    <tr>\n",
       "      <th>Arizona</th>\n",
       "      <th>Phoenix</th>\n",
       "      <td>1868</td>\n",
       "    </tr>\n",
       "    <tr>\n",
       "      <th rowspan=\"3\" valign=\"top\">California</th>\n",
       "      <th>Los Angeles</th>\n",
       "      <td>1781</td>\n",
       "    </tr>\n",
       "    <tr>\n",
       "      <th>San Diego</th>\n",
       "      <td>1769</td>\n",
       "    </tr>\n",
       "    <tr>\n",
       "      <th>San Jose</th>\n",
       "      <td>1777</td>\n",
       "    </tr>\n",
       "    <tr>\n",
       "      <th>Illinois</th>\n",
       "      <th>Chicago</th>\n",
       "      <td>1837</td>\n",
       "    </tr>\n",
       "    <tr>\n",
       "      <th>New York</th>\n",
       "      <th>New York</th>\n",
       "      <td>1624</td>\n",
       "    </tr>\n",
       "    <tr>\n",
       "      <th>Pennsylvania</th>\n",
       "      <th>Philadelphia</th>\n",
       "      <td>1682</td>\n",
       "    </tr>\n",
       "    <tr>\n",
       "      <th rowspan=\"3\" valign=\"top\">Texas</th>\n",
       "      <th>Houston</th>\n",
       "      <td>1837</td>\n",
       "    </tr>\n",
       "    <tr>\n",
       "      <th>San Antonio</th>\n",
       "      <td>1718</td>\n",
       "    </tr>\n",
       "    <tr>\n",
       "      <th>Dallas</th>\n",
       "      <td>1841</td>\n",
       "    </tr>\n",
       "  </tbody>\n",
       "</table>\n",
       "</div>"
      ],
      "text/plain": [
       "                           establishment year\n",
       "state        city                            \n",
       "Arizona      Phoenix                     1868\n",
       "California   Los Angeles                 1781\n",
       "             San Diego                   1769\n",
       "             San Jose                    1777\n",
       "Illinois     Chicago                     1837\n",
       "New York     New York                    1624\n",
       "Pennsylvania Philadelphia                1682\n",
       "Texas        Houston                     1837\n",
       "             San Antonio                 1718\n",
       "             Dallas                      1841"
      ]
     },
     "execution_count": 66,
     "metadata": {},
     "output_type": "execute_result"
    }
   ],
   "source": [
    "cities.set_index(['state', 'city'], inplace=True)\n",
    "cities"
   ]
  },
  {
   "attachments": {},
   "cell_type": "markdown",
   "id": "ce1af7e0-8fef-49a1-b72a-19a6a0001ddb",
   "metadata": {},
   "source": [
    "Now the state and city values are indices. State is the parent index of city. Here is an illustration:\n",
    "\n",
    "<img src=\"https://atharvsuryavanshi.github.io/Diagram-Manager/images/pandas-multi-index-example.png\" alt=\"multi-index-example.png\" width=\"1000\">\n",
    "\n",
    "(If the image isn't visible then click here: [Pandas Multi-Index](https://atharvsuryavanshi.github.io/Diagram-Manager/images/pandas-multi-index-example.png))"
   ]
  },
  {
   "cell_type": "markdown",
   "id": "5c4ed4e7-40b5-402c-ba8e-445c6ff521ce",
   "metadata": {},
   "source": [
    "To acces the data we have to use them like this:"
   ]
  },
  {
   "cell_type": "code",
   "execution_count": 67,
   "id": "31818963-3052-471e-8c19-b000aaea7075",
   "metadata": {},
   "outputs": [
    {
     "data": {
      "text/html": [
       "<div>\n",
       "<style scoped>\n",
       "    .dataframe tbody tr th:only-of-type {\n",
       "        vertical-align: middle;\n",
       "    }\n",
       "\n",
       "    .dataframe tbody tr th {\n",
       "        vertical-align: top;\n",
       "    }\n",
       "\n",
       "    .dataframe thead th {\n",
       "        text-align: right;\n",
       "    }\n",
       "</style>\n",
       "<table border=\"1\" class=\"dataframe\">\n",
       "  <thead>\n",
       "    <tr style=\"text-align: right;\">\n",
       "      <th></th>\n",
       "      <th>establishment year</th>\n",
       "    </tr>\n",
       "    <tr>\n",
       "      <th>city</th>\n",
       "      <th></th>\n",
       "    </tr>\n",
       "  </thead>\n",
       "  <tbody>\n",
       "    <tr>\n",
       "      <th>Los Angeles</th>\n",
       "      <td>1781</td>\n",
       "    </tr>\n",
       "    <tr>\n",
       "      <th>San Diego</th>\n",
       "      <td>1769</td>\n",
       "    </tr>\n",
       "    <tr>\n",
       "      <th>San Jose</th>\n",
       "      <td>1777</td>\n",
       "    </tr>\n",
       "  </tbody>\n",
       "</table>\n",
       "</div>"
      ],
      "text/plain": [
       "             establishment year\n",
       "city                           \n",
       "Los Angeles                1781\n",
       "San Diego                  1769\n",
       "San Jose                   1777"
      ]
     },
     "execution_count": 67,
     "metadata": {},
     "output_type": "execute_result"
    }
   ],
   "source": [
    "cities.loc['California']"
   ]
  },
  {
   "cell_type": "markdown",
   "id": "fee45498-590f-460f-9e4b-ffbe3e180cfe",
   "metadata": {},
   "source": [
    "And here we got all the 3 cities which are in the state of California."
   ]
  },
  {
   "cell_type": "code",
   "execution_count": 68,
   "id": "64fd7732-59da-4b66-81c7-4b1038467afc",
   "metadata": {},
   "outputs": [
    {
     "data": {
      "text/plain": [
       "establishment year    1769\n",
       "Name: (California, San Diego), dtype: int64"
      ]
     },
     "execution_count": 68,
     "metadata": {},
     "output_type": "execute_result"
    }
   ],
   "source": [
    "cities.loc[('California', 'San Diego')]"
   ]
  },
  {
   "cell_type": "markdown",
   "id": "4a5193f4-e2ae-45f3-8bc8-7119ae3a91a4",
   "metadata": {},
   "source": [
    "And here we got all the values (there was just the establishment date) under the California and San Diego indices**.  \n",
    "**Note:** We need to provide the full hierarchical index in the form of a tuple in order to access a particular row.  \n",
    "We can also make a DataFrame with multi-index directly although it looks kinda complicated:"
   ]
  },
  {
   "cell_type": "code",
   "execution_count": 69,
   "id": "40a1a089-7645-4365-bee4-8601774e7400",
   "metadata": {},
   "outputs": [
    {
     "data": {
      "text/html": [
       "<div>\n",
       "<style scoped>\n",
       "    .dataframe tbody tr th:only-of-type {\n",
       "        vertical-align: middle;\n",
       "    }\n",
       "\n",
       "    .dataframe tbody tr th {\n",
       "        vertical-align: top;\n",
       "    }\n",
       "\n",
       "    .dataframe thead th {\n",
       "        text-align: right;\n",
       "    }\n",
       "</style>\n",
       "<table border=\"1\" class=\"dataframe\">\n",
       "  <thead>\n",
       "    <tr style=\"text-align: right;\">\n",
       "      <th></th>\n",
       "      <th></th>\n",
       "      <th>establishment year</th>\n",
       "    </tr>\n",
       "    <tr>\n",
       "      <th>state</th>\n",
       "      <th>city</th>\n",
       "      <th></th>\n",
       "    </tr>\n",
       "  </thead>\n",
       "  <tbody>\n",
       "    <tr>\n",
       "      <th rowspan=\"3\" valign=\"top\">California</th>\n",
       "      <th>Los Angeles</th>\n",
       "      <td>1781</td>\n",
       "    </tr>\n",
       "    <tr>\n",
       "      <th>San Diego</th>\n",
       "      <td>1769</td>\n",
       "    </tr>\n",
       "    <tr>\n",
       "      <th>San Jose</th>\n",
       "      <td>1777</td>\n",
       "    </tr>\n",
       "    <tr>\n",
       "      <th>Illinois</th>\n",
       "      <th>Chicago</th>\n",
       "      <td>1837</td>\n",
       "    </tr>\n",
       "    <tr>\n",
       "      <th>New York</th>\n",
       "      <th>New York</th>\n",
       "      <td>1624</td>\n",
       "    </tr>\n",
       "    <tr>\n",
       "      <th>Pennsylvania</th>\n",
       "      <th>Philadelphia</th>\n",
       "      <td>1682</td>\n",
       "    </tr>\n",
       "    <tr>\n",
       "      <th rowspan=\"3\" valign=\"top\">Texas</th>\n",
       "      <th>Houston</th>\n",
       "      <td>1837</td>\n",
       "    </tr>\n",
       "    <tr>\n",
       "      <th>San Antonio</th>\n",
       "      <td>1718</td>\n",
       "    </tr>\n",
       "    <tr>\n",
       "      <th>Dallas</th>\n",
       "      <td>1841</td>\n",
       "    </tr>\n",
       "    <tr>\n",
       "      <th>Arizona</th>\n",
       "      <th>Phoenix</th>\n",
       "      <td>1868</td>\n",
       "    </tr>\n",
       "  </tbody>\n",
       "</table>\n",
       "</div>"
      ],
      "text/plain": [
       "                           establishment year\n",
       "state        city                            \n",
       "California   Los Angeles                 1781\n",
       "             San Diego                   1769\n",
       "             San Jose                    1777\n",
       "Illinois     Chicago                     1837\n",
       "New York     New York                    1624\n",
       "Pennsylvania Philadelphia                1682\n",
       "Texas        Houston                     1837\n",
       "             San Antonio                 1718\n",
       "             Dallas                      1841\n",
       "Arizona      Phoenix                     1868"
      ]
     },
     "execution_count": 69,
     "metadata": {},
     "output_type": "execute_result"
    }
   ],
   "source": [
    "pd.DataFrame({\n",
    "    \"establishment year\": [1781, 1769, 1777, 1837, 1624, 1682, 1837, 1718, 1841, 1868]\n",
    "}, index=pd.MultiIndex.from_arrays([\n",
    "    [\"California\", \"California\", \"California\", \"Illinois\", \"New York\", \"Pennsylvania\", \"Texas\", \"Texas\", \"Texas\", \"Arizona\"],\n",
    "    [\"Los Angeles\", \"San Diego\", \"San Jose\", \"Chicago\", \"New York\", \"Philadelphia\", \"Houston\", \"San Antonio\", \"Dallas\", \"Phoenix\"]\n",
    "], names=['state', 'city']))"
   ]
  },
  {
   "cell_type": "markdown",
   "id": "25d31e21-ca66-4c31-a8ab-809eeb6d079a",
   "metadata": {},
   "source": [
    "**Note:** While passing an array of multi-indices to the from_arrays() function, keep the order from parent indices to child indices. Also, sort the data first according to the respective parent indices."
   ]
  },
  {
   "cell_type": "markdown",
   "id": "c0f0be68-d2fb-4746-b575-42500fd19607",
   "metadata": {},
   "source": [
    "### Reshape"
   ]
  },
  {
   "cell_type": "markdown",
   "id": "5df0be09-6b8b-4338-a929-ba47ca6f4db2",
   "metadata": {},
   "source": [
    "Reshaping data refers to the process of converting a DataFrame from one format to another for better data visualization and analysis.  \n",
    "Pandas provides multiple methods like pivot(), pivot_table(), stack(), unstack() and melt() to reshape data. We can choose the method based on our analysis requirement.  \n",
    "Let's create another DataFrame for this:"
   ]
  },
  {
   "cell_type": "code",
   "execution_count": 70,
   "id": "2d5f8778-0616-4243-96d9-1cafa796ad13",
   "metadata": {},
   "outputs": [
    {
     "data": {
      "text/html": [
       "<div>\n",
       "<style scoped>\n",
       "    .dataframe tbody tr th:only-of-type {\n",
       "        vertical-align: middle;\n",
       "    }\n",
       "\n",
       "    .dataframe tbody tr th {\n",
       "        vertical-align: top;\n",
       "    }\n",
       "\n",
       "    .dataframe thead th {\n",
       "        text-align: right;\n",
       "    }\n",
       "</style>\n",
       "<table border=\"1\" class=\"dataframe\">\n",
       "  <thead>\n",
       "    <tr style=\"text-align: right;\">\n",
       "      <th></th>\n",
       "      <th>name</th>\n",
       "      <th>dob</th>\n",
       "      <th>age</th>\n",
       "      <th>city</th>\n",
       "    </tr>\n",
       "  </thead>\n",
       "  <tbody>\n",
       "    <tr>\n",
       "      <th>0</th>\n",
       "      <td>Aarav</td>\n",
       "      <td>2001-05-14</td>\n",
       "      <td>23</td>\n",
       "      <td>Mumbai</td>\n",
       "    </tr>\n",
       "    <tr>\n",
       "      <th>1</th>\n",
       "      <td>Vivaan</td>\n",
       "      <td>2003-08-21</td>\n",
       "      <td>20</td>\n",
       "      <td>Delhi</td>\n",
       "    </tr>\n",
       "    <tr>\n",
       "      <th>2</th>\n",
       "      <td>Aditya</td>\n",
       "      <td>2000-12-05</td>\n",
       "      <td>24</td>\n",
       "      <td>Bangalore</td>\n",
       "    </tr>\n",
       "    <tr>\n",
       "      <th>3</th>\n",
       "      <td>Vihaan</td>\n",
       "      <td>2002-07-18</td>\n",
       "      <td>21</td>\n",
       "      <td>Mumbai</td>\n",
       "    </tr>\n",
       "    <tr>\n",
       "      <th>4</th>\n",
       "      <td>Arjun</td>\n",
       "      <td>1999-11-11</td>\n",
       "      <td>25</td>\n",
       "      <td>Hyderabad</td>\n",
       "    </tr>\n",
       "    <tr>\n",
       "      <th>5</th>\n",
       "      <td>Sai</td>\n",
       "      <td>2005-03-30</td>\n",
       "      <td>19</td>\n",
       "      <td>Pune</td>\n",
       "    </tr>\n",
       "    <tr>\n",
       "      <th>6</th>\n",
       "      <td>Rishi</td>\n",
       "      <td>2004-09-25</td>\n",
       "      <td>20</td>\n",
       "      <td>Kolkata</td>\n",
       "    </tr>\n",
       "    <tr>\n",
       "      <th>7</th>\n",
       "      <td>Aryan</td>\n",
       "      <td>2001-06-01</td>\n",
       "      <td>23</td>\n",
       "      <td>Delhi</td>\n",
       "    </tr>\n",
       "    <tr>\n",
       "      <th>8</th>\n",
       "      <td>Dhruv</td>\n",
       "      <td>2003-10-12</td>\n",
       "      <td>20</td>\n",
       "      <td>Bangalore</td>\n",
       "    </tr>\n",
       "    <tr>\n",
       "      <th>9</th>\n",
       "      <td>Kabir</td>\n",
       "      <td>2004-04-17</td>\n",
       "      <td>19</td>\n",
       "      <td>Mumbai</td>\n",
       "    </tr>\n",
       "  </tbody>\n",
       "</table>\n",
       "</div>"
      ],
      "text/plain": [
       "     name         dob  age       city\n",
       "0   Aarav  2001-05-14   23     Mumbai\n",
       "1  Vivaan  2003-08-21   20      Delhi\n",
       "2  Aditya  2000-12-05   24  Bangalore\n",
       "3  Vihaan  2002-07-18   21     Mumbai\n",
       "4   Arjun  1999-11-11   25  Hyderabad\n",
       "5     Sai  2005-03-30   19       Pune\n",
       "6   Rishi  2004-09-25   20    Kolkata\n",
       "7   Aryan  2001-06-01   23      Delhi\n",
       "8   Dhruv  2003-10-12   20  Bangalore\n",
       "9   Kabir  2004-04-17   19     Mumbai"
      ]
     },
     "execution_count": 70,
     "metadata": {},
     "output_type": "execute_result"
    }
   ],
   "source": [
    "boys = pd.DataFrame({\n",
    "    \"name\": [\"Aarav\", \"Vivaan\", \"Aditya\", \"Vihaan\", \"Arjun\", \"Sai\", \"Rishi\", \"Aryan\", \"Dhruv\", \"Kabir\"],\n",
    "    \"dob\": [\"2001-05-14\", \"2003-08-21\", \"2000-12-05\", \"2002-07-18\", \"1999-11-11\", \"2005-03-30\", \"2004-09-25\", \"2001-06-01\", \"2003-10-12\", \"2004-04-17\"],\n",
    "    \"age\": [23, 20, 24, 21, 25, 19, 20, 23, 20, 19],\n",
    "    \"city\": [\"Mumbai\", \"Delhi\", \"Bangalore\", \"Mumbai\", \"Hyderabad\", \"Pune\", \"Kolkata\", \"Delhi\", \"Bangalore\", \"Mumbai\"]\n",
    "})\n",
    "boys"
   ]
  },
  {
   "cell_type": "markdown",
   "id": "3ef1bb85-038e-43e9-bcaf-4c7ab523d80f",
   "metadata": {},
   "source": [
    "#### Reshape Data using pivot()"
   ]
  },
  {
   "cell_type": "markdown",
   "id": "851595d1-bf28-44f9-b36b-aecc544a0a2b",
   "metadata": {},
   "source": [
    "This function reshapes data based on column values. It takes simple column-wise data as input, and groups the entries into a two-dimensional table."
   ]
  },
  {
   "cell_type": "code",
   "execution_count": 71,
   "id": "62a6da49-81e5-4e49-a284-2491b278d19e",
   "metadata": {},
   "outputs": [
    {
     "data": {
      "text/html": [
       "<div>\n",
       "<style scoped>\n",
       "    .dataframe tbody tr th:only-of-type {\n",
       "        vertical-align: middle;\n",
       "    }\n",
       "\n",
       "    .dataframe tbody tr th {\n",
       "        vertical-align: top;\n",
       "    }\n",
       "\n",
       "    .dataframe thead th {\n",
       "        text-align: right;\n",
       "    }\n",
       "</style>\n",
       "<table border=\"1\" class=\"dataframe\">\n",
       "  <thead>\n",
       "    <tr style=\"text-align: right;\">\n",
       "      <th>age</th>\n",
       "      <th>19</th>\n",
       "      <th>20</th>\n",
       "      <th>21</th>\n",
       "      <th>23</th>\n",
       "      <th>24</th>\n",
       "      <th>25</th>\n",
       "    </tr>\n",
       "    <tr>\n",
       "      <th>city</th>\n",
       "      <th></th>\n",
       "      <th></th>\n",
       "      <th></th>\n",
       "      <th></th>\n",
       "      <th></th>\n",
       "      <th></th>\n",
       "    </tr>\n",
       "  </thead>\n",
       "  <tbody>\n",
       "    <tr>\n",
       "      <th>Bangalore</th>\n",
       "      <td>NaN</td>\n",
       "      <td>Dhruv</td>\n",
       "      <td>NaN</td>\n",
       "      <td>NaN</td>\n",
       "      <td>Aditya</td>\n",
       "      <td>NaN</td>\n",
       "    </tr>\n",
       "    <tr>\n",
       "      <th>Delhi</th>\n",
       "      <td>NaN</td>\n",
       "      <td>Vivaan</td>\n",
       "      <td>NaN</td>\n",
       "      <td>Aryan</td>\n",
       "      <td>NaN</td>\n",
       "      <td>NaN</td>\n",
       "    </tr>\n",
       "    <tr>\n",
       "      <th>Hyderabad</th>\n",
       "      <td>NaN</td>\n",
       "      <td>NaN</td>\n",
       "      <td>NaN</td>\n",
       "      <td>NaN</td>\n",
       "      <td>NaN</td>\n",
       "      <td>Arjun</td>\n",
       "    </tr>\n",
       "    <tr>\n",
       "      <th>Kolkata</th>\n",
       "      <td>NaN</td>\n",
       "      <td>Rishi</td>\n",
       "      <td>NaN</td>\n",
       "      <td>NaN</td>\n",
       "      <td>NaN</td>\n",
       "      <td>NaN</td>\n",
       "    </tr>\n",
       "    <tr>\n",
       "      <th>Mumbai</th>\n",
       "      <td>Kabir</td>\n",
       "      <td>NaN</td>\n",
       "      <td>Vihaan</td>\n",
       "      <td>Aarav</td>\n",
       "      <td>NaN</td>\n",
       "      <td>NaN</td>\n",
       "    </tr>\n",
       "    <tr>\n",
       "      <th>Pune</th>\n",
       "      <td>Sai</td>\n",
       "      <td>NaN</td>\n",
       "      <td>NaN</td>\n",
       "      <td>NaN</td>\n",
       "      <td>NaN</td>\n",
       "      <td>NaN</td>\n",
       "    </tr>\n",
       "  </tbody>\n",
       "</table>\n",
       "</div>"
      ],
      "text/plain": [
       "age           19      20      21     23      24     25\n",
       "city                                                  \n",
       "Bangalore    NaN   Dhruv     NaN    NaN  Aditya    NaN\n",
       "Delhi        NaN  Vivaan     NaN  Aryan     NaN    NaN\n",
       "Hyderabad    NaN     NaN     NaN    NaN     NaN  Arjun\n",
       "Kolkata      NaN   Rishi     NaN    NaN     NaN    NaN\n",
       "Mumbai     Kabir     NaN  Vihaan  Aarav     NaN    NaN\n",
       "Pune         Sai     NaN     NaN    NaN     NaN    NaN"
      ]
     },
     "execution_count": 71,
     "metadata": {},
     "output_type": "execute_result"
    }
   ],
   "source": [
    "boys.pivot(index='city', columns='age', values='name')"
   ]
  },
  {
   "cell_type": "markdown",
   "id": "dc1e04d6-825e-4114-828a-2e9f99df0f51",
   "metadata": {},
   "source": [
    "Here, we got a view in which the columns are the ages and the indices are the cities. In this view, the values are the names of the boys and NaN where any name doesn't fit.\n",
    "- index specifies the column to be used as the index for the pivoted DataFrame.\n",
    "- columns specifies the column whose unique values will become the new column headers.\n",
    "- values specifies the column containing the values to be placed in the new columns.\n",
    "\n",
    "<img src=\"https://atharvsuryavanshi.github.io/Diagram-Manager/images/pandas-pivot-example.png\" alt=\"pandas-pivot-example.png\" width=\"1000\">\n",
    "\n",
    "(If the image isn't visible then click here: [Pandas Pivot Function](https://atharvsuryavanshi.github.io/Diagram-Manager/images/pandas-pivot-example.png))"
   ]
  },
  {
   "cell_type": "markdown",
   "id": "40965a26-d1c5-4273-9615-a8675218d3f8",
   "metadata": {},
   "source": [
    "#### Reshape Data using pivot_table()"
   ]
  },
  {
   "cell_type": "markdown",
   "id": "9d3ba852-1b6c-4461-ba8d-83db48a524fe",
   "metadata": {},
   "source": [
    "It is a way for reshaping and summarizing data in a DataFrame. It allows us to create a pivot table that aggregates and summarizes data based on the specified index, columns, and aggregation functions."
   ]
  },
  {
   "cell_type": "code",
   "execution_count": 72,
   "id": "e33da280-048d-4ba5-906c-f93891fc2f0a",
   "metadata": {},
   "outputs": [
    {
     "data": {
      "text/html": [
       "<div>\n",
       "<style scoped>\n",
       "    .dataframe tbody tr th:only-of-type {\n",
       "        vertical-align: middle;\n",
       "    }\n",
       "\n",
       "    .dataframe tbody tr th {\n",
       "        vertical-align: top;\n",
       "    }\n",
       "\n",
       "    .dataframe thead th {\n",
       "        text-align: right;\n",
       "    }\n",
       "</style>\n",
       "<table border=\"1\" class=\"dataframe\">\n",
       "  <thead>\n",
       "    <tr style=\"text-align: right;\">\n",
       "      <th></th>\n",
       "      <th>age</th>\n",
       "    </tr>\n",
       "    <tr>\n",
       "      <th>city</th>\n",
       "      <th></th>\n",
       "    </tr>\n",
       "  </thead>\n",
       "  <tbody>\n",
       "    <tr>\n",
       "      <th>Bangalore</th>\n",
       "      <td>22.0</td>\n",
       "    </tr>\n",
       "    <tr>\n",
       "      <th>Delhi</th>\n",
       "      <td>21.5</td>\n",
       "    </tr>\n",
       "    <tr>\n",
       "      <th>Hyderabad</th>\n",
       "      <td>25.0</td>\n",
       "    </tr>\n",
       "    <tr>\n",
       "      <th>Kolkata</th>\n",
       "      <td>20.0</td>\n",
       "    </tr>\n",
       "    <tr>\n",
       "      <th>Mumbai</th>\n",
       "      <td>21.0</td>\n",
       "    </tr>\n",
       "    <tr>\n",
       "      <th>Pune</th>\n",
       "      <td>19.0</td>\n",
       "    </tr>\n",
       "  </tbody>\n",
       "</table>\n",
       "</div>"
      ],
      "text/plain": [
       "            age\n",
       "city           \n",
       "Bangalore  22.0\n",
       "Delhi      21.5\n",
       "Hyderabad  25.0\n",
       "Kolkata    20.0\n",
       "Mumbai     21.0\n",
       "Pune       19.0"
      ]
     },
     "execution_count": 72,
     "metadata": {},
     "output_type": "execute_result"
    }
   ],
   "source": [
    "boys.pivot_table(index='city', values='age', aggfunc='mean')"
   ]
  },
  {
   "cell_type": "markdown",
   "id": "f11325eb-93bd-4f3e-a89e-411cb017e36f",
   "metadata": {},
   "source": [
    "Here we got a view in which the rows are the cities and the column is age which is showing mean ages for each city.\n",
    "- index: the column to use as row labels.\n",
    "- columns: the column that will be reshaped as columns.\n",
    "- values: the column(s) to use for the new DataFrame's values.\n",
    "- aggfunc: the function to use for aggregation, defaulting to 'mean'.\n",
    "- fill_value: value to replace missing values with.\n",
    "- dropna: whether to exclude the columns whose entries are all NaN."
   ]
  },
  {
   "cell_type": "markdown",
   "id": "fe684478-3008-4b1f-8ee0-4895c952bf96",
   "metadata": {},
   "source": [
    "**Difference between pivot() and pivot_table():** The pivot() and pivot_table() functions perform similar operations but with few key differences:"
   ]
  },
  {
   "cell_type": "markdown",
   "id": "7e3777be-d35d-4f22-87e8-2fb161c1f6c6",
   "metadata": {},
   "source": [
    "| Basis                | pivot()                                 | pivot_table()                               |\n",
    "|----------------------|-----------------------------------------|---------------------------------------------|\n",
    "| Aggregation          | Does not allow aggregation of data.     | Allows aggregation. (sum, mean, count, etc.)|\n",
    "| Duplicate Index      | Cannot handle duplicate index values.   | Can handle duplicate index values.          |\n",
    "| MultiIndex           | Only accepts a single-level index.      | Accepts multi-level index for complex data. |"
   ]
  },
  {
   "cell_type": "markdown",
   "id": "4975b01f-512b-420c-a934-03f4c8161f32",
   "metadata": {},
   "source": [
    "#### Reshape Data using stack() and unstack()"
   ]
  },
  {
   "cell_type": "markdown",
   "id": "d297562c-e4b7-4a86-a502-d3be950c4524",
   "metadata": {},
   "source": [
    "We can also use the stack() and unstack() to reshape data:\n",
    "- stack() is used to pivot a level of the column labels, transforming them into innermost row index levels.\n",
    "- unstack() is used to pivot a level of the row index, transforming it into an outermost column level"
   ]
  },
  {
   "cell_type": "code",
   "execution_count": 73,
   "id": "930cbce5-184c-4067-83b8-12146959f634",
   "metadata": {},
   "outputs": [
    {
     "data": {
      "text/plain": [
       "age      \n",
       "23   name         Aarav\n",
       "     dob     2001-05-14\n",
       "     city        Mumbai\n",
       "20   name        Vivaan\n",
       "     dob     2003-08-21\n",
       "     city         Delhi\n",
       "24   name        Aditya\n",
       "     dob     2000-12-05\n",
       "     city     Bangalore\n",
       "21   name        Vihaan\n",
       "     dob     2002-07-18\n",
       "     city        Mumbai\n",
       "25   name         Arjun\n",
       "     dob     1999-11-11\n",
       "     city     Hyderabad\n",
       "19   name           Sai\n",
       "     dob     2005-03-30\n",
       "     city          Pune\n",
       "20   name         Rishi\n",
       "     dob     2004-09-25\n",
       "     city       Kolkata\n",
       "23   name         Aryan\n",
       "     dob     2001-06-01\n",
       "     city         Delhi\n",
       "20   name         Dhruv\n",
       "     dob     2003-10-12\n",
       "     city     Bangalore\n",
       "19   name         Kabir\n",
       "     dob     2004-04-17\n",
       "     city        Mumbai\n",
       "dtype: object"
      ]
     },
     "execution_count": 73,
     "metadata": {},
     "output_type": "execute_result"
    }
   ],
   "source": [
    "boys.set_index('age').stack()"
   ]
  },
  {
   "cell_type": "code",
   "execution_count": 74,
   "id": "8a229243-614e-4eff-b65c-11933d2d85fd",
   "metadata": {},
   "outputs": [
    {
     "data": {
      "text/plain": [
       "      name  \n",
       "dob   Aarav     2001-05-14\n",
       "      Vivaan    2003-08-21\n",
       "      Aditya    2000-12-05\n",
       "      Vihaan    2002-07-18\n",
       "      Arjun     1999-11-11\n",
       "      Sai       2005-03-30\n",
       "      Rishi     2004-09-25\n",
       "      Aryan     2001-06-01\n",
       "      Dhruv     2003-10-12\n",
       "      Kabir     2004-04-17\n",
       "age   Aarav             23\n",
       "      Vivaan            20\n",
       "      Aditya            24\n",
       "      Vihaan            21\n",
       "      Arjun             25\n",
       "      Sai               19\n",
       "      Rishi             20\n",
       "      Aryan             23\n",
       "      Dhruv             20\n",
       "      Kabir             19\n",
       "city  Aarav         Mumbai\n",
       "      Vivaan         Delhi\n",
       "      Aditya     Bangalore\n",
       "      Vihaan        Mumbai\n",
       "      Arjun      Hyderabad\n",
       "      Sai             Pune\n",
       "      Rishi        Kolkata\n",
       "      Aryan          Delhi\n",
       "      Dhruv      Bangalore\n",
       "      Kabir         Mumbai\n",
       "dtype: object"
      ]
     },
     "execution_count": 74,
     "metadata": {},
     "output_type": "execute_result"
    }
   ],
   "source": [
    "boys.set_index('name').unstack()"
   ]
  },
  {
   "cell_type": "markdown",
   "id": "4d1b32d8-546f-4359-9f88-cec2d489c383",
   "metadata": {},
   "source": [
    "**Name:** Columns with duplicate values are not supported with unstack(). For example: age column."
   ]
  },
  {
   "cell_type": "markdown",
   "id": "2f734aa6-c37f-452f-86df-8d920dca2c38",
   "metadata": {},
   "source": [
    "#### Reshape Data using melt()"
   ]
  },
  {
   "cell_type": "markdown",
   "id": "39dc1d47-a7f0-43e5-8d10-09b580a061e3",
   "metadata": {},
   "source": [
    "It transforms a DataFrame from a wide format to a long format.  \n",
    "Let's make another DataFrame for showing this:"
   ]
  },
  {
   "cell_type": "code",
   "execution_count": 75,
   "id": "8e6dc291-4622-485a-b4e5-057dd83568df",
   "metadata": {},
   "outputs": [
    {
     "data": {
      "text/html": [
       "<div>\n",
       "<style scoped>\n",
       "    .dataframe tbody tr th:only-of-type {\n",
       "        vertical-align: middle;\n",
       "    }\n",
       "\n",
       "    .dataframe tbody tr th {\n",
       "        vertical-align: top;\n",
       "    }\n",
       "\n",
       "    .dataframe thead th {\n",
       "        text-align: right;\n",
       "    }\n",
       "</style>\n",
       "<table border=\"1\" class=\"dataframe\">\n",
       "  <thead>\n",
       "    <tr style=\"text-align: right;\">\n",
       "      <th></th>\n",
       "      <th>name</th>\n",
       "      <th>marathi</th>\n",
       "      <th>maths</th>\n",
       "      <th>science</th>\n",
       "      <th>history</th>\n",
       "    </tr>\n",
       "  </thead>\n",
       "  <tbody>\n",
       "    <tr>\n",
       "      <th>0</th>\n",
       "      <td>Rohan</td>\n",
       "      <td>85</td>\n",
       "      <td>95</td>\n",
       "      <td>88</td>\n",
       "      <td>80</td>\n",
       "    </tr>\n",
       "    <tr>\n",
       "      <th>1</th>\n",
       "      <td>Soham</td>\n",
       "      <td>78</td>\n",
       "      <td>88</td>\n",
       "      <td>91</td>\n",
       "      <td>85</td>\n",
       "    </tr>\n",
       "    <tr>\n",
       "      <th>2</th>\n",
       "      <td>Tanmay</td>\n",
       "      <td>92</td>\n",
       "      <td>84</td>\n",
       "      <td>90</td>\n",
       "      <td>78</td>\n",
       "    </tr>\n",
       "  </tbody>\n",
       "</table>\n",
       "</div>"
      ],
      "text/plain": [
       "     name  marathi  maths  science  history\n",
       "0   Rohan       85     95       88       80\n",
       "1   Soham       78     88       91       85\n",
       "2  Tanmay       92     84       90       78"
      ]
     },
     "execution_count": 75,
     "metadata": {},
     "output_type": "execute_result"
    }
   ],
   "source": [
    "students = pd.DataFrame({\n",
    "    \"name\": [\"Rohan\", \"Soham\", \"Tanmay\"],\n",
    "    \"marathi\": [85, 78, 92],\n",
    "    \"maths\": [95, 88, 84],\n",
    "    \"science\": [88, 91, 90],\n",
    "    \"history\": [80, 85, 78]\n",
    "})\n",
    "students"
   ]
  },
  {
   "cell_type": "markdown",
   "id": "f7d2f3ae-65ef-4832-b6bc-d708918a9d19",
   "metadata": {},
   "source": [
    "Now, let's use the melt() method:"
   ]
  },
  {
   "cell_type": "code",
   "execution_count": 76,
   "id": "8ba12979-0913-4cb9-80b9-28321568471a",
   "metadata": {},
   "outputs": [
    {
     "data": {
      "text/html": [
       "<div>\n",
       "<style scoped>\n",
       "    .dataframe tbody tr th:only-of-type {\n",
       "        vertical-align: middle;\n",
       "    }\n",
       "\n",
       "    .dataframe tbody tr th {\n",
       "        vertical-align: top;\n",
       "    }\n",
       "\n",
       "    .dataframe thead th {\n",
       "        text-align: right;\n",
       "    }\n",
       "</style>\n",
       "<table border=\"1\" class=\"dataframe\">\n",
       "  <thead>\n",
       "    <tr style=\"text-align: right;\">\n",
       "      <th></th>\n",
       "      <th>name</th>\n",
       "      <th>subject</th>\n",
       "      <th>marks</th>\n",
       "    </tr>\n",
       "  </thead>\n",
       "  <tbody>\n",
       "    <tr>\n",
       "      <th>0</th>\n",
       "      <td>Rohan</td>\n",
       "      <td>marathi</td>\n",
       "      <td>85</td>\n",
       "    </tr>\n",
       "    <tr>\n",
       "      <th>1</th>\n",
       "      <td>Soham</td>\n",
       "      <td>marathi</td>\n",
       "      <td>78</td>\n",
       "    </tr>\n",
       "    <tr>\n",
       "      <th>2</th>\n",
       "      <td>Tanmay</td>\n",
       "      <td>marathi</td>\n",
       "      <td>92</td>\n",
       "    </tr>\n",
       "    <tr>\n",
       "      <th>3</th>\n",
       "      <td>Rohan</td>\n",
       "      <td>maths</td>\n",
       "      <td>95</td>\n",
       "    </tr>\n",
       "    <tr>\n",
       "      <th>4</th>\n",
       "      <td>Soham</td>\n",
       "      <td>maths</td>\n",
       "      <td>88</td>\n",
       "    </tr>\n",
       "    <tr>\n",
       "      <th>5</th>\n",
       "      <td>Tanmay</td>\n",
       "      <td>maths</td>\n",
       "      <td>84</td>\n",
       "    </tr>\n",
       "    <tr>\n",
       "      <th>6</th>\n",
       "      <td>Rohan</td>\n",
       "      <td>science</td>\n",
       "      <td>88</td>\n",
       "    </tr>\n",
       "    <tr>\n",
       "      <th>7</th>\n",
       "      <td>Soham</td>\n",
       "      <td>science</td>\n",
       "      <td>91</td>\n",
       "    </tr>\n",
       "    <tr>\n",
       "      <th>8</th>\n",
       "      <td>Tanmay</td>\n",
       "      <td>science</td>\n",
       "      <td>90</td>\n",
       "    </tr>\n",
       "    <tr>\n",
       "      <th>9</th>\n",
       "      <td>Rohan</td>\n",
       "      <td>history</td>\n",
       "      <td>80</td>\n",
       "    </tr>\n",
       "    <tr>\n",
       "      <th>10</th>\n",
       "      <td>Soham</td>\n",
       "      <td>history</td>\n",
       "      <td>85</td>\n",
       "    </tr>\n",
       "    <tr>\n",
       "      <th>11</th>\n",
       "      <td>Tanmay</td>\n",
       "      <td>history</td>\n",
       "      <td>78</td>\n",
       "    </tr>\n",
       "  </tbody>\n",
       "</table>\n",
       "</div>"
      ],
      "text/plain": [
       "      name  subject  marks\n",
       "0    Rohan  marathi     85\n",
       "1    Soham  marathi     78\n",
       "2   Tanmay  marathi     92\n",
       "3    Rohan    maths     95\n",
       "4    Soham    maths     88\n",
       "5   Tanmay    maths     84\n",
       "6    Rohan  science     88\n",
       "7    Soham  science     91\n",
       "8   Tanmay  science     90\n",
       "9    Rohan  history     80\n",
       "10   Soham  history     85\n",
       "11  Tanmay  history     78"
      ]
     },
     "execution_count": 76,
     "metadata": {},
     "output_type": "execute_result"
    }
   ],
   "source": [
    "pd.melt(students, id_vars='name', var_name='subject', value_name='marks')"
   ]
  },
  {
   "cell_type": "markdown",
   "id": "33121a5b-63c5-402d-bac7-a4e6f56f08b9",
   "metadata": {},
   "source": [
    "So, we used the melt() function to transform the DataFrame df from a wide format to a long format.\n",
    "- id_vars specifies the column that we want to keep unchanged.\n",
    "- var_name specifies the name for the new column that will hold the variable names.\n",
    "- value_name specifies the name for the new column that will hold the values."
   ]
  },
  {
   "cell_type": "markdown",
   "id": "c81db040-1de5-4d6a-950b-369d3ba29f3f",
   "metadata": {},
   "source": [
    "### Handling Duplicate Values"
   ]
  },
  {
   "cell_type": "markdown",
   "id": "12b63f8e-2a06-49e0-9d17-d7606de25482",
   "metadata": {},
   "source": [
    "Pandas provides several methods to find and remove duplicate entries in DataFrames."
   ]
  },
  {
   "cell_type": "code",
   "execution_count": 77,
   "id": "3d260274-8a78-462e-b7eb-42070bbc9344",
   "metadata": {},
   "outputs": [
    {
     "data": {
      "text/html": [
       "<div>\n",
       "<style scoped>\n",
       "    .dataframe tbody tr th:only-of-type {\n",
       "        vertical-align: middle;\n",
       "    }\n",
       "\n",
       "    .dataframe tbody tr th {\n",
       "        vertical-align: top;\n",
       "    }\n",
       "\n",
       "    .dataframe thead th {\n",
       "        text-align: right;\n",
       "    }\n",
       "</style>\n",
       "<table border=\"1\" class=\"dataframe\">\n",
       "  <thead>\n",
       "    <tr style=\"text-align: right;\">\n",
       "      <th></th>\n",
       "      <th>name</th>\n",
       "      <th>dob</th>\n",
       "      <th>age</th>\n",
       "      <th>city</th>\n",
       "    </tr>\n",
       "  </thead>\n",
       "  <tbody>\n",
       "    <tr>\n",
       "      <th>0</th>\n",
       "      <td>Aarav</td>\n",
       "      <td>2001-05-14</td>\n",
       "      <td>23</td>\n",
       "      <td>Mumbai</td>\n",
       "    </tr>\n",
       "    <tr>\n",
       "      <th>1</th>\n",
       "      <td>Vivaan</td>\n",
       "      <td>2003-08-21</td>\n",
       "      <td>20</td>\n",
       "      <td>Delhi</td>\n",
       "    </tr>\n",
       "    <tr>\n",
       "      <th>2</th>\n",
       "      <td>Aditya</td>\n",
       "      <td>2000-12-05</td>\n",
       "      <td>24</td>\n",
       "      <td>Bangalore</td>\n",
       "    </tr>\n",
       "    <tr>\n",
       "      <th>3</th>\n",
       "      <td>Vihaan</td>\n",
       "      <td>2002-07-18</td>\n",
       "      <td>21</td>\n",
       "      <td>Mumbai</td>\n",
       "    </tr>\n",
       "    <tr>\n",
       "      <th>4</th>\n",
       "      <td>Arjun</td>\n",
       "      <td>1999-11-11</td>\n",
       "      <td>25</td>\n",
       "      <td>Hyderabad</td>\n",
       "    </tr>\n",
       "    <tr>\n",
       "      <th>5</th>\n",
       "      <td>Sai</td>\n",
       "      <td>2005-03-30</td>\n",
       "      <td>19</td>\n",
       "      <td>Pune</td>\n",
       "    </tr>\n",
       "    <tr>\n",
       "      <th>6</th>\n",
       "      <td>Rishi</td>\n",
       "      <td>2004-09-25</td>\n",
       "      <td>20</td>\n",
       "      <td>Kolkata</td>\n",
       "    </tr>\n",
       "    <tr>\n",
       "      <th>7</th>\n",
       "      <td>Aryan</td>\n",
       "      <td>2001-06-01</td>\n",
       "      <td>23</td>\n",
       "      <td>Delhi</td>\n",
       "    </tr>\n",
       "    <tr>\n",
       "      <th>8</th>\n",
       "      <td>Dhruv</td>\n",
       "      <td>2003-10-12</td>\n",
       "      <td>20</td>\n",
       "      <td>Bangalore</td>\n",
       "    </tr>\n",
       "    <tr>\n",
       "      <th>9</th>\n",
       "      <td>Kabir</td>\n",
       "      <td>2004-04-17</td>\n",
       "      <td>19</td>\n",
       "      <td>Mumbai</td>\n",
       "    </tr>\n",
       "  </tbody>\n",
       "</table>\n",
       "</div>"
      ],
      "text/plain": [
       "     name         dob  age       city\n",
       "0   Aarav  2001-05-14   23     Mumbai\n",
       "1  Vivaan  2003-08-21   20      Delhi\n",
       "2  Aditya  2000-12-05   24  Bangalore\n",
       "3  Vihaan  2002-07-18   21     Mumbai\n",
       "4   Arjun  1999-11-11   25  Hyderabad\n",
       "5     Sai  2005-03-30   19       Pune\n",
       "6   Rishi  2004-09-25   20    Kolkata\n",
       "7   Aryan  2001-06-01   23      Delhi\n",
       "8   Dhruv  2003-10-12   20  Bangalore\n",
       "9   Kabir  2004-04-17   19     Mumbai"
      ]
     },
     "execution_count": 77,
     "metadata": {},
     "output_type": "execute_result"
    }
   ],
   "source": [
    "boys"
   ]
  },
  {
   "cell_type": "markdown",
   "id": "c74dba70-2c80-4178-bfc8-5c5524083321",
   "metadata": {},
   "source": [
    "#### Find Duplicate Entries"
   ]
  },
  {
   "cell_type": "markdown",
   "id": "f3b8dbe2-5bc0-42eb-b97a-9ecbedc33d50",
   "metadata": {},
   "source": [
    "We can find duplicate entries in a DataFrame using the duplicated() method. It returns True if a row is duplicated and returns False otherwise."
   ]
  },
  {
   "cell_type": "code",
   "execution_count": 78,
   "id": "a9d5ee06-73f5-41be-b074-ba20f6e8ed4a",
   "metadata": {},
   "outputs": [
    {
     "data": {
      "text/plain": [
       "0    False\n",
       "1    False\n",
       "2    False\n",
       "3    False\n",
       "4    False\n",
       "5    False\n",
       "6    False\n",
       "7    False\n",
       "8    False\n",
       "9    False\n",
       "dtype: bool"
      ]
     },
     "execution_count": 78,
     "metadata": {},
     "output_type": "execute_result"
    }
   ],
   "source": [
    "boys.duplicated()"
   ]
  },
  {
   "cell_type": "markdown",
   "id": "0eaffdce-57c4-4ce3-8c51-64a2d79e948c",
   "metadata": {},
   "source": [
    "By default, duplicated() considers all columns. There was no row with all the duplicate values and that's why it returned False for all.  \n",
    "To find duplicates based on certain columns, we can pass them as a list to the duplicated() function:"
   ]
  },
  {
   "cell_type": "code",
   "execution_count": 79,
   "id": "1aac87a8-90f1-4b66-a0ff-81f9c3131cf4",
   "metadata": {},
   "outputs": [
    {
     "data": {
      "text/plain": [
       "0    False\n",
       "1    False\n",
       "2    False\n",
       "3    False\n",
       "4    False\n",
       "5    False\n",
       "6     True\n",
       "7     True\n",
       "8     True\n",
       "9     True\n",
       "dtype: bool"
      ]
     },
     "execution_count": 79,
     "metadata": {},
     "output_type": "execute_result"
    }
   ],
   "source": [
    "boys.duplicated(subset='age')"
   ]
  },
  {
   "cell_type": "markdown",
   "id": "1c26d6b2-1526-42cd-baa2-272ef972ca70",
   "metadata": {},
   "source": [
    "Because the age column has duplicate values, we got True for indices 6 to 9. We can also check for multiple columns at once:"
   ]
  },
  {
   "cell_type": "code",
   "execution_count": 80,
   "id": "32dc592c-7639-458d-ad77-c3653635cffd",
   "metadata": {},
   "outputs": [
    {
     "data": {
      "text/plain": [
       "0    False\n",
       "1    False\n",
       "2    False\n",
       "3    False\n",
       "4    False\n",
       "5    False\n",
       "6    False\n",
       "7    False\n",
       "8    False\n",
       "9    False\n",
       "dtype: bool"
      ]
     },
     "execution_count": 80,
     "metadata": {},
     "output_type": "execute_result"
    }
   ],
   "source": [
    "boys.duplicated(subset=['age', 'city'])"
   ]
  },
  {
   "cell_type": "markdown",
   "id": "0dcd6d49-066b-4d53-8e8e-908385410a04",
   "metadata": {},
   "source": [
    "That means there is no row in the DataFrame which has same age and city values."
   ]
  },
  {
   "cell_type": "markdown",
   "id": "f10f47e4-1667-462d-8f7b-fe78f6b8e63e",
   "metadata": {},
   "source": [
    "#### Remove Duplicate Entries"
   ]
  },
  {
   "cell_type": "markdown",
   "id": "ea5fa137-e196-468a-b10c-c3a890aad7ca",
   "metadata": {},
   "source": [
    "We can remove duplicate entries in using the drop_duplicates() method."
   ]
  },
  {
   "cell_type": "code",
   "execution_count": 81,
   "id": "dba2d317-6aee-40c8-9d55-f01586d8bcd1",
   "metadata": {},
   "outputs": [
    {
     "data": {
      "text/html": [
       "<div>\n",
       "<style scoped>\n",
       "    .dataframe tbody tr th:only-of-type {\n",
       "        vertical-align: middle;\n",
       "    }\n",
       "\n",
       "    .dataframe tbody tr th {\n",
       "        vertical-align: top;\n",
       "    }\n",
       "\n",
       "    .dataframe thead th {\n",
       "        text-align: right;\n",
       "    }\n",
       "</style>\n",
       "<table border=\"1\" class=\"dataframe\">\n",
       "  <thead>\n",
       "    <tr style=\"text-align: right;\">\n",
       "      <th></th>\n",
       "      <th>name</th>\n",
       "      <th>dob</th>\n",
       "      <th>age</th>\n",
       "      <th>city</th>\n",
       "    </tr>\n",
       "  </thead>\n",
       "  <tbody>\n",
       "    <tr>\n",
       "      <th>0</th>\n",
       "      <td>Aarav</td>\n",
       "      <td>2001-05-14</td>\n",
       "      <td>23</td>\n",
       "      <td>Mumbai</td>\n",
       "    </tr>\n",
       "    <tr>\n",
       "      <th>1</th>\n",
       "      <td>Vivaan</td>\n",
       "      <td>2003-08-21</td>\n",
       "      <td>20</td>\n",
       "      <td>Delhi</td>\n",
       "    </tr>\n",
       "    <tr>\n",
       "      <th>2</th>\n",
       "      <td>Aditya</td>\n",
       "      <td>2000-12-05</td>\n",
       "      <td>24</td>\n",
       "      <td>Bangalore</td>\n",
       "    </tr>\n",
       "    <tr>\n",
       "      <th>3</th>\n",
       "      <td>Vihaan</td>\n",
       "      <td>2002-07-18</td>\n",
       "      <td>21</td>\n",
       "      <td>Mumbai</td>\n",
       "    </tr>\n",
       "    <tr>\n",
       "      <th>4</th>\n",
       "      <td>Arjun</td>\n",
       "      <td>1999-11-11</td>\n",
       "      <td>25</td>\n",
       "      <td>Hyderabad</td>\n",
       "    </tr>\n",
       "    <tr>\n",
       "      <th>5</th>\n",
       "      <td>Sai</td>\n",
       "      <td>2005-03-30</td>\n",
       "      <td>19</td>\n",
       "      <td>Pune</td>\n",
       "    </tr>\n",
       "  </tbody>\n",
       "</table>\n",
       "</div>"
      ],
      "text/plain": [
       "     name         dob  age       city\n",
       "0   Aarav  2001-05-14   23     Mumbai\n",
       "1  Vivaan  2003-08-21   20      Delhi\n",
       "2  Aditya  2000-12-05   24  Bangalore\n",
       "3  Vihaan  2002-07-18   21     Mumbai\n",
       "4   Arjun  1999-11-11   25  Hyderabad\n",
       "5     Sai  2005-03-30   19       Pune"
      ]
     },
     "execution_count": 81,
     "metadata": {},
     "output_type": "execute_result"
    }
   ],
   "source": [
    "boys.drop_duplicates(subset='age')"
   ]
  },
  {
   "cell_type": "markdown",
   "id": "0b679667-7910-448e-a39a-210dae64ef2f",
   "metadata": {},
   "source": [
    "Here the duplicate rows we had got before are removed. Although, it didn't change the original DataFrame and to do that we could set the inplace property as True. To keep last entry instead of the first entry, we can do this:"
   ]
  },
  {
   "cell_type": "code",
   "execution_count": 82,
   "id": "ad3758d3-0e1b-475c-aecf-be5693df088d",
   "metadata": {},
   "outputs": [
    {
     "data": {
      "text/html": [
       "<div>\n",
       "<style scoped>\n",
       "    .dataframe tbody tr th:only-of-type {\n",
       "        vertical-align: middle;\n",
       "    }\n",
       "\n",
       "    .dataframe tbody tr th {\n",
       "        vertical-align: top;\n",
       "    }\n",
       "\n",
       "    .dataframe thead th {\n",
       "        text-align: right;\n",
       "    }\n",
       "</style>\n",
       "<table border=\"1\" class=\"dataframe\">\n",
       "  <thead>\n",
       "    <tr style=\"text-align: right;\">\n",
       "      <th></th>\n",
       "      <th>name</th>\n",
       "      <th>dob</th>\n",
       "      <th>age</th>\n",
       "      <th>city</th>\n",
       "    </tr>\n",
       "  </thead>\n",
       "  <tbody>\n",
       "    <tr>\n",
       "      <th>2</th>\n",
       "      <td>Aditya</td>\n",
       "      <td>2000-12-05</td>\n",
       "      <td>24</td>\n",
       "      <td>Bangalore</td>\n",
       "    </tr>\n",
       "    <tr>\n",
       "      <th>3</th>\n",
       "      <td>Vihaan</td>\n",
       "      <td>2002-07-18</td>\n",
       "      <td>21</td>\n",
       "      <td>Mumbai</td>\n",
       "    </tr>\n",
       "    <tr>\n",
       "      <th>4</th>\n",
       "      <td>Arjun</td>\n",
       "      <td>1999-11-11</td>\n",
       "      <td>25</td>\n",
       "      <td>Hyderabad</td>\n",
       "    </tr>\n",
       "    <tr>\n",
       "      <th>7</th>\n",
       "      <td>Aryan</td>\n",
       "      <td>2001-06-01</td>\n",
       "      <td>23</td>\n",
       "      <td>Delhi</td>\n",
       "    </tr>\n",
       "    <tr>\n",
       "      <th>8</th>\n",
       "      <td>Dhruv</td>\n",
       "      <td>2003-10-12</td>\n",
       "      <td>20</td>\n",
       "      <td>Bangalore</td>\n",
       "    </tr>\n",
       "    <tr>\n",
       "      <th>9</th>\n",
       "      <td>Kabir</td>\n",
       "      <td>2004-04-17</td>\n",
       "      <td>19</td>\n",
       "      <td>Mumbai</td>\n",
       "    </tr>\n",
       "  </tbody>\n",
       "</table>\n",
       "</div>"
      ],
      "text/plain": [
       "     name         dob  age       city\n",
       "2  Aditya  2000-12-05   24  Bangalore\n",
       "3  Vihaan  2002-07-18   21     Mumbai\n",
       "4   Arjun  1999-11-11   25  Hyderabad\n",
       "7   Aryan  2001-06-01   23      Delhi\n",
       "8   Dhruv  2003-10-12   20  Bangalore\n",
       "9   Kabir  2004-04-17   19     Mumbai"
      ]
     },
     "execution_count": 82,
     "metadata": {},
     "output_type": "execute_result"
    }
   ],
   "source": [
    "boys.drop_duplicates(subset='age', keep='last')"
   ]
  },
  {
   "cell_type": "markdown",
   "id": "6cf73619-24e7-4c46-9046-bfc4d1860776",
   "metadata": {},
   "source": [
    "Here, it removed the rows at indices 0, 1, 5 and 6. That means it kept the last occurances instead of the first."
   ]
  },
  {
   "cell_type": "markdown",
   "id": "08707ab6-af61-4fc3-ac3e-4e43ac17fc8b",
   "metadata": {},
   "source": [
    "## Data Import and Export"
   ]
  },
  {
   "cell_type": "markdown",
   "id": "c12915b6-0118-486a-8b46-ef41509dc4d6",
   "metadata": {},
   "source": [
    "Let's see our data first:"
   ]
  },
  {
   "cell_type": "code",
   "execution_count": 83,
   "id": "f0e26da6-f2cf-4e90-8bb1-255a30ae85cf",
   "metadata": {},
   "outputs": [
    {
     "data": {
      "text/html": [
       "<div>\n",
       "<style scoped>\n",
       "    .dataframe tbody tr th:only-of-type {\n",
       "        vertical-align: middle;\n",
       "    }\n",
       "\n",
       "    .dataframe tbody tr th {\n",
       "        vertical-align: top;\n",
       "    }\n",
       "\n",
       "    .dataframe thead th {\n",
       "        text-align: right;\n",
       "    }\n",
       "</style>\n",
       "<table border=\"1\" class=\"dataframe\">\n",
       "  <thead>\n",
       "    <tr style=\"text-align: right;\">\n",
       "      <th></th>\n",
       "      <th>name</th>\n",
       "      <th>dob</th>\n",
       "      <th>age</th>\n",
       "      <th>city</th>\n",
       "    </tr>\n",
       "  </thead>\n",
       "  <tbody>\n",
       "    <tr>\n",
       "      <th>0</th>\n",
       "      <td>Aarav</td>\n",
       "      <td>2001-05-14</td>\n",
       "      <td>23</td>\n",
       "      <td>Mumbai</td>\n",
       "    </tr>\n",
       "    <tr>\n",
       "      <th>1</th>\n",
       "      <td>Vivaan</td>\n",
       "      <td>2003-08-21</td>\n",
       "      <td>20</td>\n",
       "      <td>Delhi</td>\n",
       "    </tr>\n",
       "    <tr>\n",
       "      <th>2</th>\n",
       "      <td>Aditya</td>\n",
       "      <td>2000-12-05</td>\n",
       "      <td>24</td>\n",
       "      <td>Bangalore</td>\n",
       "    </tr>\n",
       "    <tr>\n",
       "      <th>3</th>\n",
       "      <td>Vihaan</td>\n",
       "      <td>2002-07-18</td>\n",
       "      <td>21</td>\n",
       "      <td>Mumbai</td>\n",
       "    </tr>\n",
       "    <tr>\n",
       "      <th>4</th>\n",
       "      <td>Arjun</td>\n",
       "      <td>1999-11-11</td>\n",
       "      <td>25</td>\n",
       "      <td>Hyderabad</td>\n",
       "    </tr>\n",
       "    <tr>\n",
       "      <th>5</th>\n",
       "      <td>Sai</td>\n",
       "      <td>2005-03-30</td>\n",
       "      <td>19</td>\n",
       "      <td>Pune</td>\n",
       "    </tr>\n",
       "    <tr>\n",
       "      <th>6</th>\n",
       "      <td>Rishi</td>\n",
       "      <td>2004-09-25</td>\n",
       "      <td>20</td>\n",
       "      <td>Kolkata</td>\n",
       "    </tr>\n",
       "    <tr>\n",
       "      <th>7</th>\n",
       "      <td>Aryan</td>\n",
       "      <td>2001-06-01</td>\n",
       "      <td>23</td>\n",
       "      <td>Delhi</td>\n",
       "    </tr>\n",
       "    <tr>\n",
       "      <th>8</th>\n",
       "      <td>Dhruv</td>\n",
       "      <td>2003-10-12</td>\n",
       "      <td>20</td>\n",
       "      <td>Bangalore</td>\n",
       "    </tr>\n",
       "    <tr>\n",
       "      <th>9</th>\n",
       "      <td>Kabir</td>\n",
       "      <td>2004-04-17</td>\n",
       "      <td>19</td>\n",
       "      <td>Mumbai</td>\n",
       "    </tr>\n",
       "  </tbody>\n",
       "</table>\n",
       "</div>"
      ],
      "text/plain": [
       "     name         dob  age       city\n",
       "0   Aarav  2001-05-14   23     Mumbai\n",
       "1  Vivaan  2003-08-21   20      Delhi\n",
       "2  Aditya  2000-12-05   24  Bangalore\n",
       "3  Vihaan  2002-07-18   21     Mumbai\n",
       "4   Arjun  1999-11-11   25  Hyderabad\n",
       "5     Sai  2005-03-30   19       Pune\n",
       "6   Rishi  2004-09-25   20    Kolkata\n",
       "7   Aryan  2001-06-01   23      Delhi\n",
       "8   Dhruv  2003-10-12   20  Bangalore\n",
       "9   Kabir  2004-04-17   19     Mumbai"
      ]
     },
     "execution_count": 83,
     "metadata": {},
     "output_type": "execute_result"
    }
   ],
   "source": [
    "boys"
   ]
  },
  {
   "cell_type": "markdown",
   "id": "d1f00b1f-8fdd-4cac-8ee1-25e23cadc189",
   "metadata": {},
   "source": [
    "### Reading and Writing Data to a CSV File"
   ]
  },
  {
   "cell_type": "code",
   "execution_count": 84,
   "id": "b6bf6887-191d-49b2-a395-1efd6e48e516",
   "metadata": {},
   "outputs": [],
   "source": [
    "boys.to_csv('boys.csv', index=False)"
   ]
  },
  {
   "cell_type": "markdown",
   "id": "ab2c650a-3800-4c3f-9a83-446ea5fcfda5",
   "metadata": {},
   "source": [
    "These are some commonly used arguments of the to_csv() function. All of them are optional except path_or_buf:\n",
    "- **path_or_buf:** represents the path or buffer object where the DataFrame will be saved as a CSV file.\n",
    "- **sep:** specifies the delimiter to be used in the output CSV file.\n",
    "- **header:** indicates whether to include the header row in the output CSV file.\n",
    "- **index:** determines whether to include the index column in the output CSV file.\n",
    "- **mode:** specifies the mode in which the output file will be opened.\n",
    "- **encoding:** sets the character encoding to be used when writing the CSV file.\n",
    "- **quoting:** determines the quoting behavior for fields that contain special characters.\n",
    "- **line_terminator:** specifies the character sequence used to terminate lines in the output CSV file."
   ]
  },
  {
   "cell_type": "code",
   "execution_count": 85,
   "id": "8d567c50-6128-48cd-8906-3b21858e08c0",
   "metadata": {},
   "outputs": [
    {
     "data": {
      "text/html": [
       "<div>\n",
       "<style scoped>\n",
       "    .dataframe tbody tr th:only-of-type {\n",
       "        vertical-align: middle;\n",
       "    }\n",
       "\n",
       "    .dataframe tbody tr th {\n",
       "        vertical-align: top;\n",
       "    }\n",
       "\n",
       "    .dataframe thead th {\n",
       "        text-align: right;\n",
       "    }\n",
       "</style>\n",
       "<table border=\"1\" class=\"dataframe\">\n",
       "  <thead>\n",
       "    <tr style=\"text-align: right;\">\n",
       "      <th></th>\n",
       "      <th>name</th>\n",
       "      <th>dob</th>\n",
       "      <th>age</th>\n",
       "      <th>city</th>\n",
       "    </tr>\n",
       "  </thead>\n",
       "  <tbody>\n",
       "    <tr>\n",
       "      <th>0</th>\n",
       "      <td>Aarav</td>\n",
       "      <td>2001-05-14</td>\n",
       "      <td>23</td>\n",
       "      <td>Mumbai</td>\n",
       "    </tr>\n",
       "    <tr>\n",
       "      <th>1</th>\n",
       "      <td>Vivaan</td>\n",
       "      <td>2003-08-21</td>\n",
       "      <td>20</td>\n",
       "      <td>Delhi</td>\n",
       "    </tr>\n",
       "    <tr>\n",
       "      <th>2</th>\n",
       "      <td>Aditya</td>\n",
       "      <td>2000-12-05</td>\n",
       "      <td>24</td>\n",
       "      <td>Bangalore</td>\n",
       "    </tr>\n",
       "    <tr>\n",
       "      <th>3</th>\n",
       "      <td>Vihaan</td>\n",
       "      <td>2002-07-18</td>\n",
       "      <td>21</td>\n",
       "      <td>Mumbai</td>\n",
       "    </tr>\n",
       "    <tr>\n",
       "      <th>4</th>\n",
       "      <td>Arjun</td>\n",
       "      <td>1999-11-11</td>\n",
       "      <td>25</td>\n",
       "      <td>Hyderabad</td>\n",
       "    </tr>\n",
       "    <tr>\n",
       "      <th>5</th>\n",
       "      <td>Sai</td>\n",
       "      <td>2005-03-30</td>\n",
       "      <td>19</td>\n",
       "      <td>Pune</td>\n",
       "    </tr>\n",
       "    <tr>\n",
       "      <th>6</th>\n",
       "      <td>Rishi</td>\n",
       "      <td>2004-09-25</td>\n",
       "      <td>20</td>\n",
       "      <td>Kolkata</td>\n",
       "    </tr>\n",
       "    <tr>\n",
       "      <th>7</th>\n",
       "      <td>Aryan</td>\n",
       "      <td>2001-06-01</td>\n",
       "      <td>23</td>\n",
       "      <td>Delhi</td>\n",
       "    </tr>\n",
       "    <tr>\n",
       "      <th>8</th>\n",
       "      <td>Dhruv</td>\n",
       "      <td>2003-10-12</td>\n",
       "      <td>20</td>\n",
       "      <td>Bangalore</td>\n",
       "    </tr>\n",
       "    <tr>\n",
       "      <th>9</th>\n",
       "      <td>Kabir</td>\n",
       "      <td>2004-04-17</td>\n",
       "      <td>19</td>\n",
       "      <td>Mumbai</td>\n",
       "    </tr>\n",
       "  </tbody>\n",
       "</table>\n",
       "</div>"
      ],
      "text/plain": [
       "     name         dob  age       city\n",
       "0   Aarav  2001-05-14   23     Mumbai\n",
       "1  Vivaan  2003-08-21   20      Delhi\n",
       "2  Aditya  2000-12-05   24  Bangalore\n",
       "3  Vihaan  2002-07-18   21     Mumbai\n",
       "4   Arjun  1999-11-11   25  Hyderabad\n",
       "5     Sai  2005-03-30   19       Pune\n",
       "6   Rishi  2004-09-25   20    Kolkata\n",
       "7   Aryan  2001-06-01   23      Delhi\n",
       "8   Dhruv  2003-10-12   20  Bangalore\n",
       "9   Kabir  2004-04-17   19     Mumbai"
      ]
     },
     "execution_count": 85,
     "metadata": {},
     "output_type": "execute_result"
    }
   ],
   "source": [
    "pd.read_csv('boys.csv')"
   ]
  },
  {
   "cell_type": "markdown",
   "id": "e3c4c7dd-0ae8-420b-956d-61f12903f85b",
   "metadata": {},
   "source": [
    "If the filename isn't provided then it returns a CSV string:"
   ]
  },
  {
   "cell_type": "code",
   "execution_count": 86,
   "id": "7b1f2673-e826-4c39-bb03-cc4436d88b7d",
   "metadata": {},
   "outputs": [
    {
     "data": {
      "text/plain": [
       "'name,dob,age,city\\r\\nAarav,2001-05-14,23,Mumbai\\r\\nVivaan,2003-08-21,20,Delhi\\r\\nAditya,2000-12-05,24,Bangalore\\r\\nVihaan,2002-07-18,21,Mumbai\\r\\nArjun,1999-11-11,25,Hyderabad\\r\\nSai,2005-03-30,19,Pune\\r\\nRishi,2004-09-25,20,Kolkata\\r\\nAryan,2001-06-01,23,Delhi\\r\\nDhruv,2003-10-12,20,Bangalore\\r\\nKabir,2004-04-17,19,Mumbai\\r\\n'"
      ]
     },
     "execution_count": 86,
     "metadata": {},
     "output_type": "execute_result"
    }
   ],
   "source": [
    "boys.to_csv(index=False)"
   ]
  },
  {
   "cell_type": "markdown",
   "id": "7d9c76f8-8919-4017-a155-2d6869f74e4e",
   "metadata": {},
   "source": [
    "These are some commonly used arguments of the read_csv() function. All of them are optional except filepath_or_buffer:\n",
    "- **filepath_or_buffer:** represents the path or buffer object containing the CSV data to be read.\n",
    "- **sep** specifies the delimiter used in the CSV file.\n",
    "- **header:** indicates the row number to be used as the header or column names.\n",
    "- **names:** a list of column names to assign to the DataFrame.\n",
    "- **index_col:** specifies the column to be used as the index of the DataFrame.\n",
    "- **usecols:** a list of columns to be read and included in the DataFrame.\n",
    "- **skiprows:** used to skip specific rows while reading the CSV file.\n",
    "- **nrows:** sets the maximum number of rows to be read from the CSV file.\n",
    "- **skipinitialspace:** determines whether to skip any whitespace after the delimiter in each field."
   ]
  },
  {
   "cell_type": "markdown",
   "id": "63099f73-b12c-4caa-9cf0-0235d1370a77",
   "metadata": {},
   "source": [
    "### Reading and Writing Data to an Excel Sheet"
   ]
  },
  {
   "cell_type": "code",
   "execution_count": 87,
   "id": "24ea1488-61a7-4f5f-864d-59b8f26a0601",
   "metadata": {},
   "outputs": [],
   "source": [
    "boys.to_excel('boys.xlsx', index=False)"
   ]
  },
  {
   "cell_type": "markdown",
   "id": "50c64fd8-c040-464f-b747-44ea5de9a42d",
   "metadata": {},
   "source": [
    "Parameters:\n",
    "- **excel_writer:** specifies the file path or existing ExcelWriter.\n",
    "- **sheet_name:** specifies the sheet name or names.\n",
    "- **na_rep:** specifies the representation for missing data.\n",
    "- **float_format:** specifies the format for floating-point numbers.\n",
    "- **columns:** specifies the columns to write.\n",
    "- **header:** specifies whether to write the column headers.\n",
    "- **index:** specifies whether to write the DataFrame’s index.\n",
    "- **index_label:** specifies the column label for the index column(s).\n",
    "- **startrow:** specifies the upper left cell row to dump data frame.\n",
    "- **startcol:** specifies the upper left cell column to dump data frame.\n",
    "- **engine:** specifies the write engine to use.\n",
    "- **merge_cells:** specifies whether to merge cells.\n",
    "- **encoding:** specifies the encoding of the resulting file.\n",
    "- **inf_rep:** specifies the representation for infinity.\n",
    "- **verbose:** specifies whether to show output.\n",
    "- **freeze_panes:** specifies the one- or two-dimensional array-like to freeze."
   ]
  },
  {
   "cell_type": "code",
   "execution_count": 88,
   "id": "63fb359c-7d72-4ced-95fb-48ee6f407e2a",
   "metadata": {},
   "outputs": [
    {
     "data": {
      "text/html": [
       "<div>\n",
       "<style scoped>\n",
       "    .dataframe tbody tr th:only-of-type {\n",
       "        vertical-align: middle;\n",
       "    }\n",
       "\n",
       "    .dataframe tbody tr th {\n",
       "        vertical-align: top;\n",
       "    }\n",
       "\n",
       "    .dataframe thead th {\n",
       "        text-align: right;\n",
       "    }\n",
       "</style>\n",
       "<table border=\"1\" class=\"dataframe\">\n",
       "  <thead>\n",
       "    <tr style=\"text-align: right;\">\n",
       "      <th></th>\n",
       "      <th>name</th>\n",
       "      <th>dob</th>\n",
       "      <th>age</th>\n",
       "      <th>city</th>\n",
       "    </tr>\n",
       "  </thead>\n",
       "  <tbody>\n",
       "    <tr>\n",
       "      <th>0</th>\n",
       "      <td>Aarav</td>\n",
       "      <td>2001-05-14</td>\n",
       "      <td>23</td>\n",
       "      <td>Mumbai</td>\n",
       "    </tr>\n",
       "    <tr>\n",
       "      <th>1</th>\n",
       "      <td>Vivaan</td>\n",
       "      <td>2003-08-21</td>\n",
       "      <td>20</td>\n",
       "      <td>Delhi</td>\n",
       "    </tr>\n",
       "    <tr>\n",
       "      <th>2</th>\n",
       "      <td>Aditya</td>\n",
       "      <td>2000-12-05</td>\n",
       "      <td>24</td>\n",
       "      <td>Bangalore</td>\n",
       "    </tr>\n",
       "    <tr>\n",
       "      <th>3</th>\n",
       "      <td>Vihaan</td>\n",
       "      <td>2002-07-18</td>\n",
       "      <td>21</td>\n",
       "      <td>Mumbai</td>\n",
       "    </tr>\n",
       "    <tr>\n",
       "      <th>4</th>\n",
       "      <td>Arjun</td>\n",
       "      <td>1999-11-11</td>\n",
       "      <td>25</td>\n",
       "      <td>Hyderabad</td>\n",
       "    </tr>\n",
       "    <tr>\n",
       "      <th>5</th>\n",
       "      <td>Sai</td>\n",
       "      <td>2005-03-30</td>\n",
       "      <td>19</td>\n",
       "      <td>Pune</td>\n",
       "    </tr>\n",
       "    <tr>\n",
       "      <th>6</th>\n",
       "      <td>Rishi</td>\n",
       "      <td>2004-09-25</td>\n",
       "      <td>20</td>\n",
       "      <td>Kolkata</td>\n",
       "    </tr>\n",
       "    <tr>\n",
       "      <th>7</th>\n",
       "      <td>Aryan</td>\n",
       "      <td>2001-06-01</td>\n",
       "      <td>23</td>\n",
       "      <td>Delhi</td>\n",
       "    </tr>\n",
       "    <tr>\n",
       "      <th>8</th>\n",
       "      <td>Dhruv</td>\n",
       "      <td>2003-10-12</td>\n",
       "      <td>20</td>\n",
       "      <td>Bangalore</td>\n",
       "    </tr>\n",
       "    <tr>\n",
       "      <th>9</th>\n",
       "      <td>Kabir</td>\n",
       "      <td>2004-04-17</td>\n",
       "      <td>19</td>\n",
       "      <td>Mumbai</td>\n",
       "    </tr>\n",
       "  </tbody>\n",
       "</table>\n",
       "</div>"
      ],
      "text/plain": [
       "     name         dob  age       city\n",
       "0   Aarav  2001-05-14   23     Mumbai\n",
       "1  Vivaan  2003-08-21   20      Delhi\n",
       "2  Aditya  2000-12-05   24  Bangalore\n",
       "3  Vihaan  2002-07-18   21     Mumbai\n",
       "4   Arjun  1999-11-11   25  Hyderabad\n",
       "5     Sai  2005-03-30   19       Pune\n",
       "6   Rishi  2004-09-25   20    Kolkata\n",
       "7   Aryan  2001-06-01   23      Delhi\n",
       "8   Dhruv  2003-10-12   20  Bangalore\n",
       "9   Kabir  2004-04-17   19     Mumbai"
      ]
     },
     "execution_count": 88,
     "metadata": {},
     "output_type": "execute_result"
    }
   ],
   "source": [
    "pd.read_excel('boys.xlsx')"
   ]
  },
  {
   "cell_type": "markdown",
   "id": "fe59edd2-f46d-4879-aa81-5476c101ba4d",
   "metadata": {},
   "source": [
    "Parameters:\n",
    "- **io:** specifies the file path, URL, or file-like object.\n",
    "- **sheet_name:** specifies the sheet name, sheet number, or list of sheet names/numbers.\n",
    "- **header:** specifies the row number(s) to use as the column names.\n",
    "- **names:** specifies the column names to use.\n",
    "- **index_col:** specifies the column(s) to set as the index.\n",
    "- **usecols:** specifies the columns to parse.\n",
    "- **squeeze:** specifies whether to return a Series when reading only one column.\n",
    "- **dtype:** specifies the data type for data or columns.\n",
    "- **engine:** specifies the write engine to use.\n",
    "- **converters:** specifies the functions for converting values in certain columns.\n",
    "- **true_values:** specifies the values to consider as True.\n",
    "- **false_values:** specifies the values to consider as False.\n",
    "- **skiprows:** specifies the rows to skip at the beginning.\n",
    "- **nrows:** specifies the number of rows to read.\n",
    "- **na_values:** specifies the additional strings to recognize as NA/NaN.\n",
    "- **parse_dates:** specifies the columns to parse as dates.\n",
    "- **date_parser:** specifies the function to use for parsing dates.\n",
    "- **thousands:** specifies the character to recognize as thousands separator.\n",
    "- **comment:** specifies the character to recognize as a comment indicator.\n",
    "- **skipfooter:** specifies the number of lines to skip at the end.\n",
    "- **convert_float:** specifies whether to convert integral floats to int.\n",
    "- **mangle_dupe_cols:** specifies whether to mangle duplicate columns."
   ]
  },
  {
   "cell_type": "markdown",
   "id": "210691c4-575e-4c0d-b352-c79d2137ca5b",
   "metadata": {},
   "source": [
    "### Reading and Writing Data to a SQL File"
   ]
  },
  {
   "cell_type": "markdown",
   "id": "071b92cd-0c1f-494b-9e26-0454c906a14a",
   "metadata": {},
   "source": [
    "For SQL, we need to setup some things. First we have to install SQLAlchemy package: `pip install sqlalchemy`.  \n",
    "Then we have to create an engine. After that we can save and read data from an SQL file."
   ]
  },
  {
   "cell_type": "code",
   "execution_count": 89,
   "id": "1f85f5d9-172f-4089-aaf4-bddf2ee25c38",
   "metadata": {},
   "outputs": [
    {
     "data": {
      "text/plain": [
       "10"
      ]
     },
     "execution_count": 89,
     "metadata": {},
     "output_type": "execute_result"
    }
   ],
   "source": [
    "from sqlalchemy import create_engine\n",
    "engine = create_engine('sqlite:///boys.db')\n",
    "boys.to_sql('boys', con=engine, if_exists='replace', index=False)"
   ]
  },
  {
   "cell_type": "markdown",
   "id": "40b582e8-292a-4995-b545-c328a96fe94e",
   "metadata": {},
   "source": [
    "Parameters:\n",
    "- **name:** specifies the name of the SQL table.\n",
    "- **con:** specifies the connection object to the database.\n",
    "- **schema:** specifies the schema in which the table will be created.\n",
    "- **if_exists:** specifies what to do if the table already exists ('fail', 'replace', 'append').\n",
    "- **index:** specifies whether to write the DataFrame's index as a column.\n",
    "- **index_label:** specifies the column label for the index column(s).\n",
    "- **chunksize:** specifies the number of rows to write at a time.\n",
    "- **dtype:** specifies the data types for the columns.\n",
    "- **method:** specifies the method to use for inserting data into the SQL table."
   ]
  },
  {
   "cell_type": "code",
   "execution_count": 90,
   "id": "4bf6f3bf-8ba1-4d86-a319-b59b4df8e6f0",
   "metadata": {},
   "outputs": [
    {
     "data": {
      "text/html": [
       "<div>\n",
       "<style scoped>\n",
       "    .dataframe tbody tr th:only-of-type {\n",
       "        vertical-align: middle;\n",
       "    }\n",
       "\n",
       "    .dataframe tbody tr th {\n",
       "        vertical-align: top;\n",
       "    }\n",
       "\n",
       "    .dataframe thead th {\n",
       "        text-align: right;\n",
       "    }\n",
       "</style>\n",
       "<table border=\"1\" class=\"dataframe\">\n",
       "  <thead>\n",
       "    <tr style=\"text-align: right;\">\n",
       "      <th></th>\n",
       "      <th>name</th>\n",
       "      <th>dob</th>\n",
       "      <th>age</th>\n",
       "      <th>city</th>\n",
       "    </tr>\n",
       "  </thead>\n",
       "  <tbody>\n",
       "    <tr>\n",
       "      <th>0</th>\n",
       "      <td>Aarav</td>\n",
       "      <td>2001-05-14</td>\n",
       "      <td>23</td>\n",
       "      <td>Mumbai</td>\n",
       "    </tr>\n",
       "    <tr>\n",
       "      <th>1</th>\n",
       "      <td>Vivaan</td>\n",
       "      <td>2003-08-21</td>\n",
       "      <td>20</td>\n",
       "      <td>Delhi</td>\n",
       "    </tr>\n",
       "    <tr>\n",
       "      <th>2</th>\n",
       "      <td>Aditya</td>\n",
       "      <td>2000-12-05</td>\n",
       "      <td>24</td>\n",
       "      <td>Bangalore</td>\n",
       "    </tr>\n",
       "    <tr>\n",
       "      <th>3</th>\n",
       "      <td>Vihaan</td>\n",
       "      <td>2002-07-18</td>\n",
       "      <td>21</td>\n",
       "      <td>Mumbai</td>\n",
       "    </tr>\n",
       "    <tr>\n",
       "      <th>4</th>\n",
       "      <td>Arjun</td>\n",
       "      <td>1999-11-11</td>\n",
       "      <td>25</td>\n",
       "      <td>Hyderabad</td>\n",
       "    </tr>\n",
       "    <tr>\n",
       "      <th>5</th>\n",
       "      <td>Sai</td>\n",
       "      <td>2005-03-30</td>\n",
       "      <td>19</td>\n",
       "      <td>Pune</td>\n",
       "    </tr>\n",
       "    <tr>\n",
       "      <th>6</th>\n",
       "      <td>Rishi</td>\n",
       "      <td>2004-09-25</td>\n",
       "      <td>20</td>\n",
       "      <td>Kolkata</td>\n",
       "    </tr>\n",
       "    <tr>\n",
       "      <th>7</th>\n",
       "      <td>Aryan</td>\n",
       "      <td>2001-06-01</td>\n",
       "      <td>23</td>\n",
       "      <td>Delhi</td>\n",
       "    </tr>\n",
       "    <tr>\n",
       "      <th>8</th>\n",
       "      <td>Dhruv</td>\n",
       "      <td>2003-10-12</td>\n",
       "      <td>20</td>\n",
       "      <td>Bangalore</td>\n",
       "    </tr>\n",
       "    <tr>\n",
       "      <th>9</th>\n",
       "      <td>Kabir</td>\n",
       "      <td>2004-04-17</td>\n",
       "      <td>19</td>\n",
       "      <td>Mumbai</td>\n",
       "    </tr>\n",
       "  </tbody>\n",
       "</table>\n",
       "</div>"
      ],
      "text/plain": [
       "     name         dob  age       city\n",
       "0   Aarav  2001-05-14   23     Mumbai\n",
       "1  Vivaan  2003-08-21   20      Delhi\n",
       "2  Aditya  2000-12-05   24  Bangalore\n",
       "3  Vihaan  2002-07-18   21     Mumbai\n",
       "4   Arjun  1999-11-11   25  Hyderabad\n",
       "5     Sai  2005-03-30   19       Pune\n",
       "6   Rishi  2004-09-25   20    Kolkata\n",
       "7   Aryan  2001-06-01   23      Delhi\n",
       "8   Dhruv  2003-10-12   20  Bangalore\n",
       "9   Kabir  2004-04-17   19     Mumbai"
      ]
     },
     "execution_count": 90,
     "metadata": {},
     "output_type": "execute_result"
    }
   ],
   "source": [
    "pd.read_sql('boys', con=engine)"
   ]
  },
  {
   "cell_type": "markdown",
   "id": "c098dd4d-ba82-44e2-bae1-9873a8c92452",
   "metadata": {},
   "source": [
    "Parameters:\n",
    "- **sql:** specifies the SQL query or the table name to read from the database.\n",
    "- **con:** specifies the connection object to the database.\n",
    "- **index_col:** specifies the column(s) to set as the index of the DataFrame.\n",
    "- **coerce_float:** specifies whether to attempt to convert values to floats.\n",
    "- **params:** specifies the parameters to pass to the SQL query.\n",
    "- **parse_dates:** specifies the columns to parse as dates.\n",
    "- **columns:** specifies the columns to read from the SQL table.\n",
    "- **chunksize:** specifies the number of rows to include in each chunk when reading the data."
   ]
  },
  {
   "cell_type": "markdown",
   "id": "81168ead-8423-4d3d-87b1-2c6e4f41967a",
   "metadata": {},
   "source": [
    "### Reading and Writing Data to a JSON File"
   ]
  },
  {
   "cell_type": "code",
   "execution_count": 91,
   "id": "869fdcb7-9c6b-4192-85a8-315a90282299",
   "metadata": {},
   "outputs": [],
   "source": [
    "boys.to_json('boys.json', index=False)"
   ]
  },
  {
   "cell_type": "markdown",
   "id": "db3f79ce-3929-48ce-88e8-7c30b966dba4",
   "metadata": {},
   "source": [
    "These are some commonly used arguments of the to_json() function:\n",
    "- **path_or_buf:** specifies the file path or buffer where the JSON string is written.\n",
    "- **orient:** specifies the format of the JSON string.\n",
    "- **lines:** specifies whether the resulting JSON string should be in a line-separated format.\n",
    "- **compression:** specifies the compression algorithm for file output.\n",
    "- **index:** specifies whether to include the DataFrame's index in the JSON string."
   ]
  },
  {
   "cell_type": "code",
   "execution_count": 92,
   "id": "9607a1fb-0bf5-40c7-af29-ce74d2a9732f",
   "metadata": {},
   "outputs": [
    {
     "data": {
      "text/html": [
       "<div>\n",
       "<style scoped>\n",
       "    .dataframe tbody tr th:only-of-type {\n",
       "        vertical-align: middle;\n",
       "    }\n",
       "\n",
       "    .dataframe tbody tr th {\n",
       "        vertical-align: top;\n",
       "    }\n",
       "\n",
       "    .dataframe thead th {\n",
       "        text-align: right;\n",
       "    }\n",
       "</style>\n",
       "<table border=\"1\" class=\"dataframe\">\n",
       "  <thead>\n",
       "    <tr style=\"text-align: right;\">\n",
       "      <th></th>\n",
       "      <th>name</th>\n",
       "      <th>dob</th>\n",
       "      <th>age</th>\n",
       "      <th>city</th>\n",
       "    </tr>\n",
       "  </thead>\n",
       "  <tbody>\n",
       "    <tr>\n",
       "      <th>0</th>\n",
       "      <td>Aarav</td>\n",
       "      <td>2001-05-14</td>\n",
       "      <td>23</td>\n",
       "      <td>Mumbai</td>\n",
       "    </tr>\n",
       "    <tr>\n",
       "      <th>1</th>\n",
       "      <td>Vivaan</td>\n",
       "      <td>2003-08-21</td>\n",
       "      <td>20</td>\n",
       "      <td>Delhi</td>\n",
       "    </tr>\n",
       "    <tr>\n",
       "      <th>2</th>\n",
       "      <td>Aditya</td>\n",
       "      <td>2000-12-05</td>\n",
       "      <td>24</td>\n",
       "      <td>Bangalore</td>\n",
       "    </tr>\n",
       "    <tr>\n",
       "      <th>3</th>\n",
       "      <td>Vihaan</td>\n",
       "      <td>2002-07-18</td>\n",
       "      <td>21</td>\n",
       "      <td>Mumbai</td>\n",
       "    </tr>\n",
       "    <tr>\n",
       "      <th>4</th>\n",
       "      <td>Arjun</td>\n",
       "      <td>1999-11-11</td>\n",
       "      <td>25</td>\n",
       "      <td>Hyderabad</td>\n",
       "    </tr>\n",
       "    <tr>\n",
       "      <th>5</th>\n",
       "      <td>Sai</td>\n",
       "      <td>2005-03-30</td>\n",
       "      <td>19</td>\n",
       "      <td>Pune</td>\n",
       "    </tr>\n",
       "    <tr>\n",
       "      <th>6</th>\n",
       "      <td>Rishi</td>\n",
       "      <td>2004-09-25</td>\n",
       "      <td>20</td>\n",
       "      <td>Kolkata</td>\n",
       "    </tr>\n",
       "    <tr>\n",
       "      <th>7</th>\n",
       "      <td>Aryan</td>\n",
       "      <td>2001-06-01</td>\n",
       "      <td>23</td>\n",
       "      <td>Delhi</td>\n",
       "    </tr>\n",
       "    <tr>\n",
       "      <th>8</th>\n",
       "      <td>Dhruv</td>\n",
       "      <td>2003-10-12</td>\n",
       "      <td>20</td>\n",
       "      <td>Bangalore</td>\n",
       "    </tr>\n",
       "    <tr>\n",
       "      <th>9</th>\n",
       "      <td>Kabir</td>\n",
       "      <td>2004-04-17</td>\n",
       "      <td>19</td>\n",
       "      <td>Mumbai</td>\n",
       "    </tr>\n",
       "  </tbody>\n",
       "</table>\n",
       "</div>"
      ],
      "text/plain": [
       "     name         dob  age       city\n",
       "0   Aarav  2001-05-14   23     Mumbai\n",
       "1  Vivaan  2003-08-21   20      Delhi\n",
       "2  Aditya  2000-12-05   24  Bangalore\n",
       "3  Vihaan  2002-07-18   21     Mumbai\n",
       "4   Arjun  1999-11-11   25  Hyderabad\n",
       "5     Sai  2005-03-30   19       Pune\n",
       "6   Rishi  2004-09-25   20    Kolkata\n",
       "7   Aryan  2001-06-01   23      Delhi\n",
       "8   Dhruv  2003-10-12   20  Bangalore\n",
       "9   Kabir  2004-04-17   19     Mumbai"
      ]
     },
     "execution_count": 92,
     "metadata": {},
     "output_type": "execute_result"
    }
   ],
   "source": [
    "pd.read_json('boys.json')"
   ]
  },
  {
   "cell_type": "markdown",
   "id": "b4a26f22-3d33-4b69-bcee-f5474bca962e",
   "metadata": {},
   "source": [
    "If the filename isn't provided then it returns a JSON string:"
   ]
  },
  {
   "cell_type": "code",
   "execution_count": 93,
   "id": "e8879330-c6dd-45f4-a753-4caf78b831a4",
   "metadata": {},
   "outputs": [
    {
     "data": {
      "text/plain": [
       "'{\"name\":{\"0\":\"Aarav\",\"1\":\"Vivaan\",\"2\":\"Aditya\",\"3\":\"Vihaan\",\"4\":\"Arjun\",\"5\":\"Sai\",\"6\":\"Rishi\",\"7\":\"Aryan\",\"8\":\"Dhruv\",\"9\":\"Kabir\"},\"dob\":{\"0\":\"2001-05-14\",\"1\":\"2003-08-21\",\"2\":\"2000-12-05\",\"3\":\"2002-07-18\",\"4\":\"1999-11-11\",\"5\":\"2005-03-30\",\"6\":\"2004-09-25\",\"7\":\"2001-06-01\",\"8\":\"2003-10-12\",\"9\":\"2004-04-17\"},\"age\":{\"0\":23,\"1\":20,\"2\":24,\"3\":21,\"4\":25,\"5\":19,\"6\":20,\"7\":23,\"8\":20,\"9\":19},\"city\":{\"0\":\"Mumbai\",\"1\":\"Delhi\",\"2\":\"Bangalore\",\"3\":\"Mumbai\",\"4\":\"Hyderabad\",\"5\":\"Pune\",\"6\":\"Kolkata\",\"7\":\"Delhi\",\"8\":\"Bangalore\",\"9\":\"Mumbai\"}}'"
      ]
     },
     "execution_count": 93,
     "metadata": {},
     "output_type": "execute_result"
    }
   ],
   "source": [
    "boys.to_json(index=False)"
   ]
  },
  {
   "cell_type": "markdown",
   "id": "2a252289-c740-4537-9a6d-b36cc52f350c",
   "metadata": {},
   "source": [
    "These are some commonly used arguments of the read_json() function:\n",
    "- **filepath_or_buffer:** specifies the path or URL to the JSON file or a file-like object containing the JSON data.\n",
    "- **orient:** specifies the orientation of the JSON file.\n",
    "- **typ:** indicates the type of expected output.\n",
    "- **precise_float:** specifies whether to parse floats precisely.\n",
    "- **encoding:** specifies the encoding to be used when reading the JSON file.\n",
    "- **lines:** controls various aspects of the data reading process."
   ]
  },
  {
   "cell_type": "markdown",
   "id": "c2c0c505-cbdd-4d30-af6b-e9acd3c28d1e",
   "metadata": {},
   "source": [
    "### Some Additional Methods"
   ]
  },
  {
   "cell_type": "markdown",
   "id": "6ed71152-4f40-4815-818b-a82ee3f4b127",
   "metadata": {},
   "source": [
    "#### Reading and Writing Data to an HTML File"
   ]
  },
  {
   "cell_type": "code",
   "execution_count": 94,
   "id": "aca1ed19-725e-4eba-8665-74172bb525f3",
   "metadata": {},
   "outputs": [],
   "source": [
    "boys.to_html('boys.html', index=False)"
   ]
  },
  {
   "cell_type": "code",
   "execution_count": 95,
   "id": "7398c930-e898-462b-a766-24bca552acd2",
   "metadata": {},
   "outputs": [
    {
     "data": {
      "text/plain": [
       "[     name         dob  age       city\n",
       " 0   Aarav  2001-05-14   23     Mumbai\n",
       " 1  Vivaan  2003-08-21   20      Delhi\n",
       " 2  Aditya  2000-12-05   24  Bangalore\n",
       " 3  Vihaan  2002-07-18   21     Mumbai\n",
       " 4   Arjun  1999-11-11   25  Hyderabad\n",
       " 5     Sai  2005-03-30   19       Pune\n",
       " 6   Rishi  2004-09-25   20    Kolkata\n",
       " 7   Aryan  2001-06-01   23      Delhi\n",
       " 8   Dhruv  2003-10-12   20  Bangalore\n",
       " 9   Kabir  2004-04-17   19     Mumbai]"
      ]
     },
     "execution_count": 95,
     "metadata": {},
     "output_type": "execute_result"
    }
   ],
   "source": [
    "pd.read_html('boys.html')"
   ]
  },
  {
   "cell_type": "markdown",
   "id": "64b811c7-820a-4fe2-aa2d-353bd483c517",
   "metadata": {},
   "source": [
    "#### Reading and Writing Data to an XML File"
   ]
  },
  {
   "cell_type": "code",
   "execution_count": 96,
   "id": "66291080-1cc3-4a73-8e0b-f9d4157fae98",
   "metadata": {},
   "outputs": [],
   "source": [
    "boys.to_xml('boys.xml', index=False)"
   ]
  },
  {
   "cell_type": "code",
   "execution_count": 97,
   "id": "5c3eb7ff-44ca-4bd3-a35a-dd406bffb316",
   "metadata": {},
   "outputs": [
    {
     "data": {
      "text/html": [
       "<div>\n",
       "<style scoped>\n",
       "    .dataframe tbody tr th:only-of-type {\n",
       "        vertical-align: middle;\n",
       "    }\n",
       "\n",
       "    .dataframe tbody tr th {\n",
       "        vertical-align: top;\n",
       "    }\n",
       "\n",
       "    .dataframe thead th {\n",
       "        text-align: right;\n",
       "    }\n",
       "</style>\n",
       "<table border=\"1\" class=\"dataframe\">\n",
       "  <thead>\n",
       "    <tr style=\"text-align: right;\">\n",
       "      <th></th>\n",
       "      <th>name</th>\n",
       "      <th>dob</th>\n",
       "      <th>age</th>\n",
       "      <th>city</th>\n",
       "    </tr>\n",
       "  </thead>\n",
       "  <tbody>\n",
       "    <tr>\n",
       "      <th>0</th>\n",
       "      <td>Aarav</td>\n",
       "      <td>2001-05-14</td>\n",
       "      <td>23</td>\n",
       "      <td>Mumbai</td>\n",
       "    </tr>\n",
       "    <tr>\n",
       "      <th>1</th>\n",
       "      <td>Vivaan</td>\n",
       "      <td>2003-08-21</td>\n",
       "      <td>20</td>\n",
       "      <td>Delhi</td>\n",
       "    </tr>\n",
       "    <tr>\n",
       "      <th>2</th>\n",
       "      <td>Aditya</td>\n",
       "      <td>2000-12-05</td>\n",
       "      <td>24</td>\n",
       "      <td>Bangalore</td>\n",
       "    </tr>\n",
       "    <tr>\n",
       "      <th>3</th>\n",
       "      <td>Vihaan</td>\n",
       "      <td>2002-07-18</td>\n",
       "      <td>21</td>\n",
       "      <td>Mumbai</td>\n",
       "    </tr>\n",
       "    <tr>\n",
       "      <th>4</th>\n",
       "      <td>Arjun</td>\n",
       "      <td>1999-11-11</td>\n",
       "      <td>25</td>\n",
       "      <td>Hyderabad</td>\n",
       "    </tr>\n",
       "    <tr>\n",
       "      <th>5</th>\n",
       "      <td>Sai</td>\n",
       "      <td>2005-03-30</td>\n",
       "      <td>19</td>\n",
       "      <td>Pune</td>\n",
       "    </tr>\n",
       "    <tr>\n",
       "      <th>6</th>\n",
       "      <td>Rishi</td>\n",
       "      <td>2004-09-25</td>\n",
       "      <td>20</td>\n",
       "      <td>Kolkata</td>\n",
       "    </tr>\n",
       "    <tr>\n",
       "      <th>7</th>\n",
       "      <td>Aryan</td>\n",
       "      <td>2001-06-01</td>\n",
       "      <td>23</td>\n",
       "      <td>Delhi</td>\n",
       "    </tr>\n",
       "    <tr>\n",
       "      <th>8</th>\n",
       "      <td>Dhruv</td>\n",
       "      <td>2003-10-12</td>\n",
       "      <td>20</td>\n",
       "      <td>Bangalore</td>\n",
       "    </tr>\n",
       "    <tr>\n",
       "      <th>9</th>\n",
       "      <td>Kabir</td>\n",
       "      <td>2004-04-17</td>\n",
       "      <td>19</td>\n",
       "      <td>Mumbai</td>\n",
       "    </tr>\n",
       "  </tbody>\n",
       "</table>\n",
       "</div>"
      ],
      "text/plain": [
       "     name         dob  age       city\n",
       "0   Aarav  2001-05-14   23     Mumbai\n",
       "1  Vivaan  2003-08-21   20      Delhi\n",
       "2  Aditya  2000-12-05   24  Bangalore\n",
       "3  Vihaan  2002-07-18   21     Mumbai\n",
       "4   Arjun  1999-11-11   25  Hyderabad\n",
       "5     Sai  2005-03-30   19       Pune\n",
       "6   Rishi  2004-09-25   20    Kolkata\n",
       "7   Aryan  2001-06-01   23      Delhi\n",
       "8   Dhruv  2003-10-12   20  Bangalore\n",
       "9   Kabir  2004-04-17   19     Mumbai"
      ]
     },
     "execution_count": 97,
     "metadata": {},
     "output_type": "execute_result"
    }
   ],
   "source": [
    "pd.read_xml('boys.xml')"
   ]
  },
  {
   "cell_type": "markdown",
   "id": "3d32e732-67ee-4cef-be71-bfb3dfa6b3cf",
   "metadata": {},
   "source": [
    "**Note:** For both to_html() and to_xml() if the filename isn't provided then they also return strings."
   ]
  },
  {
   "cell_type": "code",
   "execution_count": 98,
   "id": "891f5a20-57f2-4c1c-aef5-d276c7d121e0",
   "metadata": {},
   "outputs": [],
   "source": [
    "# Additional Functionalities:\n",
    "# https://www.programiz.com/python-programming/pandas/merge\n",
    "# https://www.programiz.com/python-programming/pandas/join\n",
    "# https://www.programiz.com/python-programming/pandas/concat"
   ]
  },
  {
   "cell_type": "markdown",
   "id": "2ea29e14-8cfb-490e-b945-915c4f69ac0d",
   "metadata": {},
   "source": [
    "## Data Cleaning"
   ]
  },
  {
   "cell_type": "markdown",
   "id": "af7da97d-8d16-4797-af93-9b42f8ab6217",
   "metadata": {},
   "source": [
    "Data cleaning means fixing and organizing messy data. Pandas offers a wide range of tools and functions to help us clean and preprocess our data effectively.  \n",
    "Data cleaning often involves:\n",
    "- Dropping irrelevant columns.\n",
    "- Renaming column names to meaningful names.\n",
    "- Making data values consistent.\n",
    "- Replacing or filling in missing values."
   ]
  },
  {
   "cell_type": "markdown",
   "id": "1fa07505-7a8f-43d7-9f60-67795cc183d3",
   "metadata": {},
   "source": [
    "### Missing Values"
   ]
  },
  {
   "cell_type": "markdown",
   "id": "be36fe25-41b2-4457-916a-13e5c5eaaef6",
   "metadata": {},
   "source": [
    "Missing values, often represented as NaN (Not a Number), can cause problems during data processing and analysis. These gaps in data can lead to incorrect analysis and misleading conclusions.  \n",
    "Let's first create a DataFrame with many missing values:"
   ]
  },
  {
   "cell_type": "code",
   "execution_count": 99,
   "id": "a82ed6b8-5fba-43cd-9d19-11ea51f2495e",
   "metadata": {},
   "outputs": [
    {
     "data": {
      "text/html": [
       "<div>\n",
       "<style scoped>\n",
       "    .dataframe tbody tr th:only-of-type {\n",
       "        vertical-align: middle;\n",
       "    }\n",
       "\n",
       "    .dataframe tbody tr th {\n",
       "        vertical-align: top;\n",
       "    }\n",
       "\n",
       "    .dataframe thead th {\n",
       "        text-align: right;\n",
       "    }\n",
       "</style>\n",
       "<table border=\"1\" class=\"dataframe\">\n",
       "  <thead>\n",
       "    <tr style=\"text-align: right;\">\n",
       "      <th></th>\n",
       "      <th>name</th>\n",
       "      <th>username</th>\n",
       "      <th>date of joining</th>\n",
       "      <th>number of reels</th>\n",
       "      <th>followers</th>\n",
       "    </tr>\n",
       "  </thead>\n",
       "  <tbody>\n",
       "    <tr>\n",
       "      <th>0</th>\n",
       "      <td>Emma Watson</td>\n",
       "      <td>emma_watson01</td>\n",
       "      <td>2023-02-14</td>\n",
       "      <td>5.0</td>\n",
       "      <td>10000.0</td>\n",
       "    </tr>\n",
       "    <tr>\n",
       "      <th>1</th>\n",
       "      <td>John Doe</td>\n",
       "      <td>john.doe_02</td>\n",
       "      <td>2023-01-21</td>\n",
       "      <td>20.0</td>\n",
       "      <td>15000.0</td>\n",
       "    </tr>\n",
       "    <tr>\n",
       "      <th>2</th>\n",
       "      <td>None</td>\n",
       "      <td>a.smith_03</td>\n",
       "      <td>None</td>\n",
       "      <td>NaN</td>\n",
       "      <td>NaN</td>\n",
       "    </tr>\n",
       "    <tr>\n",
       "      <th>3</th>\n",
       "      <td>Michael Johnson</td>\n",
       "      <td>michael123</td>\n",
       "      <td>2023-03-15</td>\n",
       "      <td>15.0</td>\n",
       "      <td>20000.0</td>\n",
       "    </tr>\n",
       "    <tr>\n",
       "      <th>4</th>\n",
       "      <td>None</td>\n",
       "      <td>sophia.brown05</td>\n",
       "      <td>None</td>\n",
       "      <td>NaN</td>\n",
       "      <td>NaN</td>\n",
       "    </tr>\n",
       "    <tr>\n",
       "      <th>5</th>\n",
       "      <td>Ethan Miller</td>\n",
       "      <td>e.miller06</td>\n",
       "      <td>2023-04-20</td>\n",
       "      <td>25.0</td>\n",
       "      <td>25000.0</td>\n",
       "    </tr>\n",
       "    <tr>\n",
       "      <th>6</th>\n",
       "      <td>Olivia Davis</td>\n",
       "      <td>olivia-davis07</td>\n",
       "      <td>2023-06-18</td>\n",
       "      <td>30.0</td>\n",
       "      <td>30000.0</td>\n",
       "    </tr>\n",
       "    <tr>\n",
       "      <th>7</th>\n",
       "      <td>None</td>\n",
       "      <td>william_w</td>\n",
       "      <td>None</td>\n",
       "      <td>NaN</td>\n",
       "      <td>NaN</td>\n",
       "    </tr>\n",
       "    <tr>\n",
       "      <th>8</th>\n",
       "      <td>Ava Taylor</td>\n",
       "      <td>avataylor</td>\n",
       "      <td>2023-07-25</td>\n",
       "      <td>22.0</td>\n",
       "      <td>35000.0</td>\n",
       "    </tr>\n",
       "    <tr>\n",
       "      <th>9</th>\n",
       "      <td>None</td>\n",
       "      <td>dmartinez10</td>\n",
       "      <td>None</td>\n",
       "      <td>NaN</td>\n",
       "      <td>NaN</td>\n",
       "    </tr>\n",
       "  </tbody>\n",
       "</table>\n",
       "</div>"
      ],
      "text/plain": [
       "              name        username date of joining  number of reels  followers\n",
       "0      Emma Watson   emma_watson01      2023-02-14              5.0    10000.0\n",
       "1         John Doe     john.doe_02      2023-01-21             20.0    15000.0\n",
       "2             None      a.smith_03            None              NaN        NaN\n",
       "3  Michael Johnson      michael123      2023-03-15             15.0    20000.0\n",
       "4             None  sophia.brown05            None              NaN        NaN\n",
       "5     Ethan Miller      e.miller06      2023-04-20             25.0    25000.0\n",
       "6     Olivia Davis  olivia-davis07      2023-06-18             30.0    30000.0\n",
       "7             None       william_w            None              NaN        NaN\n",
       "8       Ava Taylor       avataylor      2023-07-25             22.0    35000.0\n",
       "9             None     dmartinez10            None              NaN        NaN"
      ]
     },
     "execution_count": 99,
     "metadata": {},
     "output_type": "execute_result"
    }
   ],
   "source": [
    "reelers = pd.DataFrame({\n",
    "    \"name\": [\"Emma Watson\", \"John Doe\", None, \"Michael Johnson\", None, \"Ethan Miller\", \"Olivia Davis\", None, \"Ava Taylor\", None],\n",
    "    \"username\": [\"emma_watson01\", \"john.doe_02\", \"a.smith_03\", \"michael123\", \"sophia.brown05\", \"e.miller06\", \"olivia-davis07\", \"william_w\", \"avataylor\", \"dmartinez10\"],\n",
    "    \"date of joining\": [\"2023-02-14\", \"2023-01-21\", None, \"2023-03-15\", None, \"2023-04-20\", \"2023-06-18\", None, \"2023-07-25\", None],\n",
    "    \"number of reels\": [5, 20, None, 15, None, 25, 30, None, 22, None],\n",
    "    \"followers\": [10000, 15000, None, 20000, None, 25000, 30000, None, 35000, None]\n",
    "})\n",
    "reelers"
   ]
  },
  {
   "cell_type": "markdown",
   "id": "2f1eaf06-d091-4241-9ac4-61b439b4af22",
   "metadata": {},
   "source": [
    "#### Drop Rows With Missing Values"
   ]
  },
  {
   "cell_type": "markdown",
   "id": "c84812a9-6d69-4939-b83d-5653a5bc508a",
   "metadata": {},
   "source": [
    "We can drop rows with missing values using the dropna() function:"
   ]
  },
  {
   "cell_type": "code",
   "execution_count": 100,
   "id": "d8335a99-84c0-417b-9b48-5d000311677b",
   "metadata": {},
   "outputs": [
    {
     "data": {
      "text/html": [
       "<div>\n",
       "<style scoped>\n",
       "    .dataframe tbody tr th:only-of-type {\n",
       "        vertical-align: middle;\n",
       "    }\n",
       "\n",
       "    .dataframe tbody tr th {\n",
       "        vertical-align: top;\n",
       "    }\n",
       "\n",
       "    .dataframe thead th {\n",
       "        text-align: right;\n",
       "    }\n",
       "</style>\n",
       "<table border=\"1\" class=\"dataframe\">\n",
       "  <thead>\n",
       "    <tr style=\"text-align: right;\">\n",
       "      <th></th>\n",
       "      <th>name</th>\n",
       "      <th>username</th>\n",
       "      <th>date of joining</th>\n",
       "      <th>number of reels</th>\n",
       "      <th>followers</th>\n",
       "    </tr>\n",
       "  </thead>\n",
       "  <tbody>\n",
       "    <tr>\n",
       "      <th>0</th>\n",
       "      <td>Emma Watson</td>\n",
       "      <td>emma_watson01</td>\n",
       "      <td>2023-02-14</td>\n",
       "      <td>5.0</td>\n",
       "      <td>10000.0</td>\n",
       "    </tr>\n",
       "    <tr>\n",
       "      <th>1</th>\n",
       "      <td>John Doe</td>\n",
       "      <td>john.doe_02</td>\n",
       "      <td>2023-01-21</td>\n",
       "      <td>20.0</td>\n",
       "      <td>15000.0</td>\n",
       "    </tr>\n",
       "    <tr>\n",
       "      <th>3</th>\n",
       "      <td>Michael Johnson</td>\n",
       "      <td>michael123</td>\n",
       "      <td>2023-03-15</td>\n",
       "      <td>15.0</td>\n",
       "      <td>20000.0</td>\n",
       "    </tr>\n",
       "    <tr>\n",
       "      <th>5</th>\n",
       "      <td>Ethan Miller</td>\n",
       "      <td>e.miller06</td>\n",
       "      <td>2023-04-20</td>\n",
       "      <td>25.0</td>\n",
       "      <td>25000.0</td>\n",
       "    </tr>\n",
       "    <tr>\n",
       "      <th>6</th>\n",
       "      <td>Olivia Davis</td>\n",
       "      <td>olivia-davis07</td>\n",
       "      <td>2023-06-18</td>\n",
       "      <td>30.0</td>\n",
       "      <td>30000.0</td>\n",
       "    </tr>\n",
       "    <tr>\n",
       "      <th>8</th>\n",
       "      <td>Ava Taylor</td>\n",
       "      <td>avataylor</td>\n",
       "      <td>2023-07-25</td>\n",
       "      <td>22.0</td>\n",
       "      <td>35000.0</td>\n",
       "    </tr>\n",
       "  </tbody>\n",
       "</table>\n",
       "</div>"
      ],
      "text/plain": [
       "              name        username date of joining  number of reels  followers\n",
       "0      Emma Watson   emma_watson01      2023-02-14              5.0    10000.0\n",
       "1         John Doe     john.doe_02      2023-01-21             20.0    15000.0\n",
       "3  Michael Johnson      michael123      2023-03-15             15.0    20000.0\n",
       "5     Ethan Miller      e.miller06      2023-04-20             25.0    25000.0\n",
       "6     Olivia Davis  olivia-davis07      2023-06-18             30.0    30000.0\n",
       "8       Ava Taylor       avataylor      2023-07-25             22.0    35000.0"
      ]
     },
     "execution_count": 100,
     "metadata": {},
     "output_type": "execute_result"
    }
   ],
   "source": [
    "reelers.dropna()"
   ]
  },
  {
   "cell_type": "markdown",
   "id": "76dfa36e-71da-46c3-8fdf-28995b2f7e79",
   "metadata": {},
   "source": [
    "Here, dropna() dropped all the rows which have missing values. We can also do this for columns by setting the axis values as 1:"
   ]
  },
  {
   "cell_type": "code",
   "execution_count": 101,
   "id": "8b1022ec-6571-42e4-8d62-330c904d1bf0",
   "metadata": {},
   "outputs": [
    {
     "data": {
      "text/html": [
       "<div>\n",
       "<style scoped>\n",
       "    .dataframe tbody tr th:only-of-type {\n",
       "        vertical-align: middle;\n",
       "    }\n",
       "\n",
       "    .dataframe tbody tr th {\n",
       "        vertical-align: top;\n",
       "    }\n",
       "\n",
       "    .dataframe thead th {\n",
       "        text-align: right;\n",
       "    }\n",
       "</style>\n",
       "<table border=\"1\" class=\"dataframe\">\n",
       "  <thead>\n",
       "    <tr style=\"text-align: right;\">\n",
       "      <th></th>\n",
       "      <th>username</th>\n",
       "    </tr>\n",
       "  </thead>\n",
       "  <tbody>\n",
       "    <tr>\n",
       "      <th>0</th>\n",
       "      <td>emma_watson01</td>\n",
       "    </tr>\n",
       "    <tr>\n",
       "      <th>1</th>\n",
       "      <td>john.doe_02</td>\n",
       "    </tr>\n",
       "    <tr>\n",
       "      <th>2</th>\n",
       "      <td>a.smith_03</td>\n",
       "    </tr>\n",
       "    <tr>\n",
       "      <th>3</th>\n",
       "      <td>michael123</td>\n",
       "    </tr>\n",
       "    <tr>\n",
       "      <th>4</th>\n",
       "      <td>sophia.brown05</td>\n",
       "    </tr>\n",
       "    <tr>\n",
       "      <th>5</th>\n",
       "      <td>e.miller06</td>\n",
       "    </tr>\n",
       "    <tr>\n",
       "      <th>6</th>\n",
       "      <td>olivia-davis07</td>\n",
       "    </tr>\n",
       "    <tr>\n",
       "      <th>7</th>\n",
       "      <td>william_w</td>\n",
       "    </tr>\n",
       "    <tr>\n",
       "      <th>8</th>\n",
       "      <td>avataylor</td>\n",
       "    </tr>\n",
       "    <tr>\n",
       "      <th>9</th>\n",
       "      <td>dmartinez10</td>\n",
       "    </tr>\n",
       "  </tbody>\n",
       "</table>\n",
       "</div>"
      ],
      "text/plain": [
       "         username\n",
       "0   emma_watson01\n",
       "1     john.doe_02\n",
       "2      a.smith_03\n",
       "3      michael123\n",
       "4  sophia.brown05\n",
       "5      e.miller06\n",
       "6  olivia-davis07\n",
       "7       william_w\n",
       "8       avataylor\n",
       "9     dmartinez10"
      ]
     },
     "execution_count": 101,
     "metadata": {},
     "output_type": "execute_result"
    }
   ],
   "source": [
    "reelers.dropna(axis=1)"
   ]
  },
  {
   "cell_type": "markdown",
   "id": "c71322a1-72b2-486c-8f93-5c7e672a8d5e",
   "metadata": {},
   "source": [
    "Becasue there is only the username column with no missing values, we got only that column."
   ]
  },
  {
   "cell_type": "markdown",
   "id": "1eefb55b-3bc6-4d3d-bcf8-78be8a8daabd",
   "metadata": {},
   "source": [
    "#### Fill Missing Values"
   ]
  },
  {
   "cell_type": "markdown",
   "id": "01f3706c-32ee-4eee-bf8a-3ee518e4dedd",
   "metadata": {},
   "source": [
    "To fill the missing values in Pandas, we use the fillna() function."
   ]
  },
  {
   "cell_type": "code",
   "execution_count": 102,
   "id": "044f7a95-72a1-4487-a7f9-4a442b464110",
   "metadata": {},
   "outputs": [
    {
     "data": {
      "text/html": [
       "<div>\n",
       "<style scoped>\n",
       "    .dataframe tbody tr th:only-of-type {\n",
       "        vertical-align: middle;\n",
       "    }\n",
       "\n",
       "    .dataframe tbody tr th {\n",
       "        vertical-align: top;\n",
       "    }\n",
       "\n",
       "    .dataframe thead th {\n",
       "        text-align: right;\n",
       "    }\n",
       "</style>\n",
       "<table border=\"1\" class=\"dataframe\">\n",
       "  <thead>\n",
       "    <tr style=\"text-align: right;\">\n",
       "      <th></th>\n",
       "      <th>name</th>\n",
       "      <th>username</th>\n",
       "      <th>date of joining</th>\n",
       "      <th>number of reels</th>\n",
       "      <th>followers</th>\n",
       "    </tr>\n",
       "  </thead>\n",
       "  <tbody>\n",
       "    <tr>\n",
       "      <th>0</th>\n",
       "      <td>Emma Watson</td>\n",
       "      <td>emma_watson01</td>\n",
       "      <td>2023-02-14</td>\n",
       "      <td>5.0</td>\n",
       "      <td>10000.0</td>\n",
       "    </tr>\n",
       "    <tr>\n",
       "      <th>1</th>\n",
       "      <td>John Doe</td>\n",
       "      <td>john.doe_02</td>\n",
       "      <td>2023-01-21</td>\n",
       "      <td>20.0</td>\n",
       "      <td>15000.0</td>\n",
       "    </tr>\n",
       "    <tr>\n",
       "      <th>2</th>\n",
       "      <td>-</td>\n",
       "      <td>a.smith_03</td>\n",
       "      <td>-</td>\n",
       "      <td>-</td>\n",
       "      <td>-</td>\n",
       "    </tr>\n",
       "    <tr>\n",
       "      <th>3</th>\n",
       "      <td>Michael Johnson</td>\n",
       "      <td>michael123</td>\n",
       "      <td>2023-03-15</td>\n",
       "      <td>15.0</td>\n",
       "      <td>20000.0</td>\n",
       "    </tr>\n",
       "    <tr>\n",
       "      <th>4</th>\n",
       "      <td>-</td>\n",
       "      <td>sophia.brown05</td>\n",
       "      <td>-</td>\n",
       "      <td>-</td>\n",
       "      <td>-</td>\n",
       "    </tr>\n",
       "    <tr>\n",
       "      <th>5</th>\n",
       "      <td>Ethan Miller</td>\n",
       "      <td>e.miller06</td>\n",
       "      <td>2023-04-20</td>\n",
       "      <td>25.0</td>\n",
       "      <td>25000.0</td>\n",
       "    </tr>\n",
       "    <tr>\n",
       "      <th>6</th>\n",
       "      <td>Olivia Davis</td>\n",
       "      <td>olivia-davis07</td>\n",
       "      <td>2023-06-18</td>\n",
       "      <td>30.0</td>\n",
       "      <td>30000.0</td>\n",
       "    </tr>\n",
       "    <tr>\n",
       "      <th>7</th>\n",
       "      <td>-</td>\n",
       "      <td>william_w</td>\n",
       "      <td>-</td>\n",
       "      <td>-</td>\n",
       "      <td>-</td>\n",
       "    </tr>\n",
       "    <tr>\n",
       "      <th>8</th>\n",
       "      <td>Ava Taylor</td>\n",
       "      <td>avataylor</td>\n",
       "      <td>2023-07-25</td>\n",
       "      <td>22.0</td>\n",
       "      <td>35000.0</td>\n",
       "    </tr>\n",
       "    <tr>\n",
       "      <th>9</th>\n",
       "      <td>-</td>\n",
       "      <td>dmartinez10</td>\n",
       "      <td>-</td>\n",
       "      <td>-</td>\n",
       "      <td>-</td>\n",
       "    </tr>\n",
       "  </tbody>\n",
       "</table>\n",
       "</div>"
      ],
      "text/plain": [
       "              name        username date of joining number of reels followers\n",
       "0      Emma Watson   emma_watson01      2023-02-14             5.0   10000.0\n",
       "1         John Doe     john.doe_02      2023-01-21            20.0   15000.0\n",
       "2                -      a.smith_03               -               -         -\n",
       "3  Michael Johnson      michael123      2023-03-15            15.0   20000.0\n",
       "4                -  sophia.brown05               -               -         -\n",
       "5     Ethan Miller      e.miller06      2023-04-20            25.0   25000.0\n",
       "6     Olivia Davis  olivia-davis07      2023-06-18            30.0   30000.0\n",
       "7                -       william_w               -               -         -\n",
       "8       Ava Taylor       avataylor      2023-07-25            22.0   35000.0\n",
       "9                -     dmartinez10               -               -         -"
      ]
     },
     "execution_count": 102,
     "metadata": {},
     "output_type": "execute_result"
    }
   ],
   "source": [
    "reelers.fillna('-')"
   ]
  },
  {
   "cell_type": "markdown",
   "id": "a3e686a7-35ca-4779-a0e7-cb836be0a1f4",
   "metadata": {},
   "source": [
    "So, we replaced all the missing values with an hyphen. We could set inplace property as True to change the original DataFrame."
   ]
  },
  {
   "cell_type": "markdown",
   "id": "73bc6cf3-6809-4c2c-a8cd-a4bcee9562e6",
   "metadata": {},
   "source": [
    "#### Use Aggregate Functions to Fill Missing Values"
   ]
  },
  {
   "cell_type": "code",
   "execution_count": 103,
   "id": "4866aec5-9920-4329-aee6-f0c2b910b2a2",
   "metadata": {},
   "outputs": [
    {
     "data": {
      "text/html": [
       "<div>\n",
       "<style scoped>\n",
       "    .dataframe tbody tr th:only-of-type {\n",
       "        vertical-align: middle;\n",
       "    }\n",
       "\n",
       "    .dataframe tbody tr th {\n",
       "        vertical-align: top;\n",
       "    }\n",
       "\n",
       "    .dataframe thead th {\n",
       "        text-align: right;\n",
       "    }\n",
       "</style>\n",
       "<table border=\"1\" class=\"dataframe\">\n",
       "  <thead>\n",
       "    <tr style=\"text-align: right;\">\n",
       "      <th></th>\n",
       "      <th>number of reels</th>\n",
       "      <th>followers</th>\n",
       "    </tr>\n",
       "  </thead>\n",
       "  <tbody>\n",
       "    <tr>\n",
       "      <th>0</th>\n",
       "      <td>5.0</td>\n",
       "      <td>10000.0</td>\n",
       "    </tr>\n",
       "    <tr>\n",
       "      <th>1</th>\n",
       "      <td>20.0</td>\n",
       "      <td>15000.0</td>\n",
       "    </tr>\n",
       "    <tr>\n",
       "      <th>2</th>\n",
       "      <td>19.5</td>\n",
       "      <td>22500.0</td>\n",
       "    </tr>\n",
       "    <tr>\n",
       "      <th>3</th>\n",
       "      <td>15.0</td>\n",
       "      <td>20000.0</td>\n",
       "    </tr>\n",
       "    <tr>\n",
       "      <th>4</th>\n",
       "      <td>19.5</td>\n",
       "      <td>22500.0</td>\n",
       "    </tr>\n",
       "    <tr>\n",
       "      <th>5</th>\n",
       "      <td>25.0</td>\n",
       "      <td>25000.0</td>\n",
       "    </tr>\n",
       "    <tr>\n",
       "      <th>6</th>\n",
       "      <td>30.0</td>\n",
       "      <td>30000.0</td>\n",
       "    </tr>\n",
       "    <tr>\n",
       "      <th>7</th>\n",
       "      <td>19.5</td>\n",
       "      <td>22500.0</td>\n",
       "    </tr>\n",
       "    <tr>\n",
       "      <th>8</th>\n",
       "      <td>22.0</td>\n",
       "      <td>35000.0</td>\n",
       "    </tr>\n",
       "    <tr>\n",
       "      <th>9</th>\n",
       "      <td>19.5</td>\n",
       "      <td>22500.0</td>\n",
       "    </tr>\n",
       "  </tbody>\n",
       "</table>\n",
       "</div>"
      ],
      "text/plain": [
       "   number of reels  followers\n",
       "0              5.0    10000.0\n",
       "1             20.0    15000.0\n",
       "2             19.5    22500.0\n",
       "3             15.0    20000.0\n",
       "4             19.5    22500.0\n",
       "5             25.0    25000.0\n",
       "6             30.0    30000.0\n",
       "7             19.5    22500.0\n",
       "8             22.0    35000.0\n",
       "9             19.5    22500.0"
      ]
     },
     "execution_count": 103,
     "metadata": {},
     "output_type": "execute_result"
    }
   ],
   "source": [
    "reelers_nonstring = reelers.loc[:, ['number of reels', 'followers']]\n",
    "reelers_nonstring.fillna(reelers_nonstring.mean())"
   ]
  },
  {
   "cell_type": "markdown",
   "id": "c066e5cd-8806-4ab1-bf72-4ae8ce430c40",
   "metadata": {},
   "source": [
    "Because the means for the number of reels and the followers columns are 19.5 and 22500 respectively, the function filled them at the correct places.  \n",
    "**Note:** We used a numbers only DataFrame here because mean() method doesn't work on strings. That's why we selected nonstring columns only."
   ]
  },
  {
   "cell_type": "markdown",
   "id": "981206ce-7bdf-4a60-af22-03ead982622d",
   "metadata": {},
   "source": [
    "### Handling Wrong Format"
   ]
  },
  {
   "cell_type": "markdown",
   "id": "987c3e48-cf6b-4b5b-8010-c7c0e9da5c76",
   "metadata": {},
   "source": [
    "In a real world scenario, data are taken from various sources which causes inconsistencies in format of the data. With Pandas, we can handle such issues by converting all the values in a column to a specific format."
   ]
  },
  {
   "cell_type": "markdown",
   "id": "ea769b2e-9997-45af-94ba-d6880191ef6e",
   "metadata": {},
   "source": [
    "#### Convert Data to a Format"
   ]
  },
  {
   "cell_type": "markdown",
   "id": "9d3fbd80-c475-4e24-90dc-c119feedb003",
   "metadata": {},
   "source": [
    "Let's take a Series example:"
   ]
  },
  {
   "cell_type": "code",
   "execution_count": 104,
   "id": "9c814c50-23c3-4721-aae6-a782c05ee739",
   "metadata": {},
   "outputs": [
    {
     "data": {
      "text/plain": [
       "0      10\n",
       "1    22.2\n",
       "2    30.5\n",
       "3      14\n",
       "4      23\n",
       "5    43.1\n",
       "dtype: object"
      ]
     },
     "execution_count": 104,
     "metadata": {},
     "output_type": "execute_result"
    }
   ],
   "source": [
    "temperatures = pd.Series([10, '22.2', 30.5, '14', 23, 43.1])\n",
    "temperatures"
   ]
  },
  {
   "cell_type": "markdown",
   "id": "0b53215a-c787-47de-963e-0cba758b2d84",
   "metadata": {},
   "source": [
    "Here, the temperatures have different types, let's convert all of them into float dtype:"
   ]
  },
  {
   "cell_type": "code",
   "execution_count": 105,
   "id": "54b4c5fe-fa16-4ee5-a55e-31cfc551a102",
   "metadata": {},
   "outputs": [
    {
     "data": {
      "text/plain": [
       "0    10.0\n",
       "1    22.2\n",
       "2    30.5\n",
       "3    14.0\n",
       "4    23.0\n",
       "5    43.1\n",
       "dtype: float64"
      ]
     },
     "execution_count": 105,
     "metadata": {},
     "output_type": "execute_result"
    }
   ],
   "source": [
    "temperatures.astype('float')"
   ]
  },
  {
   "cell_type": "markdown",
   "id": "7bc04526-9dfc-4569-ab4f-107833eafa6c",
   "metadata": {},
   "source": [
    "Now, all of the values have float64 dtype. We can perform similar operations on DataFrames too."
   ]
  },
  {
   "cell_type": "markdown",
   "id": "0c654478-b434-49b9-891d-58b80f5e36cf",
   "metadata": {},
   "source": [
    "#### Handling Mixed Date Formats"
   ]
  },
  {
   "cell_type": "markdown",
   "id": "b894c21d-d9d2-487c-b4bc-7b34f76affd7",
   "metadata": {},
   "source": [
    "Dates can be represented in various formats such as mm-dd-yyyy, dd-mm-yyyy, yyyy-mm-dd etc. Also, different separators such as /, -, . etc. can be used.  \n",
    "We can handle this issue by converting the column containing dates to the DateTime format. Let's take another Series example:"
   ]
  },
  {
   "cell_type": "code",
   "execution_count": 106,
   "id": "cbef0338-1459-4ffd-b4d5-80ce5d60b7cd",
   "metadata": {},
   "outputs": [
    {
     "data": {
      "text/plain": [
       "0    2022-12-01\n",
       "1    01/02/2022\n",
       "2    2022-03-23\n",
       "3    03/02/2022\n",
       "4      3 4 2023\n",
       "5     2023.9.30\n",
       "dtype: object"
      ]
     },
     "execution_count": 106,
     "metadata": {},
     "output_type": "execute_result"
    }
   ],
   "source": [
    "dates = pd.Series(['2022-12-01', '01/02/2022', '2022-03-23', '03/02/2022', '3 4 2023', '2023.9.30'])\n",
    "dates"
   ]
  },
  {
   "cell_type": "markdown",
   "id": "632b7def-e96c-4397-90bc-a92880f4d866",
   "metadata": {},
   "source": [
    "Now, let's convert them into the yyyy-mm-dd format:"
   ]
  },
  {
   "cell_type": "code",
   "execution_count": 107,
   "id": "08a1b98e-b501-44cf-a635-4d67c32bfdd3",
   "metadata": {},
   "outputs": [
    {
     "data": {
      "text/plain": [
       "0   2022-12-01\n",
       "1   2022-02-01\n",
       "2   2022-03-23\n",
       "3   2022-02-03\n",
       "4   2023-04-03\n",
       "5   2023-09-30\n",
       "dtype: datetime64[ns]"
      ]
     },
     "execution_count": 107,
     "metadata": {},
     "output_type": "execute_result"
    }
   ],
   "source": [
    "pd.to_datetime(dates, format='mixed', dayfirst=True)"
   ]
  },
  {
   "cell_type": "markdown",
   "id": "30e3c5da-5f85-48eb-809b-bfe01ea4bb81",
   "metadata": {},
   "source": [
    "And we got a datetime64 dtype Series. Here,\n",
    "- format='mixed': specifies that the format of each given date can be different.\n",
    "- dayfirst=True: specifies that the day should be considered before the month when interpreting dates."
   ]
  },
  {
   "cell_type": "markdown",
   "id": "5bb120c0-0df8-4098-bbf5-0d835944ea41",
   "metadata": {},
   "source": [
    "### Handling Wrong Data"
   ]
  },
  {
   "cell_type": "markdown",
   "id": "6818d0d9-e797-4ba1-b4b1-e89e7c8629fd",
   "metadata": {},
   "source": [
    "Sometimes, a dataset can have inaccurate entries due to reasons such as human errors during data input, sourcing data from unreliable places, etc.  \n",
    "We can handle such wrong data in the following ways:\n",
    "- Replace Individual Values\n",
    "- Replace Values Based on a Condition\n",
    "- Remove Wrong Values\n",
    "\n",
    "Let's make a simple dataframe for understanding these techniques:"
   ]
  },
  {
   "cell_type": "code",
   "execution_count": 108,
   "id": "ddb23935-1255-49bd-a9a9-b2eeafb9c250",
   "metadata": {},
   "outputs": [
    {
     "data": {
      "text/html": [
       "<div>\n",
       "<style scoped>\n",
       "    .dataframe tbody tr th:only-of-type {\n",
       "        vertical-align: middle;\n",
       "    }\n",
       "\n",
       "    .dataframe tbody tr th {\n",
       "        vertical-align: top;\n",
       "    }\n",
       "\n",
       "    .dataframe thead th {\n",
       "        text-align: right;\n",
       "    }\n",
       "</style>\n",
       "<table border=\"1\" class=\"dataframe\">\n",
       "  <thead>\n",
       "    <tr style=\"text-align: right;\">\n",
       "      <th></th>\n",
       "      <th>name</th>\n",
       "      <th>age</th>\n",
       "      <th>gender</th>\n",
       "    </tr>\n",
       "  </thead>\n",
       "  <tbody>\n",
       "    <tr>\n",
       "      <th>0</th>\n",
       "      <td>Alex</td>\n",
       "      <td>20</td>\n",
       "      <td>M</td>\n",
       "    </tr>\n",
       "    <tr>\n",
       "      <th>1</th>\n",
       "      <td>Bob</td>\n",
       "      <td>88</td>\n",
       "      <td>M</td>\n",
       "    </tr>\n",
       "    <tr>\n",
       "      <th>2</th>\n",
       "      <td>Charles</td>\n",
       "      <td>21</td>\n",
       "      <td>F</td>\n",
       "    </tr>\n",
       "    <tr>\n",
       "      <th>3</th>\n",
       "      <td>Diana/</td>\n",
       "      <td>19</td>\n",
       "      <td>F</td>\n",
       "    </tr>\n",
       "  </tbody>\n",
       "</table>\n",
       "</div>"
      ],
      "text/plain": [
       "      name  age gender\n",
       "0     Alex   20      M\n",
       "1      Bob   88      M\n",
       "2  Charles   21      F\n",
       "3   Diana/   19      F"
      ]
     },
     "execution_count": 108,
     "metadata": {},
     "output_type": "execute_result"
    }
   ],
   "source": [
    "friends = pd.DataFrame({\n",
    "    \"name\": ['Alex', 'Bob', 'Charles', 'Diana/'],\n",
    "    \"age\": [20, 88, 21, 19],\n",
    "    \"gender\": ['M', 'M', 'F', 'F']\n",
    "})\n",
    "friends"
   ]
  },
  {
   "cell_type": "markdown",
   "id": "adf0022b-db27-4bb8-8505-3c4de6e05ea4",
   "metadata": {},
   "source": [
    "Now, let's first see what are the mistakes in this DataFrame:\n",
    "- Bob's age is 88 which is not very possible if all these are friends.\n",
    "- Charles' gender is Female.\n",
    "- Diana's name is wrong, it has a front-slash in it."
   ]
  },
  {
   "cell_type": "markdown",
   "id": "c428b39b-3715-4311-85b4-c9222762d111",
   "metadata": {},
   "source": [
    "#### Replace Individual Values"
   ]
  },
  {
   "cell_type": "markdown",
   "id": "5210847d-1fdb-4b74-86b5-1f217257f7df",
   "metadata": {},
   "source": [
    "We are going to replace the wrong gender value of Charles with the right one:"
   ]
  },
  {
   "cell_type": "code",
   "execution_count": 109,
   "id": "4aa97cbe-5e90-4b19-a861-f172d6f24f6b",
   "metadata": {},
   "outputs": [
    {
     "data": {
      "text/html": [
       "<div>\n",
       "<style scoped>\n",
       "    .dataframe tbody tr th:only-of-type {\n",
       "        vertical-align: middle;\n",
       "    }\n",
       "\n",
       "    .dataframe tbody tr th {\n",
       "        vertical-align: top;\n",
       "    }\n",
       "\n",
       "    .dataframe thead th {\n",
       "        text-align: right;\n",
       "    }\n",
       "</style>\n",
       "<table border=\"1\" class=\"dataframe\">\n",
       "  <thead>\n",
       "    <tr style=\"text-align: right;\">\n",
       "      <th></th>\n",
       "      <th>name</th>\n",
       "      <th>age</th>\n",
       "      <th>gender</th>\n",
       "    </tr>\n",
       "  </thead>\n",
       "  <tbody>\n",
       "    <tr>\n",
       "      <th>0</th>\n",
       "      <td>Alex</td>\n",
       "      <td>20</td>\n",
       "      <td>M</td>\n",
       "    </tr>\n",
       "    <tr>\n",
       "      <th>1</th>\n",
       "      <td>Bob</td>\n",
       "      <td>88</td>\n",
       "      <td>M</td>\n",
       "    </tr>\n",
       "    <tr>\n",
       "      <th>2</th>\n",
       "      <td>Charles</td>\n",
       "      <td>21</td>\n",
       "      <td>M</td>\n",
       "    </tr>\n",
       "    <tr>\n",
       "      <th>3</th>\n",
       "      <td>Diana/</td>\n",
       "      <td>19</td>\n",
       "      <td>F</td>\n",
       "    </tr>\n",
       "  </tbody>\n",
       "</table>\n",
       "</div>"
      ],
      "text/plain": [
       "      name  age gender\n",
       "0     Alex   20      M\n",
       "1      Bob   88      M\n",
       "2  Charles   21      M\n",
       "3   Diana/   19      F"
      ]
     },
     "execution_count": 109,
     "metadata": {},
     "output_type": "execute_result"
    }
   ],
   "source": [
    "friends.loc[2, 'gender'] = 'M'\n",
    "friends"
   ]
  },
  {
   "cell_type": "markdown",
   "id": "91e8a28d-9fad-4b80-9f3c-07861082b114",
   "metadata": {},
   "source": [
    "#### Replace Values Based on a Condition"
   ]
  },
  {
   "cell_type": "markdown",
   "id": "af2ba918-e20f-4ae8-925d-f6ecc22212ab",
   "metadata": {},
   "source": [
    "We are going to replace all the wrong age values (only one, 88) with NaN:"
   ]
  },
  {
   "cell_type": "code",
   "execution_count": 110,
   "id": "79ceaf91-21b9-4418-a942-070da04e1fa7",
   "metadata": {},
   "outputs": [
    {
     "data": {
      "text/html": [
       "<div>\n",
       "<style scoped>\n",
       "    .dataframe tbody tr th:only-of-type {\n",
       "        vertical-align: middle;\n",
       "    }\n",
       "\n",
       "    .dataframe tbody tr th {\n",
       "        vertical-align: top;\n",
       "    }\n",
       "\n",
       "    .dataframe thead th {\n",
       "        text-align: right;\n",
       "    }\n",
       "</style>\n",
       "<table border=\"1\" class=\"dataframe\">\n",
       "  <thead>\n",
       "    <tr style=\"text-align: right;\">\n",
       "      <th></th>\n",
       "      <th>name</th>\n",
       "      <th>age</th>\n",
       "      <th>gender</th>\n",
       "    </tr>\n",
       "  </thead>\n",
       "  <tbody>\n",
       "    <tr>\n",
       "      <th>0</th>\n",
       "      <td>Alex</td>\n",
       "      <td>20.0</td>\n",
       "      <td>M</td>\n",
       "    </tr>\n",
       "    <tr>\n",
       "      <th>1</th>\n",
       "      <td>Bob</td>\n",
       "      <td>NaN</td>\n",
       "      <td>M</td>\n",
       "    </tr>\n",
       "    <tr>\n",
       "      <th>2</th>\n",
       "      <td>Charles</td>\n",
       "      <td>21.0</td>\n",
       "      <td>M</td>\n",
       "    </tr>\n",
       "    <tr>\n",
       "      <th>3</th>\n",
       "      <td>Diana/</td>\n",
       "      <td>19.0</td>\n",
       "      <td>F</td>\n",
       "    </tr>\n",
       "  </tbody>\n",
       "</table>\n",
       "</div>"
      ],
      "text/plain": [
       "      name   age gender\n",
       "0     Alex  20.0      M\n",
       "1      Bob   NaN      M\n",
       "2  Charles  21.0      M\n",
       "3   Diana/  19.0      F"
      ]
     },
     "execution_count": 110,
     "metadata": {},
     "output_type": "execute_result"
    }
   ],
   "source": [
    "for friend in friends.index:\n",
    "    if friends.loc[friend, 'age'] > 25:\n",
    "        friends.loc[friend, 'age'] = None\n",
    "friends"
   ]
  },
  {
   "cell_type": "markdown",
   "id": "e439f5ea-b139-4514-af84-253b2099c965",
   "metadata": {},
   "source": [
    "#### Remove Wrong Values"
   ]
  },
  {
   "cell_type": "markdown",
   "id": "ba0c5378-907f-4809-99ec-34ee0a061da0",
   "metadata": {},
   "source": [
    "We are going to remove all the rows which has names with non-alphabet characters in it (only one, 'Diana/'):"
   ]
  },
  {
   "cell_type": "code",
   "execution_count": 111,
   "id": "95920b37-4b24-4125-aba0-96e89f9c5631",
   "metadata": {},
   "outputs": [
    {
     "data": {
      "text/html": [
       "<div>\n",
       "<style scoped>\n",
       "    .dataframe tbody tr th:only-of-type {\n",
       "        vertical-align: middle;\n",
       "    }\n",
       "\n",
       "    .dataframe tbody tr th {\n",
       "        vertical-align: top;\n",
       "    }\n",
       "\n",
       "    .dataframe thead th {\n",
       "        text-align: right;\n",
       "    }\n",
       "</style>\n",
       "<table border=\"1\" class=\"dataframe\">\n",
       "  <thead>\n",
       "    <tr style=\"text-align: right;\">\n",
       "      <th></th>\n",
       "      <th>name</th>\n",
       "      <th>age</th>\n",
       "      <th>gender</th>\n",
       "    </tr>\n",
       "  </thead>\n",
       "  <tbody>\n",
       "    <tr>\n",
       "      <th>0</th>\n",
       "      <td>Alex</td>\n",
       "      <td>20.0</td>\n",
       "      <td>M</td>\n",
       "    </tr>\n",
       "    <tr>\n",
       "      <th>1</th>\n",
       "      <td>Bob</td>\n",
       "      <td>NaN</td>\n",
       "      <td>M</td>\n",
       "    </tr>\n",
       "    <tr>\n",
       "      <th>2</th>\n",
       "      <td>Charles</td>\n",
       "      <td>21.0</td>\n",
       "      <td>M</td>\n",
       "    </tr>\n",
       "  </tbody>\n",
       "</table>\n",
       "</div>"
      ],
      "text/plain": [
       "      name   age gender\n",
       "0     Alex  20.0      M\n",
       "1      Bob   NaN      M\n",
       "2  Charles  21.0      M"
      ]
     },
     "execution_count": 111,
     "metadata": {},
     "output_type": "execute_result"
    }
   ],
   "source": [
    "import re\n",
    "for friend in friends.index:\n",
    "    if bool(re.search(r'[^a-zA-Z]', friends.loc[friend, 'name'])):\n",
    "        friends.drop(friend, inplace=True)\n",
    "friends"
   ]
  },
  {
   "cell_type": "markdown",
   "id": "40afa3ec-2669-44a6-b6a8-34316afa469a",
   "metadata": {},
   "source": [
    "### Dummies"
   ]
  },
  {
   "cell_type": "markdown",
   "id": "4f655d09-90d4-4aa7-a7c9-a59dbcd101da",
   "metadata": {},
   "source": [
    "A dummy variable is a numerical representation used to encode categorical data. Dummy variables exhibit binary values, exclusively 0 or 1.  \n",
    "In the context of a dummy variable:\n",
    "- The value 1 signifies the existence of a specific category.\n",
    "- The value 0 signifies the non-existence of a particular category.\n",
    "\n",
    "We use the get_dummies() function to transform categorical variables into binary values."
   ]
  },
  {
   "cell_type": "code",
   "execution_count": 112,
   "id": "f5fcd358-d881-4890-83f9-60f0e7d7be8c",
   "metadata": {},
   "outputs": [
    {
     "data": {
      "text/plain": [
       "0       Red\n",
       "1    Yellow\n",
       "2      Blue\n",
       "3       Red\n",
       "4    Yellow\n",
       "dtype: object"
      ]
     },
     "execution_count": 112,
     "metadata": {},
     "output_type": "execute_result"
    }
   ],
   "source": [
    "colors = pd.Series([\"Red\", \"Yellow\", \"Blue\", \"Red\", \"Yellow\"])\n",
    "colors"
   ]
  },
  {
   "cell_type": "code",
   "execution_count": 113,
   "id": "a56a9276-6b08-4615-9c78-ff38dddaf2a2",
   "metadata": {},
   "outputs": [
    {
     "data": {
      "text/html": [
       "<div>\n",
       "<style scoped>\n",
       "    .dataframe tbody tr th:only-of-type {\n",
       "        vertical-align: middle;\n",
       "    }\n",
       "\n",
       "    .dataframe tbody tr th {\n",
       "        vertical-align: top;\n",
       "    }\n",
       "\n",
       "    .dataframe thead th {\n",
       "        text-align: right;\n",
       "    }\n",
       "</style>\n",
       "<table border=\"1\" class=\"dataframe\">\n",
       "  <thead>\n",
       "    <tr style=\"text-align: right;\">\n",
       "      <th></th>\n",
       "      <th>Blue</th>\n",
       "      <th>Red</th>\n",
       "      <th>Yellow</th>\n",
       "    </tr>\n",
       "  </thead>\n",
       "  <tbody>\n",
       "    <tr>\n",
       "      <th>0</th>\n",
       "      <td>False</td>\n",
       "      <td>True</td>\n",
       "      <td>False</td>\n",
       "    </tr>\n",
       "    <tr>\n",
       "      <th>1</th>\n",
       "      <td>False</td>\n",
       "      <td>False</td>\n",
       "      <td>True</td>\n",
       "    </tr>\n",
       "    <tr>\n",
       "      <th>2</th>\n",
       "      <td>True</td>\n",
       "      <td>False</td>\n",
       "      <td>False</td>\n",
       "    </tr>\n",
       "    <tr>\n",
       "      <th>3</th>\n",
       "      <td>False</td>\n",
       "      <td>True</td>\n",
       "      <td>False</td>\n",
       "    </tr>\n",
       "    <tr>\n",
       "      <th>4</th>\n",
       "      <td>False</td>\n",
       "      <td>False</td>\n",
       "      <td>True</td>\n",
       "    </tr>\n",
       "  </tbody>\n",
       "</table>\n",
       "</div>"
      ],
      "text/plain": [
       "    Blue    Red  Yellow\n",
       "0  False   True   False\n",
       "1  False  False    True\n",
       "2   True  False   False\n",
       "3  False   True   False\n",
       "4  False  False    True"
      ]
     },
     "execution_count": 113,
     "metadata": {},
     "output_type": "execute_result"
    }
   ],
   "source": [
    "pd.get_dummies(colors)"
   ]
  },
  {
   "cell_type": "markdown",
   "id": "1eefa5ba-34c4-4185-ad1e-dd56576a6d90",
   "metadata": {},
   "source": [
    "Here we can see, at each index there is only one color which has valur True. We can use this method with DataFrames too.  \n",
    "We can use prefix parameter to add a prefix bebfore the color name:"
   ]
  },
  {
   "cell_type": "code",
   "execution_count": 114,
   "id": "9b055817-84da-4bfe-ab5b-30aff8318479",
   "metadata": {},
   "outputs": [
    {
     "data": {
      "text/html": [
       "<div>\n",
       "<style scoped>\n",
       "    .dataframe tbody tr th:only-of-type {\n",
       "        vertical-align: middle;\n",
       "    }\n",
       "\n",
       "    .dataframe tbody tr th {\n",
       "        vertical-align: top;\n",
       "    }\n",
       "\n",
       "    .dataframe thead th {\n",
       "        text-align: right;\n",
       "    }\n",
       "</style>\n",
       "<table border=\"1\" class=\"dataframe\">\n",
       "  <thead>\n",
       "    <tr style=\"text-align: right;\">\n",
       "      <th></th>\n",
       "      <th>Color_Blue</th>\n",
       "      <th>Color_Red</th>\n",
       "      <th>Color_Yellow</th>\n",
       "    </tr>\n",
       "  </thead>\n",
       "  <tbody>\n",
       "    <tr>\n",
       "      <th>0</th>\n",
       "      <td>False</td>\n",
       "      <td>True</td>\n",
       "      <td>False</td>\n",
       "    </tr>\n",
       "    <tr>\n",
       "      <th>1</th>\n",
       "      <td>False</td>\n",
       "      <td>False</td>\n",
       "      <td>True</td>\n",
       "    </tr>\n",
       "    <tr>\n",
       "      <th>2</th>\n",
       "      <td>True</td>\n",
       "      <td>False</td>\n",
       "      <td>False</td>\n",
       "    </tr>\n",
       "    <tr>\n",
       "      <th>3</th>\n",
       "      <td>False</td>\n",
       "      <td>True</td>\n",
       "      <td>False</td>\n",
       "    </tr>\n",
       "    <tr>\n",
       "      <th>4</th>\n",
       "      <td>False</td>\n",
       "      <td>False</td>\n",
       "      <td>True</td>\n",
       "    </tr>\n",
       "  </tbody>\n",
       "</table>\n",
       "</div>"
      ],
      "text/plain": [
       "   Color_Blue  Color_Red  Color_Yellow\n",
       "0       False       True         False\n",
       "1       False      False          True\n",
       "2        True      False         False\n",
       "3       False       True         False\n",
       "4       False      False          True"
      ]
     },
     "execution_count": 114,
     "metadata": {},
     "output_type": "execute_result"
    }
   ],
   "source": [
    "pd.get_dummies(colors, prefix='Color')"
   ]
  },
  {
   "cell_type": "markdown",
   "id": "f34c2ff3-fee3-4455-8e18-7769f2569a18",
   "metadata": {},
   "source": [
    "Here we got Color_ prefix before every color name."
   ]
  },
  {
   "cell_type": "markdown",
   "id": "1064ba79-67bc-4ea0-99e6-6732c191cf0a",
   "metadata": {},
   "source": [
    "### Categorical"
   ]
  },
  {
   "cell_type": "markdown",
   "id": "91652a89-bb17-4c0a-9490-ca9f69bb01b8",
   "metadata": {},
   "source": [
    "Categorical data is a type of data that represents categories or labels rather than numerical values. In simple words, it is a way of classifying into distinct categories, such as genders, country names, or education levels. Categorical data is handy when we have data that naturally fit into predefined options."
   ]
  },
  {
   "cell_type": "markdown",
   "id": "97ae192d-c657-48bb-845f-d291297e6a79",
   "metadata": {},
   "source": [
    "#### Create a Category"
   ]
  },
  {
   "cell_type": "markdown",
   "id": "950c9649-06ee-44cf-881d-062a25d56664",
   "metadata": {},
   "source": [
    "Let's create a category:"
   ]
  },
  {
   "cell_type": "code",
   "execution_count": 115,
   "id": "5e3788da-2a0a-415b-a36b-824c4f07547c",
   "metadata": {},
   "outputs": [
    {
     "data": {
      "text/plain": [
       "['Red', 'Yellow', 'Blue', 'Red', 'Yellow']\n",
       "Categories (3, object): ['Blue', 'Red', 'Yellow']"
      ]
     },
     "execution_count": 115,
     "metadata": {},
     "output_type": "execute_result"
    }
   ],
   "source": [
    "pd.Categorical([\"Red\", \"Yellow\", \"Blue\", \"Red\", \"Yellow\"])"
   ]
  },
  {
   "cell_type": "markdown",
   "id": "e2fca402-f178-40ca-9953-4d56f6e41ec6",
   "metadata": {},
   "source": [
    "The output included the original data values and a list of unique categories present in the data. We can also convert a Series into a Categorical using astype() function:"
   ]
  },
  {
   "cell_type": "code",
   "execution_count": 116,
   "id": "5bdd9004-74b7-428e-962a-a94218fcd484",
   "metadata": {},
   "outputs": [
    {
     "data": {
      "text/plain": [
       "0       Red\n",
       "1    Yellow\n",
       "2      Blue\n",
       "3       Red\n",
       "4    Yellow\n",
       "dtype: object"
      ]
     },
     "execution_count": 116,
     "metadata": {},
     "output_type": "execute_result"
    }
   ],
   "source": [
    "colors"
   ]
  },
  {
   "cell_type": "code",
   "execution_count": 117,
   "id": "a8fde454-fc07-4233-9b40-576b5cd91a2f",
   "metadata": {},
   "outputs": [
    {
     "data": {
      "text/plain": [
       "0       Red\n",
       "1    Yellow\n",
       "2      Blue\n",
       "3       Red\n",
       "4    Yellow\n",
       "dtype: category\n",
       "Categories (3, object): ['Blue', 'Red', 'Yellow']"
      ]
     },
     "execution_count": 117,
     "metadata": {},
     "output_type": "execute_result"
    }
   ],
   "source": [
    "colors.astype('category')"
   ]
  },
  {
   "cell_type": "markdown",
   "id": "083faf48-9382-4228-a71b-44308934044b",
   "metadata": {},
   "source": [
    "We can also create a Series with dtype category:"
   ]
  },
  {
   "cell_type": "code",
   "execution_count": 118,
   "id": "9154ae09-9250-40e9-8336-dbb5e49f2b0e",
   "metadata": {},
   "outputs": [
    {
     "data": {
      "text/plain": [
       "0       Red\n",
       "1    Yellow\n",
       "2      Blue\n",
       "3       Red\n",
       "4    Yellow\n",
       "dtype: category\n",
       "Categories (3, object): ['Blue', 'Red', 'Yellow']"
      ]
     },
     "execution_count": 118,
     "metadata": {},
     "output_type": "execute_result"
    }
   ],
   "source": [
    "pd.Series([\"Red\", \"Yellow\", \"Blue\", \"Red\", \"Yellow\"], dtype='category')"
   ]
  },
  {
   "cell_type": "markdown",
   "id": "b2fc857c-3b68-4d5f-bf4b-75d832c91d52",
   "metadata": {},
   "source": [
    "<img src=\"https://atharvsuryavanshi.github.io/Diagram-Manager/images/pandas-how-category-works-example.png\" alt=\"pandas-how-category-works-example.png\" width=\"1000\">\n",
    "\n",
    "(If the image isn't visible then click here: [How Pandas Category Works?](https://atharvsuryavanshi.github.io/Diagram-Manager/images/pandas-how-category-works-example.png))"
   ]
  },
  {
   "cell_type": "markdown",
   "id": "ce44abbe-2841-4971-a92a-9af05b74599e",
   "metadata": {},
   "source": [
    "#### Access Categories and Codes"
   ]
  },
  {
   "cell_type": "markdown",
   "id": "2750bef7-8b6b-4e2d-92c9-eeb6ccf91986",
   "metadata": {},
   "source": [
    "The cat accessor allows us to access categories and codes. Here's the attributes provided by the cat accessor to access categories and codes:\n",
    "- categories - Returns the unique categories present in the categorical variable.\n",
    "- codes - Returns the integer codes representing the categories for each element in the categorical variable."
   ]
  },
  {
   "cell_type": "code",
   "execution_count": 119,
   "id": "fd5dea72-e7fb-43c8-a6bd-f4b3c2fab06e",
   "metadata": {},
   "outputs": [
    {
     "data": {
      "text/plain": [
       "0       Red\n",
       "1    Yellow\n",
       "2      Blue\n",
       "3       Red\n",
       "4    Yellow\n",
       "dtype: category\n",
       "Categories (3, object): ['Blue', 'Red', 'Yellow']"
      ]
     },
     "execution_count": 119,
     "metadata": {},
     "output_type": "execute_result"
    }
   ],
   "source": [
    "colors_cat = colors.astype('category')\n",
    "colors_cat"
   ]
  },
  {
   "cell_type": "code",
   "execution_count": 120,
   "id": "aaa74744-d8f0-4d0c-8f17-f35272adf44f",
   "metadata": {},
   "outputs": [
    {
     "data": {
      "text/plain": [
       "Index(['Blue', 'Red', 'Yellow'], dtype='object')"
      ]
     },
     "execution_count": 120,
     "metadata": {},
     "output_type": "execute_result"
    }
   ],
   "source": [
    "colors_cat.cat.categories"
   ]
  },
  {
   "cell_type": "code",
   "execution_count": 121,
   "id": "41336ec7-ce68-4660-a8b8-75fb5f630879",
   "metadata": {},
   "outputs": [
    {
     "data": {
      "text/plain": [
       "0    1\n",
       "1    2\n",
       "2    0\n",
       "3    1\n",
       "4    2\n",
       "dtype: int8"
      ]
     },
     "execution_count": 121,
     "metadata": {},
     "output_type": "execute_result"
    }
   ],
   "source": [
    "colors_cat.cat.codes"
   ]
  },
  {
   "cell_type": "markdown",
   "id": "cd76877b-2f0d-4612-ac56-dd4986844852",
   "metadata": {},
   "source": [
    "**Note:** We cannot use this cat accessor on Categorical directly as we don't need it, we need it for a Categorical Series. "
   ]
  },
  {
   "cell_type": "markdown",
   "id": "28892756-178d-4995-890c-f6ad7d34b0c3",
   "metadata": {},
   "source": [
    "#### Rename Categories"
   ]
  },
  {
   "cell_type": "code",
   "execution_count": 122,
   "id": "49915f56-4fc0-4dd7-b5a0-cde4a0498691",
   "metadata": {},
   "outputs": [
    {
     "data": {
      "text/plain": [
       "0    A\n",
       "1    B\n",
       "2    C\n",
       "3    A\n",
       "4    B\n",
       "dtype: category\n",
       "Categories (3, object): ['A', 'B', 'C']"
      ]
     },
     "execution_count": 122,
     "metadata": {},
     "output_type": "execute_result"
    }
   ],
   "source": [
    "alphabets = pd.Series(['A', 'B', 'C', 'A', 'B'], dtype=\"category\")\n",
    "alphabets"
   ]
  },
  {
   "cell_type": "code",
   "execution_count": 123,
   "id": "f21001fc-5f9d-4229-a0f7-96e7873037d2",
   "metadata": {},
   "outputs": [
    {
     "data": {
      "text/plain": [
       "0    a\n",
       "1    B\n",
       "2    c\n",
       "3    a\n",
       "4    B\n",
       "dtype: category\n",
       "Categories (3, object): ['a', 'B', 'c']"
      ]
     },
     "execution_count": 123,
     "metadata": {},
     "output_type": "execute_result"
    }
   ],
   "source": [
    "alphabets.cat.rename_categories({'A': 'a', 'C': 'c'})"
   ]
  },
  {
   "cell_type": "markdown",
   "id": "fb0ecb35-5133-46f7-b998-f3aa80026702",
   "metadata": {},
   "source": [
    "Here, we renamed 2 out of the 3 categories of the alphabets Categorical Series."
   ]
  },
  {
   "cell_type": "markdown",
   "id": "853ab0be-5d70-4525-900e-5ef36ddb9570",
   "metadata": {},
   "source": [
    "#### Add New Categories"
   ]
  },
  {
   "cell_type": "code",
   "execution_count": 124,
   "id": "ec5b8287-a591-4261-afb7-7a284f82774e",
   "metadata": {},
   "outputs": [
    {
     "data": {
      "text/plain": [
       "0    A\n",
       "1    B\n",
       "2    C\n",
       "3    A\n",
       "4    B\n",
       "dtype: category\n",
       "Categories (5, object): ['A', 'B', 'C', 'D', 'E']"
      ]
     },
     "execution_count": 124,
     "metadata": {},
     "output_type": "execute_result"
    }
   ],
   "source": [
    "alphabets.cat.add_categories(['D', 'E'])"
   ]
  },
  {
   "cell_type": "markdown",
   "id": "e15d8fca-57dd-4fdf-b623-71efdf9ad198",
   "metadata": {},
   "source": [
    "So, now it has total 5 categories."
   ]
  },
  {
   "cell_type": "markdown",
   "id": "9ebfac3a-8dee-4db4-9cd1-50c78b376b3b",
   "metadata": {},
   "source": [
    "#### Remove Categories"
   ]
  },
  {
   "cell_type": "code",
   "execution_count": 125,
   "id": "d933c0db-68d1-4d17-8d41-ad5b00345055",
   "metadata": {},
   "outputs": [
    {
     "data": {
      "text/plain": [
       "0      A\n",
       "1    NaN\n",
       "2      C\n",
       "3      A\n",
       "4    NaN\n",
       "dtype: category\n",
       "Categories (2, object): ['A', 'C']"
      ]
     },
     "execution_count": 125,
     "metadata": {},
     "output_type": "execute_result"
    }
   ],
   "source": [
    "alphabets.cat.remove_categories(['B'])"
   ]
  },
  {
   "cell_type": "markdown",
   "id": "5a592063-cc60-4461-a0e5-a5952c251ae7",
   "metadata": {},
   "source": [
    "As we removed the category B from the Categorical Series, we now have NaN as the categories at indices 1 and 4."
   ]
  },
  {
   "cell_type": "markdown",
   "id": "f4bed597-8768-4825-bd7d-86c368a01c50",
   "metadata": {},
   "source": [
    "#### Check if Categorical Variable is Ordered or Not"
   ]
  },
  {
   "cell_type": "markdown",
   "id": "316e9b41-6735-4779-9774-5596cc088e19",
   "metadata": {},
   "source": [
    "To check if a categorical variable is ordered, you can use the ordered attribute provided by the cat accessor."
   ]
  },
  {
   "cell_type": "code",
   "execution_count": 126,
   "id": "a44bd432-e231-49dd-ac48-acee7e303180",
   "metadata": {},
   "outputs": [
    {
     "data": {
      "text/plain": [
       "False"
      ]
     },
     "execution_count": 126,
     "metadata": {},
     "output_type": "execute_result"
    }
   ],
   "source": [
    "alphabets.cat.ordered"
   ]
  },
  {
   "cell_type": "markdown",
   "id": "23aa2167-7352-4ac2-84ea-6e50ffdd74bc",
   "metadata": {},
   "source": [
    "That means its isn't ordered. Let's make an ordered Categorical using the alphabets Categorical Series:"
   ]
  },
  {
   "cell_type": "code",
   "execution_count": 127,
   "id": "6eba0c39-d3a7-428a-ba80-ce6052e2036f",
   "metadata": {},
   "outputs": [
    {
     "data": {
      "text/plain": [
       "['A', 'B', 'C', 'A', 'B']\n",
       "Categories (3, object): ['A' < 'B' < 'C']"
      ]
     },
     "execution_count": 127,
     "metadata": {},
     "output_type": "execute_result"
    }
   ],
   "source": [
    "alphabets_ordered = pd.Categorical(alphabets, ordered=True)\n",
    "alphabets_ordered"
   ]
  },
  {
   "cell_type": "code",
   "execution_count": 128,
   "id": "ea413a0c-e2a1-4d2c-96c5-895d028a3374",
   "metadata": {},
   "outputs": [
    {
     "data": {
      "text/plain": [
       "True"
      ]
     },
     "execution_count": 128,
     "metadata": {},
     "output_type": "execute_result"
    }
   ],
   "source": [
    "alphabets_ordered.ordered"
   ]
  },
  {
   "cell_type": "markdown",
   "id": "fddb0a30-bc35-40a8-a605-cdbceb0f02b9",
   "metadata": {},
   "source": [
    "Because we set ordered parameter as True, the Categorical is ordered.  \n",
    "**Note:** Ordering categorical variables in Pandas helps in maintaining a logical sequence for analysis and visualization. Recognizing this order ensures accurate statistical tests, meaningful visual representations, and consistent data interpretation."
   ]
  },
  {
   "cell_type": "markdown",
   "id": "9e39f476-0d13-4af5-993f-d013259ac1ab",
   "metadata": {},
   "source": [
    "## Data Analysis and Aggregation"
   ]
  },
  {
   "cell_type": "markdown",
   "id": "9758a56f-3ff9-49f7-b469-196ceafe99df",
   "metadata": {},
   "source": [
    "### DateTime"
   ]
  },
  {
   "cell_type": "markdown",
   "id": "ec9feaf3-9131-4198-afe5-e937ec304d0e",
   "metadata": {},
   "source": [
    "DateTime is a data type that represents a single point in time. It is especially useful when dealing with time-series data like stock prices, weather records, economic indicators etc.  \n",
    "We use the to_datetime() function to convert strings to the DateTime object."
   ]
  },
  {
   "cell_type": "code",
   "execution_count": 129,
   "id": "ebde0ebe-420c-4d3c-98b7-31cacd25c7a8",
   "metadata": {},
   "outputs": [
    {
     "data": {
      "text/plain": [
       "Timestamp('2000-04-13 16:44:00')"
      ]
     },
     "execution_count": 129,
     "metadata": {},
     "output_type": "execute_result"
    }
   ],
   "source": [
    "datetime = pd.to_datetime(\"2000-04-13 16:44:00\")\n",
    "datetime"
   ]
  },
  {
   "cell_type": "markdown",
   "id": "4e841ebf-94cc-4e61-8686-9ba94fbb6e35",
   "metadata": {},
   "source": [
    "Let's check it's type:"
   ]
  },
  {
   "cell_type": "code",
   "execution_count": 130,
   "id": "7e2d7352-1b32-482a-9cee-7498d0d159e2",
   "metadata": {},
   "outputs": [
    {
     "data": {
      "text/plain": [
       "pandas._libs.tslibs.timestamps.Timestamp"
      ]
     },
     "execution_count": 130,
     "metadata": {},
     "output_type": "execute_result"
    }
   ],
   "source": [
    "type(datetime)"
   ]
  },
  {
   "cell_type": "markdown",
   "id": "0b1521a0-b3cb-4546-9b58-f7d6171e45bb",
   "metadata": {},
   "source": [
    "That means it's a Timestamp. Now, let's bring our reelers DataFrame:"
   ]
  },
  {
   "cell_type": "code",
   "execution_count": 131,
   "id": "87c5b285-ee62-4525-8fa7-ab59ffb993a5",
   "metadata": {},
   "outputs": [
    {
     "data": {
      "text/html": [
       "<div>\n",
       "<style scoped>\n",
       "    .dataframe tbody tr th:only-of-type {\n",
       "        vertical-align: middle;\n",
       "    }\n",
       "\n",
       "    .dataframe tbody tr th {\n",
       "        vertical-align: top;\n",
       "    }\n",
       "\n",
       "    .dataframe thead th {\n",
       "        text-align: right;\n",
       "    }\n",
       "</style>\n",
       "<table border=\"1\" class=\"dataframe\">\n",
       "  <thead>\n",
       "    <tr style=\"text-align: right;\">\n",
       "      <th></th>\n",
       "      <th>name</th>\n",
       "      <th>username</th>\n",
       "      <th>date of joining</th>\n",
       "      <th>number of reels</th>\n",
       "      <th>followers</th>\n",
       "    </tr>\n",
       "  </thead>\n",
       "  <tbody>\n",
       "    <tr>\n",
       "      <th>0</th>\n",
       "      <td>Emma Watson</td>\n",
       "      <td>emma_watson01</td>\n",
       "      <td>2023-02-14</td>\n",
       "      <td>5.0</td>\n",
       "      <td>10000.0</td>\n",
       "    </tr>\n",
       "    <tr>\n",
       "      <th>1</th>\n",
       "      <td>John Doe</td>\n",
       "      <td>john.doe_02</td>\n",
       "      <td>2023-01-21</td>\n",
       "      <td>20.0</td>\n",
       "      <td>15000.0</td>\n",
       "    </tr>\n",
       "    <tr>\n",
       "      <th>2</th>\n",
       "      <td>None</td>\n",
       "      <td>a.smith_03</td>\n",
       "      <td>None</td>\n",
       "      <td>NaN</td>\n",
       "      <td>NaN</td>\n",
       "    </tr>\n",
       "    <tr>\n",
       "      <th>3</th>\n",
       "      <td>Michael Johnson</td>\n",
       "      <td>michael123</td>\n",
       "      <td>2023-03-15</td>\n",
       "      <td>15.0</td>\n",
       "      <td>20000.0</td>\n",
       "    </tr>\n",
       "    <tr>\n",
       "      <th>4</th>\n",
       "      <td>None</td>\n",
       "      <td>sophia.brown05</td>\n",
       "      <td>None</td>\n",
       "      <td>NaN</td>\n",
       "      <td>NaN</td>\n",
       "    </tr>\n",
       "    <tr>\n",
       "      <th>5</th>\n",
       "      <td>Ethan Miller</td>\n",
       "      <td>e.miller06</td>\n",
       "      <td>2023-04-20</td>\n",
       "      <td>25.0</td>\n",
       "      <td>25000.0</td>\n",
       "    </tr>\n",
       "    <tr>\n",
       "      <th>6</th>\n",
       "      <td>Olivia Davis</td>\n",
       "      <td>olivia-davis07</td>\n",
       "      <td>2023-06-18</td>\n",
       "      <td>30.0</td>\n",
       "      <td>30000.0</td>\n",
       "    </tr>\n",
       "    <tr>\n",
       "      <th>7</th>\n",
       "      <td>None</td>\n",
       "      <td>william_w</td>\n",
       "      <td>None</td>\n",
       "      <td>NaN</td>\n",
       "      <td>NaN</td>\n",
       "    </tr>\n",
       "    <tr>\n",
       "      <th>8</th>\n",
       "      <td>Ava Taylor</td>\n",
       "      <td>avataylor</td>\n",
       "      <td>2023-07-25</td>\n",
       "      <td>22.0</td>\n",
       "      <td>35000.0</td>\n",
       "    </tr>\n",
       "    <tr>\n",
       "      <th>9</th>\n",
       "      <td>None</td>\n",
       "      <td>dmartinez10</td>\n",
       "      <td>None</td>\n",
       "      <td>NaN</td>\n",
       "      <td>NaN</td>\n",
       "    </tr>\n",
       "  </tbody>\n",
       "</table>\n",
       "</div>"
      ],
      "text/plain": [
       "              name        username date of joining  number of reels  followers\n",
       "0      Emma Watson   emma_watson01      2023-02-14              5.0    10000.0\n",
       "1         John Doe     john.doe_02      2023-01-21             20.0    15000.0\n",
       "2             None      a.smith_03            None              NaN        NaN\n",
       "3  Michael Johnson      michael123      2023-03-15             15.0    20000.0\n",
       "4             None  sophia.brown05            None              NaN        NaN\n",
       "5     Ethan Miller      e.miller06      2023-04-20             25.0    25000.0\n",
       "6     Olivia Davis  olivia-davis07      2023-06-18             30.0    30000.0\n",
       "7             None       william_w            None              NaN        NaN\n",
       "8       Ava Taylor       avataylor      2023-07-25             22.0    35000.0\n",
       "9             None     dmartinez10            None              NaN        NaN"
      ]
     },
     "execution_count": 131,
     "metadata": {},
     "output_type": "execute_result"
    }
   ],
   "source": [
    "reelers"
   ]
  },
  {
   "cell_type": "markdown",
   "id": "1e4ce16e-15d6-4e4f-9578-3fcfe46e4f49",
   "metadata": {},
   "source": [
    "If we check the first element of the date of joining column:"
   ]
  },
  {
   "cell_type": "code",
   "execution_count": 132,
   "id": "c0d6b167-b36c-4d60-a4e5-dc2d1c864e6c",
   "metadata": {},
   "outputs": [
    {
     "data": {
      "text/plain": [
       "'2023-02-14'"
      ]
     },
     "execution_count": 132,
     "metadata": {},
     "output_type": "execute_result"
    }
   ],
   "source": [
    "reelers.loc[0, 'date of joining']"
   ]
  },
  {
   "cell_type": "markdown",
   "id": "03dbdaa6-1bc6-4c32-ae0a-e6d9f79f0d67",
   "metadata": {},
   "source": [
    "It's a string. That means all the dates here are also strings, let's convert them into DateTime:"
   ]
  },
  {
   "cell_type": "code",
   "execution_count": 133,
   "id": "810ce38a-a08f-424d-9155-a03c26643b55",
   "metadata": {},
   "outputs": [
    {
     "data": {
      "text/html": [
       "<div>\n",
       "<style scoped>\n",
       "    .dataframe tbody tr th:only-of-type {\n",
       "        vertical-align: middle;\n",
       "    }\n",
       "\n",
       "    .dataframe tbody tr th {\n",
       "        vertical-align: top;\n",
       "    }\n",
       "\n",
       "    .dataframe thead th {\n",
       "        text-align: right;\n",
       "    }\n",
       "</style>\n",
       "<table border=\"1\" class=\"dataframe\">\n",
       "  <thead>\n",
       "    <tr style=\"text-align: right;\">\n",
       "      <th></th>\n",
       "      <th>name</th>\n",
       "      <th>username</th>\n",
       "      <th>date of joining</th>\n",
       "      <th>number of reels</th>\n",
       "      <th>followers</th>\n",
       "    </tr>\n",
       "  </thead>\n",
       "  <tbody>\n",
       "    <tr>\n",
       "      <th>0</th>\n",
       "      <td>Emma Watson</td>\n",
       "      <td>emma_watson01</td>\n",
       "      <td>2023-02-14 00:00:00</td>\n",
       "      <td>5.0</td>\n",
       "      <td>10000.0</td>\n",
       "    </tr>\n",
       "    <tr>\n",
       "      <th>1</th>\n",
       "      <td>John Doe</td>\n",
       "      <td>john.doe_02</td>\n",
       "      <td>2023-01-21 00:00:00</td>\n",
       "      <td>20.0</td>\n",
       "      <td>15000.0</td>\n",
       "    </tr>\n",
       "    <tr>\n",
       "      <th>2</th>\n",
       "      <td>None</td>\n",
       "      <td>a.smith_03</td>\n",
       "      <td>NaT</td>\n",
       "      <td>NaN</td>\n",
       "      <td>NaN</td>\n",
       "    </tr>\n",
       "    <tr>\n",
       "      <th>3</th>\n",
       "      <td>Michael Johnson</td>\n",
       "      <td>michael123</td>\n",
       "      <td>2023-03-15 00:00:00</td>\n",
       "      <td>15.0</td>\n",
       "      <td>20000.0</td>\n",
       "    </tr>\n",
       "    <tr>\n",
       "      <th>4</th>\n",
       "      <td>None</td>\n",
       "      <td>sophia.brown05</td>\n",
       "      <td>NaT</td>\n",
       "      <td>NaN</td>\n",
       "      <td>NaN</td>\n",
       "    </tr>\n",
       "    <tr>\n",
       "      <th>5</th>\n",
       "      <td>Ethan Miller</td>\n",
       "      <td>e.miller06</td>\n",
       "      <td>2023-04-20 00:00:00</td>\n",
       "      <td>25.0</td>\n",
       "      <td>25000.0</td>\n",
       "    </tr>\n",
       "    <tr>\n",
       "      <th>6</th>\n",
       "      <td>Olivia Davis</td>\n",
       "      <td>olivia-davis07</td>\n",
       "      <td>2023-06-18 00:00:00</td>\n",
       "      <td>30.0</td>\n",
       "      <td>30000.0</td>\n",
       "    </tr>\n",
       "    <tr>\n",
       "      <th>7</th>\n",
       "      <td>None</td>\n",
       "      <td>william_w</td>\n",
       "      <td>NaT</td>\n",
       "      <td>NaN</td>\n",
       "      <td>NaN</td>\n",
       "    </tr>\n",
       "    <tr>\n",
       "      <th>8</th>\n",
       "      <td>Ava Taylor</td>\n",
       "      <td>avataylor</td>\n",
       "      <td>2023-07-25 00:00:00</td>\n",
       "      <td>22.0</td>\n",
       "      <td>35000.0</td>\n",
       "    </tr>\n",
       "    <tr>\n",
       "      <th>9</th>\n",
       "      <td>None</td>\n",
       "      <td>dmartinez10</td>\n",
       "      <td>NaT</td>\n",
       "      <td>NaN</td>\n",
       "      <td>NaN</td>\n",
       "    </tr>\n",
       "  </tbody>\n",
       "</table>\n",
       "</div>"
      ],
      "text/plain": [
       "              name        username      date of joining  number of reels  \\\n",
       "0      Emma Watson   emma_watson01  2023-02-14 00:00:00              5.0   \n",
       "1         John Doe     john.doe_02  2023-01-21 00:00:00             20.0   \n",
       "2             None      a.smith_03                  NaT              NaN   \n",
       "3  Michael Johnson      michael123  2023-03-15 00:00:00             15.0   \n",
       "4             None  sophia.brown05                  NaT              NaN   \n",
       "5     Ethan Miller      e.miller06  2023-04-20 00:00:00             25.0   \n",
       "6     Olivia Davis  olivia-davis07  2023-06-18 00:00:00             30.0   \n",
       "7             None       william_w                  NaT              NaN   \n",
       "8       Ava Taylor       avataylor  2023-07-25 00:00:00             22.0   \n",
       "9             None     dmartinez10                  NaT              NaN   \n",
       "\n",
       "   followers  \n",
       "0    10000.0  \n",
       "1    15000.0  \n",
       "2        NaN  \n",
       "3    20000.0  \n",
       "4        NaN  \n",
       "5    25000.0  \n",
       "6    30000.0  \n",
       "7        NaN  \n",
       "8    35000.0  \n",
       "9        NaN  "
      ]
     },
     "execution_count": 133,
     "metadata": {},
     "output_type": "execute_result"
    }
   ],
   "source": [
    "reelers.loc[:, ['date of joining']] = pd.to_datetime(reelers['date of joining'])\n",
    "reelers"
   ]
  },
  {
   "cell_type": "markdown",
   "id": "f11d7cc3-3d74-4215-8600-8dc4856792d8",
   "metadata": {},
   "source": [
    "Now, the column has both date and time values, if we check it's first element:"
   ]
  },
  {
   "cell_type": "code",
   "execution_count": 134,
   "id": "6cb4b45b-8797-4d40-b347-3897ecff2ade",
   "metadata": {},
   "outputs": [
    {
     "data": {
      "text/plain": [
       "Timestamp('2023-02-14 00:00:00')"
      ]
     },
     "execution_count": 134,
     "metadata": {},
     "output_type": "execute_result"
    }
   ],
   "source": [
    "reelers.loc[0, 'date of joining']"
   ]
  },
  {
   "cell_type": "markdown",
   "id": "3557da81-25a0-4122-9b80-41c132d472c1",
   "metadata": {},
   "source": [
    "That means all the dates in the column are converted into Timestamp.  \n",
    "By default the format which it requires is yyyy-mm-dd, but we can use other formats too:"
   ]
  },
  {
   "cell_type": "code",
   "execution_count": 135,
   "id": "db07c7b3-b334-4faf-a4c0-eeadb1de8f27",
   "metadata": {},
   "outputs": [
    {
     "data": {
      "text/plain": [
       "Timestamp('2000-04-13 16:44:00')"
      ]
     },
     "execution_count": 135,
     "metadata": {},
     "output_type": "execute_result"
    }
   ],
   "source": [
    "pd.to_datetime(\"13-04-2000 16:44:00\", dayfirst=True)"
   ]
  },
  {
   "cell_type": "markdown",
   "id": "a9c1e07d-296f-42a1-9a98-b5065ae775b8",
   "metadata": {},
   "source": [
    "Here, we put a date in dd-mm-yyyy format. It converted it into a Timestamp. We can also use custom formats too:"
   ]
  },
  {
   "cell_type": "code",
   "execution_count": 136,
   "id": "cf9c9d7c-98fc-4d1d-b9d6-ba59cb3abe75",
   "metadata": {},
   "outputs": [
    {
     "data": {
      "text/plain": [
       "Timestamp('2000-04-13 16:44:00')"
      ]
     },
     "execution_count": 136,
     "metadata": {},
     "output_type": "execute_result"
    }
   ],
   "source": [
    "pd.to_datetime(\"13-04 2000 16::44::00\", format=\"%d-%m %Y %H::%M::%S\")"
   ]
  },
  {
   "cell_type": "markdown",
   "id": "cd03a1f5-136e-49cf-b001-ae9880db6e7f",
   "metadata": {},
   "source": [
    "So, it converted a date with dd-mm yyyy HH::MM::SS format into a Timestamp.  \n",
    "To get the vlues of a Timestamp, we use dt accessor:"
   ]
  },
  {
   "cell_type": "code",
   "execution_count": 137,
   "id": "ded7702f-9e63-4230-9de9-69d5f6d2eee0",
   "metadata": {},
   "outputs": [
    {
     "data": {
      "text/plain": [
       "0    2023.0\n",
       "1    2023.0\n",
       "2       NaN\n",
       "3    2023.0\n",
       "4       NaN\n",
       "5    2023.0\n",
       "6    2023.0\n",
       "7       NaN\n",
       "8    2023.0\n",
       "9       NaN\n",
       "Name: date of joining, dtype: float64"
      ]
     },
     "execution_count": 137,
     "metadata": {},
     "output_type": "execute_result"
    }
   ],
   "source": [
    "reelers['date of joining'].astype('datetime64[ns]').dt.year"
   ]
  },
  {
   "cell_type": "markdown",
   "id": "ec7e19e2-3871-4fe0-996d-1d5e56ff9b76",
   "metadata": {},
   "source": [
    "Just like this, we can use month and day to get the respective values. We can also get weekday names:"
   ]
  },
  {
   "cell_type": "code",
   "execution_count": 138,
   "id": "e6ffac26-fe20-4fbf-ad72-8fa0103ebae5",
   "metadata": {},
   "outputs": [
    {
     "data": {
      "text/plain": [
       "0      Tuesday\n",
       "1     Saturday\n",
       "2          NaN\n",
       "3    Wednesday\n",
       "4          NaN\n",
       "5     Thursday\n",
       "6       Sunday\n",
       "7          NaN\n",
       "8      Tuesday\n",
       "9          NaN\n",
       "Name: date of joining, dtype: object"
      ]
     },
     "execution_count": 138,
     "metadata": {},
     "output_type": "execute_result"
    }
   ],
   "source": [
    "reelers['date of joining'].astype('datetime64[ns]').dt.day_name()"
   ]
  },
  {
   "cell_type": "markdown",
   "id": "7630dbeb-bc6c-410b-af7d-036a2ddf939d",
   "metadata": {},
   "source": [
    "And here we got days. We can also check which week it is:"
   ]
  },
  {
   "cell_type": "code",
   "execution_count": 139,
   "id": "ac83393b-8c75-4799-948b-7a1f5c7d3b49",
   "metadata": {},
   "outputs": [
    {
     "data": {
      "text/plain": [
       "0       7\n",
       "1       3\n",
       "2    <NA>\n",
       "3      11\n",
       "4    <NA>\n",
       "5      16\n",
       "6      24\n",
       "7    <NA>\n",
       "8      30\n",
       "9    <NA>\n",
       "Name: week, dtype: UInt32"
      ]
     },
     "execution_count": 139,
     "metadata": {},
     "output_type": "execute_result"
    }
   ],
   "source": [
    "reelers['date of joining'].astype('datetime64[ns]').dt.isocalendar().week"
   ]
  },
  {
   "cell_type": "markdown",
   "id": "7dcf9a59-17ab-4002-b8c6-d0a570f67cf8",
   "metadata": {},
   "source": [
    "And we got the numbers of the weeks. We can also check whether it is a leap year or not:"
   ]
  },
  {
   "cell_type": "code",
   "execution_count": 140,
   "id": "765eb673-efd2-4271-acd3-2ebcd7720922",
   "metadata": {},
   "outputs": [
    {
     "data": {
      "text/plain": [
       "0    False\n",
       "1    False\n",
       "2    False\n",
       "3    False\n",
       "4    False\n",
       "5    False\n",
       "6    False\n",
       "7    False\n",
       "8    False\n",
       "9    False\n",
       "Name: date of joining, dtype: bool"
      ]
     },
     "execution_count": 140,
     "metadata": {},
     "output_type": "execute_result"
    }
   ],
   "source": [
    "reelers['date of joining'].astype('datetime64[ns]').dt.is_leap_year"
   ]
  },
  {
   "cell_type": "markdown",
   "id": "6ccfc317-cbed-4986-ae0c-28b614d1a26f",
   "metadata": {},
   "source": [
    "Because all the date's were from 2023 and because it wasn't a leap year, we got Flase for all the values.\n",
    "\n",
    "DateTime index in uses DateTime values as index values.  \n",
    "A datetime index is particularly useful when dealing with time series data like weather data, stock prices, and other time-dependent data, as it allows natural organization and manipulation based on timestamps."
   ]
  },
  {
   "cell_type": "code",
   "execution_count": 141,
   "id": "c9fb4cf5-811a-4aa2-9ce3-99dae93bb0e2",
   "metadata": {},
   "outputs": [
    {
     "data": {
      "text/html": [
       "<div>\n",
       "<style scoped>\n",
       "    .dataframe tbody tr th:only-of-type {\n",
       "        vertical-align: middle;\n",
       "    }\n",
       "\n",
       "    .dataframe tbody tr th {\n",
       "        vertical-align: top;\n",
       "    }\n",
       "\n",
       "    .dataframe thead th {\n",
       "        text-align: right;\n",
       "    }\n",
       "</style>\n",
       "<table border=\"1\" class=\"dataframe\">\n",
       "  <thead>\n",
       "    <tr style=\"text-align: right;\">\n",
       "      <th></th>\n",
       "      <th>temperatures</th>\n",
       "    </tr>\n",
       "  </thead>\n",
       "  <tbody>\n",
       "    <tr>\n",
       "      <th>2023-12-01</th>\n",
       "      <td>20.1</td>\n",
       "    </tr>\n",
       "    <tr>\n",
       "      <th>2024-01-01</th>\n",
       "      <td>22.0</td>\n",
       "    </tr>\n",
       "    <tr>\n",
       "      <th>2024-02-01</th>\n",
       "      <td>33.2</td>\n",
       "    </tr>\n",
       "    <tr>\n",
       "      <th>2024-03-01</th>\n",
       "      <td>44.4</td>\n",
       "    </tr>\n",
       "    <tr>\n",
       "      <th>2024-04-01</th>\n",
       "      <td>45.0</td>\n",
       "    </tr>\n",
       "  </tbody>\n",
       "</table>\n",
       "</div>"
      ],
      "text/plain": [
       "            temperatures\n",
       "2023-12-01          20.1\n",
       "2024-01-01          22.0\n",
       "2024-02-01          33.2\n",
       "2024-03-01          44.4\n",
       "2024-04-01          45.0"
      ]
     },
     "execution_count": 141,
     "metadata": {},
     "output_type": "execute_result"
    }
   ],
   "source": [
    "new_temperatures = pd.DataFrame({'temperatures': [20.1, 22, 33.2, 44.4, 45]}, \n",
    "                                index=pd.to_datetime(['2023-12-01', '2024-01-01', '2024-02-01', '2024-03-01', '2024-04-01']))\n",
    "new_temperatures"
   ]
  },
  {
   "cell_type": "code",
   "execution_count": 142,
   "id": "0f91f34f-458a-459d-81ca-080df4139a40",
   "metadata": {},
   "outputs": [
    {
     "data": {
      "text/plain": [
       "DatetimeIndex(['2023-12-01', '2024-01-01', '2024-02-01', '2024-03-01',\n",
       "               '2024-04-01'],\n",
       "              dtype='datetime64[ns]', freq=None)"
      ]
     },
     "execution_count": 142,
     "metadata": {},
     "output_type": "execute_result"
    }
   ],
   "source": [
    "new_temperatures.index"
   ]
  },
  {
   "cell_type": "markdown",
   "id": "c126ffd4-1363-49ba-8876-2f3a5506ebe9",
   "metadata": {},
   "source": [
    "That means, now the DataFrame has DatetimeIndex."
   ]
  },
  {
   "cell_type": "markdown",
   "id": "10affab8-e385-47ab-8280-4c2ce26a3c2e",
   "metadata": {},
   "source": [
    "### Aggregate Function"
   ]
  },
  {
   "cell_type": "markdown",
   "id": "45386a22-8240-4e01-b17d-84f88dfa9ec6",
   "metadata": {},
   "source": [
    "Aggregate function performs summary computations on data, often on grouped data. But it can also be used on Series objects.  \n",
    "This can be really useful for tasks such as calculating mean, sum, count, and other statistics for different groups within our data."
   ]
  },
  {
   "cell_type": "markdown",
   "id": "0c1a738a-51eb-4b0f-8bba-e208b11700af",
   "metadata": {},
   "source": [
    "It has the following parameters:\n",
    "- func - an aggregate function like sum, mean, etc.\n",
    "- axis - specifies whether to apply the aggregation operation along rows or columns.\n",
    "- \\*args and \\**kwargs - additional arguments that can be passed to the aggregation functions.\n",
    "\n",
    "Let's bring our students DataFrame for this:"
   ]
  },
  {
   "cell_type": "code",
   "execution_count": 143,
   "id": "ccf0147f-b29d-4ee0-9c51-2e46716563d3",
   "metadata": {},
   "outputs": [
    {
     "data": {
      "text/html": [
       "<div>\n",
       "<style scoped>\n",
       "    .dataframe tbody tr th:only-of-type {\n",
       "        vertical-align: middle;\n",
       "    }\n",
       "\n",
       "    .dataframe tbody tr th {\n",
       "        vertical-align: top;\n",
       "    }\n",
       "\n",
       "    .dataframe thead th {\n",
       "        text-align: right;\n",
       "    }\n",
       "</style>\n",
       "<table border=\"1\" class=\"dataframe\">\n",
       "  <thead>\n",
       "    <tr style=\"text-align: right;\">\n",
       "      <th></th>\n",
       "      <th>name</th>\n",
       "      <th>marathi</th>\n",
       "      <th>maths</th>\n",
       "      <th>science</th>\n",
       "      <th>history</th>\n",
       "    </tr>\n",
       "  </thead>\n",
       "  <tbody>\n",
       "    <tr>\n",
       "      <th>0</th>\n",
       "      <td>Rohan</td>\n",
       "      <td>85</td>\n",
       "      <td>95</td>\n",
       "      <td>88</td>\n",
       "      <td>80</td>\n",
       "    </tr>\n",
       "    <tr>\n",
       "      <th>1</th>\n",
       "      <td>Soham</td>\n",
       "      <td>78</td>\n",
       "      <td>88</td>\n",
       "      <td>91</td>\n",
       "      <td>85</td>\n",
       "    </tr>\n",
       "    <tr>\n",
       "      <th>2</th>\n",
       "      <td>Tanmay</td>\n",
       "      <td>92</td>\n",
       "      <td>84</td>\n",
       "      <td>90</td>\n",
       "      <td>78</td>\n",
       "    </tr>\n",
       "  </tbody>\n",
       "</table>\n",
       "</div>"
      ],
      "text/plain": [
       "     name  marathi  maths  science  history\n",
       "0   Rohan       85     95       88       80\n",
       "1   Soham       78     88       91       85\n",
       "2  Tanmay       92     84       90       78"
      ]
     },
     "execution_count": 143,
     "metadata": {},
     "output_type": "execute_result"
    }
   ],
   "source": [
    "students"
   ]
  },
  {
   "cell_type": "markdown",
   "id": "0b4bb71e-1cbc-4ea0-a77d-f3ba17294bfb",
   "metadata": {},
   "source": [
    "Now, let's take an example of mean marks for marathi subject:"
   ]
  },
  {
   "cell_type": "code",
   "execution_count": 144,
   "id": "7fe217ab-b9c2-4052-9db4-4f694bb090fa",
   "metadata": {},
   "outputs": [
    {
     "data": {
      "text/plain": [
       "85.0"
      ]
     },
     "execution_count": 144,
     "metadata": {},
     "output_type": "execute_result"
    }
   ],
   "source": [
    "students['marathi'].aggregate('mean')"
   ]
  },
  {
   "cell_type": "markdown",
   "id": "fbbfdb78-e4dc-4569-b277-d0e8c8b64f2b",
   "metadata": {},
   "source": [
    "That means the mean marks in marathi subject are 85."
   ]
  },
  {
   "cell_type": "code",
   "execution_count": 145,
   "id": "eae6d800-c925-43da-9613-e129c7aa1e7c",
   "metadata": {},
   "outputs": [
    {
     "data": {
      "text/plain": [
       "mean     81.0\n",
       "max      85.0\n",
       "min      78.0\n",
       "sum     243.0\n",
       "Name: history, dtype: float64"
      ]
     },
     "execution_count": 145,
     "metadata": {},
     "output_type": "execute_result"
    }
   ],
   "source": [
    "students['history'].aggregate(['mean', 'max', 'min', 'sum'])"
   ]
  },
  {
   "cell_type": "markdown",
   "id": "f1005bd4-95a0-4bfd-a1ce-60835e241c00",
   "metadata": {},
   "source": [
    "Let's take another example:"
   ]
  },
  {
   "cell_type": "code",
   "execution_count": 146,
   "id": "d21996f4-22ba-4829-9068-c1cae421a201",
   "metadata": {},
   "outputs": [
    {
     "data": {
      "text/html": [
       "<div>\n",
       "<style scoped>\n",
       "    .dataframe tbody tr th:only-of-type {\n",
       "        vertical-align: middle;\n",
       "    }\n",
       "\n",
       "    .dataframe tbody tr th {\n",
       "        vertical-align: top;\n",
       "    }\n",
       "\n",
       "    .dataframe thead th {\n",
       "        text-align: right;\n",
       "    }\n",
       "</style>\n",
       "<table border=\"1\" class=\"dataframe\">\n",
       "  <thead>\n",
       "    <tr style=\"text-align: right;\">\n",
       "      <th></th>\n",
       "      <th>toy</th>\n",
       "      <th>color</th>\n",
       "    </tr>\n",
       "  </thead>\n",
       "  <tbody>\n",
       "    <tr>\n",
       "      <th>0</th>\n",
       "      <td>Car</td>\n",
       "      <td>Red</td>\n",
       "    </tr>\n",
       "    <tr>\n",
       "      <th>1</th>\n",
       "      <td>Doll</td>\n",
       "      <td>Blue</td>\n",
       "    </tr>\n",
       "    <tr>\n",
       "      <th>2</th>\n",
       "      <td>Ball</td>\n",
       "      <td>Yellow</td>\n",
       "    </tr>\n",
       "    <tr>\n",
       "      <th>3</th>\n",
       "      <td>Train</td>\n",
       "      <td>Red</td>\n",
       "    </tr>\n",
       "    <tr>\n",
       "      <th>4</th>\n",
       "      <td>Plane</td>\n",
       "      <td>Blue</td>\n",
       "    </tr>\n",
       "    <tr>\n",
       "      <th>5</th>\n",
       "      <td>Blocks</td>\n",
       "      <td>Yellow</td>\n",
       "    </tr>\n",
       "    <tr>\n",
       "      <th>6</th>\n",
       "      <td>Teddy Bear</td>\n",
       "      <td>Red</td>\n",
       "    </tr>\n",
       "    <tr>\n",
       "      <th>7</th>\n",
       "      <td>Puzzle</td>\n",
       "      <td>Blue</td>\n",
       "    </tr>\n",
       "  </tbody>\n",
       "</table>\n",
       "</div>"
      ],
      "text/plain": [
       "          toy   color\n",
       "0         Car     Red\n",
       "1        Doll    Blue\n",
       "2        Ball  Yellow\n",
       "3       Train     Red\n",
       "4       Plane    Blue\n",
       "5      Blocks  Yellow\n",
       "6  Teddy Bear     Red\n",
       "7      Puzzle    Blue"
      ]
     },
     "execution_count": 146,
     "metadata": {},
     "output_type": "execute_result"
    }
   ],
   "source": [
    "toys = pd.DataFrame({\n",
    "    \"toy\": [\"Car\", \"Doll\", \"Ball\", \"Train\", \"Plane\", \"Blocks\", \"Teddy Bear\", \"Puzzle\"],\n",
    "    \"color\": [\"Red\", \"Blue\", \"Yellow\", \"Red\", \"Blue\", \"Yellow\", \"Red\", \"Blue\"]\n",
    "})\n",
    "toys"
   ]
  },
  {
   "cell_type": "markdown",
   "id": "6411e03a-c5e2-4172-8693-13994e458d57",
   "metadata": {},
   "source": [
    "Let's count the number of items of each color:"
   ]
  },
  {
   "cell_type": "code",
   "execution_count": 147,
   "id": "239b8ae7-00a5-4ae2-9b22-c7be652f0bb4",
   "metadata": {},
   "outputs": [
    {
     "data": {
      "text/plain": [
       "color\n",
       "Blue      3\n",
       "Red       3\n",
       "Yellow    2\n",
       "Name: toy, dtype: int64"
      ]
     },
     "execution_count": 147,
     "metadata": {},
     "output_type": "execute_result"
    }
   ],
   "source": [
    "toys.groupby('color')['toy'].agg('count')"
   ]
  },
  {
   "cell_type": "markdown",
   "id": "a78d6737-f2f3-455f-abd4-e28f723c7841",
   "metadata": {},
   "source": [
    "agg() is same as aggregate(). We first grouped the toys DataFrame based on the color column and then did the count for each color."
   ]
  },
  {
   "cell_type": "markdown",
   "id": "0a7abd7e-9752-4f2c-af69-5cd2566bbd1c",
   "metadata": {},
   "source": [
    "### Group By"
   ]
  },
  {
   "cell_type": "markdown",
   "id": "d020d39f-4f63-4cf2-99fd-f2741700f77d",
   "metadata": {},
   "source": [
    "The groupby operation lets us group data based on specific columns. This means we can divide a DataFrame into smaller groups based on the values in these columns.  \n",
    "Once grouped, we can then apply functions to each group separately. These functions help summarize or aggregate the data in each group."
   ]
  },
  {
   "cell_type": "markdown",
   "id": "14c2943a-7fd8-4d29-be9a-ac1511eb072f",
   "metadata": {},
   "source": [
    "#### Group by a Single Column"
   ]
  },
  {
   "cell_type": "markdown",
   "id": "1a9ade65-34cc-48e6-a43f-63210da17988",
   "metadata": {},
   "source": [
    "We use the groupby() function to group data by a single column and then calculate the aggregates. Let's take an example:"
   ]
  },
  {
   "cell_type": "code",
   "execution_count": 148,
   "id": "afc982ce-5c4e-473f-96a2-8eb937151a4a",
   "metadata": {},
   "outputs": [
    {
     "data": {
      "text/html": [
       "<div>\n",
       "<style scoped>\n",
       "    .dataframe tbody tr th:only-of-type {\n",
       "        vertical-align: middle;\n",
       "    }\n",
       "\n",
       "    .dataframe tbody tr th {\n",
       "        vertical-align: top;\n",
       "    }\n",
       "\n",
       "    .dataframe thead th {\n",
       "        text-align: right;\n",
       "    }\n",
       "</style>\n",
       "<table border=\"1\" class=\"dataframe\">\n",
       "  <thead>\n",
       "    <tr style=\"text-align: right;\">\n",
       "      <th></th>\n",
       "      <th>toy</th>\n",
       "    </tr>\n",
       "    <tr>\n",
       "      <th>color</th>\n",
       "      <th></th>\n",
       "    </tr>\n",
       "  </thead>\n",
       "  <tbody>\n",
       "    <tr>\n",
       "      <th>Blue</th>\n",
       "      <td>3</td>\n",
       "    </tr>\n",
       "    <tr>\n",
       "      <th>Red</th>\n",
       "      <td>3</td>\n",
       "    </tr>\n",
       "    <tr>\n",
       "      <th>Yellow</th>\n",
       "      <td>2</td>\n",
       "    </tr>\n",
       "  </tbody>\n",
       "</table>\n",
       "</div>"
      ],
      "text/plain": [
       "        toy\n",
       "color      \n",
       "Blue      3\n",
       "Red       3\n",
       "Yellow    2"
      ]
     },
     "execution_count": 148,
     "metadata": {},
     "output_type": "execute_result"
    }
   ],
   "source": [
    "toys.groupby('color').count()"
   ]
  },
  {
   "cell_type": "markdown",
   "id": "9be9e9d8-471f-48d0-8416-ee1f61c3ea12",
   "metadata": {},
   "source": [
    "Here, we again took counts for different colors but thi time we used count() method."
   ]
  },
  {
   "cell_type": "markdown",
   "id": "c12e69e0-720f-4757-8881-3acd6c6e2791",
   "metadata": {},
   "source": [
    "#### Group by a Multiple Columns"
   ]
  },
  {
   "cell_type": "markdown",
   "id": "6292cf30-2b51-4afb-81bd-c299bbad0ac8",
   "metadata": {},
   "source": [
    "Let's make a new DataFrame:"
   ]
  },
  {
   "cell_type": "code",
   "execution_count": 149,
   "id": "67f3ef6d-b0b8-4eec-b3b6-cb378f6273d7",
   "metadata": {},
   "outputs": [
    {
     "data": {
      "text/html": [
       "<div>\n",
       "<style scoped>\n",
       "    .dataframe tbody tr th:only-of-type {\n",
       "        vertical-align: middle;\n",
       "    }\n",
       "\n",
       "    .dataframe tbody tr th {\n",
       "        vertical-align: top;\n",
       "    }\n",
       "\n",
       "    .dataframe thead th {\n",
       "        text-align: right;\n",
       "    }\n",
       "</style>\n",
       "<table border=\"1\" class=\"dataframe\">\n",
       "  <thead>\n",
       "    <tr style=\"text-align: right;\">\n",
       "      <th></th>\n",
       "      <th>name</th>\n",
       "      <th>age</th>\n",
       "      <th>gender</th>\n",
       "      <th>marks</th>\n",
       "      <th>grade</th>\n",
       "    </tr>\n",
       "  </thead>\n",
       "  <tbody>\n",
       "    <tr>\n",
       "      <th>0</th>\n",
       "      <td>Aarav</td>\n",
       "      <td>14</td>\n",
       "      <td>Male</td>\n",
       "      <td>85</td>\n",
       "      <td>B</td>\n",
       "    </tr>\n",
       "    <tr>\n",
       "      <th>1</th>\n",
       "      <td>Vivaan</td>\n",
       "      <td>15</td>\n",
       "      <td>Male</td>\n",
       "      <td>78</td>\n",
       "      <td>C</td>\n",
       "    </tr>\n",
       "    <tr>\n",
       "      <th>2</th>\n",
       "      <td>Ananya</td>\n",
       "      <td>13</td>\n",
       "      <td>Female</td>\n",
       "      <td>92</td>\n",
       "      <td>A</td>\n",
       "    </tr>\n",
       "    <tr>\n",
       "      <th>3</th>\n",
       "      <td>Riya</td>\n",
       "      <td>14</td>\n",
       "      <td>Female</td>\n",
       "      <td>88</td>\n",
       "      <td>A</td>\n",
       "    </tr>\n",
       "    <tr>\n",
       "      <th>4</th>\n",
       "      <td>Ishaan</td>\n",
       "      <td>15</td>\n",
       "      <td>Male</td>\n",
       "      <td>74</td>\n",
       "      <td>C</td>\n",
       "    </tr>\n",
       "    <tr>\n",
       "      <th>5</th>\n",
       "      <td>Meera</td>\n",
       "      <td>13</td>\n",
       "      <td>Female</td>\n",
       "      <td>90</td>\n",
       "      <td>A</td>\n",
       "    </tr>\n",
       "    <tr>\n",
       "      <th>6</th>\n",
       "      <td>Arjun</td>\n",
       "      <td>14</td>\n",
       "      <td>Male</td>\n",
       "      <td>79</td>\n",
       "      <td>C</td>\n",
       "    </tr>\n",
       "    <tr>\n",
       "      <th>7</th>\n",
       "      <td>Neha</td>\n",
       "      <td>15</td>\n",
       "      <td>Female</td>\n",
       "      <td>85</td>\n",
       "      <td>B</td>\n",
       "    </tr>\n",
       "    <tr>\n",
       "      <th>8</th>\n",
       "      <td>Karan</td>\n",
       "      <td>13</td>\n",
       "      <td>Male</td>\n",
       "      <td>82</td>\n",
       "      <td>B</td>\n",
       "    </tr>\n",
       "    <tr>\n",
       "      <th>9</th>\n",
       "      <td>Pooja</td>\n",
       "      <td>14</td>\n",
       "      <td>Female</td>\n",
       "      <td>80</td>\n",
       "      <td>B</td>\n",
       "    </tr>\n",
       "  </tbody>\n",
       "</table>\n",
       "</div>"
      ],
      "text/plain": [
       "     name  age  gender  marks grade\n",
       "0   Aarav   14    Male     85     B\n",
       "1  Vivaan   15    Male     78     C\n",
       "2  Ananya   13  Female     92     A\n",
       "3    Riya   14  Female     88     A\n",
       "4  Ishaan   15    Male     74     C\n",
       "5   Meera   13  Female     90     A\n",
       "6   Arjun   14    Male     79     C\n",
       "7    Neha   15  Female     85     B\n",
       "8   Karan   13    Male     82     B\n",
       "9   Pooja   14  Female     80     B"
      ]
     },
     "execution_count": 149,
     "metadata": {},
     "output_type": "execute_result"
    }
   ],
   "source": [
    "pupils = pd.DataFrame({\n",
    "    \"name\": [\"Aarav\", \"Vivaan\", \"Ananya\", \"Riya\", \"Ishaan\", \"Meera\", \"Arjun\", \"Neha\", \"Karan\", \"Pooja\"],\n",
    "    \"age\": [14, 15, 13, 14, 15, 13, 14, 15, 13, 14],\n",
    "    \"gender\": [\"Male\", \"Male\", \"Female\", \"Female\", \"Male\", \"Female\", \"Male\", \"Female\", \"Male\", \"Female\"],\n",
    "    \"marks\": [85, 78, 92, 88, 74, 90, 79, 85, 82, 80],\n",
    "    \"grade\": [\"B\", \"C\", \"A\", \"A\", \"C\", \"A\", \"C\", \"B\", \"B\", \"B\"]\n",
    "})\n",
    "pupils"
   ]
  },
  {
   "cell_type": "markdown",
   "id": "e0ab8fc7-5201-40ac-a37f-c249734774db",
   "metadata": {},
   "source": [
    "Now, if we group it by grade and gender then:"
   ]
  },
  {
   "cell_type": "code",
   "execution_count": 150,
   "id": "a0bb82ad-ec30-485b-8b0a-b3a1ceb09acc",
   "metadata": {},
   "outputs": [
    {
     "data": {
      "text/html": [
       "<div>\n",
       "<style scoped>\n",
       "    .dataframe tbody tr th:only-of-type {\n",
       "        vertical-align: middle;\n",
       "    }\n",
       "\n",
       "    .dataframe tbody tr th {\n",
       "        vertical-align: top;\n",
       "    }\n",
       "\n",
       "    .dataframe thead tr th {\n",
       "        text-align: left;\n",
       "    }\n",
       "\n",
       "    .dataframe thead tr:last-of-type th {\n",
       "        text-align: right;\n",
       "    }\n",
       "</style>\n",
       "<table border=\"1\" class=\"dataframe\">\n",
       "  <thead>\n",
       "    <tr>\n",
       "      <th></th>\n",
       "      <th></th>\n",
       "      <th colspan=\"5\" halign=\"left\">age</th>\n",
       "      <th colspan=\"5\" halign=\"left\">marks</th>\n",
       "    </tr>\n",
       "    <tr>\n",
       "      <th></th>\n",
       "      <th></th>\n",
       "      <th>count</th>\n",
       "      <th>mean</th>\n",
       "      <th>min</th>\n",
       "      <th>max</th>\n",
       "      <th>sum</th>\n",
       "      <th>count</th>\n",
       "      <th>mean</th>\n",
       "      <th>min</th>\n",
       "      <th>max</th>\n",
       "      <th>sum</th>\n",
       "    </tr>\n",
       "    <tr>\n",
       "      <th>grade</th>\n",
       "      <th>gender</th>\n",
       "      <th></th>\n",
       "      <th></th>\n",
       "      <th></th>\n",
       "      <th></th>\n",
       "      <th></th>\n",
       "      <th></th>\n",
       "      <th></th>\n",
       "      <th></th>\n",
       "      <th></th>\n",
       "      <th></th>\n",
       "    </tr>\n",
       "  </thead>\n",
       "  <tbody>\n",
       "    <tr>\n",
       "      <th>A</th>\n",
       "      <th>Female</th>\n",
       "      <td>3</td>\n",
       "      <td>13.333333</td>\n",
       "      <td>13</td>\n",
       "      <td>14</td>\n",
       "      <td>40</td>\n",
       "      <td>3</td>\n",
       "      <td>90.0</td>\n",
       "      <td>88</td>\n",
       "      <td>92</td>\n",
       "      <td>270</td>\n",
       "    </tr>\n",
       "    <tr>\n",
       "      <th rowspan=\"2\" valign=\"top\">B</th>\n",
       "      <th>Female</th>\n",
       "      <td>2</td>\n",
       "      <td>14.500000</td>\n",
       "      <td>14</td>\n",
       "      <td>15</td>\n",
       "      <td>29</td>\n",
       "      <td>2</td>\n",
       "      <td>82.5</td>\n",
       "      <td>80</td>\n",
       "      <td>85</td>\n",
       "      <td>165</td>\n",
       "    </tr>\n",
       "    <tr>\n",
       "      <th>Male</th>\n",
       "      <td>2</td>\n",
       "      <td>13.500000</td>\n",
       "      <td>13</td>\n",
       "      <td>14</td>\n",
       "      <td>27</td>\n",
       "      <td>2</td>\n",
       "      <td>83.5</td>\n",
       "      <td>82</td>\n",
       "      <td>85</td>\n",
       "      <td>167</td>\n",
       "    </tr>\n",
       "    <tr>\n",
       "      <th>C</th>\n",
       "      <th>Male</th>\n",
       "      <td>3</td>\n",
       "      <td>14.666667</td>\n",
       "      <td>14</td>\n",
       "      <td>15</td>\n",
       "      <td>44</td>\n",
       "      <td>3</td>\n",
       "      <td>77.0</td>\n",
       "      <td>74</td>\n",
       "      <td>79</td>\n",
       "      <td>231</td>\n",
       "    </tr>\n",
       "  </tbody>\n",
       "</table>\n",
       "</div>"
      ],
      "text/plain": [
       "               age                        marks                   \n",
       "             count       mean min max sum count  mean min max  sum\n",
       "grade gender                                                      \n",
       "A     Female     3  13.333333  13  14  40     3  90.0  88  92  270\n",
       "B     Female     2  14.500000  14  15  29     2  82.5  80  85  165\n",
       "      Male       2  13.500000  13  14  27     2  83.5  82  85  167\n",
       "C     Male       3  14.666667  14  15  44     3  77.0  74  79  231"
      ]
     },
     "execution_count": 150,
     "metadata": {},
     "output_type": "execute_result"
    }
   ],
   "source": [
    "pupils.groupby(['grade', 'gender'])[['age', 'marks']].agg(['count', 'mean', 'min', 'max', 'sum'])"
   ]
  },
  {
   "cell_type": "markdown",
   "id": "85de23b2-1edf-4705-ac36-86e79305859a",
   "metadata": {},
   "source": [
    "We only selected age and marks columns because we can perform mean, min, max and sum on them."
   ]
  },
  {
   "cell_type": "markdown",
   "id": "a713d7cf-d6b6-4351-985d-04c6290a5b32",
   "metadata": {},
   "source": [
    "### Filtering"
   ]
  },
  {
   "cell_type": "markdown",
   "id": "52963119-12d2-41cb-9f35-7b71dea4e26f",
   "metadata": {},
   "source": [
    "Filtering data is a common operation in data analysis. Pandas allows us to filter data based on different conditions.  \n",
    "We can filter the data in Pandas in two main ways:\n",
    "- By column names (Labels)\n",
    "- By the actual data inside (Values)\n",
    "\n",
    "Let's first bring our boys DataFrame:"
   ]
  },
  {
   "cell_type": "code",
   "execution_count": 151,
   "id": "94d5744c-cdee-4322-9a6b-ca2871e58ed7",
   "metadata": {},
   "outputs": [
    {
     "data": {
      "text/html": [
       "<div>\n",
       "<style scoped>\n",
       "    .dataframe tbody tr th:only-of-type {\n",
       "        vertical-align: middle;\n",
       "    }\n",
       "\n",
       "    .dataframe tbody tr th {\n",
       "        vertical-align: top;\n",
       "    }\n",
       "\n",
       "    .dataframe thead th {\n",
       "        text-align: right;\n",
       "    }\n",
       "</style>\n",
       "<table border=\"1\" class=\"dataframe\">\n",
       "  <thead>\n",
       "    <tr style=\"text-align: right;\">\n",
       "      <th></th>\n",
       "      <th>name</th>\n",
       "      <th>dob</th>\n",
       "      <th>age</th>\n",
       "      <th>city</th>\n",
       "    </tr>\n",
       "  </thead>\n",
       "  <tbody>\n",
       "    <tr>\n",
       "      <th>0</th>\n",
       "      <td>Aarav</td>\n",
       "      <td>2001-05-14</td>\n",
       "      <td>23</td>\n",
       "      <td>Mumbai</td>\n",
       "    </tr>\n",
       "    <tr>\n",
       "      <th>1</th>\n",
       "      <td>Vivaan</td>\n",
       "      <td>2003-08-21</td>\n",
       "      <td>20</td>\n",
       "      <td>Delhi</td>\n",
       "    </tr>\n",
       "    <tr>\n",
       "      <th>2</th>\n",
       "      <td>Aditya</td>\n",
       "      <td>2000-12-05</td>\n",
       "      <td>24</td>\n",
       "      <td>Bangalore</td>\n",
       "    </tr>\n",
       "    <tr>\n",
       "      <th>3</th>\n",
       "      <td>Vihaan</td>\n",
       "      <td>2002-07-18</td>\n",
       "      <td>21</td>\n",
       "      <td>Mumbai</td>\n",
       "    </tr>\n",
       "    <tr>\n",
       "      <th>4</th>\n",
       "      <td>Arjun</td>\n",
       "      <td>1999-11-11</td>\n",
       "      <td>25</td>\n",
       "      <td>Hyderabad</td>\n",
       "    </tr>\n",
       "    <tr>\n",
       "      <th>5</th>\n",
       "      <td>Sai</td>\n",
       "      <td>2005-03-30</td>\n",
       "      <td>19</td>\n",
       "      <td>Pune</td>\n",
       "    </tr>\n",
       "    <tr>\n",
       "      <th>6</th>\n",
       "      <td>Rishi</td>\n",
       "      <td>2004-09-25</td>\n",
       "      <td>20</td>\n",
       "      <td>Kolkata</td>\n",
       "    </tr>\n",
       "    <tr>\n",
       "      <th>7</th>\n",
       "      <td>Aryan</td>\n",
       "      <td>2001-06-01</td>\n",
       "      <td>23</td>\n",
       "      <td>Delhi</td>\n",
       "    </tr>\n",
       "    <tr>\n",
       "      <th>8</th>\n",
       "      <td>Dhruv</td>\n",
       "      <td>2003-10-12</td>\n",
       "      <td>20</td>\n",
       "      <td>Bangalore</td>\n",
       "    </tr>\n",
       "    <tr>\n",
       "      <th>9</th>\n",
       "      <td>Kabir</td>\n",
       "      <td>2004-04-17</td>\n",
       "      <td>19</td>\n",
       "      <td>Mumbai</td>\n",
       "    </tr>\n",
       "  </tbody>\n",
       "</table>\n",
       "</div>"
      ],
      "text/plain": [
       "     name         dob  age       city\n",
       "0   Aarav  2001-05-14   23     Mumbai\n",
       "1  Vivaan  2003-08-21   20      Delhi\n",
       "2  Aditya  2000-12-05   24  Bangalore\n",
       "3  Vihaan  2002-07-18   21     Mumbai\n",
       "4   Arjun  1999-11-11   25  Hyderabad\n",
       "5     Sai  2005-03-30   19       Pune\n",
       "6   Rishi  2004-09-25   20    Kolkata\n",
       "7   Aryan  2001-06-01   23      Delhi\n",
       "8   Dhruv  2003-10-12   20  Bangalore\n",
       "9   Kabir  2004-04-17   19     Mumbai"
      ]
     },
     "execution_count": 151,
     "metadata": {},
     "output_type": "execute_result"
    }
   ],
   "source": [
    "boys"
   ]
  },
  {
   "cell_type": "markdown",
   "id": "07547deb-b683-4544-b9b3-65308250da5c",
   "metadata": {},
   "source": [
    "#### Filter Data by Labels"
   ]
  },
  {
   "cell_type": "markdown",
   "id": "e65b764b-bf8e-4120-821d-9e980da2f383",
   "metadata": {},
   "source": [
    "We can use the filter() function to select columns by their names or labels:"
   ]
  },
  {
   "cell_type": "code",
   "execution_count": 152,
   "id": "f8365d5b-9c45-4dd4-b822-16f4f1360e75",
   "metadata": {},
   "outputs": [
    {
     "data": {
      "text/html": [
       "<div>\n",
       "<style scoped>\n",
       "    .dataframe tbody tr th:only-of-type {\n",
       "        vertical-align: middle;\n",
       "    }\n",
       "\n",
       "    .dataframe tbody tr th {\n",
       "        vertical-align: top;\n",
       "    }\n",
       "\n",
       "    .dataframe thead th {\n",
       "        text-align: right;\n",
       "    }\n",
       "</style>\n",
       "<table border=\"1\" class=\"dataframe\">\n",
       "  <thead>\n",
       "    <tr style=\"text-align: right;\">\n",
       "      <th></th>\n",
       "      <th>name</th>\n",
       "      <th>city</th>\n",
       "    </tr>\n",
       "  </thead>\n",
       "  <tbody>\n",
       "    <tr>\n",
       "      <th>0</th>\n",
       "      <td>Aarav</td>\n",
       "      <td>Mumbai</td>\n",
       "    </tr>\n",
       "    <tr>\n",
       "      <th>1</th>\n",
       "      <td>Vivaan</td>\n",
       "      <td>Delhi</td>\n",
       "    </tr>\n",
       "    <tr>\n",
       "      <th>2</th>\n",
       "      <td>Aditya</td>\n",
       "      <td>Bangalore</td>\n",
       "    </tr>\n",
       "    <tr>\n",
       "      <th>3</th>\n",
       "      <td>Vihaan</td>\n",
       "      <td>Mumbai</td>\n",
       "    </tr>\n",
       "    <tr>\n",
       "      <th>4</th>\n",
       "      <td>Arjun</td>\n",
       "      <td>Hyderabad</td>\n",
       "    </tr>\n",
       "    <tr>\n",
       "      <th>5</th>\n",
       "      <td>Sai</td>\n",
       "      <td>Pune</td>\n",
       "    </tr>\n",
       "    <tr>\n",
       "      <th>6</th>\n",
       "      <td>Rishi</td>\n",
       "      <td>Kolkata</td>\n",
       "    </tr>\n",
       "    <tr>\n",
       "      <th>7</th>\n",
       "      <td>Aryan</td>\n",
       "      <td>Delhi</td>\n",
       "    </tr>\n",
       "    <tr>\n",
       "      <th>8</th>\n",
       "      <td>Dhruv</td>\n",
       "      <td>Bangalore</td>\n",
       "    </tr>\n",
       "    <tr>\n",
       "      <th>9</th>\n",
       "      <td>Kabir</td>\n",
       "      <td>Mumbai</td>\n",
       "    </tr>\n",
       "  </tbody>\n",
       "</table>\n",
       "</div>"
      ],
      "text/plain": [
       "     name       city\n",
       "0   Aarav     Mumbai\n",
       "1  Vivaan      Delhi\n",
       "2  Aditya  Bangalore\n",
       "3  Vihaan     Mumbai\n",
       "4   Arjun  Hyderabad\n",
       "5     Sai       Pune\n",
       "6   Rishi    Kolkata\n",
       "7   Aryan      Delhi\n",
       "8   Dhruv  Bangalore\n",
       "9   Kabir     Mumbai"
      ]
     },
     "execution_count": 152,
     "metadata": {},
     "output_type": "execute_result"
    }
   ],
   "source": [
    "boys.filter(['name', 'city'])"
   ]
  },
  {
   "cell_type": "markdown",
   "id": "efa78fa6-ff45-4762-ba2a-29f1da9af6ad",
   "metadata": {},
   "source": [
    "And we got all the names and their respective cities."
   ]
  },
  {
   "cell_type": "markdown",
   "id": "055c24a3-4acb-44d0-ae2e-806ed3571633",
   "metadata": {},
   "source": [
    "#### Filter Data by Values"
   ]
  },
  {
   "cell_type": "markdown",
   "id": "407a27f4-e438-4780-a246-20b5c36425d6",
   "metadata": {},
   "source": [
    "We can also filter data by values. Some of the common ways to filter data by values are:\n",
    "- Using logical operators.\n",
    "- Using the isin() method.\n",
    "- Using the str cccessor.\n",
    "- Using the query() method."
   ]
  },
  {
   "cell_type": "markdown",
   "id": "d853b7e8-6b7a-42c3-b3e3-27e79da0c18b",
   "metadata": {},
   "source": [
    "##### By using logical operators"
   ]
  },
  {
   "cell_type": "code",
   "execution_count": 153,
   "id": "bfa8b751-4565-475f-946f-d2544a9a64b3",
   "metadata": {},
   "outputs": [
    {
     "data": {
      "text/html": [
       "<div>\n",
       "<style scoped>\n",
       "    .dataframe tbody tr th:only-of-type {\n",
       "        vertical-align: middle;\n",
       "    }\n",
       "\n",
       "    .dataframe tbody tr th {\n",
       "        vertical-align: top;\n",
       "    }\n",
       "\n",
       "    .dataframe thead th {\n",
       "        text-align: right;\n",
       "    }\n",
       "</style>\n",
       "<table border=\"1\" class=\"dataframe\">\n",
       "  <thead>\n",
       "    <tr style=\"text-align: right;\">\n",
       "      <th></th>\n",
       "      <th>name</th>\n",
       "      <th>dob</th>\n",
       "      <th>age</th>\n",
       "      <th>city</th>\n",
       "    </tr>\n",
       "  </thead>\n",
       "  <tbody>\n",
       "    <tr>\n",
       "      <th>0</th>\n",
       "      <td>Aarav</td>\n",
       "      <td>2001-05-14</td>\n",
       "      <td>23</td>\n",
       "      <td>Mumbai</td>\n",
       "    </tr>\n",
       "    <tr>\n",
       "      <th>2</th>\n",
       "      <td>Aditya</td>\n",
       "      <td>2000-12-05</td>\n",
       "      <td>24</td>\n",
       "      <td>Bangalore</td>\n",
       "    </tr>\n",
       "    <tr>\n",
       "      <th>3</th>\n",
       "      <td>Vihaan</td>\n",
       "      <td>2002-07-18</td>\n",
       "      <td>21</td>\n",
       "      <td>Mumbai</td>\n",
       "    </tr>\n",
       "    <tr>\n",
       "      <th>4</th>\n",
       "      <td>Arjun</td>\n",
       "      <td>1999-11-11</td>\n",
       "      <td>25</td>\n",
       "      <td>Hyderabad</td>\n",
       "    </tr>\n",
       "    <tr>\n",
       "      <th>7</th>\n",
       "      <td>Aryan</td>\n",
       "      <td>2001-06-01</td>\n",
       "      <td>23</td>\n",
       "      <td>Delhi</td>\n",
       "    </tr>\n",
       "  </tbody>\n",
       "</table>\n",
       "</div>"
      ],
      "text/plain": [
       "     name         dob  age       city\n",
       "0   Aarav  2001-05-14   23     Mumbai\n",
       "2  Aditya  2000-12-05   24  Bangalore\n",
       "3  Vihaan  2002-07-18   21     Mumbai\n",
       "4   Arjun  1999-11-11   25  Hyderabad\n",
       "7   Aryan  2001-06-01   23      Delhi"
      ]
     },
     "execution_count": 153,
     "metadata": {},
     "output_type": "execute_result"
    }
   ],
   "source": [
    "boys[boys.age > 20]"
   ]
  },
  {
   "cell_type": "markdown",
   "id": "10259899-80d3-4324-9c5c-c5617ad66efb",
   "metadata": {},
   "source": [
    "Here we got all the boys who are older than 20 years."
   ]
  },
  {
   "cell_type": "markdown",
   "id": "5cf82f5c-3ae4-4ffa-adff-190ba7c686ea",
   "metadata": {},
   "source": [
    "##### By using the isin() method"
   ]
  },
  {
   "cell_type": "code",
   "execution_count": 155,
   "id": "026076bf-a4a1-40d0-aa1b-0b4b14500f07",
   "metadata": {},
   "outputs": [
    {
     "data": {
      "text/html": [
       "<div>\n",
       "<style scoped>\n",
       "    .dataframe tbody tr th:only-of-type {\n",
       "        vertical-align: middle;\n",
       "    }\n",
       "\n",
       "    .dataframe tbody tr th {\n",
       "        vertical-align: top;\n",
       "    }\n",
       "\n",
       "    .dataframe thead th {\n",
       "        text-align: right;\n",
       "    }\n",
       "</style>\n",
       "<table border=\"1\" class=\"dataframe\">\n",
       "  <thead>\n",
       "    <tr style=\"text-align: right;\">\n",
       "      <th></th>\n",
       "      <th>name</th>\n",
       "      <th>dob</th>\n",
       "      <th>age</th>\n",
       "      <th>city</th>\n",
       "    </tr>\n",
       "  </thead>\n",
       "  <tbody>\n",
       "    <tr>\n",
       "      <th>0</th>\n",
       "      <td>Aarav</td>\n",
       "      <td>2001-05-14</td>\n",
       "      <td>23</td>\n",
       "      <td>Mumbai</td>\n",
       "    </tr>\n",
       "    <tr>\n",
       "      <th>1</th>\n",
       "      <td>Vivaan</td>\n",
       "      <td>2003-08-21</td>\n",
       "      <td>20</td>\n",
       "      <td>Delhi</td>\n",
       "    </tr>\n",
       "    <tr>\n",
       "      <th>3</th>\n",
       "      <td>Vihaan</td>\n",
       "      <td>2002-07-18</td>\n",
       "      <td>21</td>\n",
       "      <td>Mumbai</td>\n",
       "    </tr>\n",
       "    <tr>\n",
       "      <th>7</th>\n",
       "      <td>Aryan</td>\n",
       "      <td>2001-06-01</td>\n",
       "      <td>23</td>\n",
       "      <td>Delhi</td>\n",
       "    </tr>\n",
       "    <tr>\n",
       "      <th>9</th>\n",
       "      <td>Kabir</td>\n",
       "      <td>2004-04-17</td>\n",
       "      <td>19</td>\n",
       "      <td>Mumbai</td>\n",
       "    </tr>\n",
       "  </tbody>\n",
       "</table>\n",
       "</div>"
      ],
      "text/plain": [
       "     name         dob  age    city\n",
       "0   Aarav  2001-05-14   23  Mumbai\n",
       "1  Vivaan  2003-08-21   20   Delhi\n",
       "3  Vihaan  2002-07-18   21  Mumbai\n",
       "7   Aryan  2001-06-01   23   Delhi\n",
       "9   Kabir  2004-04-17   19  Mumbai"
      ]
     },
     "execution_count": 155,
     "metadata": {},
     "output_type": "execute_result"
    }
   ],
   "source": [
    "boys[boys['city'].isin(['Mumbai', 'Delhi'])]"
   ]
  },
  {
   "cell_type": "markdown",
   "id": "130e7ec9-c154-40fa-8433-edd44fc2e254",
   "metadata": {},
   "source": [
    "And we got all the boys who live in Mumbai or Delhi."
   ]
  },
  {
   "cell_type": "markdown",
   "id": "31196e68-8794-4935-a8c1-f099083fe06d",
   "metadata": {},
   "source": [
    "##### By using str accessor"
   ]
  },
  {
   "cell_type": "code",
   "execution_count": 156,
   "id": "27ddabad-636d-47ea-8af3-7cfa0a96790b",
   "metadata": {},
   "outputs": [
    {
     "data": {
      "text/html": [
       "<div>\n",
       "<style scoped>\n",
       "    .dataframe tbody tr th:only-of-type {\n",
       "        vertical-align: middle;\n",
       "    }\n",
       "\n",
       "    .dataframe tbody tr th {\n",
       "        vertical-align: top;\n",
       "    }\n",
       "\n",
       "    .dataframe thead th {\n",
       "        text-align: right;\n",
       "    }\n",
       "</style>\n",
       "<table border=\"1\" class=\"dataframe\">\n",
       "  <thead>\n",
       "    <tr style=\"text-align: right;\">\n",
       "      <th></th>\n",
       "      <th>name</th>\n",
       "      <th>dob</th>\n",
       "      <th>age</th>\n",
       "      <th>city</th>\n",
       "    </tr>\n",
       "  </thead>\n",
       "  <tbody>\n",
       "    <tr>\n",
       "      <th>0</th>\n",
       "      <td>Aarav</td>\n",
       "      <td>2001-05-14</td>\n",
       "      <td>23</td>\n",
       "      <td>Mumbai</td>\n",
       "    </tr>\n",
       "    <tr>\n",
       "      <th>2</th>\n",
       "      <td>Aditya</td>\n",
       "      <td>2000-12-05</td>\n",
       "      <td>24</td>\n",
       "      <td>Bangalore</td>\n",
       "    </tr>\n",
       "    <tr>\n",
       "      <th>4</th>\n",
       "      <td>Arjun</td>\n",
       "      <td>1999-11-11</td>\n",
       "      <td>25</td>\n",
       "      <td>Hyderabad</td>\n",
       "    </tr>\n",
       "    <tr>\n",
       "      <th>7</th>\n",
       "      <td>Aryan</td>\n",
       "      <td>2001-06-01</td>\n",
       "      <td>23</td>\n",
       "      <td>Delhi</td>\n",
       "    </tr>\n",
       "  </tbody>\n",
       "</table>\n",
       "</div>"
      ],
      "text/plain": [
       "     name         dob  age       city\n",
       "0   Aarav  2001-05-14   23     Mumbai\n",
       "2  Aditya  2000-12-05   24  Bangalore\n",
       "4   Arjun  1999-11-11   25  Hyderabad\n",
       "7   Aryan  2001-06-01   23      Delhi"
      ]
     },
     "execution_count": 156,
     "metadata": {},
     "output_type": "execute_result"
    }
   ],
   "source": [
    "boys[boys['name'].str.startswith('A')]"
   ]
  },
  {
   "cell_type": "markdown",
   "id": "634d98f0-0c1c-4c1e-baab-3e0624cccb25",
   "metadata": {},
   "source": [
    "And we got all the names with the initial letter A."
   ]
  },
  {
   "cell_type": "markdown",
   "id": "bddfefc9-3bef-4c49-a085-3de4a495da1a",
   "metadata": {},
   "source": [
    "##### By using query() method"
   ]
  },
  {
   "cell_type": "markdown",
   "id": "27d23ee7-dc07-4b55-b384-779a09084779",
   "metadata": {},
   "source": [
    "This is the most flexible method for filtering a dataframe based on column values. A query containing the filtering conditions can be passed as a string to the query() method:"
   ]
  },
  {
   "cell_type": "code",
   "execution_count": 157,
   "id": "0185a5a0-fb18-4607-9043-67562603f0fc",
   "metadata": {},
   "outputs": [
    {
     "data": {
      "text/html": [
       "<div>\n",
       "<style scoped>\n",
       "    .dataframe tbody tr th:only-of-type {\n",
       "        vertical-align: middle;\n",
       "    }\n",
       "\n",
       "    .dataframe tbody tr th {\n",
       "        vertical-align: top;\n",
       "    }\n",
       "\n",
       "    .dataframe thead th {\n",
       "        text-align: right;\n",
       "    }\n",
       "</style>\n",
       "<table border=\"1\" class=\"dataframe\">\n",
       "  <thead>\n",
       "    <tr style=\"text-align: right;\">\n",
       "      <th></th>\n",
       "      <th>name</th>\n",
       "      <th>dob</th>\n",
       "      <th>age</th>\n",
       "      <th>city</th>\n",
       "    </tr>\n",
       "  </thead>\n",
       "  <tbody>\n",
       "    <tr>\n",
       "      <th>2</th>\n",
       "      <td>Aditya</td>\n",
       "      <td>2000-12-05</td>\n",
       "      <td>24</td>\n",
       "      <td>Bangalore</td>\n",
       "    </tr>\n",
       "    <tr>\n",
       "      <th>4</th>\n",
       "      <td>Arjun</td>\n",
       "      <td>1999-11-11</td>\n",
       "      <td>25</td>\n",
       "      <td>Hyderabad</td>\n",
       "    </tr>\n",
       "  </tbody>\n",
       "</table>\n",
       "</div>"
      ],
      "text/plain": [
       "     name         dob  age       city\n",
       "2  Aditya  2000-12-05   24  Bangalore\n",
       "4   Arjun  1999-11-11   25  Hyderabad"
      ]
     },
     "execution_count": 157,
     "metadata": {},
     "output_type": "execute_result"
    }
   ],
   "source": [
    "boys.query(\"age > 23 and name.str.startswith('A')\")"
   ]
  },
  {
   "cell_type": "markdown",
   "id": "c64b0696-955a-4f54-b408-b9339f29cbfb",
   "metadata": {},
   "source": [
    "Here, we got all the boys who have A as the initial letter of their names and are older than 23 years."
   ]
  },
  {
   "cell_type": "markdown",
   "id": "736dc1d7-d000-4508-a4bb-67262e76bf32",
   "metadata": {},
   "source": [
    "### Sort"
   ]
  },
  {
   "cell_type": "markdown",
   "id": "817f837e-c723-46dd-adfa-d1122c6f1de7",
   "metadata": {},
   "source": [
    "Sorting is a fundamental operation in data manipulation and analysis that involves arranging data in a specific order.  \n",
    "Sorting is crucial for tasks such as organizing data for better readability, identifying patterns, making comparisons, and facilitating further analysis.  \n",
    "Let's try this on our boys DataFrame:"
   ]
  },
  {
   "cell_type": "code",
   "execution_count": 158,
   "id": "0d87465e-b3f2-4316-8a03-d9884784927d",
   "metadata": {},
   "outputs": [
    {
     "data": {
      "text/html": [
       "<div>\n",
       "<style scoped>\n",
       "    .dataframe tbody tr th:only-of-type {\n",
       "        vertical-align: middle;\n",
       "    }\n",
       "\n",
       "    .dataframe tbody tr th {\n",
       "        vertical-align: top;\n",
       "    }\n",
       "\n",
       "    .dataframe thead th {\n",
       "        text-align: right;\n",
       "    }\n",
       "</style>\n",
       "<table border=\"1\" class=\"dataframe\">\n",
       "  <thead>\n",
       "    <tr style=\"text-align: right;\">\n",
       "      <th></th>\n",
       "      <th>name</th>\n",
       "      <th>dob</th>\n",
       "      <th>age</th>\n",
       "      <th>city</th>\n",
       "    </tr>\n",
       "  </thead>\n",
       "  <tbody>\n",
       "    <tr>\n",
       "      <th>0</th>\n",
       "      <td>Aarav</td>\n",
       "      <td>2001-05-14</td>\n",
       "      <td>23</td>\n",
       "      <td>Mumbai</td>\n",
       "    </tr>\n",
       "    <tr>\n",
       "      <th>1</th>\n",
       "      <td>Vivaan</td>\n",
       "      <td>2003-08-21</td>\n",
       "      <td>20</td>\n",
       "      <td>Delhi</td>\n",
       "    </tr>\n",
       "    <tr>\n",
       "      <th>2</th>\n",
       "      <td>Aditya</td>\n",
       "      <td>2000-12-05</td>\n",
       "      <td>24</td>\n",
       "      <td>Bangalore</td>\n",
       "    </tr>\n",
       "    <tr>\n",
       "      <th>3</th>\n",
       "      <td>Vihaan</td>\n",
       "      <td>2002-07-18</td>\n",
       "      <td>21</td>\n",
       "      <td>Mumbai</td>\n",
       "    </tr>\n",
       "    <tr>\n",
       "      <th>4</th>\n",
       "      <td>Arjun</td>\n",
       "      <td>1999-11-11</td>\n",
       "      <td>25</td>\n",
       "      <td>Hyderabad</td>\n",
       "    </tr>\n",
       "    <tr>\n",
       "      <th>5</th>\n",
       "      <td>Sai</td>\n",
       "      <td>2005-03-30</td>\n",
       "      <td>19</td>\n",
       "      <td>Pune</td>\n",
       "    </tr>\n",
       "    <tr>\n",
       "      <th>6</th>\n",
       "      <td>Rishi</td>\n",
       "      <td>2004-09-25</td>\n",
       "      <td>20</td>\n",
       "      <td>Kolkata</td>\n",
       "    </tr>\n",
       "    <tr>\n",
       "      <th>7</th>\n",
       "      <td>Aryan</td>\n",
       "      <td>2001-06-01</td>\n",
       "      <td>23</td>\n",
       "      <td>Delhi</td>\n",
       "    </tr>\n",
       "    <tr>\n",
       "      <th>8</th>\n",
       "      <td>Dhruv</td>\n",
       "      <td>2003-10-12</td>\n",
       "      <td>20</td>\n",
       "      <td>Bangalore</td>\n",
       "    </tr>\n",
       "    <tr>\n",
       "      <th>9</th>\n",
       "      <td>Kabir</td>\n",
       "      <td>2004-04-17</td>\n",
       "      <td>19</td>\n",
       "      <td>Mumbai</td>\n",
       "    </tr>\n",
       "  </tbody>\n",
       "</table>\n",
       "</div>"
      ],
      "text/plain": [
       "     name         dob  age       city\n",
       "0   Aarav  2001-05-14   23     Mumbai\n",
       "1  Vivaan  2003-08-21   20      Delhi\n",
       "2  Aditya  2000-12-05   24  Bangalore\n",
       "3  Vihaan  2002-07-18   21     Mumbai\n",
       "4   Arjun  1999-11-11   25  Hyderabad\n",
       "5     Sai  2005-03-30   19       Pune\n",
       "6   Rishi  2004-09-25   20    Kolkata\n",
       "7   Aryan  2001-06-01   23      Delhi\n",
       "8   Dhruv  2003-10-12   20  Bangalore\n",
       "9   Kabir  2004-04-17   19     Mumbai"
      ]
     },
     "execution_count": 158,
     "metadata": {},
     "output_type": "execute_result"
    }
   ],
   "source": [
    "boys"
   ]
  },
  {
   "cell_type": "markdown",
   "id": "ab9b58ae-a797-4563-9377-5361a050b020",
   "metadata": {},
   "source": [
    "We can sort values using sort_values() function:"
   ]
  },
  {
   "cell_type": "code",
   "execution_count": 159,
   "id": "99b155f2-ef4f-4cea-9e4e-b3b5634f9b9d",
   "metadata": {},
   "outputs": [
    {
     "data": {
      "text/html": [
       "<div>\n",
       "<style scoped>\n",
       "    .dataframe tbody tr th:only-of-type {\n",
       "        vertical-align: middle;\n",
       "    }\n",
       "\n",
       "    .dataframe tbody tr th {\n",
       "        vertical-align: top;\n",
       "    }\n",
       "\n",
       "    .dataframe thead th {\n",
       "        text-align: right;\n",
       "    }\n",
       "</style>\n",
       "<table border=\"1\" class=\"dataframe\">\n",
       "  <thead>\n",
       "    <tr style=\"text-align: right;\">\n",
       "      <th></th>\n",
       "      <th>name</th>\n",
       "      <th>dob</th>\n",
       "      <th>age</th>\n",
       "      <th>city</th>\n",
       "    </tr>\n",
       "  </thead>\n",
       "  <tbody>\n",
       "    <tr>\n",
       "      <th>5</th>\n",
       "      <td>Sai</td>\n",
       "      <td>2005-03-30</td>\n",
       "      <td>19</td>\n",
       "      <td>Pune</td>\n",
       "    </tr>\n",
       "    <tr>\n",
       "      <th>9</th>\n",
       "      <td>Kabir</td>\n",
       "      <td>2004-04-17</td>\n",
       "      <td>19</td>\n",
       "      <td>Mumbai</td>\n",
       "    </tr>\n",
       "    <tr>\n",
       "      <th>1</th>\n",
       "      <td>Vivaan</td>\n",
       "      <td>2003-08-21</td>\n",
       "      <td>20</td>\n",
       "      <td>Delhi</td>\n",
       "    </tr>\n",
       "    <tr>\n",
       "      <th>6</th>\n",
       "      <td>Rishi</td>\n",
       "      <td>2004-09-25</td>\n",
       "      <td>20</td>\n",
       "      <td>Kolkata</td>\n",
       "    </tr>\n",
       "    <tr>\n",
       "      <th>8</th>\n",
       "      <td>Dhruv</td>\n",
       "      <td>2003-10-12</td>\n",
       "      <td>20</td>\n",
       "      <td>Bangalore</td>\n",
       "    </tr>\n",
       "    <tr>\n",
       "      <th>3</th>\n",
       "      <td>Vihaan</td>\n",
       "      <td>2002-07-18</td>\n",
       "      <td>21</td>\n",
       "      <td>Mumbai</td>\n",
       "    </tr>\n",
       "    <tr>\n",
       "      <th>0</th>\n",
       "      <td>Aarav</td>\n",
       "      <td>2001-05-14</td>\n",
       "      <td>23</td>\n",
       "      <td>Mumbai</td>\n",
       "    </tr>\n",
       "    <tr>\n",
       "      <th>7</th>\n",
       "      <td>Aryan</td>\n",
       "      <td>2001-06-01</td>\n",
       "      <td>23</td>\n",
       "      <td>Delhi</td>\n",
       "    </tr>\n",
       "    <tr>\n",
       "      <th>2</th>\n",
       "      <td>Aditya</td>\n",
       "      <td>2000-12-05</td>\n",
       "      <td>24</td>\n",
       "      <td>Bangalore</td>\n",
       "    </tr>\n",
       "    <tr>\n",
       "      <th>4</th>\n",
       "      <td>Arjun</td>\n",
       "      <td>1999-11-11</td>\n",
       "      <td>25</td>\n",
       "      <td>Hyderabad</td>\n",
       "    </tr>\n",
       "  </tbody>\n",
       "</table>\n",
       "</div>"
      ],
      "text/plain": [
       "     name         dob  age       city\n",
       "5     Sai  2005-03-30   19       Pune\n",
       "9   Kabir  2004-04-17   19     Mumbai\n",
       "1  Vivaan  2003-08-21   20      Delhi\n",
       "6   Rishi  2004-09-25   20    Kolkata\n",
       "8   Dhruv  2003-10-12   20  Bangalore\n",
       "3  Vihaan  2002-07-18   21     Mumbai\n",
       "0   Aarav  2001-05-14   23     Mumbai\n",
       "7   Aryan  2001-06-01   23      Delhi\n",
       "2  Aditya  2000-12-05   24  Bangalore\n",
       "4   Arjun  1999-11-11   25  Hyderabad"
      ]
     },
     "execution_count": 159,
     "metadata": {},
     "output_type": "execute_result"
    }
   ],
   "source": [
    "boys.sort_values('age')"
   ]
  },
  {
   "cell_type": "markdown",
   "id": "7d87c784-5eed-4c8b-95da-26e7198efba4",
   "metadata": {},
   "source": [
    "It sorted out the rows based on the age column values in an ascending order. Now, let's try the descending order:"
   ]
  },
  {
   "cell_type": "code",
   "execution_count": 160,
   "id": "d3b53af2-96df-4206-81b0-1dcd09e041f4",
   "metadata": {},
   "outputs": [
    {
     "data": {
      "text/html": [
       "<div>\n",
       "<style scoped>\n",
       "    .dataframe tbody tr th:only-of-type {\n",
       "        vertical-align: middle;\n",
       "    }\n",
       "\n",
       "    .dataframe tbody tr th {\n",
       "        vertical-align: top;\n",
       "    }\n",
       "\n",
       "    .dataframe thead th {\n",
       "        text-align: right;\n",
       "    }\n",
       "</style>\n",
       "<table border=\"1\" class=\"dataframe\">\n",
       "  <thead>\n",
       "    <tr style=\"text-align: right;\">\n",
       "      <th></th>\n",
       "      <th>name</th>\n",
       "      <th>dob</th>\n",
       "      <th>age</th>\n",
       "      <th>city</th>\n",
       "    </tr>\n",
       "  </thead>\n",
       "  <tbody>\n",
       "    <tr>\n",
       "      <th>5</th>\n",
       "      <td>Sai</td>\n",
       "      <td>2005-03-30</td>\n",
       "      <td>19</td>\n",
       "      <td>Pune</td>\n",
       "    </tr>\n",
       "    <tr>\n",
       "      <th>0</th>\n",
       "      <td>Aarav</td>\n",
       "      <td>2001-05-14</td>\n",
       "      <td>23</td>\n",
       "      <td>Mumbai</td>\n",
       "    </tr>\n",
       "    <tr>\n",
       "      <th>3</th>\n",
       "      <td>Vihaan</td>\n",
       "      <td>2002-07-18</td>\n",
       "      <td>21</td>\n",
       "      <td>Mumbai</td>\n",
       "    </tr>\n",
       "    <tr>\n",
       "      <th>9</th>\n",
       "      <td>Kabir</td>\n",
       "      <td>2004-04-17</td>\n",
       "      <td>19</td>\n",
       "      <td>Mumbai</td>\n",
       "    </tr>\n",
       "    <tr>\n",
       "      <th>6</th>\n",
       "      <td>Rishi</td>\n",
       "      <td>2004-09-25</td>\n",
       "      <td>20</td>\n",
       "      <td>Kolkata</td>\n",
       "    </tr>\n",
       "    <tr>\n",
       "      <th>4</th>\n",
       "      <td>Arjun</td>\n",
       "      <td>1999-11-11</td>\n",
       "      <td>25</td>\n",
       "      <td>Hyderabad</td>\n",
       "    </tr>\n",
       "    <tr>\n",
       "      <th>1</th>\n",
       "      <td>Vivaan</td>\n",
       "      <td>2003-08-21</td>\n",
       "      <td>20</td>\n",
       "      <td>Delhi</td>\n",
       "    </tr>\n",
       "    <tr>\n",
       "      <th>7</th>\n",
       "      <td>Aryan</td>\n",
       "      <td>2001-06-01</td>\n",
       "      <td>23</td>\n",
       "      <td>Delhi</td>\n",
       "    </tr>\n",
       "    <tr>\n",
       "      <th>2</th>\n",
       "      <td>Aditya</td>\n",
       "      <td>2000-12-05</td>\n",
       "      <td>24</td>\n",
       "      <td>Bangalore</td>\n",
       "    </tr>\n",
       "    <tr>\n",
       "      <th>8</th>\n",
       "      <td>Dhruv</td>\n",
       "      <td>2003-10-12</td>\n",
       "      <td>20</td>\n",
       "      <td>Bangalore</td>\n",
       "    </tr>\n",
       "  </tbody>\n",
       "</table>\n",
       "</div>"
      ],
      "text/plain": [
       "     name         dob  age       city\n",
       "5     Sai  2005-03-30   19       Pune\n",
       "0   Aarav  2001-05-14   23     Mumbai\n",
       "3  Vihaan  2002-07-18   21     Mumbai\n",
       "9   Kabir  2004-04-17   19     Mumbai\n",
       "6   Rishi  2004-09-25   20    Kolkata\n",
       "4   Arjun  1999-11-11   25  Hyderabad\n",
       "1  Vivaan  2003-08-21   20      Delhi\n",
       "7   Aryan  2001-06-01   23      Delhi\n",
       "2  Aditya  2000-12-05   24  Bangalore\n",
       "8   Dhruv  2003-10-12   20  Bangalore"
      ]
     },
     "execution_count": 160,
     "metadata": {},
     "output_type": "execute_result"
    }
   ],
   "source": [
    "boys.sort_values('city', ascending=False)"
   ]
  },
  {
   "cell_type": "markdown",
   "id": "520d4d53-266a-45b7-9687-1b0c69d473bb",
   "metadata": {},
   "source": [
    "It sorted out the rows based on the city column values in a descending order. Now let's sort the DataFrame based on age in an ascending order and city in a descending order:"
   ]
  },
  {
   "cell_type": "code",
   "execution_count": 161,
   "id": "152a40d9-1e53-4655-b44e-01792ce1f71b",
   "metadata": {},
   "outputs": [
    {
     "data": {
      "text/html": [
       "<div>\n",
       "<style scoped>\n",
       "    .dataframe tbody tr th:only-of-type {\n",
       "        vertical-align: middle;\n",
       "    }\n",
       "\n",
       "    .dataframe tbody tr th {\n",
       "        vertical-align: top;\n",
       "    }\n",
       "\n",
       "    .dataframe thead th {\n",
       "        text-align: right;\n",
       "    }\n",
       "</style>\n",
       "<table border=\"1\" class=\"dataframe\">\n",
       "  <thead>\n",
       "    <tr style=\"text-align: right;\">\n",
       "      <th></th>\n",
       "      <th>name</th>\n",
       "      <th>dob</th>\n",
       "      <th>age</th>\n",
       "      <th>city</th>\n",
       "    </tr>\n",
       "  </thead>\n",
       "  <tbody>\n",
       "    <tr>\n",
       "      <th>5</th>\n",
       "      <td>Sai</td>\n",
       "      <td>2005-03-30</td>\n",
       "      <td>19</td>\n",
       "      <td>Pune</td>\n",
       "    </tr>\n",
       "    <tr>\n",
       "      <th>9</th>\n",
       "      <td>Kabir</td>\n",
       "      <td>2004-04-17</td>\n",
       "      <td>19</td>\n",
       "      <td>Mumbai</td>\n",
       "    </tr>\n",
       "    <tr>\n",
       "      <th>6</th>\n",
       "      <td>Rishi</td>\n",
       "      <td>2004-09-25</td>\n",
       "      <td>20</td>\n",
       "      <td>Kolkata</td>\n",
       "    </tr>\n",
       "    <tr>\n",
       "      <th>1</th>\n",
       "      <td>Vivaan</td>\n",
       "      <td>2003-08-21</td>\n",
       "      <td>20</td>\n",
       "      <td>Delhi</td>\n",
       "    </tr>\n",
       "    <tr>\n",
       "      <th>8</th>\n",
       "      <td>Dhruv</td>\n",
       "      <td>2003-10-12</td>\n",
       "      <td>20</td>\n",
       "      <td>Bangalore</td>\n",
       "    </tr>\n",
       "    <tr>\n",
       "      <th>3</th>\n",
       "      <td>Vihaan</td>\n",
       "      <td>2002-07-18</td>\n",
       "      <td>21</td>\n",
       "      <td>Mumbai</td>\n",
       "    </tr>\n",
       "    <tr>\n",
       "      <th>0</th>\n",
       "      <td>Aarav</td>\n",
       "      <td>2001-05-14</td>\n",
       "      <td>23</td>\n",
       "      <td>Mumbai</td>\n",
       "    </tr>\n",
       "    <tr>\n",
       "      <th>7</th>\n",
       "      <td>Aryan</td>\n",
       "      <td>2001-06-01</td>\n",
       "      <td>23</td>\n",
       "      <td>Delhi</td>\n",
       "    </tr>\n",
       "    <tr>\n",
       "      <th>2</th>\n",
       "      <td>Aditya</td>\n",
       "      <td>2000-12-05</td>\n",
       "      <td>24</td>\n",
       "      <td>Bangalore</td>\n",
       "    </tr>\n",
       "    <tr>\n",
       "      <th>4</th>\n",
       "      <td>Arjun</td>\n",
       "      <td>1999-11-11</td>\n",
       "      <td>25</td>\n",
       "      <td>Hyderabad</td>\n",
       "    </tr>\n",
       "  </tbody>\n",
       "</table>\n",
       "</div>"
      ],
      "text/plain": [
       "     name         dob  age       city\n",
       "5     Sai  2005-03-30   19       Pune\n",
       "9   Kabir  2004-04-17   19     Mumbai\n",
       "6   Rishi  2004-09-25   20    Kolkata\n",
       "1  Vivaan  2003-08-21   20      Delhi\n",
       "8   Dhruv  2003-10-12   20  Bangalore\n",
       "3  Vihaan  2002-07-18   21     Mumbai\n",
       "0   Aarav  2001-05-14   23     Mumbai\n",
       "7   Aryan  2001-06-01   23      Delhi\n",
       "2  Aditya  2000-12-05   24  Bangalore\n",
       "4   Arjun  1999-11-11   25  Hyderabad"
      ]
     },
     "execution_count": 161,
     "metadata": {},
     "output_type": "execute_result"
    }
   ],
   "source": [
    "boys.sort_values(['age', 'city'], ascending=[True, False])"
   ]
  },
  {
   "cell_type": "markdown",
   "id": "6a845d64-fced-4431-83af-a3929c1f1dbb",
   "metadata": {},
   "source": [
    "It sorted out the rows based on the age column values in an ascending order and then based on the city column values in a descending order. We can also sort Series using this function.  \n",
    "We can also sort based on indices, we use sort_index() function for that. Let's sort the boys DataFrame based on the indices in a descending order:"
   ]
  },
  {
   "cell_type": "code",
   "execution_count": 162,
   "id": "305531b1-7ec4-47d3-8611-7a735e5a67be",
   "metadata": {},
   "outputs": [
    {
     "data": {
      "text/html": [
       "<div>\n",
       "<style scoped>\n",
       "    .dataframe tbody tr th:only-of-type {\n",
       "        vertical-align: middle;\n",
       "    }\n",
       "\n",
       "    .dataframe tbody tr th {\n",
       "        vertical-align: top;\n",
       "    }\n",
       "\n",
       "    .dataframe thead th {\n",
       "        text-align: right;\n",
       "    }\n",
       "</style>\n",
       "<table border=\"1\" class=\"dataframe\">\n",
       "  <thead>\n",
       "    <tr style=\"text-align: right;\">\n",
       "      <th></th>\n",
       "      <th>name</th>\n",
       "      <th>dob</th>\n",
       "      <th>age</th>\n",
       "      <th>city</th>\n",
       "    </tr>\n",
       "  </thead>\n",
       "  <tbody>\n",
       "    <tr>\n",
       "      <th>9</th>\n",
       "      <td>Kabir</td>\n",
       "      <td>2004-04-17</td>\n",
       "      <td>19</td>\n",
       "      <td>Mumbai</td>\n",
       "    </tr>\n",
       "    <tr>\n",
       "      <th>8</th>\n",
       "      <td>Dhruv</td>\n",
       "      <td>2003-10-12</td>\n",
       "      <td>20</td>\n",
       "      <td>Bangalore</td>\n",
       "    </tr>\n",
       "    <tr>\n",
       "      <th>7</th>\n",
       "      <td>Aryan</td>\n",
       "      <td>2001-06-01</td>\n",
       "      <td>23</td>\n",
       "      <td>Delhi</td>\n",
       "    </tr>\n",
       "    <tr>\n",
       "      <th>6</th>\n",
       "      <td>Rishi</td>\n",
       "      <td>2004-09-25</td>\n",
       "      <td>20</td>\n",
       "      <td>Kolkata</td>\n",
       "    </tr>\n",
       "    <tr>\n",
       "      <th>5</th>\n",
       "      <td>Sai</td>\n",
       "      <td>2005-03-30</td>\n",
       "      <td>19</td>\n",
       "      <td>Pune</td>\n",
       "    </tr>\n",
       "    <tr>\n",
       "      <th>4</th>\n",
       "      <td>Arjun</td>\n",
       "      <td>1999-11-11</td>\n",
       "      <td>25</td>\n",
       "      <td>Hyderabad</td>\n",
       "    </tr>\n",
       "    <tr>\n",
       "      <th>3</th>\n",
       "      <td>Vihaan</td>\n",
       "      <td>2002-07-18</td>\n",
       "      <td>21</td>\n",
       "      <td>Mumbai</td>\n",
       "    </tr>\n",
       "    <tr>\n",
       "      <th>2</th>\n",
       "      <td>Aditya</td>\n",
       "      <td>2000-12-05</td>\n",
       "      <td>24</td>\n",
       "      <td>Bangalore</td>\n",
       "    </tr>\n",
       "    <tr>\n",
       "      <th>1</th>\n",
       "      <td>Vivaan</td>\n",
       "      <td>2003-08-21</td>\n",
       "      <td>20</td>\n",
       "      <td>Delhi</td>\n",
       "    </tr>\n",
       "    <tr>\n",
       "      <th>0</th>\n",
       "      <td>Aarav</td>\n",
       "      <td>2001-05-14</td>\n",
       "      <td>23</td>\n",
       "      <td>Mumbai</td>\n",
       "    </tr>\n",
       "  </tbody>\n",
       "</table>\n",
       "</div>"
      ],
      "text/plain": [
       "     name         dob  age       city\n",
       "9   Kabir  2004-04-17   19     Mumbai\n",
       "8   Dhruv  2003-10-12   20  Bangalore\n",
       "7   Aryan  2001-06-01   23      Delhi\n",
       "6   Rishi  2004-09-25   20    Kolkata\n",
       "5     Sai  2005-03-30   19       Pune\n",
       "4   Arjun  1999-11-11   25  Hyderabad\n",
       "3  Vihaan  2002-07-18   21     Mumbai\n",
       "2  Aditya  2000-12-05   24  Bangalore\n",
       "1  Vivaan  2003-08-21   20      Delhi\n",
       "0   Aarav  2001-05-14   23     Mumbai"
      ]
     },
     "execution_count": 162,
     "metadata": {},
     "output_type": "execute_result"
    }
   ],
   "source": [
    "boys.sort_index(ascending=False)"
   ]
  },
  {
   "cell_type": "markdown",
   "id": "a8863039-8a24-4e3c-a157-b5af5b7c316f",
   "metadata": {},
   "source": [
    "### Correlation"
   ]
  },
  {
   "cell_type": "markdown",
   "id": "9e6bfa1f-0c58-44e2-937c-af047d4fe723",
   "metadata": {},
   "source": [
    "Correlation is a statistical concept that quantifies the degree to which two variables are related to each other.  \n",
    "Correlation can be calculated in Pandas using the corr() function."
   ]
  },
  {
   "cell_type": "code",
   "execution_count": 163,
   "id": "98eacc5f-fa1e-4e06-8afb-3f8e6df3d52d",
   "metadata": {},
   "outputs": [
    {
     "data": {
      "text/html": [
       "<div>\n",
       "<style scoped>\n",
       "    .dataframe tbody tr th:only-of-type {\n",
       "        vertical-align: middle;\n",
       "    }\n",
       "\n",
       "    .dataframe tbody tr th {\n",
       "        vertical-align: top;\n",
       "    }\n",
       "\n",
       "    .dataframe thead th {\n",
       "        text-align: right;\n",
       "    }\n",
       "</style>\n",
       "<table border=\"1\" class=\"dataframe\">\n",
       "  <thead>\n",
       "    <tr style=\"text-align: right;\">\n",
       "      <th></th>\n",
       "      <th>name</th>\n",
       "      <th>study hours</th>\n",
       "      <th>marks</th>\n",
       "    </tr>\n",
       "  </thead>\n",
       "  <tbody>\n",
       "    <tr>\n",
       "      <th>0</th>\n",
       "      <td>Aarav</td>\n",
       "      <td>2.0</td>\n",
       "      <td>70</td>\n",
       "    </tr>\n",
       "    <tr>\n",
       "      <th>1</th>\n",
       "      <td>Vivaan</td>\n",
       "      <td>1.0</td>\n",
       "      <td>55</td>\n",
       "    </tr>\n",
       "    <tr>\n",
       "      <th>2</th>\n",
       "      <td>Ananya</td>\n",
       "      <td>4.0</td>\n",
       "      <td>95</td>\n",
       "    </tr>\n",
       "    <tr>\n",
       "      <th>3</th>\n",
       "      <td>Riya</td>\n",
       "      <td>3.0</td>\n",
       "      <td>85</td>\n",
       "    </tr>\n",
       "    <tr>\n",
       "      <th>4</th>\n",
       "      <td>Ishaan</td>\n",
       "      <td>1.5</td>\n",
       "      <td>60</td>\n",
       "    </tr>\n",
       "    <tr>\n",
       "      <th>5</th>\n",
       "      <td>Meera</td>\n",
       "      <td>3.5</td>\n",
       "      <td>90</td>\n",
       "    </tr>\n",
       "    <tr>\n",
       "      <th>6</th>\n",
       "      <td>Arjun</td>\n",
       "      <td>2.5</td>\n",
       "      <td>75</td>\n",
       "    </tr>\n",
       "    <tr>\n",
       "      <th>7</th>\n",
       "      <td>Neha</td>\n",
       "      <td>2.0</td>\n",
       "      <td>80</td>\n",
       "    </tr>\n",
       "  </tbody>\n",
       "</table>\n",
       "</div>"
      ],
      "text/plain": [
       "     name  study hours  marks\n",
       "0   Aarav          2.0     70\n",
       "1  Vivaan          1.0     55\n",
       "2  Ananya          4.0     95\n",
       "3    Riya          3.0     85\n",
       "4  Ishaan          1.5     60\n",
       "5   Meera          3.5     90\n",
       "6   Arjun          2.5     75\n",
       "7    Neha          2.0     80"
      ]
     },
     "execution_count": 163,
     "metadata": {},
     "output_type": "execute_result"
    }
   ],
   "source": [
    "studies = pd.DataFrame({\n",
    "    \"name\": [\"Aarav\", \"Vivaan\", \"Ananya\", \"Riya\", \"Ishaan\", \"Meera\", \"Arjun\", \"Neha\"],\n",
    "    \"study hours\": [2, 1, 4, 3, 1.5, 3.5, 2.5, 2],\n",
    "    \"marks\": [70, 55, 95, 85, 60, 90, 75, 80]\n",
    "})\n",
    "studies"
   ]
  },
  {
   "cell_type": "markdown",
   "id": "0283168a-f4e9-4aa2-ba41-12c1c810a20b",
   "metadata": {},
   "source": [
    "Now, let's check the correlation between study hours and marks:"
   ]
  },
  {
   "cell_type": "code",
   "execution_count": 164,
   "id": "34be6e83-5c31-4bfa-b92e-9a5c46ee0dc8",
   "metadata": {},
   "outputs": [
    {
     "data": {
      "text/html": [
       "<div>\n",
       "<style scoped>\n",
       "    .dataframe tbody tr th:only-of-type {\n",
       "        vertical-align: middle;\n",
       "    }\n",
       "\n",
       "    .dataframe tbody tr th {\n",
       "        vertical-align: top;\n",
       "    }\n",
       "\n",
       "    .dataframe thead th {\n",
       "        text-align: right;\n",
       "    }\n",
       "</style>\n",
       "<table border=\"1\" class=\"dataframe\">\n",
       "  <thead>\n",
       "    <tr style=\"text-align: right;\">\n",
       "      <th></th>\n",
       "      <th>study hours</th>\n",
       "      <th>marks</th>\n",
       "    </tr>\n",
       "  </thead>\n",
       "  <tbody>\n",
       "    <tr>\n",
       "      <th>study hours</th>\n",
       "      <td>1.000000</td>\n",
       "      <td>0.955485</td>\n",
       "    </tr>\n",
       "    <tr>\n",
       "      <th>marks</th>\n",
       "      <td>0.955485</td>\n",
       "      <td>1.000000</td>\n",
       "    </tr>\n",
       "  </tbody>\n",
       "</table>\n",
       "</div>"
      ],
      "text/plain": [
       "             study hours     marks\n",
       "study hours     1.000000  0.955485\n",
       "marks           0.955485  1.000000"
      ]
     },
     "execution_count": 164,
     "metadata": {},
     "output_type": "execute_result"
    }
   ],
   "source": [
    "studies[['study hours', 'marks']].corr()"
   ]
  },
  {
   "cell_type": "markdown",
   "id": "ba4dacd0-5530-4a40-9fa4-f20e12fa042f",
   "metadata": {},
   "source": [
    "The output is a correlation matrix that displays the correlation coefficients between all pairs of columns in the dataframe. In this case, there were only two columns, so the output matrix is 2 by 2.  \n",
    "Here, the correlation coefficient between study hours and marks is 0.955485, which is positive. This indicates that **as the study hours increase, the marks also increase**.  \n",
    "The coefficient value of 1.000000 along the diagonal represents the correlation of each column with itself."
   ]
  },
  {
   "cell_type": "markdown",
   "id": "b3dd4eec-aab8-4ddf-b36e-63a8b6bf2593",
   "metadata": {},
   "source": [
    "#### Positive and Negative Correlation"
   ]
  },
  {
   "cell_type": "markdown",
   "id": "c7728031-a4f3-4e38-9a4e-72f257ceb46c",
   "metadata": {},
   "source": [
    "**Positive correlation** refers to a relationship between two variables where they both tend to change in the same direction. When one variable increases, the other variable also tends to increase, and when one variable decreases, the other variable also tends to decrease.  \n",
    "**Negative correlation**, on the other hand, refers to a relationship between two variables where they tend to change in opposite directions. When one variable increases, the other variable tends to decrease, and vice versa.\n",
    "\n",
    "<img src=\"https://atharvsuryavanshi.github.io/Diagram-Manager/images/pandas-correlation-example.png\" alt=\"pandas-correlation-example.png\" width=\"1000\">\n",
    "\n",
    "(If the image isn't visible then click here: [Pandas Correlation](https://atharvsuryavanshi.github.io/Diagram-Manager/images/pandas-correlation-example.png))\n",
    "\n",
    "As we can see in the above graphs, when the temperatures increase, the tea sales start decreasing. But the exactly apposite happens with the kulfi sales where they increase w. r. to increase in temperature.  \n",
    "Let's check the correlation for the tea sales data:"
   ]
  },
  {
   "cell_type": "code",
   "execution_count": 165,
   "id": "7cdaa428-e2e5-4212-a305-5d87ddfb9847",
   "metadata": {},
   "outputs": [
    {
     "data": {
      "text/html": [
       "<div>\n",
       "<style scoped>\n",
       "    .dataframe tbody tr th:only-of-type {\n",
       "        vertical-align: middle;\n",
       "    }\n",
       "\n",
       "    .dataframe tbody tr th {\n",
       "        vertical-align: top;\n",
       "    }\n",
       "\n",
       "    .dataframe thead th {\n",
       "        text-align: right;\n",
       "    }\n",
       "</style>\n",
       "<table border=\"1\" class=\"dataframe\">\n",
       "  <thead>\n",
       "    <tr style=\"text-align: right;\">\n",
       "      <th></th>\n",
       "      <th>temperature</th>\n",
       "      <th>sales</th>\n",
       "    </tr>\n",
       "  </thead>\n",
       "  <tbody>\n",
       "    <tr>\n",
       "      <th>temperature</th>\n",
       "      <td>1.000000</td>\n",
       "      <td>-0.994737</td>\n",
       "    </tr>\n",
       "    <tr>\n",
       "      <th>sales</th>\n",
       "      <td>-0.994737</td>\n",
       "      <td>1.000000</td>\n",
       "    </tr>\n",
       "  </tbody>\n",
       "</table>\n",
       "</div>"
      ],
      "text/plain": [
       "             temperature     sales\n",
       "temperature     1.000000 -0.994737\n",
       "sales          -0.994737  1.000000"
      ]
     },
     "execution_count": 165,
     "metadata": {},
     "output_type": "execute_result"
    }
   ],
   "source": [
    "tea_sales = pd.DataFrame({\n",
    "    \"temperature\": [10, 15, 20, 25, 30, 35],\n",
    "    \"sales\": [480, 445, 390, 335, 310, 240]\n",
    "})\n",
    "tea_sales.corr()"
   ]
  },
  {
   "cell_type": "markdown",
   "id": "3016b3aa-1d21-4c7b-b934-13233fbce3f3",
   "metadata": {},
   "source": [
    "The correlation coefficient is negative, which indicates the decrease in tea sales w. r. to increase in temperature. This is **negative correlation**.  \n",
    "Now, let's check the correlation for the kulfi sales data:"
   ]
  },
  {
   "cell_type": "code",
   "execution_count": 166,
   "id": "32cd7d37-a44e-4aff-8d7f-f346dbf0b07c",
   "metadata": {},
   "outputs": [
    {
     "data": {
      "text/html": [
       "<div>\n",
       "<style scoped>\n",
       "    .dataframe tbody tr th:only-of-type {\n",
       "        vertical-align: middle;\n",
       "    }\n",
       "\n",
       "    .dataframe tbody tr th {\n",
       "        vertical-align: top;\n",
       "    }\n",
       "\n",
       "    .dataframe thead th {\n",
       "        text-align: right;\n",
       "    }\n",
       "</style>\n",
       "<table border=\"1\" class=\"dataframe\">\n",
       "  <thead>\n",
       "    <tr style=\"text-align: right;\">\n",
       "      <th></th>\n",
       "      <th>temperature</th>\n",
       "      <th>sales</th>\n",
       "    </tr>\n",
       "  </thead>\n",
       "  <tbody>\n",
       "    <tr>\n",
       "      <th>temperature</th>\n",
       "      <td>1.000000</td>\n",
       "      <td>0.996378</td>\n",
       "    </tr>\n",
       "    <tr>\n",
       "      <th>sales</th>\n",
       "      <td>0.996378</td>\n",
       "      <td>1.000000</td>\n",
       "    </tr>\n",
       "  </tbody>\n",
       "</table>\n",
       "</div>"
      ],
      "text/plain": [
       "             temperature     sales\n",
       "temperature     1.000000  0.996378\n",
       "sales           0.996378  1.000000"
      ]
     },
     "execution_count": 166,
     "metadata": {},
     "output_type": "execute_result"
    }
   ],
   "source": [
    "kulfi_sales = pd.DataFrame({\n",
    "    \"temperature\": [10, 15, 20, 25, 30, 35],\n",
    "    \"sales\": [110, 155, 200, 240, 310, 360]\n",
    "})\n",
    "kulfi_sales.corr()"
   ]
  },
  {
   "cell_type": "markdown",
   "id": "fae97717-5d29-4944-9c8b-aec1fe2645a7",
   "metadata": {},
   "source": [
    "The correlation coefficient is positive, which indicates the increase in kulfi sales w. r. to increase in temperature. This is **positive correlation**."
   ]
  },
  {
   "cell_type": "markdown",
   "id": "b6e854d9-eb2d-4fc5-8623-d5a86a992b14",
   "metadata": {},
   "source": [
    "#### Correlation between Two Columns"
   ]
  },
  {
   "cell_type": "markdown",
   "id": "43b99b10-0c09-487d-a0ec-dc79f6a3b296",
   "metadata": {},
   "source": [
    "We can directly check for the correlation coefficient related to two column values. For example:"
   ]
  },
  {
   "cell_type": "code",
   "execution_count": 167,
   "id": "9e9f034c-dae7-416f-9548-a3c9131f1e5f",
   "metadata": {},
   "outputs": [
    {
     "data": {
      "text/plain": [
       "0.95548517149766"
      ]
     },
     "execution_count": 167,
     "metadata": {},
     "output_type": "execute_result"
    }
   ],
   "source": [
    "studies['study hours'].corr(studies['marks'])"
   ]
  },
  {
   "cell_type": "markdown",
   "id": "f4a2a475-45c7-474f-a551-2352bb07ad37",
   "metadata": {},
   "source": [
    "Switching the column positions won't change here anything:"
   ]
  },
  {
   "cell_type": "code",
   "execution_count": 168,
   "id": "ceb22135-8fc0-45b1-82ef-e401d9c6dff1",
   "metadata": {},
   "outputs": [
    {
     "data": {
      "text/plain": [
       "0.95548517149766"
      ]
     },
     "execution_count": 168,
     "metadata": {},
     "output_type": "execute_result"
    }
   ],
   "source": [
    "studies['marks'].corr(studies['study hours'])"
   ]
  },
  {
   "cell_type": "markdown",
   "id": "1e92257e-b970-447e-8fa6-b5327e10f2a0",
   "metadata": {},
   "source": [
    "#### Handeling Missing Values"
   ]
  },
  {
   "cell_type": "markdown",
   "id": "cca12c20-5784-4c36-ae17-8daee2d28550",
   "metadata": {},
   "source": [
    "DataFrame may contain missing values (NaN). The corr() function completely ignores the rows with NaN values:"
   ]
  },
  {
   "cell_type": "code",
   "execution_count": 169,
   "id": "e6c772ea-a391-49f3-bbbc-da554821b4ad",
   "metadata": {},
   "outputs": [
    {
     "data": {
      "text/html": [
       "<div>\n",
       "<style scoped>\n",
       "    .dataframe tbody tr th:only-of-type {\n",
       "        vertical-align: middle;\n",
       "    }\n",
       "\n",
       "    .dataframe tbody tr th {\n",
       "        vertical-align: top;\n",
       "    }\n",
       "\n",
       "    .dataframe thead th {\n",
       "        text-align: right;\n",
       "    }\n",
       "</style>\n",
       "<table border=\"1\" class=\"dataframe\">\n",
       "  <thead>\n",
       "    <tr style=\"text-align: right;\">\n",
       "      <th></th>\n",
       "      <th>name</th>\n",
       "      <th>username</th>\n",
       "      <th>date of joining</th>\n",
       "      <th>number of reels</th>\n",
       "      <th>followers</th>\n",
       "    </tr>\n",
       "  </thead>\n",
       "  <tbody>\n",
       "    <tr>\n",
       "      <th>0</th>\n",
       "      <td>Emma Watson</td>\n",
       "      <td>emma_watson01</td>\n",
       "      <td>2023-02-14 00:00:00</td>\n",
       "      <td>5.0</td>\n",
       "      <td>10000.0</td>\n",
       "    </tr>\n",
       "    <tr>\n",
       "      <th>1</th>\n",
       "      <td>John Doe</td>\n",
       "      <td>john.doe_02</td>\n",
       "      <td>2023-01-21 00:00:00</td>\n",
       "      <td>20.0</td>\n",
       "      <td>15000.0</td>\n",
       "    </tr>\n",
       "    <tr>\n",
       "      <th>2</th>\n",
       "      <td>None</td>\n",
       "      <td>a.smith_03</td>\n",
       "      <td>NaT</td>\n",
       "      <td>NaN</td>\n",
       "      <td>NaN</td>\n",
       "    </tr>\n",
       "    <tr>\n",
       "      <th>3</th>\n",
       "      <td>Michael Johnson</td>\n",
       "      <td>michael123</td>\n",
       "      <td>2023-03-15 00:00:00</td>\n",
       "      <td>15.0</td>\n",
       "      <td>20000.0</td>\n",
       "    </tr>\n",
       "    <tr>\n",
       "      <th>4</th>\n",
       "      <td>None</td>\n",
       "      <td>sophia.brown05</td>\n",
       "      <td>NaT</td>\n",
       "      <td>NaN</td>\n",
       "      <td>NaN</td>\n",
       "    </tr>\n",
       "    <tr>\n",
       "      <th>5</th>\n",
       "      <td>Ethan Miller</td>\n",
       "      <td>e.miller06</td>\n",
       "      <td>2023-04-20 00:00:00</td>\n",
       "      <td>25.0</td>\n",
       "      <td>25000.0</td>\n",
       "    </tr>\n",
       "    <tr>\n",
       "      <th>6</th>\n",
       "      <td>Olivia Davis</td>\n",
       "      <td>olivia-davis07</td>\n",
       "      <td>2023-06-18 00:00:00</td>\n",
       "      <td>30.0</td>\n",
       "      <td>30000.0</td>\n",
       "    </tr>\n",
       "    <tr>\n",
       "      <th>7</th>\n",
       "      <td>None</td>\n",
       "      <td>william_w</td>\n",
       "      <td>NaT</td>\n",
       "      <td>NaN</td>\n",
       "      <td>NaN</td>\n",
       "    </tr>\n",
       "    <tr>\n",
       "      <th>8</th>\n",
       "      <td>Ava Taylor</td>\n",
       "      <td>avataylor</td>\n",
       "      <td>2023-07-25 00:00:00</td>\n",
       "      <td>22.0</td>\n",
       "      <td>35000.0</td>\n",
       "    </tr>\n",
       "    <tr>\n",
       "      <th>9</th>\n",
       "      <td>None</td>\n",
       "      <td>dmartinez10</td>\n",
       "      <td>NaT</td>\n",
       "      <td>NaN</td>\n",
       "      <td>NaN</td>\n",
       "    </tr>\n",
       "  </tbody>\n",
       "</table>\n",
       "</div>"
      ],
      "text/plain": [
       "              name        username      date of joining  number of reels  \\\n",
       "0      Emma Watson   emma_watson01  2023-02-14 00:00:00              5.0   \n",
       "1         John Doe     john.doe_02  2023-01-21 00:00:00             20.0   \n",
       "2             None      a.smith_03                  NaT              NaN   \n",
       "3  Michael Johnson      michael123  2023-03-15 00:00:00             15.0   \n",
       "4             None  sophia.brown05                  NaT              NaN   \n",
       "5     Ethan Miller      e.miller06  2023-04-20 00:00:00             25.0   \n",
       "6     Olivia Davis  olivia-davis07  2023-06-18 00:00:00             30.0   \n",
       "7             None       william_w                  NaT              NaN   \n",
       "8       Ava Taylor       avataylor  2023-07-25 00:00:00             22.0   \n",
       "9             None     dmartinez10                  NaT              NaN   \n",
       "\n",
       "   followers  \n",
       "0    10000.0  \n",
       "1    15000.0  \n",
       "2        NaN  \n",
       "3    20000.0  \n",
       "4        NaN  \n",
       "5    25000.0  \n",
       "6    30000.0  \n",
       "7        NaN  \n",
       "8    35000.0  \n",
       "9        NaN  "
      ]
     },
     "execution_count": 169,
     "metadata": {},
     "output_type": "execute_result"
    }
   ],
   "source": [
    "reelers"
   ]
  },
  {
   "cell_type": "code",
   "execution_count": 170,
   "id": "94946269-8eff-4c08-b064-93596867f538",
   "metadata": {},
   "outputs": [
    {
     "data": {
      "text/plain": [
       "0.7689578149010814"
      ]
     },
     "execution_count": 170,
     "metadata": {},
     "output_type": "execute_result"
    }
   ],
   "source": [
    "reelers['followers'].corr(reelers['number of reels'])"
   ]
  },
  {
   "cell_type": "markdown",
   "id": "6210445d-51d7-49e4-afae-bd717ebdaecd",
   "metadata": {},
   "source": [
    "#### Correlation Methods"
   ]
  },
  {
   "cell_type": "markdown",
   "id": "9bf6d583-396d-4671-849d-0f8598bf57da",
   "metadata": {},
   "source": [
    "We can calculate correlation using three different methods in Pandas:\n",
    "- Pearson Method (default): evaluates the linear relationship between two continuous variables.\n",
    "- Kendall Method: measures the ordinal association between two measured quantities.\n",
    "- Spearman Method: evaluates the monotonic relationship between two continuous or ordinal variables.\n",
    "\n",
    "By default, corr() computes the Pearson correlation coefficient, which measures the linear relationship between two variables. Let's try the remaining two."
   ]
  },
  {
   "cell_type": "markdown",
   "id": "f477428b-ae13-41b7-9a1f-fead7681cab0",
   "metadata": {},
   "source": [
    "##### Using Kendall Method"
   ]
  },
  {
   "cell_type": "code",
   "execution_count": 171,
   "id": "a7deef13-604a-4905-91d7-e8bc7184dda1",
   "metadata": {},
   "outputs": [
    {
     "data": {
      "text/plain": [
       "0.9999999999999998"
      ]
     },
     "execution_count": 171,
     "metadata": {},
     "output_type": "execute_result"
    }
   ],
   "source": [
    "studies['marks'].corr(studies['marks'], method='kendall')"
   ]
  },
  {
   "cell_type": "markdown",
   "id": "62293625-df47-451c-8965-952bc2457ff6",
   "metadata": {},
   "source": [
    "##### Using Spearman Method"
   ]
  },
  {
   "cell_type": "code",
   "execution_count": 172,
   "id": "c3161f2e-d4d3-40bd-9ed2-62f6c4abc169",
   "metadata": {},
   "outputs": [
    {
     "data": {
      "text/plain": [
       "1.0"
      ]
     },
     "execution_count": 172,
     "metadata": {},
     "output_type": "execute_result"
    }
   ],
   "source": [
    "studies['marks'].corr(studies['marks'], method='spearman')"
   ]
  },
  {
   "cell_type": "markdown",
   "id": "d9bb14e0-2b38-4401-81fb-0b479e35ac7a",
   "metadata": {},
   "source": [
    "So, what we got so far for the studies DataFrame is:"
   ]
  },
  {
   "cell_type": "markdown",
   "id": "0a3df3d7-c4de-4651-a4a3-dddd37eeda6e",
   "metadata": {},
   "source": [
    "| Method | Correlation Coefficient |\n",
    "|--------|-------------------------|\n",
    "| Pearson | 0.95548517149766 |\n",
    "| Kendall | 0.9999999999999998 |\n",
    "| Spearman | 1.0 |"
   ]
  },
  {
   "cell_type": "markdown",
   "id": "c99923ac-f53f-463e-856a-a4914c15cada",
   "metadata": {},
   "source": [
    "If the Pearson's coefficient has the highest value then the correlation is mostly linear."
   ]
  },
  {
   "cell_type": "markdown",
   "id": "ab24b028-d725-459b-aa34-6b6ab4543737",
   "metadata": {},
   "source": [
    "#### Perfect, Good & Bad Correlations"
   ]
  },
  {
   "cell_type": "markdown",
   "id": "4a88aa11-c39e-45aa-a1ab-5fc79645e42f",
   "metadata": {},
   "source": [
    "##### Perfect Correlation"
   ]
  },
  {
   "cell_type": "markdown",
   "id": "4d30d604-b598-4cc1-a4c2-975563196cc2",
   "metadata": {},
   "source": [
    "A perfect positive correlation implies that for every increase in one variable, there is a proportionate increase in the other variable, indicated by a coefficient of +1.  \n",
    "A perfect negative correlation, represented by -1, signifies that an increase in one variable leads to a proportionate decrease in the other."
   ]
  },
  {
   "cell_type": "markdown",
   "id": "6d5fc79c-7a7b-44f3-817f-2c70e4558a63",
   "metadata": {},
   "source": [
    "##### Good Correlation"
   ]
  },
  {
   "cell_type": "markdown",
   "id": "3ee9f740-3ac4-4adf-bba0-f4ee4c757909",
   "metadata": {},
   "source": [
    "A good correlation can range from 0.5 to 0.9 (positive or negative) and generally indicates a strong relationship between the variables, but it doesn't mean the relationship is perfect."
   ]
  },
  {
   "cell_type": "markdown",
   "id": "c3c09911-dd9d-446e-bd3e-66369b023dd5",
   "metadata": {},
   "source": [
    "##### Bad Correlation"
   ]
  },
  {
   "cell_type": "markdown",
   "id": "10b6ccb8-c889-4531-af49-fb9fa9d4fa07",
   "metadata": {},
   "source": [
    "A bad correlation is typically close to zero, indicating that there is no relationship or any form of dependence between the two variables."
   ]
  },
  {
   "cell_type": "markdown",
   "id": "b0fce7ed-40f5-40c7-9753-44284f6d222a",
   "metadata": {},
   "source": [
    "Let's create three different real-world examples to illustrate perfect, good, and bad correlations:\n",
    "- Perfect Correlation: Distance traveled by a car and fuel consumed (assuming constant fuel efficiency).\n",
    "- Good Correlation: Number of hours studied and exam scores (typically, more study hours lead to better scores, but with some variability).\n",
    "- Bad Correlation: Number of ice creams sold and the number of people who went to the gym (these two might have little to no correlation).\n",
    "\n",
    "<img src=\"https://atharvsuryavanshi.github.io/Diagram-Manager/images/pandas-perfect-good-bad-correlation-example.png\" alt=\"pandas-perfect-good-bad-correlation-example.png\" width=\"1000\">\n",
    "\n",
    "(If the image isn't visible then click here: [Pandas Perfect, Good and Bad Correlation](https://atharvsuryavanshi.github.io/Diagram-Manager/images/pandas-perfect-good-bad-correlation-example.png))"
   ]
  },
  {
   "cell_type": "markdown",
   "id": "30ae64ed-8685-412e-a6ec-f336463b3b85",
   "metadata": {},
   "source": [
    "## Additional Functionalities"
   ]
  },
  {
   "cell_type": "markdown",
   "id": "b063db38-46a9-4066-b189-42437145bdb2",
   "metadata": {},
   "source": [
    "### Merge"
   ]
  },
  {
   "cell_type": "markdown",
   "id": "5b9413fa-6f43-40c9-9733-de8a44864a47",
   "metadata": {},
   "source": [
    "The merge operation merges two DataFrames based on their indexes or a specified column. The merge() in Pandas works similar to JOINs in SQL.  \n",
    "Let's take the famous employees and departments example:"
   ]
  },
  {
   "cell_type": "code",
   "execution_count": 173,
   "id": "e9a26c3c-d542-4f94-8806-4c71af96fc4c",
   "metadata": {},
   "outputs": [
    {
     "data": {
      "text/html": [
       "<div>\n",
       "<style scoped>\n",
       "    .dataframe tbody tr th:only-of-type {\n",
       "        vertical-align: middle;\n",
       "    }\n",
       "\n",
       "    .dataframe tbody tr th {\n",
       "        vertical-align: top;\n",
       "    }\n",
       "\n",
       "    .dataframe thead th {\n",
       "        text-align: right;\n",
       "    }\n",
       "</style>\n",
       "<table border=\"1\" class=\"dataframe\">\n",
       "  <thead>\n",
       "    <tr style=\"text-align: right;\">\n",
       "      <th></th>\n",
       "      <th>id</th>\n",
       "      <th>employee name</th>\n",
       "      <th>department id</th>\n",
       "      <th>salary</th>\n",
       "    </tr>\n",
       "  </thead>\n",
       "  <tbody>\n",
       "    <tr>\n",
       "      <th>0</th>\n",
       "      <td>E001</td>\n",
       "      <td>Rahul</td>\n",
       "      <td>D001</td>\n",
       "      <td>50000</td>\n",
       "    </tr>\n",
       "    <tr>\n",
       "      <th>1</th>\n",
       "      <td>E002</td>\n",
       "      <td>Priya</td>\n",
       "      <td>D002</td>\n",
       "      <td>60000</td>\n",
       "    </tr>\n",
       "    <tr>\n",
       "      <th>2</th>\n",
       "      <td>E003</td>\n",
       "      <td>Amit</td>\n",
       "      <td>D001</td>\n",
       "      <td>55000</td>\n",
       "    </tr>\n",
       "    <tr>\n",
       "      <th>3</th>\n",
       "      <td>E004</td>\n",
       "      <td>Sonia</td>\n",
       "      <td>D003</td>\n",
       "      <td>62000</td>\n",
       "    </tr>\n",
       "    <tr>\n",
       "      <th>4</th>\n",
       "      <td>E005</td>\n",
       "      <td>Vikas</td>\n",
       "      <td>D002</td>\n",
       "      <td>58000</td>\n",
       "    </tr>\n",
       "    <tr>\n",
       "      <th>5</th>\n",
       "      <td>E006</td>\n",
       "      <td>Nisha</td>\n",
       "      <td>D003</td>\n",
       "      <td>60000</td>\n",
       "    </tr>\n",
       "    <tr>\n",
       "      <th>6</th>\n",
       "      <td>E007</td>\n",
       "      <td>Karan</td>\n",
       "      <td>D001</td>\n",
       "      <td>52000</td>\n",
       "    </tr>\n",
       "    <tr>\n",
       "      <th>7</th>\n",
       "      <td>E008</td>\n",
       "      <td>Meena</td>\n",
       "      <td>D002</td>\n",
       "      <td>59000</td>\n",
       "    </tr>\n",
       "  </tbody>\n",
       "</table>\n",
       "</div>"
      ],
      "text/plain": [
       "     id employee name department id  salary\n",
       "0  E001         Rahul          D001   50000\n",
       "1  E002         Priya          D002   60000\n",
       "2  E003          Amit          D001   55000\n",
       "3  E004         Sonia          D003   62000\n",
       "4  E005         Vikas          D002   58000\n",
       "5  E006         Nisha          D003   60000\n",
       "6  E007         Karan          D001   52000\n",
       "7  E008         Meena          D002   59000"
      ]
     },
     "execution_count": 173,
     "metadata": {},
     "output_type": "execute_result"
    }
   ],
   "source": [
    "employees = pd.DataFrame({\n",
    "    \"id\": [\"E001\", \"E002\", \"E003\", \"E004\", \"E005\", \"E006\", \"E007\", \"E008\"],\n",
    "    \"employee name\": [\"Rahul\", \"Priya\", \"Amit\", \"Sonia\", \"Vikas\", \"Nisha\", \"Karan\", \"Meena\"],\n",
    "    \"department id\": [\"D001\", \"D002\", \"D001\", \"D003\", \"D002\", \"D003\", \"D001\", \"D002\"],\n",
    "    \"salary\": [50000, 60000, 55000, 62000, 58000, 60000, 52000, 59000]\n",
    "})\n",
    "employees"
   ]
  },
  {
   "cell_type": "code",
   "execution_count": 174,
   "id": "76c77936-0386-413c-9d90-142d1457964c",
   "metadata": {},
   "outputs": [
    {
     "data": {
      "text/html": [
       "<div>\n",
       "<style scoped>\n",
       "    .dataframe tbody tr th:only-of-type {\n",
       "        vertical-align: middle;\n",
       "    }\n",
       "\n",
       "    .dataframe tbody tr th {\n",
       "        vertical-align: top;\n",
       "    }\n",
       "\n",
       "    .dataframe thead th {\n",
       "        text-align: right;\n",
       "    }\n",
       "</style>\n",
       "<table border=\"1\" class=\"dataframe\">\n",
       "  <thead>\n",
       "    <tr style=\"text-align: right;\">\n",
       "      <th></th>\n",
       "      <th>department id</th>\n",
       "      <th>department name</th>\n",
       "    </tr>\n",
       "  </thead>\n",
       "  <tbody>\n",
       "    <tr>\n",
       "      <th>0</th>\n",
       "      <td>D001</td>\n",
       "      <td>IT</td>\n",
       "    </tr>\n",
       "    <tr>\n",
       "      <th>1</th>\n",
       "      <td>D002</td>\n",
       "      <td>HR</td>\n",
       "    </tr>\n",
       "    <tr>\n",
       "      <th>2</th>\n",
       "      <td>D003</td>\n",
       "      <td>Finance</td>\n",
       "    </tr>\n",
       "  </tbody>\n",
       "</table>\n",
       "</div>"
      ],
      "text/plain": [
       "  department id department name\n",
       "0          D001              IT\n",
       "1          D002              HR\n",
       "2          D003         Finance"
      ]
     },
     "execution_count": 174,
     "metadata": {},
     "output_type": "execute_result"
    }
   ],
   "source": [
    "departments = pd.DataFrame({\n",
    "    \"department id\": [\"D001\", \"D002\", \"D003\"],\n",
    "    \"department name\": [\"IT\", \"HR\", \"Finance\"]\n",
    "})\n",
    "departments"
   ]
  },
  {
   "cell_type": "markdown",
   "id": "3532bb92-f0a4-40bf-8eec-6c9bf5d7744b",
   "metadata": {},
   "source": [
    "Now, let's perform the merge operation:"
   ]
  },
  {
   "cell_type": "code",
   "execution_count": 175,
   "id": "67044b55-78f7-4153-b5ef-b9d009f037f2",
   "metadata": {},
   "outputs": [
    {
     "data": {
      "text/html": [
       "<div>\n",
       "<style scoped>\n",
       "    .dataframe tbody tr th:only-of-type {\n",
       "        vertical-align: middle;\n",
       "    }\n",
       "\n",
       "    .dataframe tbody tr th {\n",
       "        vertical-align: top;\n",
       "    }\n",
       "\n",
       "    .dataframe thead th {\n",
       "        text-align: right;\n",
       "    }\n",
       "</style>\n",
       "<table border=\"1\" class=\"dataframe\">\n",
       "  <thead>\n",
       "    <tr style=\"text-align: right;\">\n",
       "      <th></th>\n",
       "      <th>id</th>\n",
       "      <th>employee name</th>\n",
       "      <th>department id</th>\n",
       "      <th>salary</th>\n",
       "      <th>department name</th>\n",
       "    </tr>\n",
       "  </thead>\n",
       "  <tbody>\n",
       "    <tr>\n",
       "      <th>0</th>\n",
       "      <td>E001</td>\n",
       "      <td>Rahul</td>\n",
       "      <td>D001</td>\n",
       "      <td>50000</td>\n",
       "      <td>IT</td>\n",
       "    </tr>\n",
       "    <tr>\n",
       "      <th>1</th>\n",
       "      <td>E002</td>\n",
       "      <td>Priya</td>\n",
       "      <td>D002</td>\n",
       "      <td>60000</td>\n",
       "      <td>HR</td>\n",
       "    </tr>\n",
       "    <tr>\n",
       "      <th>2</th>\n",
       "      <td>E003</td>\n",
       "      <td>Amit</td>\n",
       "      <td>D001</td>\n",
       "      <td>55000</td>\n",
       "      <td>IT</td>\n",
       "    </tr>\n",
       "    <tr>\n",
       "      <th>3</th>\n",
       "      <td>E004</td>\n",
       "      <td>Sonia</td>\n",
       "      <td>D003</td>\n",
       "      <td>62000</td>\n",
       "      <td>Finance</td>\n",
       "    </tr>\n",
       "    <tr>\n",
       "      <th>4</th>\n",
       "      <td>E005</td>\n",
       "      <td>Vikas</td>\n",
       "      <td>D002</td>\n",
       "      <td>58000</td>\n",
       "      <td>HR</td>\n",
       "    </tr>\n",
       "    <tr>\n",
       "      <th>5</th>\n",
       "      <td>E006</td>\n",
       "      <td>Nisha</td>\n",
       "      <td>D003</td>\n",
       "      <td>60000</td>\n",
       "      <td>Finance</td>\n",
       "    </tr>\n",
       "    <tr>\n",
       "      <th>6</th>\n",
       "      <td>E007</td>\n",
       "      <td>Karan</td>\n",
       "      <td>D001</td>\n",
       "      <td>52000</td>\n",
       "      <td>IT</td>\n",
       "    </tr>\n",
       "    <tr>\n",
       "      <th>7</th>\n",
       "      <td>E008</td>\n",
       "      <td>Meena</td>\n",
       "      <td>D002</td>\n",
       "      <td>59000</td>\n",
       "      <td>HR</td>\n",
       "    </tr>\n",
       "  </tbody>\n",
       "</table>\n",
       "</div>"
      ],
      "text/plain": [
       "     id employee name department id  salary department name\n",
       "0  E001         Rahul          D001   50000              IT\n",
       "1  E002         Priya          D002   60000              HR\n",
       "2  E003          Amit          D001   55000              IT\n",
       "3  E004         Sonia          D003   62000         Finance\n",
       "4  E005         Vikas          D002   58000              HR\n",
       "5  E006         Nisha          D003   60000         Finance\n",
       "6  E007         Karan          D001   52000              IT\n",
       "7  E008         Meena          D002   59000              HR"
      ]
     },
     "execution_count": 175,
     "metadata": {},
     "output_type": "execute_result"
    }
   ],
   "source": [
    "pd.merge(employees, departments, on='department id')"
   ]
  },
  {
   "cell_type": "markdown",
   "id": "7e707391-e3ea-4e53-a0c4-ef21799457b3",
   "metadata": {},
   "source": [
    "ANd we got a merged DataFrame.  \n",
    "For the merge() function, we can pass the following parameters:\n",
    "- left: specifies the left DataFrame to be merged.\n",
    "- right: specifies the right DataFrame to be merged.\n",
    "- on (optional): specifies column(s) to join on.\n",
    "- how (optional): specifies the type of join to perform.\n",
    "- left_on (optional): specifies column(s) from the left DataFrame to use as key(s) for merging.\n",
    "- right_on (optional): specifies column(s) from the right DataFrame to use as key(s) for merging.\n",
    "- sort (optional): if True, sort the result DataFrame by the join keys.\n",
    "\n",
    "Types of Join Operations In merge():\n",
    "- Inner Join (default)\n",
    "- Left Join\n",
    "- Right Join\n",
    "- Outer Join\n",
    "- Cross Join\n",
    "\n",
    "An **inner join** combines two DataFrames based on a common key and returns a new DataFrame that contains only rows that have matching values in both of the original DataFrames.\n",
    "\n",
    "A **left join** combines two DataFrames based on a common key and returns a new DataFrame that contains all rows from the left DataFrame and the matched rows from the right DataFrame. If values are not found in the right dataframe, it fills the space with NaN.\n",
    "\n",
    "A **right join** is the opposite of a left join. It returns a new DataFrame that contains all rows from the right DataFrame and the matched rows from the left DataFrame. If values are not found in the left dataframe, it fills the space with NaN.\n",
    "\n",
    "An **outer join** combines two DataFrames based on a common key. Unlike an inner join, an outer join returns a new DataFrame that contains all rows from both original DataFrames. If values are not found in the DataFrames, it fills the space with NaN.\n",
    "\n",
    "A **cross join** in Pandas creates the cartesian product of both DataFrames while preserving the order of the left DataFrame.\n",
    "\n",
    "Let's take a cross join example:"
   ]
  },
  {
   "cell_type": "code",
   "execution_count": 176,
   "id": "f5c96689-8e47-4fb2-9133-4e9ab0c47541",
   "metadata": {},
   "outputs": [
    {
     "data": {
      "text/html": [
       "<div>\n",
       "<style scoped>\n",
       "    .dataframe tbody tr th:only-of-type {\n",
       "        vertical-align: middle;\n",
       "    }\n",
       "\n",
       "    .dataframe tbody tr th {\n",
       "        vertical-align: top;\n",
       "    }\n",
       "\n",
       "    .dataframe thead th {\n",
       "        text-align: right;\n",
       "    }\n",
       "</style>\n",
       "<table border=\"1\" class=\"dataframe\">\n",
       "  <thead>\n",
       "    <tr style=\"text-align: right;\">\n",
       "      <th></th>\n",
       "      <th>id</th>\n",
       "      <th>employee name</th>\n",
       "      <th>department id_x</th>\n",
       "      <th>salary</th>\n",
       "      <th>department id_y</th>\n",
       "      <th>department name</th>\n",
       "    </tr>\n",
       "  </thead>\n",
       "  <tbody>\n",
       "    <tr>\n",
       "      <th>0</th>\n",
       "      <td>E001</td>\n",
       "      <td>Rahul</td>\n",
       "      <td>D001</td>\n",
       "      <td>50000</td>\n",
       "      <td>D001</td>\n",
       "      <td>IT</td>\n",
       "    </tr>\n",
       "    <tr>\n",
       "      <th>1</th>\n",
       "      <td>E001</td>\n",
       "      <td>Rahul</td>\n",
       "      <td>D001</td>\n",
       "      <td>50000</td>\n",
       "      <td>D002</td>\n",
       "      <td>HR</td>\n",
       "    </tr>\n",
       "    <tr>\n",
       "      <th>2</th>\n",
       "      <td>E001</td>\n",
       "      <td>Rahul</td>\n",
       "      <td>D001</td>\n",
       "      <td>50000</td>\n",
       "      <td>D003</td>\n",
       "      <td>Finance</td>\n",
       "    </tr>\n",
       "    <tr>\n",
       "      <th>3</th>\n",
       "      <td>E002</td>\n",
       "      <td>Priya</td>\n",
       "      <td>D002</td>\n",
       "      <td>60000</td>\n",
       "      <td>D001</td>\n",
       "      <td>IT</td>\n",
       "    </tr>\n",
       "    <tr>\n",
       "      <th>4</th>\n",
       "      <td>E002</td>\n",
       "      <td>Priya</td>\n",
       "      <td>D002</td>\n",
       "      <td>60000</td>\n",
       "      <td>D002</td>\n",
       "      <td>HR</td>\n",
       "    </tr>\n",
       "    <tr>\n",
       "      <th>5</th>\n",
       "      <td>E002</td>\n",
       "      <td>Priya</td>\n",
       "      <td>D002</td>\n",
       "      <td>60000</td>\n",
       "      <td>D003</td>\n",
       "      <td>Finance</td>\n",
       "    </tr>\n",
       "    <tr>\n",
       "      <th>6</th>\n",
       "      <td>E003</td>\n",
       "      <td>Amit</td>\n",
       "      <td>D001</td>\n",
       "      <td>55000</td>\n",
       "      <td>D001</td>\n",
       "      <td>IT</td>\n",
       "    </tr>\n",
       "    <tr>\n",
       "      <th>7</th>\n",
       "      <td>E003</td>\n",
       "      <td>Amit</td>\n",
       "      <td>D001</td>\n",
       "      <td>55000</td>\n",
       "      <td>D002</td>\n",
       "      <td>HR</td>\n",
       "    </tr>\n",
       "    <tr>\n",
       "      <th>8</th>\n",
       "      <td>E003</td>\n",
       "      <td>Amit</td>\n",
       "      <td>D001</td>\n",
       "      <td>55000</td>\n",
       "      <td>D003</td>\n",
       "      <td>Finance</td>\n",
       "    </tr>\n",
       "    <tr>\n",
       "      <th>9</th>\n",
       "      <td>E004</td>\n",
       "      <td>Sonia</td>\n",
       "      <td>D003</td>\n",
       "      <td>62000</td>\n",
       "      <td>D001</td>\n",
       "      <td>IT</td>\n",
       "    </tr>\n",
       "    <tr>\n",
       "      <th>10</th>\n",
       "      <td>E004</td>\n",
       "      <td>Sonia</td>\n",
       "      <td>D003</td>\n",
       "      <td>62000</td>\n",
       "      <td>D002</td>\n",
       "      <td>HR</td>\n",
       "    </tr>\n",
       "    <tr>\n",
       "      <th>11</th>\n",
       "      <td>E004</td>\n",
       "      <td>Sonia</td>\n",
       "      <td>D003</td>\n",
       "      <td>62000</td>\n",
       "      <td>D003</td>\n",
       "      <td>Finance</td>\n",
       "    </tr>\n",
       "    <tr>\n",
       "      <th>12</th>\n",
       "      <td>E005</td>\n",
       "      <td>Vikas</td>\n",
       "      <td>D002</td>\n",
       "      <td>58000</td>\n",
       "      <td>D001</td>\n",
       "      <td>IT</td>\n",
       "    </tr>\n",
       "    <tr>\n",
       "      <th>13</th>\n",
       "      <td>E005</td>\n",
       "      <td>Vikas</td>\n",
       "      <td>D002</td>\n",
       "      <td>58000</td>\n",
       "      <td>D002</td>\n",
       "      <td>HR</td>\n",
       "    </tr>\n",
       "    <tr>\n",
       "      <th>14</th>\n",
       "      <td>E005</td>\n",
       "      <td>Vikas</td>\n",
       "      <td>D002</td>\n",
       "      <td>58000</td>\n",
       "      <td>D003</td>\n",
       "      <td>Finance</td>\n",
       "    </tr>\n",
       "    <tr>\n",
       "      <th>15</th>\n",
       "      <td>E006</td>\n",
       "      <td>Nisha</td>\n",
       "      <td>D003</td>\n",
       "      <td>60000</td>\n",
       "      <td>D001</td>\n",
       "      <td>IT</td>\n",
       "    </tr>\n",
       "    <tr>\n",
       "      <th>16</th>\n",
       "      <td>E006</td>\n",
       "      <td>Nisha</td>\n",
       "      <td>D003</td>\n",
       "      <td>60000</td>\n",
       "      <td>D002</td>\n",
       "      <td>HR</td>\n",
       "    </tr>\n",
       "    <tr>\n",
       "      <th>17</th>\n",
       "      <td>E006</td>\n",
       "      <td>Nisha</td>\n",
       "      <td>D003</td>\n",
       "      <td>60000</td>\n",
       "      <td>D003</td>\n",
       "      <td>Finance</td>\n",
       "    </tr>\n",
       "    <tr>\n",
       "      <th>18</th>\n",
       "      <td>E007</td>\n",
       "      <td>Karan</td>\n",
       "      <td>D001</td>\n",
       "      <td>52000</td>\n",
       "      <td>D001</td>\n",
       "      <td>IT</td>\n",
       "    </tr>\n",
       "    <tr>\n",
       "      <th>19</th>\n",
       "      <td>E007</td>\n",
       "      <td>Karan</td>\n",
       "      <td>D001</td>\n",
       "      <td>52000</td>\n",
       "      <td>D002</td>\n",
       "      <td>HR</td>\n",
       "    </tr>\n",
       "    <tr>\n",
       "      <th>20</th>\n",
       "      <td>E007</td>\n",
       "      <td>Karan</td>\n",
       "      <td>D001</td>\n",
       "      <td>52000</td>\n",
       "      <td>D003</td>\n",
       "      <td>Finance</td>\n",
       "    </tr>\n",
       "    <tr>\n",
       "      <th>21</th>\n",
       "      <td>E008</td>\n",
       "      <td>Meena</td>\n",
       "      <td>D002</td>\n",
       "      <td>59000</td>\n",
       "      <td>D001</td>\n",
       "      <td>IT</td>\n",
       "    </tr>\n",
       "    <tr>\n",
       "      <th>22</th>\n",
       "      <td>E008</td>\n",
       "      <td>Meena</td>\n",
       "      <td>D002</td>\n",
       "      <td>59000</td>\n",
       "      <td>D002</td>\n",
       "      <td>HR</td>\n",
       "    </tr>\n",
       "    <tr>\n",
       "      <th>23</th>\n",
       "      <td>E008</td>\n",
       "      <td>Meena</td>\n",
       "      <td>D002</td>\n",
       "      <td>59000</td>\n",
       "      <td>D003</td>\n",
       "      <td>Finance</td>\n",
       "    </tr>\n",
       "  </tbody>\n",
       "</table>\n",
       "</div>"
      ],
      "text/plain": [
       "      id employee name department id_x  salary department id_y department name\n",
       "0   E001         Rahul            D001   50000            D001              IT\n",
       "1   E001         Rahul            D001   50000            D002              HR\n",
       "2   E001         Rahul            D001   50000            D003         Finance\n",
       "3   E002         Priya            D002   60000            D001              IT\n",
       "4   E002         Priya            D002   60000            D002              HR\n",
       "5   E002         Priya            D002   60000            D003         Finance\n",
       "6   E003          Amit            D001   55000            D001              IT\n",
       "7   E003          Amit            D001   55000            D002              HR\n",
       "8   E003          Amit            D001   55000            D003         Finance\n",
       "9   E004         Sonia            D003   62000            D001              IT\n",
       "10  E004         Sonia            D003   62000            D002              HR\n",
       "11  E004         Sonia            D003   62000            D003         Finance\n",
       "12  E005         Vikas            D002   58000            D001              IT\n",
       "13  E005         Vikas            D002   58000            D002              HR\n",
       "14  E005         Vikas            D002   58000            D003         Finance\n",
       "15  E006         Nisha            D003   60000            D001              IT\n",
       "16  E006         Nisha            D003   60000            D002              HR\n",
       "17  E006         Nisha            D003   60000            D003         Finance\n",
       "18  E007         Karan            D001   52000            D001              IT\n",
       "19  E007         Karan            D001   52000            D002              HR\n",
       "20  E007         Karan            D001   52000            D003         Finance\n",
       "21  E008         Meena            D002   59000            D001              IT\n",
       "22  E008         Meena            D002   59000            D002              HR\n",
       "23  E008         Meena            D002   59000            D003         Finance"
      ]
     },
     "execution_count": 176,
     "metadata": {},
     "output_type": "execute_result"
    }
   ],
   "source": [
    "pd.merge(employees, departments, how='cross')"
   ]
  },
  {
   "cell_type": "markdown",
   "id": "b19a6341-fe1c-4e70-96d8-ffd1e71e1693",
   "metadata": {},
   "source": [
    "### Join"
   ]
  },
  {
   "cell_type": "markdown",
   "id": "5eb432b3-d6d3-4a14-bbcf-89f9c3dbe2e8",
   "metadata": {},
   "source": [
    "The join operation in Pandas joins two DataFrames based on their indexes."
   ]
  },
  {
   "cell_type": "code",
   "execution_count": 177,
   "id": "5e91193b-7062-4ccc-b542-be83f505a9b7",
   "metadata": {},
   "outputs": [
    {
     "data": {
      "text/html": [
       "<div>\n",
       "<style scoped>\n",
       "    .dataframe tbody tr th:only-of-type {\n",
       "        vertical-align: middle;\n",
       "    }\n",
       "\n",
       "    .dataframe tbody tr th {\n",
       "        vertical-align: top;\n",
       "    }\n",
       "\n",
       "    .dataframe thead th {\n",
       "        text-align: right;\n",
       "    }\n",
       "</style>\n",
       "<table border=\"1\" class=\"dataframe\">\n",
       "  <thead>\n",
       "    <tr style=\"text-align: right;\">\n",
       "      <th></th>\n",
       "      <th>id</th>\n",
       "      <th>employee name</th>\n",
       "      <th>department id 1st</th>\n",
       "      <th>salary</th>\n",
       "      <th>department id 2nd</th>\n",
       "      <th>department name</th>\n",
       "    </tr>\n",
       "  </thead>\n",
       "  <tbody>\n",
       "    <tr>\n",
       "      <th>0</th>\n",
       "      <td>E001</td>\n",
       "      <td>Rahul</td>\n",
       "      <td>D001</td>\n",
       "      <td>50000</td>\n",
       "      <td>D001</td>\n",
       "      <td>IT</td>\n",
       "    </tr>\n",
       "    <tr>\n",
       "      <th>1</th>\n",
       "      <td>E002</td>\n",
       "      <td>Priya</td>\n",
       "      <td>D002</td>\n",
       "      <td>60000</td>\n",
       "      <td>D002</td>\n",
       "      <td>HR</td>\n",
       "    </tr>\n",
       "    <tr>\n",
       "      <th>2</th>\n",
       "      <td>E003</td>\n",
       "      <td>Amit</td>\n",
       "      <td>D001</td>\n",
       "      <td>55000</td>\n",
       "      <td>D003</td>\n",
       "      <td>Finance</td>\n",
       "    </tr>\n",
       "    <tr>\n",
       "      <th>3</th>\n",
       "      <td>E004</td>\n",
       "      <td>Sonia</td>\n",
       "      <td>D003</td>\n",
       "      <td>62000</td>\n",
       "      <td>NaN</td>\n",
       "      <td>NaN</td>\n",
       "    </tr>\n",
       "    <tr>\n",
       "      <th>4</th>\n",
       "      <td>E005</td>\n",
       "      <td>Vikas</td>\n",
       "      <td>D002</td>\n",
       "      <td>58000</td>\n",
       "      <td>NaN</td>\n",
       "      <td>NaN</td>\n",
       "    </tr>\n",
       "    <tr>\n",
       "      <th>5</th>\n",
       "      <td>E006</td>\n",
       "      <td>Nisha</td>\n",
       "      <td>D003</td>\n",
       "      <td>60000</td>\n",
       "      <td>NaN</td>\n",
       "      <td>NaN</td>\n",
       "    </tr>\n",
       "    <tr>\n",
       "      <th>6</th>\n",
       "      <td>E007</td>\n",
       "      <td>Karan</td>\n",
       "      <td>D001</td>\n",
       "      <td>52000</td>\n",
       "      <td>NaN</td>\n",
       "      <td>NaN</td>\n",
       "    </tr>\n",
       "    <tr>\n",
       "      <th>7</th>\n",
       "      <td>E008</td>\n",
       "      <td>Meena</td>\n",
       "      <td>D002</td>\n",
       "      <td>59000</td>\n",
       "      <td>NaN</td>\n",
       "      <td>NaN</td>\n",
       "    </tr>\n",
       "  </tbody>\n",
       "</table>\n",
       "</div>"
      ],
      "text/plain": [
       "     id employee name department id 1st  salary department id 2nd  \\\n",
       "0  E001         Rahul              D001   50000              D001   \n",
       "1  E002         Priya              D002   60000              D002   \n",
       "2  E003          Amit              D001   55000              D003   \n",
       "3  E004         Sonia              D003   62000               NaN   \n",
       "4  E005         Vikas              D002   58000               NaN   \n",
       "5  E006         Nisha              D003   60000               NaN   \n",
       "6  E007         Karan              D001   52000               NaN   \n",
       "7  E008         Meena              D002   59000               NaN   \n",
       "\n",
       "  department name  \n",
       "0              IT  \n",
       "1              HR  \n",
       "2         Finance  \n",
       "3             NaN  \n",
       "4             NaN  \n",
       "5             NaN  \n",
       "6             NaN  \n",
       "7             NaN  "
      ]
     },
     "execution_count": 177,
     "metadata": {},
     "output_type": "execute_result"
    }
   ],
   "source": [
    "employees.join(departments, lsuffix=' 1st', rsuffix=' 2nd')"
   ]
  },
  {
   "cell_type": "markdown",
   "id": "2ad261af-eee5-49f9-a847-12c216bcba9d",
   "metadata": {},
   "source": [
    "Here it doesn't make much sense with this example but is useful when we want to perform joins based on the indices.  \n",
    "For the join() function, we can pass the following parameters:\n",
    "- other: is the DataFrame to be joined to the first DataFrame.\n",
    "- on(optional): specifies the index column(s) based on which the DataFrames are joined.\n",
    "- how(optional): specifies the type of join to perform (left join by default).\n",
    "- lsuffix(optional): specifies a suffix that will be appended to a column name of the first DataFrame if there is a collision or conflict with another column name.\n",
    "- rsuffix(optional): specifies a suffix that will be appended to a column name of the second DataFrame if there is a collision or conflict with another column name.\n",
    "- sort(optional): determines whether to sort the result DataFrame by the join keys."
   ]
  },
  {
   "cell_type": "markdown",
   "id": "ee9661a5-17f0-4d18-9e31-17e309c32979",
   "metadata": {},
   "source": [
    "### Concatenation"
   ]
  },
  {
   "cell_type": "markdown",
   "id": "17bb2ea4-c28d-4662-9c27-df8ecc4556c0",
   "metadata": {},
   "source": [
    "The concatenation operation in Pandas appends one DataFrame to another along an axis. It works similar to SQL UNION ALL operation.  \n",
    "We use the concat() method to concatenate two or more DataFrames in Pandas."
   ]
  },
  {
   "cell_type": "code",
   "execution_count": 178,
   "id": "4fc54c99-4393-4fdc-91ac-242960384f0b",
   "metadata": {},
   "outputs": [
    {
     "data": {
      "text/html": [
       "<div>\n",
       "<style scoped>\n",
       "    .dataframe tbody tr th:only-of-type {\n",
       "        vertical-align: middle;\n",
       "    }\n",
       "\n",
       "    .dataframe tbody tr th {\n",
       "        vertical-align: top;\n",
       "    }\n",
       "\n",
       "    .dataframe thead th {\n",
       "        text-align: right;\n",
       "    }\n",
       "</style>\n",
       "<table border=\"1\" class=\"dataframe\">\n",
       "  <thead>\n",
       "    <tr style=\"text-align: right;\">\n",
       "      <th></th>\n",
       "      <th>id</th>\n",
       "      <th>employee name</th>\n",
       "      <th>department id</th>\n",
       "      <th>salary</th>\n",
       "      <th>department name</th>\n",
       "    </tr>\n",
       "  </thead>\n",
       "  <tbody>\n",
       "    <tr>\n",
       "      <th>0</th>\n",
       "      <td>E001</td>\n",
       "      <td>Rahul</td>\n",
       "      <td>D001</td>\n",
       "      <td>50000.0</td>\n",
       "      <td>NaN</td>\n",
       "    </tr>\n",
       "    <tr>\n",
       "      <th>1</th>\n",
       "      <td>E002</td>\n",
       "      <td>Priya</td>\n",
       "      <td>D002</td>\n",
       "      <td>60000.0</td>\n",
       "      <td>NaN</td>\n",
       "    </tr>\n",
       "    <tr>\n",
       "      <th>2</th>\n",
       "      <td>E003</td>\n",
       "      <td>Amit</td>\n",
       "      <td>D001</td>\n",
       "      <td>55000.0</td>\n",
       "      <td>NaN</td>\n",
       "    </tr>\n",
       "    <tr>\n",
       "      <th>3</th>\n",
       "      <td>E004</td>\n",
       "      <td>Sonia</td>\n",
       "      <td>D003</td>\n",
       "      <td>62000.0</td>\n",
       "      <td>NaN</td>\n",
       "    </tr>\n",
       "    <tr>\n",
       "      <th>4</th>\n",
       "      <td>E005</td>\n",
       "      <td>Vikas</td>\n",
       "      <td>D002</td>\n",
       "      <td>58000.0</td>\n",
       "      <td>NaN</td>\n",
       "    </tr>\n",
       "    <tr>\n",
       "      <th>5</th>\n",
       "      <td>E006</td>\n",
       "      <td>Nisha</td>\n",
       "      <td>D003</td>\n",
       "      <td>60000.0</td>\n",
       "      <td>NaN</td>\n",
       "    </tr>\n",
       "    <tr>\n",
       "      <th>6</th>\n",
       "      <td>E007</td>\n",
       "      <td>Karan</td>\n",
       "      <td>D001</td>\n",
       "      <td>52000.0</td>\n",
       "      <td>NaN</td>\n",
       "    </tr>\n",
       "    <tr>\n",
       "      <th>7</th>\n",
       "      <td>E008</td>\n",
       "      <td>Meena</td>\n",
       "      <td>D002</td>\n",
       "      <td>59000.0</td>\n",
       "      <td>NaN</td>\n",
       "    </tr>\n",
       "    <tr>\n",
       "      <th>0</th>\n",
       "      <td>NaN</td>\n",
       "      <td>NaN</td>\n",
       "      <td>D001</td>\n",
       "      <td>NaN</td>\n",
       "      <td>IT</td>\n",
       "    </tr>\n",
       "    <tr>\n",
       "      <th>1</th>\n",
       "      <td>NaN</td>\n",
       "      <td>NaN</td>\n",
       "      <td>D002</td>\n",
       "      <td>NaN</td>\n",
       "      <td>HR</td>\n",
       "    </tr>\n",
       "    <tr>\n",
       "      <th>2</th>\n",
       "      <td>NaN</td>\n",
       "      <td>NaN</td>\n",
       "      <td>D003</td>\n",
       "      <td>NaN</td>\n",
       "      <td>Finance</td>\n",
       "    </tr>\n",
       "  </tbody>\n",
       "</table>\n",
       "</div>"
      ],
      "text/plain": [
       "     id employee name department id   salary department name\n",
       "0  E001         Rahul          D001  50000.0             NaN\n",
       "1  E002         Priya          D002  60000.0             NaN\n",
       "2  E003          Amit          D001  55000.0             NaN\n",
       "3  E004         Sonia          D003  62000.0             NaN\n",
       "4  E005         Vikas          D002  58000.0             NaN\n",
       "5  E006         Nisha          D003  60000.0             NaN\n",
       "6  E007         Karan          D001  52000.0             NaN\n",
       "7  E008         Meena          D002  59000.0             NaN\n",
       "0   NaN           NaN          D001      NaN              IT\n",
       "1   NaN           NaN          D002      NaN              HR\n",
       "2   NaN           NaN          D003      NaN         Finance"
      ]
     },
     "execution_count": 178,
     "metadata": {},
     "output_type": "execute_result"
    }
   ],
   "source": [
    "pd.concat([employees, departments])"
   ]
  },
  {
   "cell_type": "markdown",
   "id": "a8e209ee-954a-47e7-920f-2feab18fba43",
   "metadata": {},
   "source": [
    "For the concat function, we can pass the following parameters:\n",
    "- objs: sequence of Series or DataFrame objects.\n",
    "- axis (optional): the axis to concatenate along.\n",
    "- join (optional): the type of join to perform.\n",
    "- ignore_index (optional): if True, it will not use the index values on the concatenation axis and will result in a default integer index.\n",
    "- keys (optional): used to construct hierarchical index using the passed keys as the outermost level.\n",
    "- verify_integrity (optional): If True, it checks whether the new concatenated axis contains duplicates and raises ValueError if duplicates are found.\n",
    "- sort (optional): sorts the non-concatenation axis if it is not already aligned.\n",
    "\n",
    "Let's try concat() along the axis 1:"
   ]
  },
  {
   "cell_type": "code",
   "execution_count": 179,
   "id": "55d0e085-ee93-4836-8c70-e79e94c72a18",
   "metadata": {},
   "outputs": [
    {
     "data": {
      "text/html": [
       "<div>\n",
       "<style scoped>\n",
       "    .dataframe tbody tr th:only-of-type {\n",
       "        vertical-align: middle;\n",
       "    }\n",
       "\n",
       "    .dataframe tbody tr th {\n",
       "        vertical-align: top;\n",
       "    }\n",
       "\n",
       "    .dataframe thead th {\n",
       "        text-align: right;\n",
       "    }\n",
       "</style>\n",
       "<table border=\"1\" class=\"dataframe\">\n",
       "  <thead>\n",
       "    <tr style=\"text-align: right;\">\n",
       "      <th></th>\n",
       "      <th>id</th>\n",
       "      <th>employee name</th>\n",
       "      <th>department id</th>\n",
       "      <th>salary</th>\n",
       "      <th>department id</th>\n",
       "      <th>department name</th>\n",
       "    </tr>\n",
       "  </thead>\n",
       "  <tbody>\n",
       "    <tr>\n",
       "      <th>0</th>\n",
       "      <td>E001</td>\n",
       "      <td>Rahul</td>\n",
       "      <td>D001</td>\n",
       "      <td>50000</td>\n",
       "      <td>D001</td>\n",
       "      <td>IT</td>\n",
       "    </tr>\n",
       "    <tr>\n",
       "      <th>1</th>\n",
       "      <td>E002</td>\n",
       "      <td>Priya</td>\n",
       "      <td>D002</td>\n",
       "      <td>60000</td>\n",
       "      <td>D002</td>\n",
       "      <td>HR</td>\n",
       "    </tr>\n",
       "    <tr>\n",
       "      <th>2</th>\n",
       "      <td>E003</td>\n",
       "      <td>Amit</td>\n",
       "      <td>D001</td>\n",
       "      <td>55000</td>\n",
       "      <td>D003</td>\n",
       "      <td>Finance</td>\n",
       "    </tr>\n",
       "    <tr>\n",
       "      <th>3</th>\n",
       "      <td>E004</td>\n",
       "      <td>Sonia</td>\n",
       "      <td>D003</td>\n",
       "      <td>62000</td>\n",
       "      <td>NaN</td>\n",
       "      <td>NaN</td>\n",
       "    </tr>\n",
       "    <tr>\n",
       "      <th>4</th>\n",
       "      <td>E005</td>\n",
       "      <td>Vikas</td>\n",
       "      <td>D002</td>\n",
       "      <td>58000</td>\n",
       "      <td>NaN</td>\n",
       "      <td>NaN</td>\n",
       "    </tr>\n",
       "    <tr>\n",
       "      <th>5</th>\n",
       "      <td>E006</td>\n",
       "      <td>Nisha</td>\n",
       "      <td>D003</td>\n",
       "      <td>60000</td>\n",
       "      <td>NaN</td>\n",
       "      <td>NaN</td>\n",
       "    </tr>\n",
       "    <tr>\n",
       "      <th>6</th>\n",
       "      <td>E007</td>\n",
       "      <td>Karan</td>\n",
       "      <td>D001</td>\n",
       "      <td>52000</td>\n",
       "      <td>NaN</td>\n",
       "      <td>NaN</td>\n",
       "    </tr>\n",
       "    <tr>\n",
       "      <th>7</th>\n",
       "      <td>E008</td>\n",
       "      <td>Meena</td>\n",
       "      <td>D002</td>\n",
       "      <td>59000</td>\n",
       "      <td>NaN</td>\n",
       "      <td>NaN</td>\n",
       "    </tr>\n",
       "  </tbody>\n",
       "</table>\n",
       "</div>"
      ],
      "text/plain": [
       "     id employee name department id  salary department id department name\n",
       "0  E001         Rahul          D001   50000          D001              IT\n",
       "1  E002         Priya          D002   60000          D002              HR\n",
       "2  E003          Amit          D001   55000          D003         Finance\n",
       "3  E004         Sonia          D003   62000           NaN             NaN\n",
       "4  E005         Vikas          D002   58000           NaN             NaN\n",
       "5  E006         Nisha          D003   60000           NaN             NaN\n",
       "6  E007         Karan          D001   52000           NaN             NaN\n",
       "7  E008         Meena          D002   59000           NaN             NaN"
      ]
     },
     "execution_count": 179,
     "metadata": {},
     "output_type": "execute_result"
    }
   ],
   "source": [
    "pd.concat([employees, departments], axis=1)"
   ]
  },
  {
   "cell_type": "markdown",
   "id": "e7ee9874-540d-463c-996b-34f002eabc0c",
   "metadata": {},
   "source": [
    "It's similar to the join operation on these two tables.\n",
    "\n",
    "There are three different methods to combine DataFrames in Pandas:\n",
    "- join(): joins two DataFrames based on their indexes, performs left join by default.\n",
    "- merge(): joins two DataFrames based on any specified columns, performs inner join by default.\n",
    "- concat(): stacks two DataFrames along the vertical or horizontal axis."
   ]
  },
  {
   "cell_type": "markdown",
   "id": "9bf3c6d8-1903-4b99-be13-1d86f21ebdb7",
   "metadata": {},
   "source": [
    "---"
   ]
  },
  {
   "cell_type": "markdown",
   "id": "3aace739-49e5-4e21-8dc6-fb195eb8b5b1",
   "metadata": {},
   "source": [
    "***EOF, happy coding!***"
   ]
  }
 ],
 "metadata": {
  "kernelspec": {
   "display_name": "Python 3 (ipykernel)",
   "language": "python",
   "name": "python3"
  },
  "language_info": {
   "codemirror_mode": {
    "name": "ipython",
    "version": 3
   },
   "file_extension": ".py",
   "mimetype": "text/x-python",
   "name": "python",
   "nbconvert_exporter": "python",
   "pygments_lexer": "ipython3",
   "version": "3.11.0"
  }
 },
 "nbformat": 4,
 "nbformat_minor": 5
}
